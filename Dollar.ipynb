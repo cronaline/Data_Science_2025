{
 "cells": [
  {
   "cell_type": "markdown",
   "id": "514b39a3-1751-44fb-8241-40a14f8a91e9",
   "metadata": {},
   "source": [
    "## Code to obtain the cost of a dollar in pesos from different platforms\n",
    "- Banxico\n",
    "- Yahoo Finance"
   ]
  },
  {
   "cell_type": "markdown",
   "id": "3a0485ec-842d-49a5-9337-da86d75e26e7",
   "metadata": {},
   "source": [
    "## Test for Banxico using the API"
   ]
  },
  {
   "cell_type": "code",
   "execution_count": 1,
   "id": "d0d52ad6-7e2d-45a8-8e88-0a128199f9e8",
   "metadata": {},
   "outputs": [
    {
     "name": "stdout",
     "output_type": "stream",
     "text": [
      "{'fecha': '19/09/2025', 'dato': '18.3892'}\n"
     ]
    }
   ],
   "source": [
    "import requests\n",
    "from datetime import date, timedelta\n",
    "import pandas as pd\n",
    "import os\n",
    "from dotenv import load_dotenv  \n",
    "\n",
    "# Loading Token from env \n",
    "load_dotenv()\n",
    "TOKEN = os.environ[\"BANXICO_API_TOKEN\"]\n",
    "\n",
    "ID = \"SF43718\"  \n",
    "hoy = date.today()\n",
    "ini = (hoy - timedelta(days=15)).isoformat()\n",
    "fin = hoy.isoformat()\n",
    "\n",
    "url = f\"https://www.banxico.org.mx/SieAPIRest/service/v1/series/{ID}/datos/{ini}/{fin}\"\n",
    "headers = {\"Bmx-Token\": TOKEN, \"Accept\": \"application/json\"}\n",
    "\n",
    "r = requests.get(url, headers=headers, timeout=20)\n",
    "r.raise_for_status()\n",
    "datos = r.json()[\"bmx\"][\"series\"][0][\"datos\"]\n",
    "\n",
    "# Filters most recet value\n",
    "datos_validos = [d for d in datos if d[\"dato\"] not in (\"N/E\", \"\", None)]\n",
    "ultimo = max(datos_validos, key=lambda d: d[\"fecha\"]) if datos_validos else None\n",
    "\n",
    "# Simple print of the last value\n",
    "print(ultimo)  # {'fecha': '2025-09-15', 'dato': 'XX.XXXX'}"
   ]
  },
  {
   "cell_type": "markdown",
   "id": "64511b4d-ad8d-4c9e-bbe0-7028e24aa9cf",
   "metadata": {},
   "source": [
    "## Test for Yahoo Finance using the python capability"
   ]
  },
  {
   "cell_type": "code",
   "execution_count": 5,
   "id": "2a745c11-0436-4f96-9ff0-eebd360059c3",
   "metadata": {},
   "outputs": [
    {
     "name": "stderr",
     "output_type": "stream",
     "text": [
      "/tmp/ipykernel_7061/2921964509.py:8: FutureWarning: YF.download() has changed argument auto_adjust default to True\n",
      "  df = yf.download(symbol, period=\"15d\", interval=\"1d\", progress=False)\n"
     ]
    },
    {
     "name": "stdout",
     "output_type": "stream",
     "text": [
      "Price         USD_MXN ret_diario_%      MA_7d\n",
      "Ticker          MXN=X                        \n",
      "Date                                         \n",
      "2025-09-09  18.652870          NaN        NaN\n",
      "2025-09-10  18.623501      -0.1575        NaN\n",
      "2025-09-11  18.580799      -0.2293        NaN\n",
      "2025-09-12  18.454000      -0.6824        NaN\n",
      "2025-09-15  18.446989      -0.0380        NaN\n",
      "2025-09-16  18.361521      -0.4633        NaN\n",
      "2025-09-17  18.285801      -0.4124  18.486497\n",
      "2025-09-18  18.307800       0.1203  18.437202\n",
      "2025-09-19  18.364201       0.3081  18.400159\n",
      "2025-09-20  18.322500      -0.2271  18.363259\n"
     ]
    }
   ],
   "source": [
    "import yfinance as yf\n",
    "import pandas as pd\n",
    "\n",
    "# Yahoo Finance symbol for USD/MXN\n",
    "symbol = \"MXN=X\"\n",
    "\n",
    "# Download ~15 days of data and keep the last 10 valid rows\n",
    "df = yf.download(symbol, period=\"15d\", interval=\"1d\", progress=False)\n",
    "\n",
    "# Keep only the Close column (daily closing price)\n",
    "df_fx = df[[\"Close\"]].dropna().tail(10).copy()\n",
    "\n",
    "# Rename the column to something clearer\n",
    "df_fx.rename(columns={\"Close\": \"USD_MXN\"}, inplace=True)\n",
    "\n",
    "# Extra: compute daily % return and 7-day moving average\n",
    "df_fx[\"ret_diario_%\"] = df_fx[\"USD_MXN\"].pct_change().mul(100).round(4)\n",
    "df_fx[\"MA_7d\"] = df_fx[\"USD_MXN\"].rolling(7).mean().round(6)\n",
    "\n",
    "# Resulting DataFrame\n",
    "print(df_fx)"
   ]
  },
  {
   "cell_type": "markdown",
   "id": "7c4571eb-29ba-4a4e-83b0-88d490806924",
   "metadata": {},
   "source": [
    "## Merge of both codes in a single Dataframe"
   ]
  },
  {
   "cell_type": "code",
   "execution_count": 3,
   "id": "44e7cba9-64bd-4707-b5e4-f05589092821",
   "metadata": {},
   "outputs": [
    {
     "name": "stderr",
     "output_type": "stream",
     "text": [
      "/tmp/ipykernel_48733/1606670156.py:39: FutureWarning: YF.download() has changed argument auto_adjust default to True\n",
      "  df_yf_raw = yf.download(symbol, period=\"15d\", interval=\"1d\", progress=False)\n"
     ]
    },
    {
     "name": "stdout",
     "output_type": "stream",
     "text": [
      "\n",
      "=== Long format (both sources stacked) ===\n",
      "              USD_MXN  ret_diario_%      MA_7d   source\n",
      "fecha                                                  \n",
      "2025-09-10  18.623501       -0.1575  18.687419    yahoo\n",
      "2025-09-11  18.528700       -0.3405        NaN  banxico\n",
      "2025-09-11  18.580799       -0.2293  18.677804    yahoo\n",
      "2025-09-12  18.475700       -0.2860        NaN  banxico\n",
      "2025-09-12  18.454000       -0.6824  18.638562    yahoo\n",
      "2025-09-15  18.363500       -0.6073  18.561343  banxico\n",
      "2025-09-15  18.446989       -0.0380  18.601474    yahoo\n",
      "2025-09-16  18.361521       -0.4633  18.549434    yahoo\n",
      "2025-09-17  18.285801       -0.4124  18.486497    yahoo\n",
      "2025-09-17  18.325700       -0.2058  18.510843  banxico\n",
      "2025-09-18  18.307800        0.1203  18.437202    yahoo\n",
      "2025-09-18  18.361000        0.1926  18.468843  banxico\n",
      "2025-09-19  18.389200        0.1536  18.433686  banxico\n",
      "2025-09-19  18.364201        0.3081  18.400159    yahoo\n",
      "2025-09-20  18.322500       -0.2271  18.363259    yahoo\n",
      "\n",
      "=== Wide view (prices by source) ===\n",
      "            USD_MXN_banxico  USD_MXN_yahoo\n",
      "fecha                                     \n",
      "2025-09-09          18.6353      18.652870\n",
      "2025-09-10          18.5920      18.623501\n",
      "2025-09-11          18.5287      18.580799\n",
      "2025-09-12          18.4757      18.454000\n",
      "2025-09-15          18.3635      18.446989\n",
      "2025-09-16              NaN      18.361521\n",
      "2025-09-17          18.3257      18.285801\n",
      "2025-09-18          18.3610      18.307800\n",
      "2025-09-19          18.3892      18.364201\n",
      "2025-09-20              NaN      18.322500\n",
      "\n",
      "=== Wide view with metrics (MultiIndex) ===\n",
      "metric          MA_7d             USD_MXN            ret_diario_%        \n",
      "source        banxico      yahoo  banxico      yahoo      banxico   yahoo\n",
      "fecha                                                                    \n",
      "2025-09-09        NaN  18.692413  18.6353  18.652870      -0.1056 -0.3924\n",
      "2025-09-10        NaN  18.687419  18.5920  18.623501      -0.2324 -0.1575\n",
      "2025-09-11        NaN  18.677804  18.5287  18.580799      -0.3405 -0.2293\n",
      "2025-09-12        NaN  18.638562  18.4757  18.454000      -0.2860 -0.6824\n",
      "2025-09-15  18.561343  18.601474  18.3635  18.446989      -0.6073 -0.0380\n",
      "2025-09-16        NaN  18.549434      NaN  18.361521          NaN -0.4633\n",
      "2025-09-17  18.510843  18.486497  18.3257  18.285801      -0.2058 -0.4124\n",
      "2025-09-18  18.468843  18.437202  18.3610  18.307800       0.1926  0.1203\n",
      "2025-09-19  18.433686  18.400159  18.3892  18.364201       0.1536  0.3081\n",
      "2025-09-20        NaN  18.363259      NaN  18.322500          NaN -0.2271\n"
     ]
    }
   ],
   "source": [
    "import requests\n",
    "from datetime import date, timedelta\n",
    "import pandas as pd\n",
    "import yfinance as yf\n",
    "# Note: you'll also need `import os` because TOKEN is read from os.environ\n",
    "\n",
    "# =====================\n",
    "# 1) Banxico (SIE-API)\n",
    "# =====================\n",
    "TOKEN = os.environ[\"BANXICO_API_TOKEN\"]\n",
    "ID = \"SF43718\"               # FIX (USD/MXN)\n",
    "today = date.today()\n",
    "start = (today - timedelta(days=15)).isoformat()\n",
    "end = today.isoformat()\n",
    "\n",
    "url = f\"https://www.banxico.org.mx/SieAPIRest/service/v1/series/{ID}/datos/{start}/{end}\"\n",
    "headers = {\"Bmx-Token\": TOKEN, \"Accept\": \"application/json\"}\n",
    "\n",
    "r = requests.get(url, headers=headers, timeout=20)\n",
    "r.raise_for_status()\n",
    "serie = r.json()[\"bmx\"][\"series\"][0]\n",
    "\n",
    "df_bmx = pd.DataFrame(serie[\"datos\"])\n",
    "# Cleaning\n",
    "df_bmx = df_bmx[df_bmx[\"dato\"].notna() & (df_bmx[\"dato\"] != \"N/E\")].copy()\n",
    "df_bmx[\"USD_MXN\"] = df_bmx[\"dato\"].astype(float)\n",
    "df_bmx[\"fecha\"] = pd.to_datetime(df_bmx[\"fecha\"], dayfirst=True)\n",
    "df_bmx = df_bmx.sort_values(\"fecha\").set_index(\"fecha\")[[\"USD_MXN\"]]\n",
    "\n",
    "# Metrics\n",
    "df_bmx[\"ret_diario_%\"] = df_bmx[\"USD_MXN\"].pct_change().mul(100).round(4)\n",
    "df_bmx[\"MA_7d\"] = df_bmx[\"USD_MXN\"].rolling(7).mean().round(6)\n",
    "df_bmx[\"source\"] = \"banxico\"\n",
    "\n",
    "# =====================\n",
    "# 2) Yahoo Finance\n",
    "# =====================\n",
    "symbol = \"MXN=X\"\n",
    "df_yf_raw = yf.download(symbol, period=\"15d\", interval=\"1d\", progress=False)\n",
    "\n",
    "# It may come as a MultiIndex; squeeze to a Series and normalize\n",
    "close = df_yf_raw[\"Close\"].squeeze()\n",
    "df_yf = pd.DataFrame({\"USD_MXN\": close}).dropna().copy()\n",
    "df_yf.index.name = \"fecha\"\n",
    "\n",
    "# Metrics\n",
    "df_yf[\"ret_diario_%\"] = df_yf[\"USD_MXN\"].pct_change().mul(100).round(4)\n",
    "df_yf[\"MA_7d\"] = df_yf[\"USD_MXN\"].rolling(7).mean().round(6)\n",
    "df_yf[\"source\"] = \"yahoo\"\n",
    "\n",
    "# If you want exactly the 10 most recent days per source:\n",
    "df_bmx_10 = df_bmx.tail(10).copy()\n",
    "df_yf_10 = df_yf.tail(10).copy()\n",
    "\n",
    "# =====================\n",
    "# 3) Combine (long format)\n",
    "# =====================\n",
    "cols = [\"USD_MXN\", \"ret_diario_%\", \"MA_7d\", \"source\"]\n",
    "df_long = pd.concat([df_bmx_10[cols], df_yf_10[cols]], axis=0).sort_index()\n",
    "\n",
    "print(\"\\n=== Long format (both sources stacked) ===\")\n",
    "print(df_long.tail(15))\n",
    "\n",
    "# =====================\n",
    "# 4) Wide view\n",
    "#    - Price by source: columns USD_MXN_banxico / USD_MXN_yahoo\n",
    "#    - You can also pivot returns/MA if needed (it will have a MultiIndex)\n",
    "# =====================\n",
    "prices_wide = df_long.reset_index().pivot(index=\"fecha\", columns=\"source\", values=\"USD_MXN\")\n",
    "prices_wide = prices_wide.rename_axis(None, axis=1).rename(columns={\"banxico\":\"USD_MXN_banxico\",\n",
    "                                                                     \"yahoo\":\"USD_MXN_yahoo\"})\n",
    "print(\"\\n=== Wide view (prices by source) ===\")\n",
    "print(prices_wide.tail(10))\n",
    "\n",
    "# If you want to pivot EVERYTHING (price, return, MA) into columns by source:\n",
    "everything_wide = (\n",
    "    df_long.reset_index()\n",
    "           .melt(id_vars=[\"fecha\",\"source\"], var_name=\"metric\", value_name=\"value\")\n",
    "           .pivot_table(index=\"fecha\", columns=[\"metric\",\"source\"], values=\"value\", aggfunc=\"first\")\n",
    "           .sort_index(axis=1)\n",
    ")\n",
    "print(\"\\n=== Wide view with metrics (MultiIndex) ===\")\n",
    "print(everything_wide.tail(10))"
   ]
  },
  {
   "cell_type": "code",
   "execution_count": null,
   "id": "b5070a4f-623e-49e2-8478-048e91b34ca5",
   "metadata": {},
   "outputs": [],
   "source": []
  }
 ],
 "metadata": {
  "kernelspec": {
   "display_name": "Python (diplomado_2025)",
   "language": "python",
   "name": "diplomado_2025"
  },
  "language_info": {
   "codemirror_mode": {
    "name": "ipython",
    "version": 3
   },
   "file_extension": ".py",
   "mimetype": "text/x-python",
   "name": "python",
   "nbconvert_exporter": "python",
   "pygments_lexer": "ipython3",
   "version": "3.10.12"
  }
 },
 "nbformat": 4,
 "nbformat_minor": 5
}
