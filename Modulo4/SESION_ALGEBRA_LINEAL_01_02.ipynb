{
 "cells": [
  {
   "cell_type": "markdown",
   "metadata": {
    "id": "KvOxDJz_ECNR"
   },
   "source": [
    "# Contenido\n",
    " - Teorema del límite central.\n"
   ]
  },
  {
   "cell_type": "markdown",
   "metadata": {
    "id": "4J-D6riIZt2i"
   },
   "source": [
    "**Teorema del limite central**\n",
    "\n",
    "El teorema del límite central establece que, bajo ciertas condiciones, la distribución de la suma de un gran número de variables aleatorias independientes, cada una con una media finita y varianza finita, tiende a aproximarse a una distribución normal, independientemente de la forma de la distribución original de las variables.\n",
    "\n",
    "La ecuación matemática que describe el teorema del límite central es la siguiente:\n",
    "\n",
    "$$ \\lim_{{n \\to \\infty}} \\left( \\frac{{X_1 + X_2 + \\ldots + X_n - n \\cdot \\mu}}{{\\sqrt{n} \\cdot \\sigma}} \\right) = Z $$\n",
    "\n",
    "Donde:\n",
    "- $ X_1$, $X_2$, $\\ldots$, $X_n$ son variables aleatorias independientes e idénticamente distribuidas.\n",
    "- $ \\mu $ es la media de cada variable aleatoria.\n",
    "- $ \\sigma $ es la desviación estándar de cada variable aleatoria.\n",
    "- $ n $ es el tamaño de la muestra.\n",
    "- $ Z $ es una variable aleatoria normal estándar (con media 0 y varianza 1).\n",
    "\n",
    "**Media de las medias muestrales se apróxima a la media poblacional**\n",
    "La media de las medias muestrales (también conocida como la media de la distribución muestral) se aproxima a la media poblacional. Esto significa que si tomamos muchas muestras de una población, calculamos la media de cada muestra y luego encontramos la media de esas medias muestrales, este valor se acercará a la media de la población original.\n",
    "\n",
    "Matemáticamente, esto se expresa como:\n",
    "$$ \\lim_{{n \\to \\infty}} \\left( \\frac{{\\bar{X}}}{\\mu} \\right) = 1 $$\n",
    "\n",
    "Donde:\n",
    "- $ \\bar{X} $ es la media de las medias muestrales.\n",
    "- $ \\mu $ es la media poblacional.\n",
    "\n",
    "**Desviación estándar de las medias muestrales se aproxima a la desviación estándar poblacional dividida por la raíz cuadrada del tamaño muestra**\n",
    "\n",
    "La desviación estándar de las medias muestrales se aproxima a la desviación estándar de la población dividida por la raíz cuadrada del tamaño muestral. Esto significa que a medida que aumenta el tamaño de la muestra, la dispersión de las medias muestrales en torno a la media de la población disminuye.\n",
    "\n",
    "Matemáticamente, esto se expresa como:\n",
    "$$ \\lim_{{n \\to \\infty}} \\left( \\frac{{\\sigma_{\\bar{X}}}}{{\\sigma / \\sqrt{n}}} \\right) = 1 $$\n",
    "\n",
    "Donde:\n",
    "- $ \\sigma_{\\bar{X}} $ es la desviación estándar de las medias muestrales.\n",
    "- $ \\sigma $ es la desviación estándar de la población.\n",
    "- $ n $ es el tamaño de la muestra.\n"
   ]
  },
  {
   "cell_type": "code",
   "execution_count": 2,
   "metadata": {
    "id": "VIJwM1TxZtQn"
   },
   "outputs": [],
   "source": [
    "import numpy as np\n",
    "import matplotlib.pyplot as plt\n",
    "\n",
    "# Generamos 100000 números aleatorios bajo una distribución uniforme.\n",
    "data = np.random.random(100000)\n"
   ]
  },
  {
   "cell_type": "code",
   "execution_count": 3,
   "metadata": {
    "id": "dhrrgAtcrFKe"
   },
   "outputs": [
    {
     "name": "stdout",
     "output_type": "stream",
     "text": [
      "[0.17222317 0.20095115 0.05924198 0.64398185 0.07886894 0.88380428\n",
      " 0.98132496 0.96637655 0.29610913 0.22044222 0.25021447 0.90021455\n",
      " 0.01108169 0.17017489 0.60094926 0.99009757 0.166492   0.75387139\n",
      " 0.44486006 0.48824943 0.23215282 0.90991774 0.16347224 0.67054865\n",
      " 0.01650068 0.2068968  0.82699093 0.47357072 0.46313594 0.29820891\n",
      " 0.48642888 0.54132748 0.26469947 0.41538103 0.35116445 0.34677356\n",
      " 0.89584038 0.36374224 0.79464348 0.46666607 0.1637965  0.12512474\n",
      " 0.55382752 0.03520424 0.10562885 0.40309786 0.42598994 0.34852598\n",
      " 0.90193446 0.36387094 0.95593299 0.96617987 0.40404911 0.54383504\n",
      " 0.77548324 0.40156674 0.69256658 0.49707262 0.53304894 0.94423906\n",
      " 0.72369943 0.19138156 0.60953499 0.55418447 0.14863876 0.62043929\n",
      " 0.74645619 0.28112902 0.20177947 0.86832599 0.8606693  0.21432008\n",
      " 0.36870635 0.84689192 0.00189349 0.81250675 0.08089037 0.08224996\n",
      " 0.84563416 0.83956719 0.60451608 0.73743011 0.40497254 0.59313826\n",
      " 0.4060405  0.03007056 0.45481118 0.05415318 0.32301949 0.2673757\n",
      " 0.98501319 0.17558799 0.14252331 0.52258618 0.00399793 0.82787703\n",
      " 0.14726433 0.40482448 0.67601835 0.40061079]\n"
     ]
    }
   ],
   "source": [
    "print(data[:100])"
   ]
  },
  {
   "cell_type": "code",
   "execution_count": 4,
   "metadata": {
    "id": "IFgj0gKDrDkE"
   },
   "outputs": [
    {
     "data": {
      "image/png": "[encoded data removed]",
      "text/plain": [
       "<Figure size 640x480 with 1 Axes>"
      ]
     },
     "metadata": {},
     "output_type": "display_data"
    }
   ],
   "source": [
    "\n",
    "# Grafica el histograma\n",
    "plt.hist(data, bins=50, density=True, alpha=0.7, color='blue', edgecolor='black')\n",
    "# plt.hist(data, bins=50, density=False, alpha=0.7, color='blue', edgecolor='black')\n",
    "\n",
    "plt.xlabel('Valor')\n",
    "plt.ylabel('Densidad de probabilidad')\n",
    "plt.title('Histograma de una distribución uniforme')\n",
    "plt.grid(True)\n",
    "plt.show()"
   ]
  },
  {
   "cell_type": "markdown",
   "metadata": {
    "id": "9Beb3pNFAx99"
   },
   "source": [
    "Este código en Python utiliza la biblioteca `numpy` para generar 100,000 números aleatorios distribuidos uniformemente entre 0 y 1. Luego, utiliza la biblioteca `matplotlib` para trazar un histograma de estos números generados.\n",
    "\n",
    "1. `import numpy as np`: Importa la biblioteca numpy y la renombra como `np` para facilitar su uso en el código.\n",
    "   \n",
    "2. `import matplotlib.pyplot as plt`: Importa la biblioteca pyplot de matplotlib y la renombra como `plt` para facilitar su uso en el código.\n",
    "\n",
    "3. `data = np.random.random(100000)`: Genera una matriz de 100,000 números aleatorios distribuidos uniformemente entre 0 y 1 utilizando la función `random()` de numpy.\n",
    "\n",
    "4. `plt.hist(data, bins=50, density=True, alpha=0.7, color='blue', edgecolor='black')`: Crea un histograma de los datos generados (`data`).\n",
    "   - `bins=50`: Divide los datos en 50 intervalos.\n",
    "   - `density=True`: Normaliza el histograma para que la suma de las áreas sea igual a 1, lo que representa una densidad de probabilidad.\n",
    "   - `alpha=0.7`: Define la transparencia de los bins del histograma (0 es completamente transparente, 1 es completamente opaco).\n",
    "   - `color='blue'`: Establece el color de los bins del histograma en azul.\n",
    "   - `edgecolor='black'`: Establece el color del borde de los bins en negro.\n",
    "\n",
    "5. `plt.xlabel('Valor')`: Etiqueta el eje x del gráfico como \"Valor\".\n",
    "\n",
    "6. `plt.ylabel('Densidad de probabilidad')`: Etiqueta el eje y del gráfico como \"Densidad de probabilidad\".\n",
    "\n",
    "7. `plt.title('Histograma de una distribución uniforme')`: Establece el título del gráfico como \"Histograma de una distribución uniforme\".\n",
    "\n",
    "8. `plt.grid(True)`: Muestra la cuadrícula en el gráfico.\n",
    "\n",
    "9. `plt.show()`: Muestra el gráfico.\n"
   ]
  },
  {
   "cell_type": "code",
   "execution_count": 6,
   "metadata": {
    "id": "s6t1Le0tcJ2Q"
   },
   "outputs": [
    {
     "data": {
      "image/png": "[encoded data removed]",
      "text/plain": [
       "<Figure size 640x480 with 1 Axes>"
      ]
     },
     "metadata": {},
     "output_type": "display_data"
    }
   ],
   "source": [
    "import seaborn as sns\n",
    "\n",
    "\n",
    "sns.histplot(data=data, binwidth=1, kde=True)\n",
    "plt.xlabel('Valor')\n",
    "plt.ylabel('Densidad de probabilidad')\n",
    "plt.title('Histograma de una distribución uniforme')\n",
    "plt.grid(True)\n",
    "plt.show()\n",
    "\n"
   ]
  },
  {
   "cell_type": "markdown",
   "metadata": {
    "id": "z2MvMIrDAgEr"
   },
   "source": [
    "Este código utiliza la librería Seaborn en Python para generar un histograma de una distribución de datos contenida en la variable 'data'.\n",
    "\n",
    "1. `sns.histplot(data=data, binwidth=1, kde=True)`: Esta línea genera el histograma utilizando la función `histplot` de Seaborn. Los datos que se están utilizando están contenidos en la variable 'data'. El parámetro `binwidth=1` especifica el ancho de los bins del histograma, es decir, el rango en el que se agrupan los datos. El parámetro `kde=True` indica que se debe superponer una estimación de la densidad de kernel (KDE) sobre el histograma.\n",
    "\n",
    "2. `plt.xlabel('Valor')`: Esto establece la etiqueta del eje x del gráfico como \"Valor\", lo que indica qué representa la variable en el eje x (en este caso, los valores de los datos).\n",
    "\n",
    "3. `plt.ylabel('Densidad de probabilidad')`: Esta línea establece la etiqueta del eje y del gráfico como \"Densidad de probabilidad\", lo que indica qué representa la variable en el eje y (en este caso, la densidad de probabilidad estimada por el KDE).\n",
    "\n",
    "4. `plt.title('Histograma de una distribución uniforme')`: Esto establece el título del gráfico como \"Histograma de una distribución uniforme\", lo que proporciona información sobre la naturaleza de los datos que se están visualizando.\n",
    "\n",
    "5. `plt.grid(True)`: Esta línea habilita las líneas de la cuadrícula en el gráfico, lo que puede facilitar la lectura de los valores.\n",
    "\n",
    "6. `plt.show()`: Esta línea muestra el gráfico generado. Sin esta línea, el gráfico se crearía pero no se mostraría en la pantalla.\n",
    "\n",
    "En resumen, este código genera un histograma con una distribución de datos contenidos en la variable 'data', con bins de ancho 1 y una estimación de la densidad de kernel (KDE) superpuesta. Luego, agrega etiquetas a los ejes x e y, establece un título para el gráfico, habilita las líneas de la cuadrícula y muestra el gráfico en la pantalla.\n"
   ]
  },
  {
   "cell_type": "code",
   "execution_count": 7,
   "metadata": {
    "id": "ia8KvxzGrhk2"
   },
   "outputs": [
    {
     "data": {
      "text/plain": [
       "array([0., 0., 0., 0., 0., 0., 0., 0., 0., 0., 0., 0., 0., 0., 0., 0., 0.,\n",
       "       0., 0., 0., 0., 0., 0., 0., 0., 0., 0., 0., 0., 0., 0., 0., 0., 0.,\n",
       "       0., 0., 0., 0., 0., 0., 0., 0., 0., 0., 0., 0., 0., 0., 0., 0., 0.,\n",
       "       0., 0., 0., 0., 0., 0., 0., 0., 0., 0., 0., 0., 0., 0., 0., 0., 0.,\n",
       "       0., 0., 0., 0., 0., 0., 0., 0., 0., 0., 0., 0., 0., 0., 0., 0., 0.,\n",
       "       0., 0., 0., 0., 0., 0., 0., 0., 0., 0., 0., 0., 0., 0., 0.])"
      ]
     },
     "execution_count": 7,
     "metadata": {},
     "output_type": "execute_result"
    }
   ],
   "source": [
    "sample = 100\n",
    "\n",
    "means = np.zeros(sample)\n",
    "means"
   ]
  },
  {
   "cell_type": "code",
   "execution_count": 8,
   "metadata": {
    "id": "aiNT795tuskK"
   },
   "outputs": [],
   "source": [
    "data = np.random.random(100000)"
   ]
  },
  {
   "cell_type": "code",
   "execution_count": 9,
   "metadata": {
    "id": "tlkgJNJruuTj"
   },
   "outputs": [
    {
     "data": {
      "text/plain": [
       "(100000,)"
      ]
     },
     "execution_count": 9,
     "metadata": {},
     "output_type": "execute_result"
    }
   ],
   "source": [
    "data.shape"
   ]
  },
  {
   "cell_type": "code",
   "execution_count": 10,
   "metadata": {
    "id": "_44RBjDKvHjX"
   },
   "outputs": [
    {
     "data": {
      "text/plain": [
       "array([0., 0., 0., 0.])"
      ]
     },
     "execution_count": 10,
     "metadata": {},
     "output_type": "execute_result"
    }
   ],
   "source": [
    "means = np.zeros(4)\n",
    "means"
   ]
  },
  {
   "cell_type": "code",
   "execution_count": 11,
   "metadata": {
    "id": "cF4fOAutuyTY"
   },
   "outputs": [
    {
     "name": "stdout",
     "output_type": "stream",
     "text": [
      "[0.68950435 0.58835652 0.54571198 0.47340197]\n"
     ]
    }
   ],
   "source": [
    "d1 = np.random.choice(data, size=4).mean()\n",
    "d2 = np.random.choice(data, size=4).mean()\n",
    "d3 = np.random.choice(data, size=4).mean()\n",
    "d4 = np.random.choice(data, size=4).mean()\n",
    "means[0] = d1\n",
    "means[1] = d2\n",
    "means[2] = d3\n",
    "means[3] = d4\n",
    "print(means)"
   ]
  },
  {
   "cell_type": "code",
   "execution_count": 12,
   "metadata": {
    "id": "WpzmGYLObcSZ"
   },
   "outputs": [],
   "source": [
    "sample = 100\n",
    "means = np.zeros(sample)\n",
    "size_sample = 33\n",
    "for i in range(sample):\n",
    "  muestra_aleatoria = np.random.choice(data, size=size_sample, replace=True)\n",
    "  means[i] = muestra_aleatoria.mean()\n",
    "\n"
   ]
  },
  {
   "cell_type": "markdown",
   "metadata": {
    "id": "R3n3ePIgBV03"
   },
   "source": [
    "Este fragmento de código en Python calcula la media de muestras aleatorias de un conjunto de datos (`data`) utilizando el método de bootstrap. Aquí está la explicación:\n",
    "\n",
    "1. `sample = 100`: Define el número de muestras que se tomarán del conjunto de datos.\n",
    "\n",
    "2. `means = np.zeros(sample)`: Crea un array de numpy de longitud `sample` lleno de ceros para almacenar las medias de las muestras.\n",
    "\n",
    "3. `size_sample = 10`: Define el tamaño de cada muestra que se tomará del conjunto de datos.\n",
    "\n",
    "4. `for i in range(sample):`: Inicia un bucle for que iterará sobre cada muestra.\n",
    "\n",
    "5. `muestra_aleatoria = np.random.choice(data, size=size_sample, replace=True)`: Genera una muestra aleatoria de tamaño `size_sample` del conjunto de datos `data` utilizando la función `random.choice()` de numpy. El parámetro `replace=True` indica que se permite el reemplazo de elementos en la muestra, lo que significa que un mismo elemento puede aparecer más de una vez en la muestra.\n",
    "\n",
    "6. `means[i] = muestra_aleatoria.mean()`: Calcula la media de la muestra aleatoria generada en el paso anterior y la almacena en el array `means`.\n",
    "\n"
   ]
  },
  {
   "cell_type": "code",
   "execution_count": 13,
   "metadata": {
    "id": "DGGC8nijdSqf"
   },
   "outputs": [
    {
     "data": {
      "text/plain": [
       "array([0.45123759, 0.51597607, 0.49312674, 0.58179956, 0.50660292,\n",
       "       0.46383944, 0.52282638, 0.47548941, 0.49139479, 0.5077337 ,\n",
       "       0.4699432 , 0.47109949, 0.52040161, 0.4751908 , 0.49689061,\n",
       "       0.56861146, 0.50195136, 0.5347801 , 0.5223617 , 0.50376256,\n",
       "       0.54630258, 0.48950501, 0.48595748, 0.54192961, 0.55436662,\n",
       "       0.50326349, 0.47474713, 0.53321774, 0.43605524, 0.46136298,\n",
       "       0.44928815, 0.45006071, 0.45506546, 0.56307866, 0.42872322,\n",
       "       0.45714728, 0.50689439, 0.48157947, 0.42655422, 0.49455817,\n",
       "       0.50100685, 0.54522396, 0.42205312, 0.47107412, 0.57614148,\n",
       "       0.46990971, 0.51453829, 0.47170052, 0.53808266, 0.58182298,\n",
       "       0.46616673, 0.4959921 , 0.46021531, 0.49742561, 0.61725115,\n",
       "       0.50790809, 0.44747649, 0.56426638, 0.53369139, 0.45109868,\n",
       "       0.5319956 , 0.55427419, 0.61332834, 0.41603291, 0.50821382,\n",
       "       0.4746552 , 0.45436117, 0.54128077, 0.52334074, 0.51842898,\n",
       "       0.45326496, 0.51429545, 0.4709625 , 0.50153705, 0.54737922,\n",
       "       0.55392108, 0.54410459, 0.44804552, 0.50620831, 0.49251509,\n",
       "       0.63532884, 0.5598893 , 0.46236149, 0.43907827, 0.48988326,\n",
       "       0.47713096, 0.49109096, 0.45506644, 0.56160904, 0.45398532,\n",
       "       0.42550397, 0.39088203, 0.48615529, 0.57657915, 0.50604163,\n",
       "       0.49835509, 0.46991804, 0.50077434, 0.51585656, 0.54324069])"
      ]
     },
     "execution_count": 13,
     "metadata": {},
     "output_type": "execute_result"
    }
   ],
   "source": [
    "means"
   ]
  },
  {
   "cell_type": "code",
   "execution_count": 14,
   "metadata": {
    "id": "dTz6TVkjdQhQ"
   },
   "outputs": [
    {
     "data": {
      "image/png": "[encoded data removed]",
      "text/plain": [
       "<Figure size 640x480 with 1 Axes>"
      ]
     },
     "metadata": {},
     "output_type": "display_data"
    }
   ],
   "source": [
    "plt.hist(means, bins=50, density=True, alpha=0.7, color='blue', edgecolor='black')\n",
    "plt.title('Histograma de medias de muestras')\n",
    "plt.xlabel('Media')\n",
    "plt.ylabel('Densidad de probabilidad')\n",
    "plt.grid(True)\n",
    "plt.show()\n"
   ]
  },
  {
   "cell_type": "code",
   "execution_count": 15,
   "metadata": {
    "id": "ryIZtyqPd7_f"
   },
   "outputs": [
    {
     "data": {
      "image/png": "[encoded data removed]",
      "text/plain": [
       "<Figure size 640x480 with 1 Axes>"
      ]
     },
     "metadata": {},
     "output_type": "display_data"
    }
   ],
   "source": [
    "sns.histplot(data=means, kde=True, stat=\"density\", common_norm=True)\n",
    "plt.title('Histograma de una distribución uniforme')\n",
    "plt.xlabel('Media')\n",
    "plt.ylabel('Densidad de probabilidad')\n",
    "plt.grid(True)\n",
    "plt.show()"
   ]
  },
  {
   "cell_type": "code",
   "execution_count": 16,
   "metadata": {
    "id": "RTPWJHx2e01U"
   },
   "outputs": [],
   "source": [
    "def get_graph_samples(data, size_sample, sample=100):\n",
    "  means = np.zeros(sample)\n",
    "\n",
    "  for i in range(sample):\n",
    "    muestra_aleatoria = np.random.choice(data, size=size_sample, replace=True)\n",
    "    means[i] = muestra_aleatoria.mean()\n",
    "\n",
    "  sns.histplot(data=means, kde=True, stat=\"density\", common_norm=True)\n",
    "  plt.title(f'Histograma con tamaño de muestra de {size_sample}')\n",
    "  plt.xlabel('Media')\n",
    "  plt.ylabel('Densidad de probabilidad')\n",
    "  plt.grid(True)\n",
    "  plt.show()"
   ]
  },
  {
   "cell_type": "markdown",
   "metadata": {
    "id": "kTmnjAzaCN8e"
   },
   "source": [
    "Este código ejecuta un bucle que va desde 1 hasta 14 (inclusive), donde en cada iteración se llama a una función llamada `get_graph_samples()` con el valor actual de `i` como argumento, y luego espera durante 2 segundos antes de limpiar la salida actual en la pantalla.\n",
    "\n",
    "- `for i in range(1, 15):`: Inicia un bucle for que itera desde 1 hasta 14 (inclusive). El valor de `i` va cambiando en cada iteración.\n",
    "\n",
    "- `get_graph_samples(i, data)`: Llama a una función `get_graph_samples()` con dos argumentos: el valor actual de `i` y `data`. Esta función muestra la gráfica del histograma de la distribución de la muestra.\n",
    "\n",
    "- `time.sleep(2)`: Pausa la ejecución del programa durante 2 segundos en cada iteración. Esto significa que después de que se dibuje un gráfico, el programa esperará 2 segundos antes de continuar con la siguiente iteración del bucle.\n",
    "\n",
    "- `clear_output(wait=True)`: Limpia la salida actual en la pantalla. Esto es útil si se está mostrando algo en la pantalla y se desea actualizar con cada iteración del bucle. El argumento `wait=True` indica que se espera hasta que se haya completado la limpieza antes de continuar con la ejecución del programa.\n",
    "\n"
   ]
  },
  {
   "cell_type": "code",
   "execution_count": 17,
   "metadata": {
    "id": "2kVaGRBkfEqH"
   },
   "outputs": [],
   "source": [
    "import time\n",
    "\n",
    "from IPython.display import clear_output\n"
   ]
  },
  {
   "cell_type": "code",
   "execution_count": 18,
   "metadata": {
    "id": "nWE2AwltfAbP"
   },
   "outputs": [
    {
     "data": {
      "image/png": "[encoded data removed]",
      "text/plain": [
       "<Figure size 640x480 with 1 Axes>"
      ]
     },
     "metadata": {},
     "output_type": "display_data"
    }
   ],
   "source": [
    "for i in range(1, 16):\n",
    "  get_graph_samples(data=data, size_sample=i)\n",
    "  time.sleep(2)\n",
    "  clear_output(wait=True)"
   ]
  },
  {
   "cell_type": "markdown",
   "metadata": {
    "id": "NKOXmsNhhg37"
   },
   "source": []
  },
  {
   "cell_type": "code",
   "execution_count": 20,
   "metadata": {
    "id": "2p7loXbpgJn3"
   },
   "outputs": [
    {
     "data": {
      "image/png": "[encoded data removed]",
      "text/plain": [
       "<Figure size 640x480 with 1 Axes>"
      ]
     },
     "metadata": {},
     "output_type": "display_data"
    }
   ],
   "source": [
    "data = np.random.poisson(size=100000)\n",
    "sns.histplot(data=data, kde=True)\n",
    "plt.title('Histograma de una distribución exponencial')\n",
    "plt.xlabel('Valor')\n",
    "plt.ylabel('Densidad de probabilidad')\n",
    "plt.grid(True)\n",
    "plt.show()"
   ]
  },
  {
   "cell_type": "code",
   "execution_count": null,
   "metadata": {
    "id": "u-CJVK3wiTvL"
   },
   "outputs": [],
   "source": [
    "for i in range(1, 31):\n",
    "  get_graph_samples(data=data, size_sample=i)\n",
    "  time.sleep(2)\n",
    "  clear_output(wait=True)"
   ]
  },
  {
   "cell_type": "code",
   "execution_count": 22,
   "metadata": {
    "id": "XI_NgHByiVCx"
   },
   "outputs": [
    {
     "data": {
      "image/png": "[encoded data removed]",
      "text/plain": [
       "<Figure size 640x480 with 1 Axes>"
      ]
     },
     "metadata": {},
     "output_type": "display_data"
    }
   ],
   "source": [
    "# Distribución de Poisson\n",
    "data = np.random.poisson(size=100000)\n",
    "sns.histplot(data=data, kde=True, stat=\"density\", common_norm=True)\n",
    "plt.title('Histograma de una distribución Poisson')\n",
    "plt.xlabel('Valor')\n",
    "plt.ylabel('Densidad de probabilidad')\n",
    "plt.grid(True)\n",
    "plt.show()"
   ]
  },
  {
   "cell_type": "code",
   "execution_count": 23,
   "metadata": {
    "id": "bKyL29SRikH1"
   },
   "outputs": [
    {
     "data": {
      "image/png": "[encoded data removed]",
      "text/plain": [
       "<Figure size 640x480 with 1 Axes>"
      ]
     },
     "metadata": {},
     "output_type": "display_data"
    }
   ],
   "source": [
    "for i in range(1, 15):\n",
    "  get_graph_samples(data=data, size_sample=i)\n",
    "  time.sleep(1)\n",
    "  clear_output(wait=True)"
   ]
  },
  {
   "cell_type": "markdown",
   "metadata": {
    "id": "z-j744eKhqlc"
   },
   "source": [
    "#### Actividad:\n",
    "Probar el código con distitas distribuciones de probabilidad. Aquí tienes algunas:\n",
    "- Distribución Uniforme: `numpy.random.uniform()`\n",
    "- Distribución Normal (Gaussiana): `numpy.random.normal()`\n",
    "- Distribución Exponencial: `numpy.random.exponential()`\n",
    "- Distribución de Poisson: `numpy.random.poisson()`\n",
    "- Distribución Binomial: `numpy.random.binomial()`\n",
    "- Distribución de Bernoulli: `numpy.random.bernoulli()`\n",
    "- Distribución de Pareto: `numpy.random.pareto()`\n",
    "- Distribución de Cauchy: `numpy.random.cauchy()`\n",
    "- Distribución de Weibull: `numpy.random.weibull()`\n",
    "- Distribución de Log-Normal: `numpy.random.lognormal()`\n",
    "- Distribución de Chi-cuadrado: `numpy.random.chisquare()`\n",
    "- Distribución de F: `numpy.random.f()`\n",
    "- Distribución de Gamma: `numpy.random.gamma()`\n",
    "- Distribución de Triangular: `numpy.random.triangular()`\n"
   ]
  },
  {
   "cell_type": "code",
   "execution_count": 25,
   "metadata": {},
   "outputs": [
    {
     "data": {
      "image/png": "[encoded data removed]",
      "text/plain": [
       "<Figure size 640x480 with 1 Axes>"
      ]
     },
     "metadata": {},
     "output_type": "display_data"
    }
   ],
   "source": [
    "#Creado por mi para ver la información de arriba \n",
    "data = np.random.normal(size=100000)\n",
    "for i in range(1, 15):\n",
    "  get_graph_samples(data=data, size_sample=i)\n",
    "  time.sleep(1)\n",
    "  clear_output(wait=True)"
   ]
  },
  {
   "cell_type": "markdown",
   "metadata": {
    "id": "wACrHLPtpnK0"
   },
   "source": [
    "****\n",
    "**Otras caracteristicas del teorema del límite central**\n",
    "* La media de las medias muestrales es igual a la media poblacional.\n",
    "* La desviación estandar de las medias muestrales es igual a la desviación estándar poblacional (esto es valido para muestras iguales o mayores a 30), dividida entre la raíz cuadrada del tamaño de las muestras.\n",
    "\n",
    "$$\\sigma_\\overline{x}=\\frac{\\sigma}{\\sqrt{n}}$$\n",
    "\n",
    "\n"
   ]
  },
  {
   "cell_type": "markdown",
   "metadata": {
    "id": "kov7nPiyqUnU"
   },
   "source": [
    "Usamos una base de de datos que tiene los precios de carros para comprobar estas otras características del teorema del límte central."
   ]
  },
  {
   "cell_type": "code",
   "execution_count": null,
   "metadata": {
    "id": "osrutMoqqmKx"
   },
   "outputs": [],
   "source": [
    "import pandas as pd\n",
    "\n",
    "\n",
    "df = pd.read_csv('card_price.csv')\n",
    "df.head()"
   ]
  },
  {
   "cell_type": "code",
   "execution_count": null,
   "metadata": {
    "id": "DF3AXs-uqt2W"
   },
   "outputs": [],
   "source": [
    "# car_price = np.log1p(df.MSRP.values)\n",
    "car_price = df.MSRP.values\n",
    "car_price\n"
   ]
  },
  {
   "cell_type": "code",
   "execution_count": null,
   "metadata": {
    "id": "DKwA8iN6rcDE"
   },
   "outputs": [],
   "source": [
    "car_price.shape"
   ]
  },
  {
   "cell_type": "code",
   "execution_count": null,
   "metadata": {
    "id": "N2mEKHrCrR84"
   },
   "outputs": [],
   "source": [
    "plt.hist(car_price, bins=50, density=True, alpha=0.7, color='blue', edgecolor='black')\n",
    "# plt.hist(data, bins=50, density=False, alpha=0.7, color='blue', edgecolor='black')\n",
    "\n",
    "plt.xlabel('precio')\n",
    "plt.ylabel('Frecuencia')\n",
    "plt.title('Histograma de la distribución del precio de carros')\n",
    "plt.grid(True)\n",
    "plt.show()"
   ]
  },
  {
   "cell_type": "markdown",
   "metadata": {
    "id": "r-SJ4feBuOaS"
   },
   "source": [
    "1. 10000 -> sum([43, 352, 3, ... 500]) / 500\n",
    "2. 10000 -> sum([43, 352, 3, ... 500]) / 500\n",
    "3. 10000 -> sum([43, 352, 3, ... 500]) / 500\n",
    ".\n",
    ".\n",
    ".\n",
    "100. Medias\n"
   ]
  },
  {
   "cell_type": "code",
   "execution_count": null,
   "metadata": {
    "id": "Pa9etSozrBKU"
   },
   "outputs": [],
   "source": [
    "get_graph_samples(data=car_price, size_sample=500)"
   ]
  },
  {
   "cell_type": "markdown",
   "metadata": {
    "id": "-uwux2ZDv8jF"
   },
   "source": [
    "**Media de las medias muestrales se apróxima a la media poblacional**\n",
    "La media de las medias muestrales (también conocida como la media de la distribución muestral) se aproxima a la media poblacional. Esto significa que si tomamos muchas muestras de una población, calculamos la media de cada muestra y luego encontramos la media de esas medias muestrales, este valor se acercará a la media de la población original.\n",
    "\n",
    "Matemáticamente, esto se expresa como:\n",
    "$$ \\lim_{{n \\to \\infty}} \\left( \\frac{{\\bar{X}}}{\\mu} \\right) = 1 $$\n",
    "\n",
    "Donde:\n",
    "- $ \\bar{X} $ es la media de las medias muestrales.\n",
    "- $ \\mu $ es la media poblacional.\n",
    "\n",
    "**Desviación estándar de las medias muestrales se aproxima a la desviación estándar poblacional dividida por la raíz cuadrada del tamaño muestra**\n",
    "\n",
    "La desviación estándar de las medias muestrales se aproxima a la desviación estándar de la población dividida por la raíz cuadrada del tamaño muestral. Esto significa que a medida que aumenta el tamaño de la muestra, la dispersión de las medias muestrales en torno a la media de la población disminuye.\n",
    "\n",
    "Matemáticamente, esto se expresa como:\n",
    "$$ \\lim_{{n \\to \\infty}} \\left( \\frac{{\\sigma_{\\bar{X}}}}{{\\sigma / \\sqrt{n}}} \\right) = 1 $$\n",
    "\n",
    "Donde:\n",
    "- $ \\sigma_{\\bar{X}} $ es la desviación estándar de las medias muestrales.\n",
    "- $ \\sigma $ es la desviación estándar de la población.\n",
    "- $ n $ es el tamaño de la muestra."
   ]
  },
  {
   "cell_type": "markdown",
   "metadata": {
    "id": "85_-njQ9r6dL"
   },
   "source": [
    "Usamos este código que ya había escrito antes pero ahora para usar los datos del precio de autos."
   ]
  },
  {
   "cell_type": "code",
   "execution_count": null,
   "metadata": {
    "id": "GwUaA1OeroOT"
   },
   "outputs": [],
   "source": [
    "sample = 100 # Número de muestras.\n",
    "means = np.zeros(sample)\n",
    "size_sample = 30 # Tamaño de la muestra.\n",
    "for i in range(sample):\n",
    "  muestra_aleatoria = np.random.choice(car_price, size=size_sample, replace=True)\n",
    "  means[i] = muestra_aleatoria.mean()\n"
   ]
  },
  {
   "cell_type": "code",
   "execution_count": null,
   "metadata": {
    "id": "gEd_N5gwwC1S"
   },
   "outputs": [],
   "source": [
    "print(f\"Media de las media muestrales: {means.mean():.4f}\")\n",
    "print(f\"Media poblacional: {car_price.mean():.4f}\")\n",
    "\n"
   ]
  },
  {
   "cell_type": "code",
   "execution_count": null,
   "metadata": {
    "id": "I8UiKFywwE3y"
   },
   "outputs": [],
   "source": [
    "print(f\"Desviación estándar de las medias muestrales: {means.std(ddof=1)}\")\n",
    "std = car_price.std() / np.sqrt(size_sample)\n",
    "print(f\"Desviación estándar poblacional: {std}\")"
   ]
  },
  {
   "cell_type": "code",
   "execution_count": null,
   "metadata": {
    "id": "WEUvFM25AgRY"
   },
   "outputs": [],
   "source": [
    "print(f\"División de medias: {means.mean()/car_price.mean():.6f}\")\n",
    "std = car_price.std() / np.sqrt(size_sample)\n",
    "print(f\"Divición de desviaciones estándar: {means.std(ddof=1)/std:.6f}\")\n",
    "\n"
   ]
  },
  {
   "cell_type": "markdown",
   "metadata": {
    "id": "sXlHTq6L0Gzg"
   },
   "source": [
    "**Actividad:**\n",
    "* Cambia el tamaño de las muestras y el número de muestras para ver que pasa.\n",
    "* Hacer prueba de hipótesis para saber si las medias son iguales.\n",
    "* Hacer prueba de hipótesis para saber si las desviaciones estandar son iguales."
   ]
  },
  {
   "cell_type": "markdown",
   "metadata": {
    "id": "X99FmjwXEWsq"
   },
   "source": [
    "# Álgebra lineal.\n",
    "El álgebra lineal comprende el estudio de vectores matrices, sistemas de ecuaciones lineales y trata desde un enfoque más formal los conceptos de espacios vectoriales y transformaciones lineales. (Dr. Jaun Martín Carpio Valadéz)\n",
    "\n",
    "## Importancia del álgebra lineal en la Ciencia de Datos y Aprendizaje automático.\n",
    "\n",
    "El álgebra lineal es una de las herramientas básicas y esenciales para la ciencia de datos, aprendizaje automático y aprendizaje profundo (deep learning).\n",
    "\n",
    "En esta sesión se revisaran los conceptos necesarios del álgebra lineal que serán utilizados en los siguientes módulos, como tratamiento de datos, aprendizaje automático y deep learning.\n"
   ]
  },
  {
   "cell_type": "markdown",
   "metadata": {
    "id": "Qj86dqvnr5KA"
   },
   "source": [
    "## Escalares\n",
    "\n",
    "Un escalar es simplemente un solo número, a diferencia de la mayoría de los otros objetos estudiados en álgebra lineal, que suelen ser matrices de varios números. Escribimos escalares en cursiva. Usualmente damos a los escalares nombres de variables en minúsculas. Cuando los introducimos, especificamos qué tipo de número son. Por ejemplo, podríamos decir \"Sea *s* ∈ ℝ<sup>+</sup> la pendiente de la línea\", mientras definimos un escalar de valor real positivo, o \"Sea *n* ∈ ℕ el número de unidades\", mientras definimos un escalar de número natural (Heaton, 2017).\n",
    "\n",
    "\n",
    "\n",
    "Un escalar es un número, pero en python puede ser:\n",
    "\n",
    "* Int\n",
    "* Float\n",
    "* Str\n",
    "* Bool"
   ]
  },
  {
   "cell_type": "code",
   "execution_count": null,
   "metadata": {
    "id": "92RdPcv9tj98"
   },
   "outputs": [],
   "source": [
    "import numpy as np\n",
    "\n",
    "# Definición de un escalar\n",
    "escalar = 5\n"
   ]
  },
  {
   "cell_type": "code",
   "execution_count": null,
   "metadata": {
    "id": "1oGsVMEP04ui"
   },
   "outputs": [],
   "source": [
    "escalar_python = True # boolean\n",
    "print(escalar_python)\n",
    "print(type(escalar_python))"
   ]
  },
  {
   "cell_type": "markdown",
   "metadata": {
    "id": "_7KN7Yjptls7"
   },
   "source": [
    "### Definición de Vector en Álgebra Lineal\n",
    "\n",
    "Un vector es un conjunto de números dispuestos en orden. Cada número se puede identificar por su índice en ese ordenamiento. Normalmente damos a los vectores nombres en minúscula en negrita, como $x$. Los elementos del vector se identifican escribiendo su nombre en cursiva, con un subíndice. El primer elemento de $\\mathbf{x}$ es $x_1$, el segundo elemento es $x_2$, y así sucesivamente. También necesitamos especificar qué tipo de números se almacenan en el vector. Si cada elemento está en $\\mathbb{R}$, y el vector tiene $n$ elementos, entonces el vector se encuentra en el conjunto formado tomando el producto cartesiano de $\\mathbb{R}$ $n$ veces, denotado como $\\mathbb{R}^n$. Cuando necesitamos identificar explícitamente los elementos de un vector, los escribimos como una columna encerrada entre corchetes cuadrados.\n",
    "\n",
    "$$\\mathbf{x} =\n",
    "\\begin{bmatrix}\n",
    "x_{1} \\\\\n",
    "x_{2} \\\\\n",
    "\\vdots \\\\\n",
    "x_{n}\n",
    "\\end{bmatrix}$$"
   ]
  },
  {
   "cell_type": "code",
   "execution_count": null,
   "metadata": {
    "id": "oY_ev6WzwIF9"
   },
   "outputs": [],
   "source": [
    "# Definir un vector con valores específicos\n",
    "v1 = np.array([1, 2, 3, 4, 5])\n",
    "print(v1)\n"
   ]
  },
  {
   "cell_type": "code",
   "execution_count": null,
   "metadata": {
    "id": "RfD2gbwXyGdi"
   },
   "outputs": [],
   "source": [
    "v1.shape"
   ]
  },
  {
   "cell_type": "code",
   "execution_count": null,
   "metadata": {
    "id": "lJbFuIIp1JCx"
   },
   "outputs": [],
   "source": [
    "# Definir un vector de ceros de longitud 5\n",
    "v2 = np.zeros(5)\n",
    "print(v2)\n"
   ]
  },
  {
   "cell_type": "code",
   "execution_count": null,
   "metadata": {
    "id": "mSmnNwJT1Mow"
   },
   "outputs": [],
   "source": [
    "# Definir un vector de unos de longitud 3\n",
    "v3 = np.ones(3)\n",
    "print(v3)\n"
   ]
  },
  {
   "cell_type": "code",
   "execution_count": null,
   "metadata": {
    "id": "Zj1S_Ih81Pig"
   },
   "outputs": [],
   "source": [
    "# Definir un vector de números espaciados uniformemente entre 0 y 10 (incluyendo 10) con paso 2\n",
    "v4 = np.arange(0, 11, 2)\n",
    "print(v4)"
   ]
  },
  {
   "cell_type": "markdown",
   "metadata": {
    "id": "uXEErParv8Vo"
   },
   "source": [
    "Podemos pensar en los vectores como la identificación de puntos en el espacio, donde cada elemento da la coordenada a lo largo de un eje diferente. A veces necesitamos indexar un conjunto de elementos de un vector. En este caso, definimos un conjunto que contiene los índices y escribimos el conjunto como un subíndice. Por ejemplo, para acceder a $x_1$, $x_3$ y $x_6$, definimos el conjunto $S = \\{1, 3, 6\\}$ y escribimos $\\mathbf{x_S}$. Usamos el signo $ -$ para indexar el complemento de un conjunto. Por ejemplo, $\\mathbf{ x_{-1}}$ es el vector que contiene todos los elementos de $\\mathbf{x}$ excepto $x_1$, y $\\mathbf{x_{-S}}$ es el vector que contiene todos los elementos de $\\mathbf{x}$ excepto, $x_1$, $x_3$ y $x_6$.\n",
    "\n"
   ]
  },
  {
   "cell_type": "code",
   "execution_count": null,
   "metadata": {
    "id": "UqX2aCz0xq8U"
   },
   "outputs": [],
   "source": [
    "# Definir un vector x en NumPy\n",
    "x = np.array([1, 2, 3, 4, 5, 6, 7])\n",
    "print(\"Vector x: \", x)\n",
    "\n",
    "\n"
   ]
  },
  {
   "cell_type": "code",
   "execution_count": null,
   "metadata": {
    "id": "5LalFQX3yaGu"
   },
   "outputs": [],
   "source": [
    "# Acceder a los elementos x1, x3 y x6\n",
    "indices = np.array([0, 2, 5])  # Definir el conjunto de índices"
   ]
  },
  {
   "cell_type": "code",
   "execution_count": null,
   "metadata": {
    "id": "v86WxvhgyXL6"
   },
   "outputs": [],
   "source": [
    "\n",
    "x_s = x[indices]\n",
    "print(\"Elementos x1, x3 y x6:\", x_s)\n"
   ]
  },
  {
   "cell_type": "code",
   "execution_count": null,
   "metadata": {
    "id": "WV-YOZVp3Byl"
   },
   "outputs": [],
   "source": [
    "print(\"Vector x: \", x)\n",
    "# Indexar el complemento de un conjunto\n",
    "complemento_indices = np.array([0])  # Definir el conjunto de índices\n",
    "complemento_indices\n"
   ]
  },
  {
   "cell_type": "code",
   "execution_count": null,
   "metadata": {
    "id": "XZI5baJKyo4W"
   },
   "outputs": [],
   "source": [
    "x_complemento = np.delete(x, complemento_indices)\n",
    "print(\"Complemento de x1:\", x_complemento)"
   ]
  },
  {
   "cell_type": "code",
   "execution_count": null,
   "metadata": {
    "id": "5Tl5WCbH3DG7"
   },
   "outputs": [],
   "source": [
    "print(\"Vector x: \", x)\n",
    "complemento_indices_S = np.array([0, 2, 5])  # Definir el complemento del conjunto S\n",
    "x_complemento_S = np.delete(x, complemento_indices)\n",
    "print(\"Complemento de x1, x3 y x6:\", x_complemento_S)"
   ]
  },
  {
   "cell_type": "markdown",
   "metadata": {
    "id": "SHfgIs0V-Zcl"
   },
   "source": [
    "## Ejemplo:\n",
    "\n",
    "En aprendizaje automático, los vectores se utilizan ampliamente para representar características o variables de entrada de los datos. Por ejemplo, en un problema de clasificación, podemos tener un conjunto de datos que contiene características (o atributos) (los escalares) que describen cada instancia en el conjunto de datos. Estas características se pueden organizar en un vector para representar cada instancia.\n",
    "\n",
    "Por ejemplo, consideremos un conjunto de datos que contiene información sobre el tamaño y el peso de varios animales, y queremos clasificar si son perros o gatos. Podríamos tener un vector de características para cada animal que incluya el tamaño y el peso como elementos del vector.\n",
    "\n",
    "En NumPy, podemos representar este conjunto de datos como una matriz donde cada fila representa un animal y cada columna representa una característica. Podemos utilizar operaciones de álgebra lineal en estos vectores y matrices para entrenar un modelo de aprendizaje automático, como un clasificador de regresión logística, que puede aprender a distinguir entre perros y gatos basándose en las características proporcionadas.\n"
   ]
  },
  {
   "cell_type": "markdown",
   "metadata": {
    "id": "5W0LnD8hGWkv"
   },
   "source": [
    "## Operaciones con vectores"
   ]
  },
  {
   "cell_type": "code",
   "execution_count": null,
   "metadata": {
    "id": "KaiDB5ZyGY5o"
   },
   "outputs": [],
   "source": [
    "vector = np.array([1, 2, 3, 4, 5])\n",
    "print(\"Vector: \", vector)\n",
    "print(\"Dimensión: \", vector.shape)"
   ]
  },
  {
   "cell_type": "code",
   "execution_count": null,
   "metadata": {
    "id": "N585_xSYGbkA"
   },
   "outputs": [],
   "source": [
    "# Acceder al primer elemento del vector\n",
    "print(vector[0])\n"
   ]
  },
  {
   "cell_type": "code",
   "execution_count": null,
   "metadata": {
    "id": "_OLJkhnLGiNH"
   },
   "outputs": [],
   "source": [
    "# Suma de vectores\n",
    "suma_vectores = vector + np.array([10, 20, 30, 40, 50],)\n",
    "print(suma_vectores)"
   ]
  },
  {
   "cell_type": "code",
   "execution_count": null,
   "metadata": {
    "id": "SvV1vMT6Hay4"
   },
   "outputs": [],
   "source": [
    "# Transposición de una matriz\n",
    "transpuesta = vector.T\n",
    "print(\"Vector transpuesto: \", transpuesta)"
   ]
  },
  {
   "cell_type": "code",
   "execution_count": null,
   "metadata": {
    "id": "_IP2R6Ply-qF"
   },
   "outputs": [],
   "source": [
    "vector = np.array([1, 2, 3, 4, 5])\n",
    "vector.shape"
   ]
  },
  {
   "cell_type": "code",
   "execution_count": null,
   "metadata": {
    "id": "dlvZmvKDzBm2"
   },
   "outputs": [],
   "source": [
    "vector = np.array([[1, 2, 3, 4, 5]])\n",
    "vector.shape"
   ]
  },
  {
   "cell_type": "code",
   "execution_count": null,
   "metadata": {
    "id": "kxT0c1mszFU1"
   },
   "outputs": [],
   "source": [
    "vector"
   ]
  },
  {
   "cell_type": "code",
   "execution_count": null,
   "metadata": {
    "id": "dYt2WWGcy4pW"
   },
   "outputs": [],
   "source": [
    "vector.T"
   ]
  },
  {
   "cell_type": "markdown",
   "metadata": {
    "id": "JOrXgMSFHfBR"
   },
   "source": [
    "Para poder hacer la transpuesta tenemos que agregar otra dimensión."
   ]
  },
  {
   "cell_type": "code",
   "execution_count": null,
   "metadata": {
    "id": "XJeRKm9tHQLg"
   },
   "outputs": [],
   "source": [
    "vector = np.array([[1, 2, 3, 4, 5]])\n",
    "print(\"Vector: \", vector)\n",
    "print(\"Dimensión: \", vector.shape)"
   ]
  },
  {
   "cell_type": "code",
   "execution_count": null,
   "metadata": {
    "id": "h_CGGjZiGmHf"
   },
   "outputs": [],
   "source": [
    "# Transposición de una matriz\n",
    "transpuesta = vector.T\n",
    "print(\"Vector transpuesto:\\n\", transpuesta)"
   ]
  },
  {
   "cell_type": "markdown",
   "metadata": {
    "id": "lLLS4I0tHp3Q"
   },
   "source": [
    "También se puede redimensionar un vector o matriz, del siguiente modo:"
   ]
  },
  {
   "cell_type": "code",
   "execution_count": null,
   "metadata": {
    "id": "9CJYTF8CHoHg"
   },
   "outputs": [],
   "source": [
    "vector = np.array([1, 2, 3, 4, 5])\n",
    "print(\"Vector: \", vector)\n",
    "print(\"Dimensión: \", vector.shape)"
   ]
  },
  {
   "cell_type": "code",
   "execution_count": null,
   "metadata": {
    "id": "o5blfhzuHwco"
   },
   "outputs": [],
   "source": [
    "vector = np.array([1, 2, 3, 4, 5])\n",
    "vector = vector.reshape(1, len(vector))\n",
    "print(\"Vector: \", vector)\n",
    "print(\"Dimensión: \", vector.shape)"
   ]
  },
  {
   "cell_type": "markdown",
   "metadata": {
    "id": "_TnXpr4XH6Wg"
   },
   "source": [
    "Transpuesta"
   ]
  },
  {
   "cell_type": "code",
   "execution_count": null,
   "metadata": {
    "id": "TspYBWbSH3lA"
   },
   "outputs": [],
   "source": [
    "vector = np.array([1, 2, 3, 4, 5])\n"
   ]
  },
  {
   "cell_type": "code",
   "execution_count": null,
   "metadata": {
    "id": "O52sfpr8zaX_"
   },
   "outputs": [],
   "source": [
    " len(vector)"
   ]
  },
  {
   "cell_type": "code",
   "execution_count": null,
   "metadata": {
    "id": "3JyXFQCfzUaj"
   },
   "outputs": [],
   "source": [
    "vector = vector.reshape(1, len(vector))\n",
    "vector.shape"
   ]
  },
  {
   "cell_type": "code",
   "execution_count": null,
   "metadata": {
    "id": "yAdMLSQrzmUG"
   },
   "outputs": [],
   "source": [
    "vector"
   ]
  },
  {
   "cell_type": "code",
   "execution_count": null,
   "metadata": {
    "id": "P9XCUjUCzVgk"
   },
   "outputs": [],
   "source": [
    "vector = vector.T\n",
    "print(\"Vector:\\n\", vector)\n",
    "print(\"Dimensión: \", vector.shape)"
   ]
  },
  {
   "cell_type": "markdown",
   "metadata": {
    "id": "XfaKarufIKwB"
   },
   "source": [
    "1. **Calcular la suma de los elementos de un vector:**\n",
    "$$\n",
    "    \\text{suma_total} = \\sum_{i=1}^{n} \\text{vector}[i]\n",
    "  $$\n",
    "   \n",
    "2. **Calcular la media de los elementos de un vector:**\n",
    "   $$ \\text{media} = \\frac{1}{n} \\sum_{i=1}^{n} \\text{vector}[i] $$\n"
   ]
  },
  {
   "cell_type": "code",
   "execution_count": null,
   "metadata": {
    "id": "KYGd91CBIKRq"
   },
   "outputs": [],
   "source": [
    "print(\"Vector\", vector.T)\n",
    "\n",
    "# Calcular la suma de los elementos de un vector\n",
    "suma_total = np.sum(vector)\n",
    "\n",
    "print(\"Suma total: \", suma_total)\n",
    "\n",
    "\n"
   ]
  },
  {
   "cell_type": "code",
   "execution_count": null,
   "metadata": {
    "id": "fZSVuYi8zsNv"
   },
   "outputs": [],
   "source": [
    "# Calcular la media de los elementos de un vector\n",
    "media = np.mean(vector)\n",
    "print(\"Media: \", media)\n"
   ]
  },
  {
   "cell_type": "markdown",
   "metadata": {
    "id": "lSilxDtoQjoy"
   },
   "source": [
    "Una norma es una función matemática que asigna a cada vector en un espacio vectorial un número no negativo, de manera que satisfaga ciertas propiedades. En términos más simples, una norma mide la \"longitud\" o el \"tamaño\" de un vector.\n",
    "\n",
    "Hay diferentes tipos de normas, pero la más común es la norma euclidiana, también conocida como norma L2. Esta norma se define para un vector $\\mathbf{x}$ en un espacio euclidiano como:\n",
    "\n",
    "$$\\mid\\mid\\mathbf{x} \\mid\\mid_2 = \\sqrt{ (\\sum_{i=1}^{n} x_i^2)}$$\n",
    "\n",
    "Donde $n$ es la dimensión del vector y $x_i$ son los componentes del vector. Básicamente, la norma L2 se calcula tomando la raíz cuadrada de la suma de los cuadrados de cada componente del vector.\n",
    "\n",
    "Otra norma común es la norma Manhattan, también conocida como norma L1. Esta se define como:\n",
    "\n",
    "$$\n",
    "\\| \\mathbf{x} \\|_1 = \\sum_{i=1}^{n} |x_i|\n",
    "$$\n",
    "\n",
    "Aquí, en lugar de sumar los cuadrados de los componentes del vector como en la norma L2, simplemente se suman los valores absolutos de los componentes del vector.\n",
    "\n",
    "Ambas normas cumplen con algunas propiedades importantes, como la homogeneidad, la desigualdad triangular y la positividad definida. Estas propiedades hacen que las normas sean útiles en muchos campos, como el análisis numérico, la optimización y el procesamiento de señales, entre otros.\n"
   ]
  },
  {
   "cell_type": "code",
   "execution_count": null,
   "metadata": {
    "id": "HchfipcwQ3sJ"
   },
   "outputs": [],
   "source": [
    "# Calcular la norma L2 del vector\n",
    "norma_l2 = np.linalg.norm(vector)\n",
    "\n",
    "# Calcular la norma L1 del vector\n",
    "norma_l1 = np.linalg.norm(vector, ord=1)\n",
    "\n",
    "print(\"Vector:\", vector.T)\n",
    "print(\"Norma L2:\", norma_l2)\n",
    "print(\"Norma L1:\", norma_l1)"
   ]
  },
  {
   "cell_type": "markdown",
   "metadata": {
    "id": "HkBMOE_z1zON"
   },
   "source": [
    "### Graficas de vectores."
   ]
  },
  {
   "cell_type": "code",
   "execution_count": null,
   "metadata": {
    "id": "bn9PmzzD2BHV"
   },
   "outputs": [],
   "source": [
    "u = np.array([2, 5])\n",
    "v = np.array([3, 1])\n"
   ]
  },
  {
   "cell_type": "markdown",
   "metadata": {
    "id": "QK3P_Bqn30lw"
   },
   "source": [
    "Primero usaremos zip, que nos ayudará a descompener el vector y nos dará el formato adecuado para graficar, dando las coordenadas $x$ y coordenadas $y$."
   ]
  },
  {
   "cell_type": "code",
   "execution_count": null,
   "metadata": {
    "id": "9S6rGzcQ2wsM"
   },
   "outputs": [],
   "source": [
    "for i, (u_i, v_i) in enumerate(zip(u, v)):\n",
    "  print(f\"coordienadas {i}: ({u_i}, {v_i})\")"
   ]
  },
  {
   "cell_type": "code",
   "execution_count": null,
   "metadata": {
    "id": "m3z5D4mn3Uj_"
   },
   "outputs": [],
   "source": [
    "x_cor, y_cor = zip(u, v)\n",
    "print(f\"vectores: u: {u}, v:{v}\")\n",
    "print(f\"Coordenadas: x: {x_cor}, y:{y_cor}\")"
   ]
  },
  {
   "cell_type": "code",
   "execution_count": null,
   "metadata": {
    "id": "EaErZ6Vw2KrH"
   },
   "outputs": [],
   "source": [
    "import matplotlib.pyplot as plt\n",
    "\n",
    "x_cor, y_cor = zip(u, v)\n",
    "plt.scatter(x_cor, y_cor, color=['r', 'b'])\n",
    "plt.axis([0, 9, 0, 6]) # Rango de visualización tanto dle eje x como del eje y.\n",
    "plt.grid(alpha=0.6) # El alpha hace que se vea más o menos clara la rendija.\n",
    "# plt.savefig(\"imagen.jpg\") # Si desea guardar la imagen, podemos usar este método, y dando tanto la ruta donde se desea guardar como el nombre del grafico.\n",
    "plt.show()"
   ]
  },
  {
   "cell_type": "markdown",
   "metadata": {
    "id": "u72yOP5B3tL5"
   },
   "source": [
    "Si no se descomponen los vectores como se puso, se muestran del siguiente modo:"
   ]
  },
  {
   "cell_type": "code",
   "execution_count": null,
   "metadata": {
    "id": "zLU2wDOb3mnR"
   },
   "outputs": [],
   "source": [
    "print(f\"u: {u}\")\n",
    "print(f\"v: {v}\")\n",
    "plt.title(\"Vectores u y v\")\n",
    "plt.xlabel(\"Eje y\")\n",
    "plt.ylabel(\"Eje y\")\n",
    "# plt.scatter se utiliza para crear diagramas de dispersión.\n",
    "# Aquí lo usamos para mostrar unos coordenadas\n",
    "plt.scatter(u, v, color=['r', 'b'])\n",
    "plt.axis([0, 9, 0, 6])\n",
    "plt.grid(alpha=0.6)\n",
    "plt.show()"
   ]
  },
  {
   "cell_type": "markdown",
   "metadata": {
    "id": "aYEqfiDk4ywc"
   },
   "source": [
    "Esto sucede porque el método`plt.scatter` toma el primer parámetro como todos los valores del eje $x$ y el segundo parámetro como todos los valores del eje $y$."
   ]
  },
  {
   "cell_type": "markdown",
   "metadata": {
    "id": "RV4xz9vi5Ncj"
   },
   "source": [
    "Graficar vectores con flecha.\n",
    "Primero creamos una función."
   ]
  },
  {
   "cell_type": "code",
   "execution_count": null,
   "metadata": {
    "id": "hnE940N25Md1"
   },
   "outputs": [],
   "source": [
    "def plot_vec2d(vec2d, origin=[0, 0], **options):\n",
    "  return plt.arrow(\n",
    "      origin[0],\n",
    "      origin[0],\n",
    "      vec2d[0],\n",
    "      vec2d[1],\n",
    "      head_width=0.2,\n",
    "      head_length=0.3,\n",
    "      length_includes_head=True,\n",
    "      **options\n",
    "  )"
   ]
  },
  {
   "cell_type": "markdown",
   "metadata": {
    "id": "rNirKlJ-7NN4"
   },
   "source": [
    "\n",
    "La función `plot_vec2d` toma un vector bidimensional `vec2d` con componentes `vec2d[0]` y `vec2d[1]`, y lo dibuja como una flecha en un plano cartesiano. Los parámetros opcionales permiten personalizar la apariencia de la flecha, como el origen de la flecha (`origin`), el ancho de la cabeza de la flecha (`head_width`), la longitud de la cabeza de la flecha (`head_length`), y si la longitud total de la flecha incluye o no la cabeza (`length_includes_head`). Estos parámetros se transmiten a la función `plt.arrow`, que se utiliza internamente para dibujar la flecha en el plano cartesiano.\n",
    "\n",
    "1. `def plot_vec2d(vec2d, origin=[0, 0], **options):`:\n",
    "   - `def`: Define una nueva función llamada `plot_vec2d`.\n",
    "   - `plot_vec2d`: Nombre de la función.\n",
    "   - `vec2d`: Es el vector bidimensional que se va a dibujar. Debería ser una lista o tupla con dos elementos, el primer elemento representa la componente x del vector y el segundo elemento representa la componente y.\n",
    "   - `origin=[0, 0]`: Especifica el origen del vector en el plano cartesiano. Por defecto, el origen se establece en el punto (0, 0), pero puedes proporcionar un origen diferente si lo deseas.\n",
    "   - `**options`: Esto permite pasar argumentos adicionales que serán transmitidos a la función `plt.arrow`, que se llama dentro de `plot_vec2d`. Esto proporciona flexibilidad adicional para personalizar la apariencia del vector.\n",
    "\n",
    "2. `return plt.arrow`:\n",
    "   - `plt.arrow`: Esta función de Matplotlib se utiliza para dibujar una flecha en un plano.\n",
    "   - `origin[0], origin[1],`: Establece las coordenadas x e y del punto de origen de la flecha. Estas coordenadas se toman del parámetro `origin`.\n",
    "   - `vec2d[0], vec2d[1],`: Establece las componentes x e y del vector. Estas componentes se toman del parámetro `vec2d`.\n",
    "\n",
    "3. `head_width=0.2, head_length=0.3, length_includes_head=True,`: Estos son argumentos opcionales que se pasan a la función `plt.arrow` para personalizar la apariencia de la flecha.\n",
    "   - `head_width`: Anchura de la cabeza de la flecha.\n",
    "   - `head_length`: Longitud de la cabeza de la flecha.\n",
    "   - `length_includes_head`: Si se establece en `True`, la longitud total de la flecha incluirá la cabeza; si se establece en `False`, solo la línea de la flecha se contará en la longitud.\n",
    "   - `**options`: Esta sintaxis permite pasar cualquier número de argumentos de palabra clave adicionales que serán transmitidos directamente a la función `plt.arrow`. Esto permite al usuario personalizar aún más la apariencia de la flecha según sus necesidades.\n",
    "\n"
   ]
  },
  {
   "cell_type": "code",
   "execution_count": null,
   "metadata": {
    "id": "nbD5JkUc6nb0"
   },
   "outputs": [],
   "source": [
    "plt.title(\"Vectores u y v\")\n",
    "plt.xlabel(\"Eje y\")\n",
    "plt.ylabel(\"Eje y\")\n",
    "plot_vec2d(u, color='r', label='Vector u')\n",
    "plot_vec2d(v, color='b', label=\"Vector v\")\n",
    "plt.axis([0, 9, 0, 6])\n",
    "plt.legend()\n",
    "plt.grid(alpha=0.6)\n",
    "plt.show()"
   ]
  },
  {
   "cell_type": "markdown",
   "metadata": {
    "id": "v-BNwN2C_OmF"
   },
   "source": [
    "**Graficando vectores en 3 dimesiones.**"
   ]
  },
  {
   "cell_type": "code",
   "execution_count": null,
   "metadata": {
    "id": "uOAI_wfWMniC"
   },
   "outputs": [],
   "source": [
    "# Definir los vectores\n",
    "x = np.array([1, 0, 0])  # Vector en dirección x\n",
    "y = np.array([0, 1, 0])  # Vector en dirección y\n",
    "z = np.array([0, 0, 1])  # Vector en dirección z\n",
    "\n",
    "# Crear una figura\n",
    "fig = plt.figure(figsize=(10, 7))\n",
    "ax = fig.add_subplot(111, projection='3d')\n",
    "\n",
    "# Origen del vector\n",
    "origin = [0, 0, 0]\n",
    "\n",
    "# Graficar los vectores\n",
    "ax.quiver(*origin, *x, color='r', label='X')\n",
    "ax.quiver(*origin, *y, color='g', label='Y')\n",
    "ax.quiver(*origin, *z, color='b', label='Z')\n",
    "\n",
    "# Etiquetar los ejes\n",
    "ax.set_xlabel('X', labelpad=20)\n",
    "ax.set_ylabel('Y', labelpad=20)\n",
    "ax.set_zlabel('Z', labelpad=20)\n",
    "\n",
    "# Establecer los límites de los ejes centrados en el origen\n",
    "ax.set_xlim([-2, 2])\n",
    "ax.set_ylim([-2, 2])\n",
    "ax.set_zlim([-1, 2])\n",
    "\n",
    "# Establecer los límites de los ejes centrados en el origen\n",
    "ax.set_xlim([-2, 2])\n",
    "ax.set_ylim([-2, 2])\n",
    "ax.set_zlim([-1, 2])\n",
    "\n",
    "# Cambiar el punto de vista para que Z sea la altura\n",
    "ax.view_init(elev=15, azim=50)\n",
    "\n",
    "# Ajustar el espaciado de la figura para aumentar los márgenes\n",
    "plt.subplots_adjust(left=0.2, right=0.8, top=0.9, bottom=0.1)\n",
    "\n",
    "\n",
    "# Mostrar la leyenda\n",
    "ax.legend()\n",
    "\n",
    "# Mostrar la gráfica\n",
    "plt.show()\n",
    "\n"
   ]
  },
  {
   "cell_type": "markdown",
   "metadata": {
    "id": "Fb9owhlwNk2s"
   },
   "source": [
    "\n",
    "1. **Definir Vectores**:\n",
    "   Se definen tres vectores unitarios en las direcciones X, Y y Z usando `numpy`.\n",
    "\n",
    "2. **Crear la Figura**:\n",
    "   Se crea una figura de tamaño 10x7 pulgadas usando `plt.figure(figsize=(10, 7))` y se añade un subplot 3D con `fig.add_subplot(111, projection='3d')`.\n",
    "\n",
    "3. **Definir el Origen**:\n",
    "   Se define el origen de los vectores en `[0, 0, 0]`.\n",
    "\n",
    "4. **Graficar los Vectores**:\n",
    "   Se utilizan `ax.quiver` para graficar los vectores desde el origen. Los vectores se colorean y etiquetan como X (rojo), Y (verde) y Z (azul):\n",
    "   ```python\n",
    "   ax.quiver(*origin, *x, color='r', label='X')\n",
    "   ax.quiver(*origin, *y, color='g', label='Y')\n",
    "   ax.quiver(*origin, *z, color='b', label='Z')\n",
    "  ```\n",
    "  5. **Etiquetar los Ejes**:\n",
    "Se etiquetan los ejes X, Y y Z usando `ax.set_xlabel('X', labelpad=20)`, `ax.set_ylabel('Y', labelpad=20)` y `ax.set_zlabel('Z', labelpad=20)`. `labelpad=20` asegura que las etiquetas estén suficientemente alejadas del gráfico para ser visibles.\n",
    "\n",
    "6. **Establecer los Límites de los Ejes**:\n",
    "Se establecen los límites de los ejes para que los vectores sean claramente visibles y estén centrados usando:\n",
    "```python\n",
    "ax.set_xlim([-2, 2])\n",
    "ax.set_ylim([-2, 2])\n",
    "ax.set_zlim([-1, 2])\n",
    "```\n",
    "7. **Cambiar el Punto de Vista**:\n",
    "Se ajusta el ángulo de vista de la gráfica 3D usando `ax.view_init(elev=30, azim=45)`. `elev=30 `establece la elevación (ángulo vertical) y `azim=45` establece el ángulo azimutal (ángulo horizontal).\n",
    "8. **Ajustar el Espaciado de la Figura**:\n",
    "Se ajustan los márgenes de la figura para aumentar el espacio alrededor del gráfico, asegurando que todas las etiquetas sean visibles usando:\n",
    "\n",
    "```python\n",
    "plt.subplots_adjust(left=0.2, right=0.8, top=0.9, bottom=0.1)\n",
    "```\n",
    "9. **Mostrar la Leyenda**:\n",
    "Se muestra una leyenda para identificar los vectores X, Y y Z usando `ax.legend()`.\n",
    "10. **Mostrar la Gráfica**:\n",
    "Finalmente, se muestra la gráfica usando `plt.show()`."
   ]
  },
  {
   "cell_type": "code",
   "execution_count": null,
   "metadata": {
    "id": "r9FmJ7JBQrjf"
   },
   "outputs": [],
   "source": [
    "\n",
    "# Datos de muestra\n",
    "np.random.seed(4)\n",
    "x = np.random.normal(size = 200)\n",
    "y = np.random.normal(size = 200)\n",
    "z = np.random.normal(size = 200)\n",
    "\n",
    "fig = plt.figure()\n",
    "ax = fig.add_subplot(projection = '3d')\n",
    "\n",
    "# Etiquetar los ejes\n",
    "ax.set_xlabel('X')\n",
    "ax.set_ylabel('Y')\n",
    "ax.set_zlabel('Z')\n",
    "\n",
    "# Gráfico de dispersión 3D\n",
    "ax.scatter(x, y, z, c = z, cmap = 'viridis')\n",
    "\n",
    "plt.show()\n"
   ]
  },
  {
   "cell_type": "markdown",
   "metadata": {
    "id": "t7bvbdqlWy-Z"
   },
   "source": [
    "1. **Establecimiento de la semilla aleatoria**:\n",
    "   ```python\n",
    "   np.random.seed(4072023)\n",
    "   ```\n",
    "2. Generación de datos de muestra:\n",
    "```python\n",
    "x = np.random.normal(size=200)\n",
    "y = np.random.normal(size=200)\n",
    "z = np.random.normal(size=200)\n",
    "```\n",
    "se generan tres conjuntos de datos (x, y, z), cada uno con 200 puntos, utilizando la función `np.random.normal()`.\n",
    "3. Creación de la figura y el subplot 3D:\n",
    "```python\n",
    "fig = plt.figure()\n",
    "ax = fig.add_subplot(projection='3d')\n",
    "```\n",
    "se crea una nueva figura y se agrega un subplot 3D a la misma utilizando `fig = plt.figure()` y `ax = fig.add_subplot(projection='3d')`.\n",
    "\n",
    "4. Etiquetado de los ejes:\n",
    "```python\n",
    "ax.set_xlabel('X')\n",
    "ax.set_ylabel('Y')\n",
    "ax.set_zlabel('Z')\n",
    "```\n",
    "Se etiquetan los ejes del gráfico tridimensional con las etiquetas 'X', 'Y' y 'Z' utilizando los métodos `ax.set_xlabel()`, `ax.set_ylabel()` y `ax.set_zlabel()`, respectivamente.\n",
    "5. Creación del gráfico de dispersión 3D:\n",
    "```python\n",
    "ax.scatter(x, y, z, c=z, cmap='viridis')\n",
    "```\n",
    "Se realiza el gráfico de dispersión tridimensional utilizando `ax.scatter()`, donde los puntos se colorean según los valores de la variable z (`c=z`) utilizando la paleta de colores 'viridis' (cmap=`'viridis'`).\n",
    "6. Mostrar el gráfico:\n",
    "```python\n",
    "plt.show()\n",
    "```\n"
   ]
  },
  {
   "cell_type": "code",
   "execution_count": null,
   "metadata": {
    "id": "Lx_6EkR9LgeM"
   },
   "outputs": [],
   "source": [
    "# Crear los vectores\n",
    "ax = plt.figure().add_subplot(projection='3d')\n",
    "\n",
    "# Crea el grid\n",
    "x, y, z = np.meshgrid(np.arange(-0.8, 1, 0.2),\n",
    "                      np.arange(-0.8, 1, 0.2),\n",
    "                      np.arange(-0.8, 1, 0.8))\n",
    "\n",
    "# Crea la dirección de los vectores\n",
    "u = np.sin(np.pi * x) * np.cos(np.pi * y) * np.cos(np.pi * z)\n",
    "v = -np.cos(np.pi * x) * np.sin(np.pi * y) * np.cos(np.pi * z)\n",
    "w = (np.sqrt(2.0 / 3.0) * np.cos(np.pi * x) * np.cos(np.pi * y) *\n",
    "     np.sin(np.pi * z))\n",
    "\n",
    "ax.quiver(x, y, z, u, v, w, length=0.1, normalize=True)\n",
    "\n",
    "plt.show()"
   ]
  },
  {
   "cell_type": "markdown",
   "metadata": {
    "id": "qYtl3NusMUTj"
   },
   "source": [
    "1. **Creación de la cuadrícula**:\n",
    "   - Se utiliza la función `np.meshgrid()` para generar una cuadrícula tridimensional de puntos en el espacio. Se define un rango de valores para cada dimensión (`x`, `y` y `z`) usando `np.arange()`. En este caso, los valores van desde -0.8 hasta 0.8 con un paso de 0.2 en las dos primeras dimensiones (`x` y `y`), y desde -0.8 hasta 0.8 con un paso de 0.8 en la tercera dimensión (`z`).\n",
    "\n",
    "2. **Generación de datos de dirección para las flechas**:\n",
    "   - Se calculan los componentes de dirección `u`, `v` y `w` para cada punto de la cuadrícula, que determinarán la dirección y la magnitud de las flechas en el campo vectorial. Estas fórmulas definen las componentes de dirección basadas en funciones trigonométricas de los valores de `x`, `y` y `z`.\n",
    "\n",
    "3. **Visualización del campo vectorial**:\n",
    "   - Se utiliza `ax.quiver()` para visualizar el campo vectorial en la figura. Se pasan como argumentos las coordenadas de la cuadrícula (`x`, `y` y `z`) y los componentes de dirección (`u`, `v` y `w`). `length=0.1` especifica la longitud de las flechas, mientras que `normalize=True` normaliza las flechas para que todas tengan la misma longitud relativa independientemente de su magnitud.\n",
    "\n",
    "4. **Mostrar la gráfica**:\n",
    "   - Finalmente, se llama a `plt.show()` para mostrar la figura con el campo vectorial generado.\n"
   ]
  },
  {
   "cell_type": "markdown",
   "metadata": {
    "id": "3FJh8VKD8XqE"
   },
   "source": [
    "Otro ejemplo para diagrama de dispersión."
   ]
  },
  {
   "cell_type": "markdown",
   "metadata": {
    "id": "zyYlGCUaxrMT"
   },
   "source": [
    "## Definición de Matriz en Álgebra Lineal\n",
    "Una matriz es una arreglo en dos dimensiones, por lo que cada elemento está identificado por dos índices en lugar de solo uno. Normalmente damos nombres de variables en mayúsculas a las matrices con tipo de letra en negrita, como $\\mathbf{A}$. Si una matriz $\\mathbf{A}$ de valores reales tiene una altura de $m$ y una anchura de $ n$, entonces decimos que $\\mathbf{A} \\in \\mathbb{R}^{m \\times n}$. Normalmente identificamos los elementos de una matriz usando su nombre en fuente cursiva pero no en negrita, y los índices se enumeran con comas separadoras. Por ejemplo, $A_{1,1}$ es la entrada superior izquierda de $\\mathbf{A} $ y $A_{m,n}$ es la entrada inferior derecha. Podemos identificar todos los números con coordenada vertical $i$ escribiendo \":\" para la coordenada horizontal. Por ejemplo, $A_{i,:}$ denota la sección transversal horizontal de $\\mathbf{A}$ con coordenada vertical $i$. Esto se conoce como la fila $i$-ésima de $\\mathbf{A}$. Del mismo modo, $A_{:,i}$ es la $i$-ésima columna de $\\mathbf{A}$. Cuando necesitamos identificar explícitamente los elementos de una matriz, los escribimos como una matriz encerrada entre corchetes cuadrados:\n",
    "\n",
    "$$\\begin{bmatrix}\n",
    "A_{1,1} & A_{1,2} \\\\\n",
    "A_{2,1} & A_{2,2} \\\\\n",
    "\\end{bmatrix}$$"
   ]
  },
  {
   "cell_type": "code",
   "execution_count": null,
   "metadata": {
    "id": "oYxO20tuD4Mt"
   },
   "outputs": [],
   "source": [
    "# Definir una matriz A en NumPy\n",
    "A = np.array([[1, 2, 3],\n",
    "              [4, 5, 6],\n",
    "              [7, 8, 9]])\n",
    "print(\"Matriz:\\n\", A)\n",
    "# Acceder a elementos individuales de la matriz A\n",
    "A_11 = A[0, 0]  # Entrada superior izquierda de A\n",
    "A_mn = A[-1, -1]  # Entrada inferior derecha de A\n",
    "print(\"Elemento A_11:\", A_11)\n",
    "print(\"Elemento A_mn:\", A_mn)\n"
   ]
  },
  {
   "cell_type": "code",
   "execution_count": null,
   "metadata": {
    "id": "MSit0QgU1oCX"
   },
   "outputs": [],
   "source": [
    "A_11 = A[2, 1]  # Entrada superior izquierda de A\n",
    "A_11\n"
   ]
  },
  {
   "cell_type": "code",
   "execution_count": null,
   "metadata": {
    "id": "47s2lsT0414j"
   },
   "outputs": [],
   "source": [
    "print(\"Matriz:\\n\", A)\n",
    "# Acceder a una fila o columna específica de la matriz A\n",
    "fila_2 = A[1, :]  # Segunda fila de A\n",
    "columna_3 = A[:, 2]  # Tercera columna de A\n",
    "print(\"Segunda fila de A_(1,:):\", fila_2)\n",
    "print(\"Tercera columna de A_(:,2):\", columna_3)\n"
   ]
  },
  {
   "cell_type": "code",
   "execution_count": null,
   "metadata": {
    "id": "8UBHA1HC2h6k"
   },
   "outputs": [],
   "source": [
    "[[1, 2, 3], [4, 5, 6], [7, 8, 9]]"
   ]
  },
  {
   "cell_type": "code",
   "execution_count": null,
   "metadata": {
    "id": "CMfyETxd2HFJ"
   },
   "outputs": [],
   "source": [
    "A[-1, :]"
   ]
  },
  {
   "cell_type": "markdown",
   "metadata": {
    "id": "aJa2XyVC-1Jm"
   },
   "source": [
    "## Ejemplo en NumPy (Clasificación con Regresión Logística):\n"
   ]
  },
  {
   "cell_type": "code",
   "execution_count": null,
   "metadata": {
    "id": "0CBOo5at-zsP"
   },
   "outputs": [],
   "source": [
    "import numpy as np\n",
    "from sklearn.linear_model import LogisticRegression\n",
    "\n",
    "# Datos de ejemplo: tamaño y peso de animales\n",
    "X = np.array([[5, 10],   # Tamaño y peso del primer animal\n",
    "              [8, 15],   # Tamaño y peso del segundo animal\n",
    "              [6, 12],   # Tamaño y peso del tercer animal\n",
    "              [7, 14]])  # Tamaño y peso del cuarto animal\n",
    "\n",
    "# Etiquetas de ejemplo: 0 para gato, 1 para perro\n",
    "y = np.array([0, 1, 0, 1])\n",
    "\n",
    "# Crear y entrenar un modelo de regresión logística\n",
    "model = LogisticRegression()\n",
    "model.fit(X, y)\n",
    "\n",
    "# Predecir la clase de un nuevo animal basado en su tamaño y peso\n",
    "nuevo_animal = np.array([[9, 16]])  # Tamaño y peso del nuevo animal\n",
    "prediccion = model.predict(nuevo_animal)\n",
    "print(\"La clase predicha para el nuevo animal es:\", prediccion[0])\n"
   ]
  },
  {
   "cell_type": "markdown",
   "metadata": {
    "id": "PElNvh-RRl3f"
   },
   "source": [
    "## Operaciones con matrices."
   ]
  },
  {
   "cell_type": "markdown",
   "metadata": {
    "id": "iy79_Z1JCkEd"
   },
   "source": [
    "### Suma y resta de matrices"
   ]
  },
  {
   "cell_type": "markdown",
   "metadata": {
    "id": "uXgtjkexC6r3"
   },
   "source": [
    "- Para sumar dos matrices, simplemente sumas los elementos correspondientes de cada matriz.\n",
    "- Ambas matrices deben tener el mismo número de filas y columnas.\n",
    "- La suma de matrices produce una nueva matriz del mismo tamaño que las matrices originales.\n",
    "- La suma se realiza elemento por elemento.\n",
    "\n",
    "Por ejemplo, si tienes las matrices:\n",
    "\n",
    "\n"
   ]
  },
  {
   "cell_type": "markdown",
   "metadata": {
    "id": "G_Er88mhDf8j"
   },
   "source": [
    "$$\n",
    "\\textbf{Ejemplo de suma de matrices:}\n",
    "$$\n",
    "\n",
    "$$\n",
    "\\begin{align*}\n",
    "\\mathbf{A} &= \\begin{bmatrix} 1 & 2 \\\\ 3 & 4 \\end{bmatrix} \\\\\n",
    "\\mathbf{B} &= \\begin{bmatrix} 2 & 1 \\\\ 0 & -1 \\end{bmatrix}\n",
    "\\end{align*}\n",
    "$$\n",
    "\n",
    "La suma de estas matrices sería:\n",
    "\n",
    "$$\n",
    "\\begin{align*}\n",
    "\\mathbf{A} + \\mathbf{B} &= \\begin{bmatrix} 1+2 & 2+1 \\\\ 3+0 & 4+(-1) \\end{bmatrix} \\\\\n",
    "      &= \\begin{bmatrix} 3 & 3 \\\\ 3 & 3 \\end{bmatrix}\n",
    "\\end{align*}\n",
    "$$\n",
    "\n",
    "$$\n",
    "\\textbf{Ejemplo de resta de matrices:}\n",
    "$$\n",
    "\n",
    "$$\n",
    "\\begin{align*}\n",
    "\\mathbf{A} &= \\begin{bmatrix} 1 & 2 \\\\ 3 & 4 \\end{bmatrix} \\\\\n",
    "\\mathbf{B} &= \\begin{bmatrix} 2 & 1 \\\\ 0 & -1 \\end{bmatrix}\n",
    "\\end{align*}\n",
    "$$\n",
    "\n",
    "La resta de estas matrices sería:\n",
    "\n",
    "$$\n",
    "\\begin{align*}\n",
    "\\mathbf{A} - \\mathbf{B} &= \\begin{bmatrix} 1-2 & 2-1 \\\\ 3-0 & 4-(-1) \\end{bmatrix} \\\\\n",
    "      &= \\begin{bmatrix} -1 & 1 \\\\ 3 & 5 \\end{bmatrix}\n",
    "\\end{align*}\n",
    "$$\n",
    "\n",
    "\n"
   ]
  },
  {
   "cell_type": "code",
   "execution_count": null,
   "metadata": {
    "id": "5hI_ITa0RnxS"
   },
   "outputs": [],
   "source": [
    "# Crear una matriz\n",
    "matriz_a = np.array([[1, 2, 3], [4, 5, 6]])\n",
    "print(\"Matriz a:\\n\", matriz_a)\n",
    "\n",
    "# Crear una matriz de ceros\n",
    "matriz_zeros = np.zeros((2, 3))\n",
    "print(\"Matriz de ceros:\\n\", matriz_zeros)\n",
    "\n",
    "# Crear una matriz identidad\n",
    "matriz_identidad = np.eye(3)\n",
    "print(\"Matriz identidad de 3x3:\\n\", matriz_identidad)"
   ]
  },
  {
   "cell_type": "code",
   "execution_count": null,
   "metadata": {
    "id": "DtSYBP9x3pbS"
   },
   "outputs": [],
   "source": [
    "# Crear una matriz de ceros\n",
    "matriz_zeros = np.zeros((5, 3))\n",
    "print(\"Matriz de ceros:\\n\", matriz_zeros)"
   ]
  },
  {
   "cell_type": "code",
   "execution_count": null,
   "metadata": {
    "id": "UmvVxTAaR_6a"
   },
   "outputs": [],
   "source": [
    "print(\"Matriz a:\\n\", matriz_a)\n",
    "matriz_b = np.array([[7, 8, 9], [10, 11, 12]])\n",
    "print(\"Matriz b:\\n\", matriz_b)\n",
    "\n",
    "# Suma de matrices\n",
    "suma = matriz_a + matriz_b\n",
    "print(\"Resultaod de suma de matriz a y b:\\n\", suma)\n",
    "\n",
    "# Resta de matrices\n",
    "resta = matriz_a - matriz_b\n",
    "print(\"Restra de matriz a y b:\\n\", resta)\n"
   ]
  },
  {
   "cell_type": "markdown",
   "metadata": {
    "id": "AN7rITM6E2dw"
   },
   "source": [
    "La multiplicación de matrices es una operación fundamental en álgebra lineal que combina dos matrices para producir una tercera matriz. A diferencia de la suma y la resta, la multiplicación de matrices no se realiza elemento por elemento. En su lugar, se basa en una combinación específica de filas y columnas de las matrices involucradas.\n",
    "\n",
    "1. **Tamaño de las matrices**:\n",
    "   - Para que dos matrices $A$ y $B$ puedan multiplicarse, el número de columnas de $A$ debe ser igual al número de filas de $B$. Si $A$ es de tamaño $m \\times n$ y $B$ es de tamaño $n \\times p$, entonces el resultado de la multiplicación será una matriz de tamaño $m \\times p$.\n",
    "\n",
    "2. **Producto de las entradas**:\n",
    "   - Para calcular el elemento $c_{ij}$ de la matriz resultante $C$, se toma la fila $i$ de la matriz $A$ y la columna $j$ de la matriz $B$, y se realiza el producto punto entre los elementos correspondientes de estas filas y columnas. Luego, se suman estos productos.\n",
    "   - Formalmente, $c_{ij}$ se calcula como:\n",
    "   \n",
    "   $$c_{ij} = \\sum_{k=1}^{n} a_{ik} \\cdot b_{kj}$$\n",
    "\n",
    "     Donde $a_{ik}$ es el elemento en la fila $i$ y la columna $k$ de la matriz $A$, y $b_{kj}$ es el elemento en la fila $k$ y la columna $j$ de la matriz $B$.\n",
    "\n",
    "3. **Resultado**:\n",
    "   - Después de calcular todos los elementos $c_{ij}$, se obtiene la matriz resultante $C$.\n",
    "\n",
    "Es importante tener en cuenta que la multiplicación de matrices no es conmutativa, es decir, $A \\times B$ no necesariamente es igual a $B \\times A$. Además, no todas las combinaciones de matrices se pueden multiplicar, ya que deben cumplir con la condición de tamaño mencionada anteriormente.\n",
    "\n",
    "A continuación, hay un ejemplo para ilustrar la multiplicación de matrices:\n",
    "\n",
    "$$\n",
    "\\mathbf{A} = \\begin{bmatrix} 1 & 2 \\\\ 3 & 4 \\end{bmatrix} \\quad \\text{y} \\quad \\mathbf{B} = \\begin{bmatrix} 2 & 0 \\\\ 1 & 3 \\end{bmatrix}\n",
    "$$\n",
    "\n",
    "Para multiplicar $A$ y $B$, seguimos estos pasos:\n",
    "\n",
    "$$\n",
    "\\mathbf{A} \\times \\mathbf{B} = \\begin{bmatrix} 1 & 2 \\\\ 3 & 4 \\end{bmatrix} \\times \\begin{bmatrix} 2 & 0 \\\\ 1 & 3 \\end{bmatrix}\n",
    "$$\n",
    "\n",
    "$$\n",
    "= \\begin{bmatrix} (1 \\times 2) + (2 \\times 1) & (1 \\times 0) + (2 \\times 3) \\\\ (3 \\times 2) + (4 \\times 1) & (3 \\times 0) + (4 \\times 3) \\end{bmatrix}\n",
    "$$\n",
    "\n",
    "$$\n",
    "= \\begin{bmatrix} 4 & 6 \\\\ 10 & 12 \\end{bmatrix}\n",
    "$$\n",
    "\n",
    "Este es el resultado de multiplicar las matrices $A$ y $B$.\n"
   ]
  },
  {
   "cell_type": "code",
   "execution_count": null,
   "metadata": {
    "id": "N2FHzfhcRqEy"
   },
   "outputs": [],
   "source": [
    "print(\"Matriz a:\\n\", matriz_a)\n",
    "print(\"Dimensiones de matriz a:\\n\", matriz_a.shape)\n",
    "# Multiplicación de matrices\n",
    "matriz_c = np.array([[2, 3], [4, 5], [6, 7]])\n",
    "print(\"Dimenciones de matriz c\", matriz_c.shape)\n",
    "print(\"Matriz b:\\n\", matriz_c)\n",
    "multiplicacion = np.dot(matriz_a, matriz_c)\n",
    "print(\"Matriz a por b:\\n\", multiplicacion)\n",
    "print(\"Dimensiones de la multiplicación:\\n\", multiplicacion.shape)"
   ]
  },
  {
   "cell_type": "code",
   "execution_count": null,
   "metadata": {
    "id": "k6QwvySp44m5"
   },
   "outputs": [],
   "source": [
    "multiplicacion = matriz_a @ matriz_c\n",
    "multiplicacion"
   ]
  },
  {
   "cell_type": "markdown",
   "metadata": {
    "id": "MEIKA_134OVR"
   },
   "source": [
    "[n x m] * [m, b] = [n, b]"
   ]
  },
  {
   "cell_type": "markdown",
   "metadata": {
    "id": "5Sck2bcJFnHq"
   },
   "source": [
    "**Producto punto (producto escalar):**\n",
    "\n",
    "El producto punto se realiza entre dos vectores y se calcula sumando el producto de los elementos correspondientes de los vectores. Si tienes dos vectores $\\mathbf{v}$ y $\\mathbf{w}$ de igual dimensión $n$, su producto punto se denota como $\\mathbf{v} \\cdot \\mathbf{w}$ o $\\langle \\mathbf{v}, \\mathbf{w} \\rangle$ y se calcula de la siguiente manera:\n",
    "\n",
    "$$ \\mathbf{v} \\cdot \\mathbf{w} = v_1 \\cdot w_1 + v_2 \\cdot w_2 + \\ldots + v_n \\cdot w_n $$\n",
    "\n",
    "El resultado es un solo número, que es la suma de los productos de los elementos correspondientes.\n",
    "\n",
    "**Multiplicación de matrices:**\n",
    "\n",
    "La multiplicación de matrices es una operación entre dos matrices. Dadas dos matrices $A$ y $B$, el producto $A \\times B$ está definido si el número de columnas de $A$ es igual al número de filas de $B$. Si $A$ es de tamaño $m \\times n$ y $B$ es de tamaño $n \\times p$, entonces el producto $A \\times B$ será una matriz de tamaño $m \\times p$.\n",
    "\n",
    "El cálculo del elemento $c_{ij}$ de la matriz resultante $C$ se realiza utilizando la suma de los productos de los elementos correspondientes de la fila $i$ de $A$ y la columna $j$ de $B$:\n",
    "\n",
    "$$ c_{ij} = \\sum_{k=1}^{n} a_{ik} \\cdot b_{kj} $$\n",
    "\n",
    "**Diferencia:**\n",
    "\n",
    "La diferencia clave entre el producto punto y la multiplicación de matrices es que el producto punto opera sobre vectores individuales y produce un solo número, mientras que la multiplicación de matrices opera sobre matrices y produce una nueva matriz.\n",
    "\n",
    "Además, el producto punto es una operación entre dos vectores de la misma dimensión, mientras que la multiplicación de matrices requiere que el número de columnas de la primera matriz sea igual al número de filas de la segunda matriz.\n"
   ]
  },
  {
   "cell_type": "code",
   "execution_count": null,
   "metadata": {
    "id": "gOLozzlHGPnF"
   },
   "outputs": [],
   "source": [
    "# Ejemplo\n",
    "# Definimos dos vectores\n",
    "v = np.array([1, 2, 3])\n",
    "w = np.array([4, 5, 6])\n",
    "\n",
    "# Calculamos el producto punto entre los dos vectores\n",
    "producto_punto = np.dot(v, w)\n",
    "\n",
    "print(\"El producto punto entre los vectores v y w es:\", producto_punto)\n"
   ]
  },
  {
   "cell_type": "markdown",
   "metadata": {
    "id": "0ha3LmnwHOR3"
   },
   "source": [
    "###Broadcasting\n",
    "\n",
    "El broadcasting es un concepto fundamental en NumPy que permite realizar operaciones aritméticas entre arrays de diferentes formas y tamaños. Esta funcionalidad automática de NumPy extiende los arrays más pequeños para que tengan las mismas dimensiones que los arrays más grandes, de modo que las operaciones puedan llevarse a cabo incluso cuando las formas de los arrays no son compatibles en principio.\n",
    "\n",
    "El broadcasting sigue un conjunto de reglas para determinar si dos arrays son compatibles para la operación. Las reglas de broadcasting en NumPy son las siguientes:\n",
    "\n",
    "1. Si los arrays tienen un número diferente de dimensiones, el array con menor dimensión se extiende con nuevas dimensiones de tamaño 1 en la parte frontal (izquierda) hasta que ambas formas tengan la misma longitud.\n",
    "2. Una vez que las formas de los arrays son compatibles después de la extensión, se realiza la operación elemento a elemento.\n",
    "\n",
    "Estas reglas de broadcasting permiten que las operaciones aritméticas se realicen entre arrays de diferentes formas sin necesidad de copiar datos, lo que ahorra memoria y tiempo de cómputo.\n",
    "\n",
    "Aquí hay un ejemplo para ilustrar el broadcasting en NumPy:\n",
    "\n",
    "\n"
   ]
  },
  {
   "cell_type": "code",
   "execution_count": null,
   "metadata": {
    "id": "HaJRqlHUIMvb"
   },
   "outputs": [],
   "source": [
    "# Creamos dos arrays de 1x3\n",
    "a = np.array([0, 1, 2])\n",
    "b = np.array([5, 5, 5])\n",
    "\n",
    "# Sumamos arrays de dimensiones similares\n",
    "resultado = a + b\n",
    "\n",
    "print(resultado)"
   ]
  },
  {
   "cell_type": "code",
   "execution_count": null,
   "metadata": {
    "id": "FQ6pqjZNIa67"
   },
   "outputs": [],
   "source": [
    "# Sumamos un escalar a un array.\n",
    "resultado = a + 5\n",
    "\n",
    "print(resultado)"
   ]
  },
  {
   "cell_type": "markdown",
   "metadata": {
    "id": "CKO0q03pIgOz"
   },
   "source": [
    "*Ahora* el broadcasting opera cuando se suma un escalar sobre un array.\n",
    "\n",
    "\n",
    "$$\n",
    "\\begin{bmatrix} 0 & 1 & 2 \\end{bmatrix} + \\begin{bmatrix} 5 & 5 & 5 \\end{bmatrix} = \\begin{bmatrix} 5 & 6 & 7 \\end{bmatrix}\n",
    "$$\n",
    "De manera similar en el siguiente ejemplo:"
   ]
  },
  {
   "cell_type": "code",
   "execution_count": null,
   "metadata": {
    "id": "GyJWQyutJbRf"
   },
   "outputs": [],
   "source": [
    "M = np.ones((3, 3))\n",
    "print(M)"
   ]
  },
  {
   "cell_type": "code",
   "execution_count": null,
   "metadata": {
    "id": "7zyoOXgEJeXu"
   },
   "outputs": [],
   "source": [
    "print(a)\n",
    "resultado = M + a\n",
    "\n",
    "print(resultado)"
   ]
  },
  {
   "cell_type": "markdown",
   "metadata": {
    "id": "AFEzl_AYJuEx"
   },
   "source": [
    "En otros casos más complicados el broadcasting envuelve a los dos arrays.\n",
    "Ejemplo:\n"
   ]
  },
  {
   "cell_type": "code",
   "execution_count": null,
   "metadata": {
    "id": "w1yP7OfAJ3Au"
   },
   "outputs": [],
   "source": [
    "a = np.arange(3)\n",
    "b = np.arange(3)[:, np.newaxis]\n",
    "print(a)\n",
    "print(b)"
   ]
  },
  {
   "cell_type": "markdown",
   "metadata": {
    "id": "Ftzknn8kuO25"
   },
   "source": [
    "Explicación de código\n",
    "* `a = np.arange(3)`: Aquí se crea un vector unidimensional a usando la función `arange()` de NumPy. Esta función genera una secuencia de números enteros comenzando desde 0 (por defecto) hasta el número especificado (exclusivo). En este caso, genera una secuencia de 0 a 2 (3 números en total) y los asigna a la variable a. Entonces, `a` contendrá: `[0, 1, 2]`.\n",
    "* `b = np.arange(3)[:, np.newaxis]`: Aquí se crea un vector bidimensional `b` usando la función `arange()` de NumPy de manera similar a la línea anterior. Sin embargo, hay una diferencia crucial: `np.newaxis` se utiliza para agregar una nueva dimensión al vector resultante. Esto significa que estamos convirtiendo el vector unidimensional en una matriz de una columna. Entonces, b será una matriz con una columna y tres filas, que contiene los mismos valores que `a`. Por lo tanto, `b` será:\n",
    "```python\n",
    "[[0]\n",
    " [1]\n",
    " [2]]\n",
    "```"
   ]
  },
  {
   "cell_type": "code",
   "execution_count": null,
   "metadata": {
    "id": "ev92qWQNJ8Hf"
   },
   "outputs": [],
   "source": [
    "resultado = a + b\n",
    "print(resultado)"
   ]
  },
  {
   "cell_type": "markdown",
   "metadata": {
    "id": "LITw5L3uJ5kN"
   },
   "source": [
    "Para los vectores \\( a \\) y \\( b \\):\n",
    "\n",
    "$$a = \\begin{bmatrix} 0 \\\\ 1 \\\\ 2 \\end{bmatrix} $$\n",
    "$$ b = \\begin{bmatrix} 0 & 1 & 2 \\end{bmatrix}$$\n",
    "\n",
    "El vector \\( a \\) es un array unidimensional con forma (3,), mientras que el vector \\( b \\) es un array bidimensional con forma (3, 1).\n",
    "\n",
    "Durante la operación de suma \\( a + b \\), ocurre el broadcasting en ambos vectores.\n",
    "\n",
    "Para el vector \\( a \\), se agrega una dimensión adicional para que tenga la misma forma que \\( b \\), es decir, (3, 1). Cada elemento de \\( a \\) se coloca en una fila y se replica a lo largo de las columnas.\n",
    "\n",
    "$$ a = \\begin{bmatrix} 0 & 0 & 0 \\\\ 1 & 1 & 1 \\\\ 2 & 2 & 2 \\end{bmatrix} $$\n",
    "\n",
    "Para el vector \\( b \\), se agrega una dimensión adicional para que tenga la misma forma que \\( a \\), es decir, (3, 3). Cada elemento de \\( b \\) se coloca en una columna y se replica a lo largo de las filas.\n",
    "\n",
    "$$ b = \\begin{bmatrix} 0 & 1 & 2 \\\\ 0 & 1 & 2 \\\\ 0 & 1 & 2 \\end{bmatrix} $$\n",
    "\n",
    "Luego, se realiza la suma elemento a elemento entre los dos arrays extendidos, lo que produce el siguiente resultado:\n",
    "\n",
    "$$ \\begin{bmatrix} 0 & 1 & 2 \\\\ 1 & 2 & 3 \\\\ 2 & 3 & 4 \\end{bmatrix} $$\n",
    "\n",
    "Este es el resultado de la operación \\( a + b \\) utilizando broadcasting.\n",
    "\n",
    "\n"
   ]
  },
  {
   "cell_type": "markdown",
   "metadata": {
    "id": "KrS_pE8OIv0O"
   },
   "source": [
    "![image.png](data:image/png;base64,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)"
   ]
  },
  {
   "cell_type": "code",
   "execution_count": null,
   "metadata": {
    "id": "mUQ4-JGNHQus"
   },
   "outputs": [],
   "source": [
    "np.arange(3) + 5"
   ]
  },
  {
   "cell_type": "code",
   "execution_count": null,
   "metadata": {
    "id": "8pZTm-LEHN8g"
   },
   "outputs": [],
   "source": [
    "\n",
    "\n",
    "# Creamos un array de 3x3\n",
    "a = np.array([[1, 2, 3],\n",
    "              [4, 5, 6],\n",
    "              [7, 8, 9]])\n",
    "\n",
    "# Creamos un array unidimensional\n",
    "b = np.array([10, 20, 30])\n",
    "\n",
    "# Sumamos el array unidimensional a cada fila del array de 3x3\n",
    "resultado = a + b\n",
    "\n",
    "print(resultado)\n"
   ]
  },
  {
   "cell_type": "code",
   "execution_count": null,
   "metadata": {
    "id": "nU9NgiukS4Fs"
   },
   "outputs": [],
   "source": [
    "print(\"Matriz a:\\n\", matriz_a)\n",
    "# Transposición de matriz\n",
    "transpuesta = matriz_a.T\n",
    "print(\"Transpuesta:\\n\", transpuesta)"
   ]
  },
  {
   "cell_type": "code",
   "execution_count": null,
   "metadata": {
    "id": "YNscmXN-THsT"
   },
   "outputs": [],
   "source": [
    "# Inversión de matriz\n",
    "matriz_d = np.array([[1, 2], [3, 4]])\n",
    "print(\"Matriz d:\\n\", matriz_d)\n",
    "inversa = np.linalg.inv(matriz_d)\n",
    "print(\"Inversa de la matriz d:\\n\", inversa)\n"
   ]
  },
  {
   "cell_type": "markdown",
   "metadata": {
    "id": "L2WYncOgNOIM"
   },
   "source": [
    "### Redimensionar arreglos"
   ]
  },
  {
   "cell_type": "code",
   "execution_count": null,
   "metadata": {
    "id": "xhNMX0U6NNCG"
   },
   "outputs": [],
   "source": [
    "print(\"Creamos un arreglo\")\n",
    "a = np.arange(3)\n",
    "\n",
    "print(\"Las dimensiones del arreglo son:\")\n",
    "print(a.shape)\n",
    "\n",
    "print(\"Redimensionamos el arreglo: \")\n",
    "a = a.reshape((3, 1))\n",
    "print(\"Las nuevas dmensiones son: \")\n",
    "print(a.shape)\n",
    "\n",
    "b = np.arange(3)\n"
   ]
  },
  {
   "cell_type": "markdown",
   "metadata": {
    "id": "3uxvd4mRU9r0"
   },
   "source": [
    "Ejemplo de posibles errores."
   ]
  },
  {
   "cell_type": "code",
   "execution_count": null,
   "metadata": {
    "id": "OUogsuycU5Is"
   },
   "outputs": [],
   "source": [
    "\n",
    "vector = np.array([1, 2, 3])\n",
    "matriz = np.array([[1, 2],\n",
    "                   [3, 4],\n",
    "                   [5, 6]])"
   ]
  },
  {
   "cell_type": "code",
   "execution_count": null,
   "metadata": {
    "id": "1CfYXNIz6ZGA"
   },
   "outputs": [],
   "source": [
    "vector = np.array([[1, 2, 3]])\n",
    "matriz = np.array([[1, 2],\n",
    "                   [3, 4],\n",
    "                   [5, 6]])"
   ]
  },
  {
   "cell_type": "code",
   "execution_count": null,
   "metadata": {
    "id": "A1U0gHDaU8r1"
   },
   "outputs": [],
   "source": [
    "A = vector + matriz # Esto genera error por las dimensiones que no coinciden para suma de matrices.\n",
    "print(A)"
   ]
  },
  {
   "cell_type": "markdown",
   "metadata": {
    "id": "tCUPII2pN0X2"
   },
   "source": [
    "Correción:"
   ]
  },
  {
   "cell_type": "markdown",
   "metadata": {
    "id": "PeFveUMTOBcG"
   },
   "source": [
    "Se revis la matriz"
   ]
  },
  {
   "cell_type": "code",
   "execution_count": null,
   "metadata": {
    "id": "1yncFjgEVWxt"
   },
   "outputs": [],
   "source": [
    "print(matriz)"
   ]
  },
  {
   "cell_type": "markdown",
   "metadata": {
    "id": "26Ug6PUgOE4O"
   },
   "source": [
    "Se hace la transpuesta:\n",
    "\n",
    "La transpuesta de una matriz es una operación fundamental en álgebra lineal que consiste en intercambiar las filas y columnas de la matriz original. Esto significa que si tienes una matriz $ A $ con $ m $ filas y $ n $ columnas, su transpuesta, denotada como $ A^T $, será una matriz con $ n $ filas y $ m $ columnas, donde cada elemento $ a_{ij} $ de la matriz original se convierte en $ a_{ji} $ en la matriz transpuesta.\n",
    "\n",
    "Por ejemplo, si tienes la matriz:\n",
    "\n",
    "$$\n",
    "\\mathbf{A} = \\begin{bmatrix} 1 & 2 & 3 \\\\ 4 & 5 & 6 \\end{bmatrix}\n",
    "$$\n",
    "\n",
    "Su transpuesta $ A^T $ será:\n",
    "\n",
    "$$\n",
    "\\mathbf{A}^T = \\begin{bmatrix} 1 & 4 \\\\ 2 & 5 \\\\ 3 & 6 \\end{bmatrix}\n",
    "$$\n",
    "\n",
    "La matriz transpuesta es especialmente útil en muchas aplicaciones matemáticas y computacionales, como resolver sistemas de ecuaciones lineales, cálculos de eigenvalores y eigenvectores, entre otros. Además, en algunos casos, la transpuesta de una matriz es igual a la matriz original, lo que se conoce como una matriz simétrica.\n",
    "\n",
    "En resumen, la transpuesta de una matriz es una operación simple pero poderosa que cambia las filas por columnas y viceversa, lo que puede tener importantes implicaciones en diversas áreas de las matemáticas y la ciencia computacional.\n"
   ]
  },
  {
   "cell_type": "code",
   "execution_count": null,
   "metadata": {
    "id": "kZFEeb5hOrco"
   },
   "outputs": [],
   "source": [
    "print(matriz.T)"
   ]
  },
  {
   "cell_type": "code",
   "execution_count": null,
   "metadata": {
    "id": "3dxqM0FeVTH2"
   },
   "outputs": [],
   "source": [
    "A = matriz.T + vector\n",
    "print(A)"
   ]
  },
  {
   "cell_type": "code",
   "execution_count": null,
   "metadata": {
    "id": "UaR65KFiOxaX"
   },
   "outputs": [],
   "source": [
    "print(A.shape, vector.shape)"
   ]
  },
  {
   "cell_type": "code",
   "execution_count": null,
   "metadata": {
    "id": "cBjwjxTFVC0l"
   },
   "outputs": [],
   "source": [
    "\n",
    "A = vector + matriz.T\n",
    "print(A)\n",
    "print(A.T.shape, vector.shape)"
   ]
  },
  {
   "cell_type": "code",
   "execution_count": null,
   "metadata": {
    "id": "cLoU-20nV2sX"
   },
   "outputs": [],
   "source": [
    "print(matriz,)"
   ]
  },
  {
   "cell_type": "code",
   "execution_count": null,
   "metadata": {
    "id": "69nW1NP-VL7u"
   },
   "outputs": [],
   "source": [
    "escalar = 5.679\n",
    "C = matriz + escalar\n",
    "print(C)"
   ]
  },
  {
   "cell_type": "markdown",
   "metadata": {
    "id": "X-Rdau-oRV7A"
   },
   "source": [
    "### Broadcasting en la práctica:"
   ]
  },
  {
   "cell_type": "code",
   "execution_count": null,
   "metadata": {
    "id": "JuM_AqlzPAVo"
   },
   "outputs": [],
   "source": [
    "import numpy as np\n",
    "X = np.random.random((10, 3))\n",
    "print(X)"
   ]
  },
  {
   "cell_type": "markdown",
   "metadata": {
    "id": "AxwWDWdHT3VQ"
   },
   "source": [
    "Deseamos obtener la media de esta matriz. Pero, podemos obtenerla sobre todos los valores, sobre el eje x o sobre el eje y."
   ]
  },
  {
   "cell_type": "code",
   "execution_count": null,
   "metadata": {
    "id": "dDpkL5YyUDyY"
   },
   "outputs": [],
   "source": [
    "# Media de todos los valores.\n",
    "Xmean = X.mean()\n",
    "print(Xmean)"
   ]
  },
  {
   "cell_type": "code",
   "execution_count": null,
   "metadata": {
    "id": "7zxQ-ADRUJrn"
   },
   "outputs": [],
   "source": [
    "# Media del eje x.\n",
    "Xmean = X.mean(axis=0)\n",
    "print(Xmean)"
   ]
  },
  {
   "cell_type": "code",
   "execution_count": null,
   "metadata": {
    "id": "I0o1EtkIT1Dq"
   },
   "outputs": [],
   "source": [
    "# Media del eje y.\n",
    "Xmean = X.mean(axis=1)\n",
    "print(Xmean)"
   ]
  },
  {
   "cell_type": "code",
   "execution_count": null,
   "metadata": {
    "id": "oOWjexxtUX9I"
   },
   "outputs": [],
   "source": [
    "# Centramos los valores de X del eje x.\n",
    "Xmean = X.mean(axis=0)\n",
    "X_centered = X - Xmean\n",
    "print(X_centered)"
   ]
  },
  {
   "cell_type": "code",
   "execution_count": null,
   "metadata": {
    "id": "HmSQhST7Uk94"
   },
   "outputs": [],
   "source": [
    "# Si sacamos la media sobre los de los valores centrados en el eje x.\n",
    "# Tenemos un valor cercano a cero, que es practicamente cero.\n",
    "print(X_centered.mean(0))"
   ]
  },
  {
   "cell_type": "markdown",
   "metadata": {
    "id": "IiEMQ2SQG8fo"
   },
   "source": [
    "También aplica para obtener la varianza y desviación estandar."
   ]
  },
  {
   "cell_type": "code",
   "execution_count": null,
   "metadata": {
    "id": "gTWJAbQKHAuo"
   },
   "outputs": [],
   "source": [
    "# Desviación estandar para toda la matriz.\n",
    "Xstd = X.std()\n",
    "print(Xstd)"
   ]
  },
  {
   "cell_type": "code",
   "execution_count": null,
   "metadata": {
    "id": "OKvrl5TPHUTY"
   },
   "outputs": [],
   "source": [
    "# Desviación estandar sobre los renglones de la matriz.\n",
    "Xstd = X.std(axis=0)\n",
    "print(Xstd)"
   ]
  },
  {
   "cell_type": "code",
   "execution_count": null,
   "metadata": {
    "id": "jNJCmiVrG7yq"
   },
   "outputs": [],
   "source": [
    "# Desviación estandar sobre las columnas de la matriz.\n",
    "Xstd = X.std(axis=1)\n",
    "print(Xstd)"
   ]
  },
  {
   "cell_type": "code",
   "execution_count": null,
   "metadata": {
    "id": "zRgMUDs0IKBN"
   },
   "outputs": [],
   "source": [
    "# Varianza para toda la matriz.\n",
    "Xvar = X.var()\n",
    "print(Xvar)"
   ]
  },
  {
   "cell_type": "code",
   "execution_count": null,
   "metadata": {
    "id": "GO3b6tplIVnG"
   },
   "outputs": [],
   "source": [
    "# Varianza sobre los renglones de la matriz.\n",
    "Xvar = X.var(axis=0)\n",
    "print(Xvar)"
   ]
  },
  {
   "cell_type": "code",
   "execution_count": null,
   "metadata": {
    "id": "ErIoXWDyIOFl"
   },
   "outputs": [],
   "source": [
    "# Varianza sobre las columnas de la matriz.\n",
    "Xvar = X.var(axis=1)\n",
    "print(Xvar)"
   ]
  },
  {
   "cell_type": "markdown",
   "metadata": {
    "id": "-mSG0WtPU8jf"
   },
   "source": [
    "# Mostrando una función de dos dimensiones."
   ]
  },
  {
   "cell_type": "code",
   "execution_count": null,
   "metadata": {
    "id": "0PSnQFeQU7o_"
   },
   "outputs": [],
   "source": [
    "x = np.linspace(0, 5, 50)\n",
    "y = np.linspace(0, 5, 50)[:, np.newaxis]"
   ]
  },
  {
   "cell_type": "code",
   "execution_count": null,
   "metadata": {
    "id": "O1GizYTWWGDH"
   },
   "outputs": [],
   "source": [
    "print(x.shape)\n",
    "print(x)"
   ]
  },
  {
   "cell_type": "code",
   "execution_count": null,
   "metadata": {
    "id": "8vfKdESwWHPX"
   },
   "outputs": [],
   "source": [
    "print(y.shape)\n",
    "print(y)"
   ]
  },
  {
   "cell_type": "markdown",
   "metadata": {
    "id": "X92BEI8sVTNn"
   },
   "source": [
    "Este código utiliza la biblioteca NumPy en Python para crear dos arrays multidimensionales \\( x \\) y \\( y \\).\n",
    "\n",
    "1. `np.linspace(0, 5, 50)`: Este comando genera un array de 50 puntos uniformemente espaciados en el intervalo de 0 a 5. Es decir, crea un array unidimensional que comienza en 0, termina en 5 y contiene 50 valores equidistantes entre ellos.\n",
    "\n",
    "2. `np.linspace(0, 5, 50)[:, np.newaxis]`: Este comando realiza dos operaciones. Primero, crea un array similar al anterior, generando 50 puntos uniformemente espaciados en el intervalo de 0 a 5. Sin embargo, en lugar de ser un array unidimensional, este array es bidimensional, con una columna y 50 filas. La notación `[:, np.newaxis]` añade una dimensión adicional al array, convirtiéndolo en un array bidimensional donde cada valor se encuentra en una fila distinta.\n",
    "\n",
    "En resumen, el array \\( x \\) es un array unidimensional con 50 elementos, mientras que el array \\( y \\) es un array bidimensional con 50 filas y 1 columna. Ambos arrays representan una secuencia de puntos uniformemente espaciados en el intervalo de 0 a 5, pero \\( y \\) tiene una forma diferente debido a la adición de una dimensión adicional. Esta estructura bidimensional es útil para algunas operaciones, como el broadcasting o el cálculo de funciones de dos variables.\n"
   ]
  },
  {
   "cell_type": "code",
   "execution_count": null,
   "metadata": {
    "id": "cUEjYHuIVtVe"
   },
   "outputs": [],
   "source": [
    "z = np.sin(x) ** 10 + np.cos(10 + y * x) * np.cos(x)"
   ]
  },
  {
   "cell_type": "code",
   "execution_count": null,
   "metadata": {
    "id": "xujsLt2uWLV9"
   },
   "outputs": [],
   "source": [
    "print(z.shape)\n",
    "print(z)"
   ]
  },
  {
   "cell_type": "code",
   "execution_count": null,
   "metadata": {
    "id": "W77S9qJ2VwGH"
   },
   "outputs": [],
   "source": [
    "import matplotlib.pyplot as plt"
   ]
  },
  {
   "cell_type": "code",
   "execution_count": null,
   "metadata": {
    "id": "KWQ-oGnFVybX"
   },
   "outputs": [],
   "source": [
    "plt.imshow(z, origin='lower', extent=[0, 5, 0, 5], cmap='viridis')\n",
    "plt.colorbar();"
   ]
  },
  {
   "cell_type": "markdown",
   "metadata": {
    "id": "HOXmkBZlXSbn"
   },
   "source": [
    "Este código utiliza la biblioteca Matplotlib en Python para visualizar un array bidimensional \\( z \\) utilizando una representación de imagen. Aquí está la explicación:\n",
    "\n",
    "1. `plt.imshow(z, origin='lower', extent=[0, 5, 0, 5], cmap='viridis')`: Este comando muestra el array bidimensional \\( z \\) como una imagen. Los parámetros utilizados son:\n",
    "   - `z`: El array bidimensional que se va a visualizar.\n",
    "   - `origin='lower'`: Especifica que la esquina inferior izquierda de la imagen corresponde al primer elemento del array. Esto significa que el eje y aumenta hacia arriba en la imagen.\n",
    "   - `extent=[0, 5, 0, 5]`: Define los límites de los ejes x e y de la imagen. En este caso, se establecen los límites de 0 a 5 tanto para el eje x como para el eje y.\n",
    "   - `cmap='viridis'`: Especifica la paleta de colores que se utilizará para la visualización. En este caso, se utiliza la paleta de colores 'viridis', que es una paleta de colores perceptualmente uniforme que va desde el azul oscuro hasta el amarillo.\n",
    "\n",
    "2. `plt.colorbar()`: Este comando añade una barra de color a la imagen, que proporciona una referencia visual para los valores de los colores en la imagen. La barra de color muestra la correspondencia entre los valores de \\( z \\) y los colores utilizados en la visualización.\n",
    "\n",
    "En resumen, este código utiliza Matplotlib para mostrar un array bidimensional como una imagen en la que los colores representan los valores de los elementos del array. La barra de color proporciona una referencia visual para interpretar los colores utilizados en la visualización.\n"
   ]
  },
  {
   "cell_type": "markdown",
   "metadata": {
    "id": "5RD1axvQeEmG"
   },
   "source": [
    "### Ejemplo de como se aplica una función a cada uno de los escalares de una matriz.\n",
    "Para este ejemplo usaremos una matriz de valores aletorios y la matriz $Z$ utilizada en el ejemplo anterior."
   ]
  },
  {
   "cell_type": "code",
   "execution_count": null,
   "metadata": {
    "id": "TJ7svSnceN9G"
   },
   "outputs": [],
   "source": [
    "print(z)"
   ]
  },
  {
   "cell_type": "code",
   "execution_count": null,
   "metadata": {
    "id": "WSaxmOKWeQM0"
   },
   "outputs": [],
   "source": [
    "# Elevar al cuadrado cada uno de los valores.\n",
    "\n",
    "def sqrt(X):\n",
    "  return X**2"
   ]
  },
  {
   "cell_type": "code",
   "execution_count": null,
   "metadata": {
    "id": "Wot_5cfOeXeF"
   },
   "outputs": [],
   "source": [
    "z_sqrt = sqrt(z)\n",
    "print(z_sqrt)"
   ]
  },
  {
   "cell_type": "markdown",
   "metadata": {
    "id": "_jkbx0OS5yua"
   },
   "source": [
    "\n",
    "## Definición de Tensores en Álgebra lineal\n",
    "En algunos casos necesitaremos un arreglo con más de dos ejes. En el caso general, un arreglo de números dispuestos en una rejilla regular con un número variable de ejes se conoce como un tensor. Denotamos un tensor llamado \"A\" con esta fuente tipográfica: **A**. Identificamos el elemento de **A** en coordenadas $(i, j, k)$ escribiendo $A_{i,j,k}$.\n"
   ]
  },
  {
   "cell_type": "markdown",
   "metadata": {
    "id": "ohl00NkJvtR8"
   },
   "source": [
    "![image.png](data:image/png;base64,iVBORw0KGgoAAAANSUhEUgAAAv0AAAF2CAYAAAD9WSeSAAAABHNCSVQICAgIfAhkiAAAABl0RVh0U29mdHdhcmUAZ25vbWUtc2NyZWVuc2hvdO8Dvz4AAAAmdEVYdENyZWF0aW9uIFRpbWUAbWFyIDE0IG1heSAyMDI0IDIzOjM0OjE4/FWv7gAAIABJREFUeJzsnXl8VdW5v5+9z5RzTgbIiCQhZAKUJEDCFJCZ4GzV2qoIztVOt7a3rfe2tw69tdO1eqt11latIjIIAjLJPAohJMwQxjAkgZCQgSRn2sPvj529cxLCpPb2V1yPn3wQcs7ea6299lrf9a73fZcUCoR0BAKBQCAQCAQCwb8cdqf9kj4n/4PLIRAIBAKBQCAQCP7JCNEvEAgEAoFAIBBc4QjRLxAIBAKBQCAQXOEI0S8QCAQCgUAgEFzhCNEvEAgEAoFAIBBc4QjRLxAIBAKBQCAQXOEI0S8QCAQCgUAgEFzhCNEvEAgEAoFAIBBc4QjRLxAIBAKBQCAQXOEI0S8QCAQCgUAgEFzhCNEvEAgEAoFAIBBc4QjRLxAIBAKBQCAQXOEI0S8QCAQCgUAgEFzhCNEvEAgEAoFAIBBc4QjRLxAIBAKBQCAQXOEI0S8QCAQCgUAgEFzhCNEvEAgEAoFAIBBc4QjRLxAIBAKBQCAQXOEI0S8QCAQCgUAgEFzhCNEvEAgEAoFAIBBc4QjRLxAIBAKBQCAQXOEI0S8QCAQCgUAgEFzhCNEvEAgEAoFAIBBc4QjRLxAIBAKBQCAQXOEI0S8QCAQCgUAgEFzhCNEvEAgEAoFAIBBc4QjRLxAIBAKBQCAQXOEI0S8QCAQCgUAgEFzhCNEvEAgEAoFAIBBc4QjRLxAIBAKBQCAQXOEI0S8QCAQCgUAgEFzh2P/ZBRAIBAa6rnf4uyRJ/6SS/GPRdb3Lup3v3y/3M18FkiShaRqSJJ1zP03TOnwu/Pedn6FAILgw4e9MV+/bxb7zRe51pY6tAsHFEKL/a4g58HU1AIrB8J+HJElfm0kpvA/+/1jXC5XP/LsQ+B25UhY/nUWo4P8/wsfKy/0eCPEv+PoiRP/XFEmSkGXDu0vXdUvcfNHBVPDl0XUdWZa/Nu1v9j9o74MXwuyj/1cLhfD345z7SSAhBEM4ncXyv2o/NsfB8B0dwT8BCWSpfYz4Kp5HV7t3/8p9VSC4XITo/xoRbr1UVZVWXyu6rhPhiiAiIuJLXVdYTL48mqZRWVWJy+UiPi7+im5TSZJobm5GURUcDgdej/eiE6/f70fTNJxOJw6H4x9exqamJgC8Xi82mw0k0FSNY8eP4fV6iYuN67Bw+bpivv8trS3U1taSlJiE2+02xBQ6/AvpKV3XCQQChEIhIiIi/k/6mcBAkiQkWcIm21A1ldaWVhoaG/AH/Lgj3MTHxeNwOL6USJdtMrqq09zSjCRLuFwuHPYvd02z7Jqmfa2MNoJ/TWxPPfnUM//sQgj+b5FlmdLSUj744ANWrVqFP+Cnf05/JL74wGcO2JIkCQvoF2TDhg08//zz7Nq5k7S03sTFxf2zi/QPwWazEQgEmD79Q+bPm8+B/QdI7ZWK1+tF4vw+vTNnzmTZsmXExMSQlJT0D1sUSZJEbW0tr732Glu2bCE9I51usd3QNZ3ly5fz3P88x949e8nMyiQ2LvZfStT+I5BlmZaWFv7617/y3nvv4fP5yM7OtgwJ5jP9V/jx+XwsXbqUOXPmkJCQQFJS0j+5db8+yLJsPAebxP595cyePYuZM2fy6YJPKdlSQn5BPh6P50sJa9kmU1NTw2uvv8ahg4dI651GVFTUl36HZVlGR7d2EgSC/2tk26UZoISl/2uEObEFAgHWrFnDJ598QktLC9XV1YwbN47oqOgvdE1d1ykuLsbpctI7rTfdu3cHzh8z8GUsIV9mV6Gzz/zl+pVLhk/HZZf/Uuu8cuVKVq9eTXxcPAUFg8nOzrZ+91XspnxV14D2Z9q5TS826YW7kq1ctYqNGzaQmGRYhqdMnYLL6Trv99evX09xcTHZ2dnk5eX9Q9rDfEdaWlpYsGABqqZSNKmI9Ix0QsEQc+bMYcPGDezZs4fCEYVkZmaec72uArL/kda/L/tcv0j5wusqyzK1tbXMnj2b48ePEwgEGDduHDHdYkD9YvcMdzc0/34hX/uvKp4gEAhQWlrKJ598QkFBAXl5eV/4WuFl61ymzq58Vvl10NHPeabhn7vQ2NX577IsX9Qt5v8H/3Zz7LDZbRw7eoxnnvk1O3Zsx+F0Eh0VRWVlJX6fH0VRrM9fLOi3y9/p0NzczMcff0xGejqjx4wmKSkJXTcEu81m67L/XKi/6ujU1tVy4sQJIr2RJCcn43K5LrldRYyQ4P8SsTf9NUPXdY4ePcqWLVuQJAmn08mBA/vZVrbtklwVuvKHPHv2LP/1X//FL/7zPykrK7Pu0/l7sixb1pzzXfdCA7k58XcVf9CV1a6rMl9sooB2X+5zhIV88UnRrGN4W17KBAVQMLiA5J7JpKenk56e3uF3FxNIl3OfS/Gfv9B9LpXzPefwydXliqCpsYlZs2dx5PCRc6x4Zn1kWcbhcKBp2pfajbpQfcxnJssyqmqoVcu9Qwe7zc6oa0eREJ9AXl4e2VnZaKp2Tt/q6hlcqqC6lGd3OZyvL3d1z8sRfeGfVVWVuLg4Ro0aRUJCAvmD8omLi0NV1PNaULtcbNFFm0nniqKuntul9v3zlaXz2PRlF1Fd/b/5d3Pc6rK/XMJtw8sZ3hbmu/NVBiJ/kXYNH6cv5z4AqqIy46MZbPx8I9nZffifP/4PH0ybxgsvvEC3bt1wuVw4nU5sNtsF54murm+2m6IoOB0OZFnGbrejKEqH359v3AofHzqUW4cN6zfw+I8e572/v8fJkyethVZ4Wc7XLhe6r0DwVSMs/V8zJFni0OFDHDp0kCFDhpCdnc2bb73J2rVrGTt27EW/b1qobDYbqqoiyRIOh4MzZ85gs9sIhoKGm48unTNJnzNYdrruhZDtMgFfwBKLkiTR2tqK2+22rtc5laJp5TJ9LW02W4f7mbEN5t+tCcHl7FJIm9cBzhGfdqcdVVEtixGA3d7+ekmyscMiIXUoRzi33XYbw4cNx+l00i22G5rSXh9VVZEkySpv+DU6W0TPh67r2J12lKByzoLpQtZiSW77rN7xfuHPU1VVSyybk1hXFsYOk54OTqeT9PR0Dh06xMsvv8zLL7/cwdoWXq6vwrJv1SmsvRRFwe11oymaUVd0yzVFltrrIskS9z1wHzfddBMul4uIiIgOQsvn8xEZGdmhv5u/1zQN2Sa3i1sJQsGQ1XZOp5NAIIDdbr9gPcMXReHC0Wa3GSI7DLvTjqZo57Uam+VyOp3YnXZ0Ve/Qr4PBII42cWRivk+d+5zT6eTZZ5/lpz/9KdEx0UZ9fAFsdluHhUf4j67r+P1+HA4Hdpu9g+A1xxlN06zdtc6Lq87ve3gbmb+TZRlFUVBVFbvdbj1vm82GzWbrULcvg3l/s++rqmqNF+FllWUZSW4fS8z3WVVVbHYbEkasi9X/bDJKSOmy7mbZrbE47D22fi+DpLd9R9XOKXNnUXqhcbmrPnShtjDb3Rx7LySoVVVFR8fv87N8+XIk4JZbb6HouiLUkErPq3qeM2Z3hVkuRVGsNgyvl9kufn+gwxyBDesd6CzOw8sdDAZxupz4/X7j/bcZzzMUCnG2+Sy1tbVkZmeiq8Z4ED5Odh5nzT4OHfvsV71wEwjCEaL/a0ZdbR0b1m/A5/MxZswYhg8fzvTp0yktLaW8vLyDS8n5MIWBOYG2trZis9lQQiFCSqjDZzpbpWRZBgmCoaAxKCLhcrosgdx5EjYnsFAghN1uNwZHXaPV10owFETTNdxuNzJyh0nMvL/D6SAUDBEMBgmEAsa/ORy4XC5DaKjt94E2oR42n4WUEIFgwLLoer1e7A5jcggvo662i2K7w04oFLJ+VE1FtsnGJMH5t9uDgSAJSQnGxBZSOwz2DofDmBglnYA/gI6Oy+nC6XIiIaGEFBxOh1EG/dxJ2Wx7NaRawjGoBAkGgiBhXMvpRJbOLZ8pJs1nKcsyiqbga/URCoVwOI32RMbIuGGXO7RPV5jl6969G3feeSefffYZK1YsZ/bs2dwz+R6UkHKOi8dXga7rhpBSFGTJ+DOkhmita8XlcOGKaO+L4ZO/bJNRggqhYKh9QdYm3GWbbIlnU3wBBIIBfH4fsizjifAg622CT9VQFAWHy4Gv1UcwGCSkhPB4Peja+QNfbTYbOjqhYAi/34+OjsPmwBkWbBr+3IP+IDa7EYBsLsQBWv2tBAIBHA4HEa4IQ8gHtQ4LSVmW8UQa5QmGgvh97UHULqfLqqf5Yy4OunXrht1hvEMOZ6cgWMlwhQgEA/j9/vbPtP27WW9zYaGqqlUmc3dIkozFc0gNoSoqrggXLtmFXbYbbce5WV5sdhu6pNPqbyUUChn93PR/lbHemS+DKc79QT8Bf8DYmXI6cOI8d9GkGPULhUKGILbbkDTJ6geSrS0+Sjbea1Oomu+tz+8jGApit9txOpw0Nzfj8XismCpFVQgpIXwtPiI8Edhle3tgtSlkZcNCbS6A4Pzi0hTlpni/lCw6siwb4yRGeXVdxx3hxuV0YbPb0FTNuo4ldjWdpqYmQqEQSBLuCLf1XGSbbD3fCyFJxqLd4XLgD/oJBoLWotoV4eqwm6SZbdH2b8FA0GoLVVPxB9r7vKZpOBwO3B43EhKeSA9KUEELaVa7yrKMLMlUHq+kR88exv0kCVVR23eSZOPvPr+PQNDoJzbJhjfSSBYQDAQv+CwEgi+LEP1fA8ItDKdOnWLXrl306HEVeXl5ZPXJIj8/n+LizezcuZPs7OxLshpLksTJUycpKy2jsanRmqT37t6LruoEg0EGDRpEVlZWB/FUW1dL6dZS9u/fT3l5OXaHnfTe6VxzzTX06dOH1F6pqIraoQyLFi3CZrdRWFhIMBikZEsJO3ftpKqyiri4OPLy8hg0aBApKSntls+2bCsNjQ3s37efsrIyKioqCAQCJCYm0q9fP/IL8ul5Vc8OlkckYxI6e/Yse/bsYffu3VRUVODz+UhKSiIrK4v8wfn07NETh8PRLkxlicrjlZSUlJCRmUGfvn2oOFzB+vXrqaqqIiYmhptuuqmDD3hnmpubWbduHdHR0QwePNjaxQCjHtvKtlFeXs6xY8cIBoOkpaWRnZ3NoIJBJCUaAYfnmxjNSUdRFI4fP86uXbso31/O8WPHkW0yvVJ7kZ6ezuAhg0lMSLQEhiRJNDQ2sLVkK1FRUQwbNozqk9Vs3rSZvXv3Ultby1U9ryIrM8tyTzIXFpeCpmmkp6dz6623snv3bl743xcoLCwkNTX1Kxf7ZjsoIQVN19h/cD979+xl9+7dnD59mszMTPr168eg/EFhVjcNXdPRNWNSP3nyJJs2bSImOpprR42yFgjl5eXs2rmTIUOH0jO5J7t27mLr1q3s27cPt8dNQX4B+fn5JCcnY3fYOXX6FFu3bGXnzp3U19fT46oeDMgbwOAhg4ntHtvlO+jz+SgpKWHXrl0cPHgQgJSUFPr27UtuXq7Vl83v+Hw+ysrKCAQCDBkyBE3X2Fa2jdLSUo4ePUp8Qjz9+vZjwIAB9Lu6XwfXOU3TCLQG2L5tOzt37eTw4cP4Wn307NmTzMxMBuUPIiU5BTOtos1mo6SkhCNHjtCvXz+y+2Qbfs1au9XybNNZysrK2LdvH4cPH0ZVVXr06EFaWhoFBQWkpKTgcDgMC3ybKK88UUlZWRmJiYnk5+dTUVHBxo0bOXDgAM0tzfRK7cU111zD4CGDiY+L77AwNd/j/fv3c+DAAcrLy6mtrSUxMZHMzEz69+9Pn7598Lg9xqKDLy62jlYYLpNHjx7l2LFjuFwukpKSyMnJoSA/n7j4+A7isKamhrVr1xIdFcX4ogkcP3qcLVu2cPjwYSRZ4hu3foN+/fpx/PhxSktLyczMJL8gn21l29i8eTOVlZV0j+3O5MmTSUpKMowarQF27tzJ7l27OXbsGDWna7iqx1WkpKaQk5PD1f2uJiIiAkmS8Pv8FBcXU1tby+DBg0lJSTlv3Q4dOsSOnTtISU4hLy/PWOBfhIaGBrZu3crevXs5cPAAqqqSnZVNnz59GDBoAD2SerTvgEhQcaSC3bt309DQgM/nQ5YkysvLWfjpQvx+P6mpqQwYMOCSsin5fD727d3Hzh07OHrsGA0NDWRmZpKbm8vQoUOtz3We35wuJ40NjezcsZNdu3Zx6PAhAv4APXv2pEePHgwYOIA+ffoQ4YqwYgu2lW3jaEUFZdvK8Pv9VFVVUVxcjKIoREdHk1+QT2RkJA7JQSAQ4PiJ4+zds5ddu3Zx4sQJPB4PGenpZPfpw4CBA4iJjhGCX/APRYj+rwHm4KrrOvv376eqqpJJk66jZ3JPACZMGM+mzZso21bGxIkT6R7b/RxXgc7XA9i9azfPPfccjU2NtLS0IEkS77//vvW5J/7jCbL7ZFtbpgcPHuSjjz5i8eLFtLS0EBkVid1mZ8XyFXgjvQwaOIjvPPodcnNzrXucPXuWZ3/7LHFxcTjsDlasWMHatWsNX0xVof5MPXM/mcvIESN55JFH6N+/v2V1rK2r5cMPP2TunLmcPHmSuHjjGg0NDdjtdgoKCvju975rBOvp7dbwAwf28+4777FmzRrqG+rxer04nU6azzYjSRIDBgzgW9/6FhMmTMDpdFr1PXDgAL/5zW+44YYbyM/P54MPPqC8vBxd14iNi6Nfv35kZGSct10rKyt55pln6Nu3L32ys/FGegFjd+blv/yFpZ99ht/vJzomGkVRWLp0KW53BBMnTmTq1Pvod3W/817bnOBKtpbw7jvvUlpWSigYIiYmBlVVWfbZMlwuF9deey0PPvgg/fv3B0DTNaqrq3nllVdISkrCFeHi7bfeZseOHdhsNnx+H83NzbicLkaNGsXjjz9OVlaW5QJysYWjoigEQ0GKriuieEsxM2fO5NVXX+WXv/wlMTEx1iLmqwpy0zQNv9/PZ599xrRp0zh48CCSLNG9W3cjHkWCEYUjuPnmm9vbLswMfPDgQZ566ilDaA4eTEy3boARhP3C/77AT//9pyQmJvLBBx9w5swZQKfuzBmWLlnKsOHD+O5j30WSJV595RW2bCkhwh1hWThne2Zz3aTr+PGPf0x8fLxVb1mWqTl1ipmzZjFz1kzq6+vxeDxEuCJYsWIFdoed4cOGc/8D9zNwwEB0dGySDZ/PxzvvvMPp2tN8//vf5/ONG1m9eo3l1tPY2IDNbicvN4/HH3+cIUOGWKLf7/czY8YMPpj2AadOniImJgaHw8GaNatRVY2BAwcydepURo0ehS4ZZVy8eDHvf/A+jz32GL1798Zhd1jucocPHWbWrFksWbqEM3VniImJwW63U1dXh81mY1D+IO785p2MnzCeCFeEsaMRClFWVsbvfvc7CgsLkSSJV155hf0H9mO32Wn1tdLY2EhCfAI33ngjjz76KD2uMsQkMpysPsmMj2awZOkSTp08RVRUFE6nkw0bN6BrOhmZGdx1113ccssteNyey+5LZjtt2bKFD6d/yJbiLQB0696NQCBA/Zl6oqKjGDt6DA8+9JC1i2qz2zh46CB//OMfSEhIxOly8cEHH7B9+zZaWlrx+X10796d/jn92bFjB3/44x8omlhEQ0MDL774orVgcrlcjB41mvj4eOrP1PPxxx8z95O5VJ6oJDo6CpcrgpItJbS2tpKSksKUKVO4/fbbcbvdBAIBli9fzrz585hy7xQe//HjOB3ODq4l5sL/1VdfZcWK5Tz00MPWuNAVuq5js9vYs3sPH330EcuWLaO5+SwxMcY7smrlKtxuNyNGjODue+5m2NBhxg6xolBSUsJzzz1n7GDphnvdnDkfM2fuHJSQwi233GKN7V0h22Q0VaOuro6PP/6YT+Z9QlVlFXa7Ha/Xy4YNG/B4Pdz5zTsZOXJkl9eorqrm3XfeZfny5dTV1Rli3eFgzZo16Oj0ye7DPZPvYVLRJLxeLyElxPz585k1a5ZhANI0Dh48yK9+9St0XSe7Tza//vWv6X9Nf1RVZe3atfztb39j79692Ow2XE4nqqaxYsUKPB4P48aNY/LkyZbhzXz3v6qxTyAAIfq/Fphb401NTSxbtgxV0xg6dCjR0dE0n21m2PDhpPXqRenWUg4fPkxBXAGKonTwSe+KtN5pTJ48mTNnzjD9o+kAjB83noyMDBRF4ep+V1tWtxOVJ3jrrbdYuGgh/fr244477iArKwu73c6+fftYsGABixcvoqGxgV//+tdkZmZa/q2hYIja07W89957nD17lnvvvZeCggI0TWXXrt188slcVq5cgdfr5Re/+AVerxdVMwbZGR/NQNd1Hn30UUaMGIGqqlRVVbFw0UJWrlxJU1MTb7zxBpFRkcjIHDx4kOf/9ALLli8jKzOLKVOnkJeXR4QrgmPHjrFixQqWL1/O8ePHURSF66+/3rB8tfkdB4NBduzYQUlJCcFgkEceeYTk5GRaWlpITU01/JbPM4arqorPZ7jMSKavuKbz3nvv8eFH0+md1pvvfOc75OTktC1ODjBjxgwWLlyI0+ni8R8/Tvdu3c87SbS2tvLWm2+xceNGrr12JNdddz1paWnIskz5vnLmL5jP4iWL8Qf8PPubZ+nevbvlLxwMBjl+/Dh/+P0faGpq4oc//CFZWVn4/X7Kysr4cPqHrFm9hsSkRH72s58Zwu0SJitzlyUuLo4p905h86bNrFq9iuGFw7njjjs6WJ+/LLquI8kS69av4+WXX6aurpaioiKKiiaRkJBAfX09n3/+OcuWLaOurrbN9cF5ToCp2R6q1u4vHwgEUBSFtWvXEgwG6d+/P0VFRURFRVFRUcH77/+ddevWISFRV1dHVVUV3/nOdxgwYACKolBWVsaMGTOYO3cOGRkZPPTwQ+iq4VbU0NDA8y+8wPz588nIzOC+KVPpn5OD3W7n2LFjLFiwgCVLl9DY1Mgvf/lLsjKzLJeeQDDAqVOn+Ntf/0Z9fT1Tp06lT58+OBwODh06yCfz5lFSUsKLL77Iiy++SPfY7ujorFi5gtdef41QIMj9999HYeEIvJFeqquqWbhwIUs/W0Krr5XklGT69u1r+VorimK4P3g8SJKE3WEI+xdeeIE1a9eQnZXNt+68k5ycXDweD6dOnWLJ0iWsXbuWoxVHcbqcFE0qQtKMfO0AoWCQ8vJynn32WdweN48//jgZ6Rk0tzTz+cbPmTlzJgsWzCclJYVvf/vbuN1uHDYHS5cs5c033yQlNYWHH36Y3NxcunfvzunTp1m+fDkLFy3k+eefJy42jgkTJhh97BK6WXi/rj5ZzXt/f49NmzYxetRoxo8fT1ZWFoFggN27dvHJvHnMmDmTpuazPPP0MyQkJgDGeQ+hkEJDQwNvv/02tXW13HHHN+nZsycNDQ1kZ2ZZhghN09i1axc7duwgGAzy8MMPk5SURENDA9HR0UiSxKZNm3j9jdeJioxi6tSp5Ofnk5iYSENjA58t/YylS5fy6quvEhkZyW233UZ0dDQjR45k1apVrF69mocfeZhuMd0sf3lz3N67dy9r164lISGRYcOH4fF4zvtey3aZqsoqfvvb31JaVkpuTi7XX389OTk5ABw+fJilS5ewZu0aKioq+NWvfsXw4cMNgZydzf33309TUxPz58+noaGBkSOvpX///iiqQk7/HFwu13kNCZqm0dLawqzZs/jr238lpIS45557KCgoICoqirq6OlasWMH06dPZv3+/Ub9OY8qC+Qt455136N27Nz/4wQ/o378/TqeTmpoaVq5cyfIVy3n1lVdISkxixMgRyLLMmDFjiIuLY/fu3WzYsJ6UlBSuu+46FEUhISGBhPgEbHYb1cereemll9i/v5zx48dTVDSJpKQk/H4/hw8fZt68ecz9ZC66rvPzJ35OdFS0EPuCfwhC9H8NUBSFCHcE1dXVlJWVkpGeztXXXI3D6UAJKSQmJTJ48BAWLFjAnj17yB2Qe1HRr+kamZmZpPVOw9/qZ+4ncwmFQsaANqkIMFxNQkHDz3/JosUs/Wwp11x9DX/+85/p0bMHDpsDSZYYmD+QkSNH8uMf/5jNmzfzydxP+Ld/+zecrnYrelNTE6dOneLf//3fGT9hvGWVGjJkKNnZ2fz6v3/N+vXrOXnyJNdccw31jfV8vvFz6s7U8ZMf/4TJ907G4/ag6cZ2cn5+PjNmzCA3Nxe5bSJpaW1h7py5rF69iry8PP7nj/9DWnqa4aag6vTv35/xE8eTnp7OW2+/xd///neysrKsSc3kwIEDDBo0iCefepKM9AwcTsMf3ybbLst32NytWLRoES6nk0e+8zC33X67EYugw8D8gRQUFDBt2jRGjx5NVGTUBa/n9rq566676Nu3L3fdfRfJKcmgG+4ZAwYOoN81/fjts79l9apVbNy4kVtvvdXKWGR32Cnft4/U1F68+OKLXNP/Giu94NDhQ0lMTOSZZ55h48aNHDxwkNzc3EsW/aYfbd7APL73ve/x9NNPM3fOXPJy88jMzOxS9F/uIsD0S26sb+T111+n5nQND9x/Pw88+CDxCfFWkPiIkSPIzMzkf//8v7S0NONyxV7yvXRdZ9++fdx77718/wffN3ZkggoFQwpISkriif94gqWfLSUqMoo//vGPjJswDqfd6MeDBw8mEAjw5ltv8unCT7nrrm8TGR2FhMTcuXOZNWsW6em9efY3z5KTm4PT4UDTdPLy8hg2fBi///3vWfbZZ8ydM4d/e/xHeCLaLde1tbWgwzPPPMOk6yZZBxwNKxxGr7Q0nvzVk5SWlVJWVsbEoom0NLewft16amtruf/++/nBv/2QCFeE1U8KCwvp0aMHGRnp9Ejqga7p581sFQqG+MtLf2Hx4kUUFAzmP/7zP8jNzUVTNdxeN0pQYeiwobz15lt8MO0D/vTcn8jPzye2eyx2ux2Hw4EzwsWevXvI6Z/Dn577Ez179rSCokeMHEFERARvvPE6GzZuYNKkSYYwVXUmTpxIU1MTBQUFDB4yGFlqy6xlN+oRGxvLW2+9xZy5cxg/YfygA9gKAAAgAElEQVQlny8S7vqWmJDIrbfcyuhRo7nxphuJiTZ2RFRNpWBwAQMHDuInP/kJK1esoKioiDvuuKPDterrz9DYGMcvf/lLhhcOx2E3vmv6/Zvv0P795WRmZvHqq6+S2isVu82OqqnYHXYCgQCDhw7mkYcfISc3h+GFw3E5XEYgttPBgLwBxMfH8+677zJt2jRuu/02ZNlog4EDB7Jk6RJWLF/BXffchazIHeo5b948ampqGDNmjLEDK0vnjdfRFI0nn3ySLSVbGDd2HD/5yU/o1auXERui6gwcOJBhw4bx6quvMnfuHJ5//nmmTZuGw+kgNzeXnLwcGuobWL16NWfqzzBu/Dju+KbRXjabDYfNcd54AkmW2LVzJzNmGEaep596mhtuugF3hNtwF5UlxowZw5tvvskbb75hxBbYOs5v119/PWfOnGHkyJEMGTrEiKHRdGwOG4MKBhEdHc2sWbOYN28eg/IHEeGKYOTIkYwaM4p5n8yjtKyUxMREHn30UWS70decDiOmo0fPHtx7773U1dVx++23k5iYaMQ8aDojRowgJzeHZ3/zLMuWLeO2225jyNAhqIoq8v4LvnJEys6vAaYlev369TQ0NDJoUD6JCYmEAiEkScIT4WHw4MEEQ0HWrVtHfV39xU/o1TGCR+0ONM2wDmltGRjMzCbmQSpVlVWsXbeOCFcEDz74IMmpyTjsDvx+P6qi4rA7yMzO5Kc//SmyJLN+/XoOHTpkHRbmcDgIKSGuvfZaiiYV4Y5wEwwGsTvtuFwu+vTtQ7++/WhoaKC2thbJZrgzKUoITdUM9xyXE5vDht1mxy7bycjM4Be/+AXXXXcdnigvmqZRXl7OylUrcbs9/Oq/fkXfq/sS4YxAVVQr+0e3bt149LFHuenGm9i3bx9bt241As/CiI6O5u6776ZPdh9sNpshXuzGtvRlWW/0dncURVWRJNlyXdI0DTTIyMjgqaeeYty4cVZ2ks5YAZe6xHXXX8d//OI/6NWrV3sQoc3I/pKbk0tRURG6rrNp0yajHdWOk87DDz/MgIED2gPsJBmn3cmtt95Kjx49OH36NEePHr2kYD8wrOZ+n59QIAQa3HvvvYwdO5bNmzczf/58AoFAl98LDxAPhUIEAoHz/pj+t7Iss2jRIvbt3cfIESOYfO+9xMXFYbPZ8Hg9VmDrvVPu5aYbb0IJy+x0QcLm5JSUFO66+y66detmxVFoikZWdhbp6elISNx8882MHjsaXdWtgE1vlJexY8cSEx1D/Zl66usbjLiZkydZumQpbrebe+6ZzKBBg5CQ0LS2rENuN6kpqTxw/wMkp6Swfv0G6k7XdWwrSebWW29l7PixSEhG1iAdHHYHo0aNIjMzk+Y233dNNYRmQ0ODYfXVjSBvv89Pa2srMjKRkZE8/czT3HPPZKKjL3y2x/79+5kzZw7dunfnkUceoSC/wHgH7Xbr/Y6Pj+eBBx+gcHghR48eZeaMmdbiHMAmy0RHRfPEE0+Q1jvNSCAQUoxgag1uv/12IqOiOHzoMCdPnUSSjGwqKSkpPP7441w76lojQNtpt2IF4hPimTBhAn36ZFNcXExVZZVxs0t4PcPdXzxeD7d/83buueceEhITrGBNM8h2yNAhFBUVEQyFOHjg4Dlukza7nVtuuYVx48dhl43FvNvlPueeTqeLX/ziF2T3yUaW2lw+dNBVHZtsIzE+kR/9+EeMHz/eCNq1STgjjIBlT6SH0aNHk5qaQnl5OUcOH0HTNJISkxg9ejTdYroxbdo0Ar4Akq09/quqqorPPvuM2LhYxk8wrhueSagzq1evZuPGjSQkJPDoY4/S7+p+7VmcHEa2pPSMdL7z6HcYNCifsrJS5s+fjyRLVkCrvU2IS5JEhCsCp8OJTbIh6VKHRVBnAv4AK1euovZ0LXfccQeTrp+Ey2HElJi7FlFRUfzs5z9j8ODBNJ1tOicLUHJyMk888QSjxozCFWEEHNscRvB4fFw81994PQkJCezes5vms83oum6N7ebzcLqcREZH4nF7cNiMJBIBfwCbZOPuyXfz3e99l54pPY3gcs2IIXN73OTl5TFq1Ciam5s5cOCA1ffFid+Crxph6f86IMHZxrPMmjWTuLhY8vLyiImJwefzWcGi2dnZ5ObmsrV0K4cOHaJHzx4oQaXLy5kuF6YlRGvLOCK15T02Jw1FVdA1nerqavbt20dKSgqx8bEcP378HGuRbJOJj4/H6/VSXV1NZVUl/XP6W/nZvR4v+fn5RoaDoJG5QleN+3g8HktktbS0ABDpjSQ3N4/Pli3jzTffMKyC147A4/EQFRmFK8KFqhjW94AvgGwzXFyqq6sZO3YsuXm5ViyChGSl2dMUDZfTxaRJk1i2fBmbizdz8y03Ex8Rb9UlLS2NPv36GAJDp0MwY4cMGhew4JiB0ZGRkYwePYrZsz9m+ofTcUe4ycnJITomGq/Xi03u+jCZzs/LvKYkSZypPcPRiqNUVVXR2NiIJElERUWRlZWFx+vB7fHg8/mM76KjqRrBYJC4+HjDhzusPiYRERGkpKawZ8+ejukWLxNN0/jRj37EgYMHWLx4MUOHDqWwsLBLtwvZJuPz+fjts7+lpKSky+s57A4eePABbrv9NmwOGxs2bECWJYYNG06PpB6WcAq3qKmKyg033MBHMz6y2uBSkCSJ7OxsrupxlZGxw94+YdsddiK9kTidToYMGYLL7jIsfW39Cx3i4uKQZdkIygwEQDfiZg4ePGhYZgcM4OjRo13e2+fz0S2mGwcPHuTIkSOGK1kbbo+bgoICPB6PlQXLSv0q20hLSzPasy07S3RMNOPGj2PdunV8+umnJCUlMnbsOGLjYq0sKg7VYQiXNhe081FSUkJDYwNjx4xl2LBhHQ5XMgWwrulc1eMqhgwZwvr161i6dCn33X+fEdMigapp9LiqBwUFBVZmHNPa7vF6iIqKIrZ7LHLYboMZlN/Y2EhNTQ1Hjx6lpqaGQDBATHQMiUmJbf7ekSihKkKhkPWdy0I3DvRqOtvE8d3HOXr0KC3NzTicThISEuiVlorbbVibW1tbz3lvPG4PY8eORQ2pHdJNdg6WzcnJYdjwYR2yu5htYGan8bX6qK6u5vix45w6dYqzZ8/i8Xjo3bs3bo+7wzV1XUdHt9I2b9u2jXXr1jGxaKKVnnbFyhUcP3GcwQWDGT16tJE96QKntq9bt46WlmZuvvlmcnNyLYOB0+lEDalWe2VmZDJ06FC2bd/Gho0b+Oad3+wQd2YF0V/Gtqjf72fbtm3ExEQzavQooqOirRTKgFUWm83GA/c/wOZNm+m8wrPZbDS3NFNVVUXFkQqqq6tRVZWYmGiSk1MIKSGiY6Lx+/wdsldZSFi7sKFQyPrT5XIh24zMaXV1dRw5coTKykoaGxtxOBwkJSVZRhiHw0FjY2P7MxKpOwVfMUL0f00oLi7m0OHD9E7rbWWJkSQJ2S7T2txqCExvJA31Daxdu5bCkYUXvN45A5DEuYMghp9nfX09oVCI4yeO87tnf9dmpe34ZUmWsNvsBENBXC4XvlafFRhmTGoOIqMirQWF6RJyvgnI5XQxceJETpw4weLFi/nd735HamoqaWlp5OTk0LdfX3JycoiPj8fpNPIu19bWoiqqZaEPT79o3sfceUhMSqR7t+7U1dYRDAU73Ds2NpbIyEjr853F76UM3mZbut1uHn74EU6frmX79u08+eSTpKSkkJWdRZ/sPgwYMIDsPtnExcZdsD3AsKrv3rWbjz78iM83fY6v1We4QqCjqSqRkVE4HA5aW1uNL5jpP9tOCE1KTCIqMqqD3+9XhVnfYDBIekY6d911F3/769+YPXs2WdlZJPVIOuc7oWAIm93GVVddRb9+XQcxmxY+TdMI+UNtGTO8pPZK7ZA6sHMAY3JyMt27dedyczkmJCRYvsfhmOIMqS0trNSeVtbchemKM2fOWEGtv/vd787b70OhENXV1UiSIYDCMQMSNVW7sOWwLQ5A13SKJhZRcaSCOXPm8PIrrzBz1iwyMzLJyckhIyODvAF5pCSnWOLzfH3h5MmTqIpKVlaW9RzC3ynz/2WbTEZGBjExMZw6dYqW5hY8XsNFSdM0eiT1IComiqA/eNEAcZO62jo++mg6S5Yu5cTxEzicDqO/a8azSEpK4uixo1/Yd1qSJEJKiM2bNzN3zlw2fr6RUNBIvWr648fGxuJw2LE77ASDwXPGgpiYGCsNsNkmJuH/HxUdhcPpQEKyxKzZDrquU3emjiWLFzN//gIqKirweDxWLJexYI+j8kRlh7LbbDZSeqUwfPhwiouNIPrhhcPxeDw0NjayZvUaNFXjtttuIyoyytoFOh/V1dU4HA4yMjMso0p45jjzWTucDnql9cLr8XJg/wHjPbbZOriIXa7gbWpsouZ0DbGxsXSP7d4hg1P4dVRFJScnB6/XiyR1fBeqqquY8dEMli9fTm1trZV2VVUMN6q42DgqT5wgISHBKpMkdTxUTteNHThZNgw+5i67qqhs2LCB2bNnU7ylGCVknCNgpvDs3r0bwWDovM9fIPiqEKL/CsYccEOhEHPmzEHXdapPVvPyyy8beZdtMhKSlbO7qcnY8lyzZg0PPviglUHkC9M2Zvn9fhQlREpKMkOGDEFVlXMGNEmWcUe4GThwIC6Xi7TeadaAaubWjoqKMqxb6OeI8a5ITknmse8+Rl5eHqWlpezdu5eysjLWr19PdEw0gwsGM2XqFIYNH4aOblkhPR5DbHTODW3eU9M07DY7Ee4I/H7/OYfe2O12goHgORbQSxUr5mfNQ7HS09N5+pmnWbd2Hdu2bePgwYNs3LCR+fPmk9orlaFDhnDffffT7+p+F/RLrq6u5ve//T27du9i6NChjBk9hl5pvZAwTlXeuXMn69atO8ddyczpbWbb+aoCa8PrCu2HPLndbm644QZKtpSwevUqBg4cyP0P3t/hO9ZuiS4x9b6p529X3TgAzCbbUCSFprNNeDzuLg9qC69TZGRk28Lv/O4M59Sj7eA1M7+8HOY9aYp+CcmyBl5KkLLpNpCYmEhBQUGHuodjCm+73W5Z7sN/p6qqIV4uEpyvoxNSQsTGxvK9732PAQMGsGXLFvbu3cu+8n18/vnnRLgjyMnJ4e677mb8+PEdMlh1RlEUQiEjS5Rsa89E0tW7EBUdhdR2dkJra6vlmqG35Ui/kGtJOKZ4fO+993jn3XeIj49n6tSpZGdnExMTQyAQ4MiRI2zavAntiHZJJ213WTdVYc+ePbz04kuUl5dTWFhIUVERsbFGPEJ9fT07duxg5coVHQ6vC8c8XTbcf7uz8DPfCzAW7p3FcIQ7grfefot33nmH6KhobrvtNgYMGGAlNDh06BBbirdw/Nixc+rgdDiZNGkSsz+eTVlZGSVbShg1ehTbyraxe/ducnNzmTBxgrHT2cVBb+G0tLYYu7C2c/tYZ+HvjjDODairq7Pel/BxwOz3l0owGKT5bDOR3kjr8Lvw3cbwXTwzLaz1u7bzDV555RXmzp1Lamoqk++dTEZ6BlHRUfj9fg7sP8D27dso31/ent/frI8UNoa1naNhxqNJkoTNYWP7tu3892/+m+qqakaOHMn4CeNJTExECSnU19ezZ88e1q1bh8/v+0I7pALBpSJE/xWKaeWRbTK7d+xmw8YNREdFUzC4wPIvBzpkk1FVlX379nHg4AFWrFjB5HsnX9S6A+1+h5aIof30R0mSiIyMRNN0klNSuO+B+4jtHnvO1q2E4VduHnrkcroMK7nefsiX3Wa3xPAloRuW1+tvuJ4xY8dQX1/PyeqTbN++nSVLl7By5QqOHDnCn1/8MykpKbhcLlRVofb0aWthEZ6/O9xNprGpkcbGRmJ7x55zwq4kSVZZwy1WlyOUTfceU8Sn9krljjvu4LobrqOxoZGaUzWsXbeWRYsWMWfOHFpbffzs5z+jV2qv8z6vTz/9lOItxYwaNYonnniCzKxMQ0zohk/suPHjSOqRxIsvvtjhe2YApNKFAP6y4t+0OHZu35TkFL7xjW+wa9cu3vv7e4wdNxaPx2OdohouPsxdlS5pawrT/zYlOZlDhw7R3Nxs/c58zubBWZIs0dTUZC2GL6eOncVNeDk0vV1kaLqGrF/cX9ftdqNpKm63m8ceewxXhKuDy5m5xjP7idn3wtE0zXAxuAT/YNNtT5ZkYmJimDhxIiOvHUl9fT2na06ze/duFi1exMYNG6mpqSGmWwyFwwvP2+fcbjcOp4OTp05a/2a2jfnMzdNo68/U4/P7iI6Kxuv1WPEOgLVoCT+tuauy67Sfp/DRRx8R6fXy6KOPcuutt+KOcFtt0OprZeCggfz2t7/l2NFzxfCl4Pf7Wbd2Hbt27WLixIn87Imf0bt3bzA1mwQTJk7AbrfzxptvWGXsXGbzs+H/1mHsCBfAensaV5PKykrmzJmDJEk89NBD3HbHbUR5o4zP2WQKCwsZM3oM//mf/8mRI0fa76MZ7ZWRkcH48eOZ/uGHrFmzhoGDBrJhwwYaGup56KGHSIhPuCQh2qNHD2x2O2fPnrVOJDbFtflOBALGSbj1DfW0traSlZXV/o519Zpd4qvn9XqJj48jGDIOOFNCyjlulZIk4XA6qK6uRlEV6310OBzs3rWbBQsWEB0VzaOPPsr111/fob+MHjOa4s3FVBw92uUhcGafVhTFSJnb5napaRpqSOXDaR9y6NAhbrrxJp544gkjGD1sEVg0qQiXy8V77717aRUWCL4gQvRfgZiDjemDaQTwNjBs6DD+8Ps/4PaeGygGxiTw2quv8dbbbzHvk3l861vf6nBa4/mtqZ0s7xKWlU4NqSQnJxMfH8+J4ycIBUJ069YNv6/dBcHaJpUkcLbXQdf1cxYdl2Mtt1yDHE4cdiMuIL13OgWDC7h21LU887SRbWbRwkX88N9+SHp6OlHR0ezctcsIUrZ1nRNaQ2NP24FOE8ZPsHYGwst4MYvqxTCD28xsGaGAsQXudXuJjoymd1pvBuUP4rpJ1/HEE0+wZUsxu3buIrln8nnF3c6dO3HYHQwbOoy+ffoadVHaJ76QEqKpsYmAv+vg2c51/CroahFnCs+xY8fy+SYjJeOLf37RiKnQtQ7uRRfzKQ9HlmV6906nZOtW9pfvx+/3G2LYLqMFjUO4zP5eVlZGc/NZunePvfz6nK9tvsBufc+ePYmPj6e2tpbTp0/TP6d/x2BQqV3w67qObJfb/ae/ALIko+qGG1IwGMThcNAtphsx0TGkpqQycNBAbrrpJn72s59RvKWYdevWkZebh9fr7fJ6mZmZREVGsXPHTo4fO05ycrLVPsFgEKfTaZ3ge+jQIVqaW7j22muJjjEOKVJCCqqmcSmNJ8uykSFLMgKIT9eeZuiQoYwcMZJIb8eFodfrtQ7vMsXf5dLc3ExZWRm6rjNmzBh6pfayrMumW0l0dLSxwKTrccEcL8/fby7u2V5dVU1dbR3XXHMNhYWFREdFW0YXWZbxRnpp9bXi9/s6fM8UrXa7nbu+fRfzPjHSt65ft57tO7aTmJjEpEmTjM+q2oX7NpDTP4fZs2ezZ88e/D4f3sjIDrugqqbicrtoaW5hz+49BEPGAY52u/38WXmQLnpfAG+kl+TkFHbuNPrZgAEDsNlsxqnHNtnarZRlmeLiYoKBIBJYO96fb/qc2tpaCocXMnbMWKM/61iLDo/bOBcjFAxhi+hk5AlbmZjuV9C+oGtqaqK4uBin08mIESNITkm25rXww+R8Ph+ybPvKxlaBoCtEaPgViCRJlvWk5nQNq1evJhgIMHz4cOIT4olwRnT54/V6KRxRSLdu3dhaWkJpaamVGu9CQtvhdFo+pAF/wBBPdptlyejR0wjCO3ToEJ9++imtvlYcDof1Y7cbPq8VFRV897vfZfHixfh8PssCa/nTX8LEb04ezc3NvPO3d3jm6aepOFqBbJctK6HL6aJf336kp6djs9tobm5Gtsn06deH9N7pbNiwntmzZqNohrtPuLVe13UOHzzMJ/PmERsby6hRo4iM6igovgpfTKntv6NHjvKHP/yBp556itbW1g4W2wh3BBlZGaSl9aK+vp6zZ89e8N5uj2E1NkVJh/vJEgcPHWT9emOLua0QHSzXl5rS8KJ1u4g7i/kTHRPNlClTyM7KZsGC+Wz8fCNej7dDlqLLnSBvvPFGXC4XK1etZOPGjSiKYrktmIuK6qpqZs6cSTAUMnYVtK7vdb62tj4XJhrCXQAuVGcTU4j27duXa66+hrozdbz77rs0n23G5jB28Mw0sLIsU76/nGeeeYY5s+egaF24z11KO7WVt7GpkQ8++IBHH32Uk9XVRsyHpiHbZZwuJ4k9EiksLCQUCtHa0npBK/CoUaNITExk3769fPjhh5w5cwZJNnZ3HA4Hsk2mtaWV1atXs3DhQhwOOzffdDMulwtN1QwBdSHf7rBqhldZR7fS+iJxjsW4samRjRs2crqmBrnNt/ty+1L42KRpRllbm1sJBIzEADaHjW1l29iwYQMRrvNnQ7vQO6vrFx9PzLFeVVUr45L5zuqaTmtzKytXrKSysqrLGCOAfv36MW7cOMrLy3njjTfYt3cfRUUT6Znc85LHs8LCQhLiEyjeUsynCxdaLk3mbp7D4UBTNNavX8+69euI7R7LddddF1bZTnW/jFWyO8LNmDFjjEPuZs+m8nglsl22YlQ0VQMZ9u3bx1//9te2rGrtRh3ThUpVVQLBMKNHW1xTXV0dCxcu5Oix9kD68FgWM8DZ5/PhjfSi6ZrlLmpeH4yFT+f21DSNPbv3sH79evx+n/DlF/xDEaL/CsV0jdlaspVjx46SmJjEN77xDWvL83w/ubm55OXlEQgGWbFyxQVP5jWJio4ivXc6Lc0tlJWVcejQISoqKqipqUGSJWKiYrjhxhvomdyTadOm8e7f3uXYiWO0+FrwB/ycaTjD5xs/5/EfP86KFSsoKSmxJixzAutqsupqq9z8t5aWFtasWcOMGTP521//xoH9B/D5fQSCAeob6inZWsL+/ftxOpz06dMHdEhLTePmm28mPj6el156ifffe5+jR4/S1NRES0sLdXV17Ny5k2ef/Q1HDh9m4oSJDBw00PLdDnc5kW3yZadb62DRkowg6LozdcydO5fZs2fz5ptvUllVadQjEOBM3Rl2bt/Jvn3lJCYm0bt37wvuMGRkZKDpOqtWrWJz8WbONp8lGArS0NRAaVkpb77+JkeOVGDv5K5klu3CFsnwD19iHcM/3MV3VEWlf05/7r//fhxOJy3NLSiK0mEyvVyGDBvChPETOHjwIO+//z6lZaXU1dXR0tJCS2sLe/bs4fnnn2f/gf14PYb12rIES1gCuCs3p/BYE/PzpqXS/Ez4n+GEu5FBm+uFpuON9HLX3XeTnJzMkqVLeOmll9i7Z6+RclBXOdNwhtLSUl54/gVmzpzJ1q1b23dqJCxBawqUrgRFeKyKruk0NzezfPky1q5by3//5jfs27uP5pZmAv4ADfUN7N+3n1WrVuF0OklLSzNSRLY9QDPmJhQy0gHHJ8Tz85//nJhu3Vi0aBGffvopR44coelsEyElxOna02wp2cKbb77JsePHuPHGmyiaVGT4uKsadru9rezt5e/K512SpHYLu6bTr28/EhMTOXLkCIsXLebUyVO0trbS2tJKRUUFM6bPYM7cOW27CO3P63KIjoomPz8fWZZZsmQx+/fvR9WMXZL6euOckD/96U+cbT5r5O5vO7zMejZtMTvhbmbhfcN0VzpfUKv5+ZTkFHpc1YMDB/azdu1aTtWcIqgEaW5u5tjxY3z44YcsXLTQylDUVf+12W18+9vfJio6ip27dhIbG8uECRNxOB2XHMPT7+p+fO9730NVFN5+621mz5pNZVUlLS0ttPpaOXXqFMuWLeOVl1+hsbGRKVOmMHjw4A7XuNxAVssgIUuMHjOaYcOHUVxczEsvvcSePXvw+XwEg0EazzayZfMWnvzVk8YBcm3WdfPslGFDhxEXG0dNTQ2fffYZp2tO09LSQnNzMxUVFXw0/SOWLFmCO8JtuSOGPy+Px4PdbmfPnj2sXLGS4yeOc+r0KfwBP1FRURQWFhIMBlm/bj179+zF5/Ph8/mora1l8+bN/OUvL1FXV9e2gLtotQWCL4xw77lCkSSJltYWNmzYwKmaGm668SZSUlMuaD1RFZWoyCjGjhnLsmXLWL9uPZPvmUyvXr0uer8bbriBsrIy5s6dy/bt25EkiQkTJvD4Tx5HDamMGDGCBx98kPfefZeXXnqJFSuWk59fQEREBJVVlRQXF3P69GluvPFG7r33XmvnAAwxElKUDguQcMu7mc9eUUKoigK6kUHnvvvuo7a2lhkzZ7B3716GDh2Kx+OhpqaGTZs3UVVVxa233sqkokkoISPjws233ExTUxN/f//vPPfccyxdupT+/fsTERHBsWNH2bFjB3V1Z5g4sYj7H7ifpMQkFMVwBZIkyQpcDPgDl2+N1o0gSjNYVlM1cnNz+eEPf8irr73KtGnT2LV7F/2vMcpz8uRJPv/8cxobG5k8eTJ9+va54OW/9a1vsaV4C8XFxfz+d79n8ODBxMXFUVlZydbSrbjdbsaOGcPyFSusYF5N11A1lVAwiO0iixhVUQkEApfk/2v65Wu6hhJSOvjed2gvHb5x2zfYtGkTCxYssLKcXNLiowsiXBE89t3HaGltYfPmzRx+4jBDhgwhNSWV+vp6tm3bRlNTE3fcfgcff/wxrb5Wy4pnWlMDwcA5QkxVVUJt2TfCrb+WxVXVLetfV5Y+WTIzjWgddmN03Ti85yc//gmvv/46f3//72zatIn8/Hzi4uI4fvw4paWl1NScoqioiKlTpxrpCttcoEwLtNnmoVCow8LQLIuiqIQU45mnpqby8MOPUF/fwKrVq6isPMGwYcPp3r07Z86cobi4mJYLvDsAACAASURBVIqKCsaOGcuYMWOMHTSM06jNxXogGDAsp4rKjTfdSHV1NdOnT+fPL/6ZJUuWkJubS7du3SgvL6esrIyzZ88yadIkfvSjHxk7OVp7e6udsg51jv8wF2NGdzFEbUpqClOmTOG1117j7b++TXl5OWlpaWiaRllZGceOH6NweCF79uzhyJEjVnuZMQaKoly0H7tcLsaPH8+WLVvYUlLCf/3qvxg+bDiRkZFUVlZSVlZGYmIi48eNZ/pHH1ruHKbw1nXaTnZWO1i5LcOBLBu7HWZ5lHN9yAHik+J58IEH+d8//y+vv/4627dv5+qrrzZOB9+5g4qKCoYOGcp2+3YqKys7pE21+oGmk5uXS/6gfFatXkVBQQHZfbOt53ApqIrKlKlTqK2tZd68ebzwwgssXbqUq6++GlmWOVJxhLLSMkKhIHfcfjtTp061kjSYbW8+81CnTDbnw/yOLMukpKTw0IMP0Xy2mU8Xfsr27dsZNWoUXq+XmpoaSkpKUFSFH3z/B7z88l/azj8x3serr76aO++8k+kfTeflv7zM9u3bSeuVRigUYvv27Zw4ccJIM7ptW4ezQ8x3dNCgQeQPymfFyhU8+eST9OrVi+7duvP9H36f/tf057777mP7ju2sX7+Ompoahg8fjtvt5tixo2wuLiYpMZFBgwaxbv06IwU2lzFvCASXge2pJ5965p9diP/H3p0GyXHed57//p/MquoD3Q007osgKYriIVsHLUukReu0R5Ys2bQVlqwZ05Yty7LmitmY3dhXE7vhN47dFzuxu7MTMbuzO54JjWcsyR57pJFGtmSd5OgAQRK8SZAECYA4+j6rKjOf/77IrOrqRgNsgCAa6P59GI0GC1XV1VlVWb988v/8H7nyQhI4e/YsRx46Ql9fH799/2+XiwN1RtBX0RnN3bZ1G88+9yyjo6PcdvttHDh44KIltRaMQzceYvvodmZnZ5iamqbVbHHXXXfx9rveDl7Wjd78hpu58cabiEUsO0r8+MccPXqUEydOsH/ffu6//35+6/7f4tCNh7ojlDFGjh49yoEDB/i5d/8cu3ft7j7W7kTAWHDy5Encnfe+970cPHgQd2fP3j288Y3lB9dzx57jwQcf5OGHH+b48RcZGdnKxz72MT7z+58puyhUoz/9ff3cfsft3HDwBhabi7x0/DiHDx/mkUce4dSpUxw6dCMf//jH+a37y24gncmUsYiMj4/z0ksvceedd3LnnXd2uw2t1fTUFM899xy33nor99xzT1l3XETufPOd7Nu7j3a7zTNPP8OPf/xjHn74YU6cOMHevXv51Kc+xa//+q+ze8/ui35QDgwO8Kbb3lSWKD3/PI888ghHjhzh+PEXefObf4rP/v5nufVNb2J8fLz7GIq8YH5+npeOv8y+/ft4z3vec14P8Y6nnnqKRqPBve++d1mf+JU6NftPPvkkfX19vPvd72bv3r1Lr6cVI+J9fX0cPHCQU6dOsW/fPt71rndx4403XvaH4o6dO7j11luppeWkvsOHD/PYY4/x4vEX2b1rN7/zO7/Dr/zKr/DUU0+xf/9+3vve97Jj+w4sGJMTkxw/fpxbbrmF97///fT194HDiy++yMzMDPfccw933nlnGRidbklZs9nkxIkT1Ot17r33Xvbt27fs8VtiNJtNnnn6Gfbu3ccHPvABtm7bimGEJHDLLbdwww03YGacOHGChx56iIcffphjx46xc9dO7vvV+8pSqDe+kU470CIWHHvuWLXWw8+zd+/eVUdtT5w4weLiInfffXd3peUDBw5w6623koSE48df5PDhwxw5coTnnnuO/v5+PvrRj/J7n/k9brrppu6+4YUXXmBxcZF3vOMd3HH7HdTqNYKVC8Dddttt7N+/nyzLOHbsGA899BCHDx/mxIkT3HjjjXziE5/g/t++nwP7D3QPlvI8Z2xsjLNnz/KmN72Je+65Z9XnPITAE088wZ49e7jnnnvYsWMHsYi86bY3sXPHTsbGx3j0kUf50Y9+xOOPP87WrSPcd9+vcd999zG/ME+j3uD973s/W7dtJc9zTp44SV7k3Hvvved1Quq8fqE80Nu6bSs333wz7s4Lz7/AAw88wGOPPcbY+Bhvf/vb+OwffJaRkRFOnz7DO9/5zu6ZgcmJSZ5/oWyh/P4PvL87Gb135DpJEs6dPce5s+d485vfzM/8zM+cN8IM5SKJb7jlDWwf3c7Y2BiPPfYYP/zhD3n44YfZsmULH//4x7nvV+9jZnqaLUNDvO9972Pr1q3nbcPoke98+ztMTkzy937r7/GWn3rLJZeapGnKnXfeyf79+5mfn+PJJ5/ioYce4tFHH2Xs3Dluu+02PvnJ3+Q3fuMT7N69e9mBkHt5hujZZ59lcHCQD37gg+VibGs48OjsU/bt38ctb7gFwzhx8gQPVe/t06dPc/sdt/P5z3+en7/353n88Se46aabeNfd5cFssMDtt9/O6Ogo586d4/HHHufw4cMcPXqUoaEh7r//fn7x7/wis7Oz7Nixg3e/+9309/d3H/fI1hEOHTpEkgRmZmaZnZ1lZGSEe+65h+07trN9+3ZuuvEmms0mx6vPlCNHjjA9Pc3dd9/NZz/7WXbu3Mnc3Bz3/Nw93Hb7bZc1B0g2r87Cg6/Gslaml9YGZFb2PJ+YnKDVarFv375u/e8FJ01Vp8izLGN8chzDGBke6fbHv9DBQneEJhacOXOGmekZ3J39B/YzMjzSnVTc6VM+OTXJ6VOnOXnyJCEEtm7dyu49u9m9aze1etlPvBOWsizj7NmzJLWE0W2j9DX6lpUjdL7PzMyw0Fxg28i28xahmZ6Z5vQrp3nppZe6LSH37N3Drl27yv7T1aiqmXXbCsYiMj4xztjYGGdOn6HdbjM8PMz+/fvZtWcX/Y3+8/r4t7IW42Pj1NIaIyMj9PX1detaex/PhSwuLjI5NUmj0WB02yjRy8dVr9WJMTI+Oc7pV05z9sxZYowMDw+zd+9edu/ZTaPeWNaJabWa7k4JyuTEJCdPnuTMmTNkWVYuInTjDWwf3U6rWZY/9fX3sX3bdvI8pygKpqbLFWLLRZDCefcNMD4xTqtVLn40ODh4wd81Vi0Yz507R7PVZPvodmr12rJa5I6iKFvsRSJnzpwhFpGR4REGBgYuKfT3PpbO45+ZneHUyVPd7TA4OMj+A/vZs2cP9VqdU6dPgVP+vMGyc9Dc7BwTExOk9ZQdozvK12uMzEzPMDUzxdaRrQz0D3R/j86oelGUpTitZovto9uXtbl0L+fAZFnGuXPnwGD7tu3UG/Vl5UFFUTA5NcnZM2c5ffp09zW5b/8+tm/fzuBAOTk1SRPyLCdJE8bGx8iyrLy/qlPTyo5U09PTzM/PMzg4WLbW7OnGNT0zzZnTZzh16hStVovh4WH27N3Dzp07y/aI1WsKh+nZaWZnZhkeHu5uA7yaUB/L7jszczOceeUMJ0+eJMvK1qD79+9n1+5d3Tr+NE27Z0RarRZT01P09/ezdWTrqiU+IQTOjZUdt7Zt3Uaj3uher521OXO6/HlTk1MMDg5w4803Mbp9lEa9wfT0NK1Wq9y39PXhVNtjYZ7RraPdM46rvZaXzpLkzM7NcvqV05w6dYqiKNi3b1+5GOH2Uebm58qfPVBuX7PyAG9icoJggZ07d65alhdCYG5urvz9+/oZHR3t9oBf9toPQISsyDhz+gwnXj7BxMQEAwMD3Hzzzezes5t6rc7Y+BitZoudO3cue/2ZlZ3Tnn7q6bK16a1v5I/+6I+48dCN523ri0lqSXeV6SzLmJiYKPdXZ8v91ZYtW7jpDTcxOjpKvVYnWE/NfbWN260WU9PTtPM2O3fs7C5s1vuaXE1n/ljn8216ZppzZ8+VC0G6s3PnTvbt31cu4miBM+fOlB2qhkfoH+jvdkVqt9ucPnOaM6fPMD8/T6PR4ODBg90BlZmZGbJ2xp69e7orI3e+QhKYnZ1l7NwYRVEwMDDQfV3nWXnmaGp6itOvnGZsbIxYRHbu2skNh25g67atzM7OMjE2wejoKENDQ91WpmrhKWuR1tdWuKPQv4l0wvlaayV7v1/sQ+9yR1x7eyivrGXtjP4sf1Asqx2+mN5JZL0/b7W66t7+2KuVjfTWDV/od+3soC/2e3bu61LEeP6CSmt5PCut9rx3Hlf3/nsOGnp/1qrPxRru/0LcfdmqsL2X997f1fJqP3etNc2rudj757Xcx6u9BjoHViu38Vof28rn89V+3sWe/979zsoD9os9/pWv+85lK99PneutvK+VB9uv9p5Z7Wf2/lvnfi7mvPfUJVhtnsjKwNdbMnah32Pl77ra87yyrj9NU/7ZP/tnfPnLX+Zzn/scn/2Dz1JLa5ccOLuDOysec+f3WW3/u/KxdXSuv5bH0Pv6Wm1ewKu9f1duo7Xsi1YegF7wfUE5YNa7H72Ux/Va9h2yeaw19KumXy7baw1mF/pgvOCOrrcbyqu4UBnAhVxsx7qWcP16hdQLfZBc6s9b7fc7b3tcYBOstbb2Ulzsg/xq17Ku9YP3WqqxfbXXwFrC0sWeswudKbqc+7rU9+KFbtMbGFcLTa8Wvq7G83c5Yb9jrYMxa3nuV9suK6/T+/2ZZ57ha1/7Gjt37uDuu+++rMAPq7+vV9sma3k/XcpZht7b9Frrc345t1vzoNcqZ1+vpX2JbC7q3iPXnCsxsnEpO9W1fJBeyZ8nV+Y5vpou9/m9nOBype7jetvGa3GxM46v1bX2Hn69nr/V7vfLX/4yJ0+d5N57f5477rjjsktKLuUx95bGvFbX6mv9Srz3Ra4kjfRvIpdSCrKersTPv9TQfzV/3rVwv+v58y92ulyujGtxW17t9+Sluha32UpX6jF2wmQIgZdffplvfetb7Nm9hw9+8IP09fctW1RLXrvr4bUlm4NCv4iIyCbk7szPz3PfffcxPDzMXXfdpa4xIhuYJvJuQmuZlLny79fKacbO4+nUiV5vnQ2ule0ocr25lJr39XwMV8OV+B07v0v0SHOxiZlRr9e7HdRE5PqhibyyoV1vYV9E5FqTJAl5K6evr49ao0bWyijyQuUoIhuURvrluqV2ZiIil077TpGNZa0j/ereIyIispko74tsSgr9ct3SSJWIyKVzpX6RTUmhX0RERERkg1PoFxERERHZ4BT6RUREREQ2OIV+EREREZENTqFfRERERGSDU+gXEREREdngFPpFRERERDY4hX4RERERkQ1OoV9EREREZINT6BcRERER2eAU+kVERERENjiFfhERERGRDU6hX0RERERkg1PoFxERERHZ4BT6RUREREQ2OIV+EREREZENTqFfRERERGSDU+gXEREREdngFPpFRERERDY4hX4RERERkQ1OoV9EREREZINT6BcRERER2eAU+kVERERENjiFfhERERGRDU6hX0RERERkg1PoFxERERHZ4BT6RUREREQ2OIV+EREREZENTqFfRERERGSDU+gXEREREdngFPpFRERERDY4hX4RERERkQ1OoV9EREREZINT6BcRERER2eAU+kVERERENjiFfhERERGRDU6hX0RERERkg1PoFxERERHZ4BT6RUREREQ2OIV+EREREZENTqFfRERERGSDU+gXEREREdngFPpFRERERDY4hX4RERERkQ1OoV9EREREZINT6BcRERER2eAU+kVERERENjiFfhERERGRDU6hX0RERERkg1PoFxERERHZ4BT6RUREREQ2OIV+EREREZENTqFfRERERGSDU+gXEREREdngFPpFRERERDY4hX4RERERkQ1OoV9EREREZINT6BcRERER2eAU+kVERERENjiFfhERERGRDU6hX0RERERkg1PoFxERERHZ4BT6RUREREQ2uHS9H4CIiIiUDDBf70dx7XKrvl/GbQ3D3ACv7mf5vWizX1wA8PI50La6Pin0y6ZR7uMNzFfZYdmK65V/Ka+n3dtl6U0u1Se1W8/2lWuWAbF6/oKXJ4RXe9fIFWRg7mXo771QlvOl4H8p28e8N/QbEKnyP0bvfUrnwLPcD3Q/DsvLHGLnShfhq15B+5D1ptAvG1aV75ddkBDK8BIA69kpOcv2+lb94dWez91xrw4BXDuuV1V9OkQrCBgUgXZ0QppQS1ISbcJriC//XiWhJBjtmOFtx6w6WlMweu1WGcZ3DCxiFsEdCJgl5T7KtNGXWPUSrF6Pl7IfWfEyN5Lyc8AdcIpYVAM952/vzXTmpRPuQwFESFLIw/JrhMDSviD0fo5a9zq9B1RQbuYiFij4ry+Fftl4qpGJTo4P3pNXYizDaFw5bhmqHVZYPkAdIp2dlAXtrtbKvNxWwSLBDSeQJ8655jiLcbH6RJFrg+M4ZuUQqlVvoJAaI2ELu+rbIXMF/itm5V7Elo2sBgfc8Zjj8UK32awMN8Oxah+/tiPR8jVt3W1sXv7hIVavfZaFV192283HOh+gvZd1Li8iTizPACy9QLsHS+aGWyB2/59y0ABIkup508DZulHol43FylOPvadqI5BGCGZ44mBWjj6vvGF12fIdfoJVu7PCI/rwXSsjOIS8OpiywKnxk/x/3/0Lnm4fZ7bRQtvy2uHmBHcCRoGRuNHXdN5Y28v/eN8/YHttGx71fL0ezDsDEwYe8BAgVHuktDtOup4P8RrTOfthq47KX+AWSyNB9Hy3hKpYBbdYfnZoU5efnyngUHRG9Tv5PglYEkgCy06BdA7AOs9JYOkgq7xCOY9C+5H1pdAvG4svnQ0vx/Kr85LmxKTg1Mxpzs5NQC1dpYazHIWIGLGq70kcahHq0di3dQ9baoO4e3fkQlZn3RCTgAewhLmsydkwx1PDi4wNLqqG9ppR1e7jmENuRuoJN7UajE7NYyFgbpiq+l83bk40KAxaScbRZ5+k2W4RKA/Gzh+O2JyWtkBVPlLts9d6Y+v9e3SCGxZhsG+AN77hFhr1vmrU6Eo+6utPZ6Lu0vQHJ3enlia0PefY6eNMzs+QZW2SJBA7pa89z4dVn58hlrdPLeGWG9/AyJaRaqLAJt/I60ShXzacMnB69R+YB8wKMjL+9rHv8/0XH2Z+GPJwfucGp/zgbQbDCPQXxmBujDRTPvP+3+T20VvwqNC/NoaTdCfORYss1HJO9GXM97fW+8HJqqr5LjGl31NuTr08aNMR2hVXlkF4N/B7CEzaIn/5w7/hgScPk9VyUgrq0TEvhyM2+yx4x5a+ekpILpUVTi2Heh6YPj3J7Olp/o8//ufsbvRd4Ud8/XHozmwuz0I5kXLEvx0KfvzMo3zj6Hc53RqniG2SNCG6VwNmofrMheBGnweSVgHNguceeorP/+bv87EPfoToEcO6ZT76PL16FPplQwpedsLo1n06EFJOZRM8W5/gmYGM6WSpHrG3o48bxKQ81Z4UCVsz43bqTIXF8r6Dlrd4deUHcxHKUqoEqomKBUZ8tRvLeumM7JnTCpHcnCIp/0kDc1eKEaJ1KybK0O9MhDn+3bf/gu+88AhDt+yi1Z+TkhFjUYV+NmeB+QqOEav9S7TQmXG1ptt2BphrDrSNcy+d4/jJUyzMT5AnXh6IbeKDKlg6rrTYGUALWIjkwTly7Gm+8egPObsjY2a4TowJMcbu56yHQG5GcKMejZDUSebb/OjBw7QZ4+XTL+OFU+QFSZKs82+6OSn0y4a11JoNLATatFlII8drTU4NZHjaO5m050O1O6krQGEstBOGC1iwNhYCRNdEpIvofPxGIJp1y63KSYqdwK8Dp2vT8hl8sQqkDpt5gPnKsU48Miwaljh5cJpJzhe/95/5/qlH6LttB1NbIvO1jISMvtgZP5Vy64Wq9MR6RvpfPfSXI9hG6tCIgdOL0xw58xzbdzTIJgPRHPOwbHLqiltvGuaGeYDCIQkUlvHkmWN88Qf/mdmtMDMSOdNolZOgMUK1n3dzsgBJhP4I5hmHn32ak8kstx/chidGCIE0VfRcL9rysiE5RgxlOO90InCMwgI5hp+3ukh3IkD1PSz9fwHW9u7o3Oba/V+azihRp11qGquazkDPeWPTiOU1pyc8eayqfLxqWesa5r9C3Kqq5+gQDUtgpj3Hnx3+Cn/7ymGyQ31kgy1igLQoqonVAfW6Wq48CO2t57/469MwUgKNaDRymJuY5uiTz9JKDK8ntEOBW9m5yi64c9ok7wGvuus4QMACnJg6w7/9/p9xdmeTuLOPPIGtsb7ihkvbre6BeuE89uzznH72RXx0hPl5x0JSzcOuZqlov3LVKfTLhtQZEeruwL2s0e+cFi6t6NPfKy4NT9cd+jys0vFHVlMG/858it72b9p+17be4N/bClEfzFdKiEaIYNHw4IwXs3zxR1/hgTNHYf8g+bDhoSCYVWtZrL1DzWa05i3jEKJTy5y4mHP0iWOMLzZhsEGruzbChW+7qVQTpDGDAM28xT//k3/BYXuR5oEa862clISwcp6PLw36JIWTTc5w4uwYO3eMctYL5tvt5R+5CvzrQqFfNgc3Qu9BgLzuOg3cFPavR526aRQ6rxADQlGW9WDQqmV88YGv8IMzR2nv76MYMkzrV1xZXu5/ysUVjXNjEzz71POczjIYqEFantGtdQYnpNxjd5ryJ8b45CQ/fOwhFu7ayomZMZq1nLpDGpfvFzpnBxwjLZyF46/Q39dPZjkxOKld7rRruZIU+mWDW1G2IyKyThzHU2cmLPDFB77Kd84+QvtAH80tRp7E7iqmK0dBNSp6eTqD1klIeHlikhMnTjFT5LClv5ypmhp5hLSz4rQAVfAP4ImT1yNsazDwpn3kfbPENKfAl86Gd29UnZWyADlEIvlck7xWDh4s9q7iK+tGoV9EROQK6JxJXK0DjANFDWZ9ni9878/50cRTLB7oY2EAPKmaw3fDveFRXa4u1co5V25l28mXJyY59tzzZK0IA42yUUOagsGsQz2op9hy5dyTaJDVCubrBe1GZDbNwdq0Oq19l7FqTZYUkgCJ0wpedvx1WDRX599rgEK/iFxdnXJxDV7KBmLVCqTl/5zf+jGaMxPm+Y/f/yv+9sRDbH3bQZrMEYCBLJCFSCspiHF5ByVZm9VmoRgwsbDA088+j+c51GtLK8u6QTAWg7GY2nkD15ted70baAdoJpRB3xw8X1EPVW19T6ja+IB1TgaUHfzrek1fExT6ZXNa6w6+u9KgrJVbuU7Cq1Lwv8Zo/sWlWW1bdRbciuWEXTc8QJ44U3GOrx35Nj84+yhDb97LZNIic6cWl94Iq3aLlFWcv+07ZejRnWBG3WFmdp4jjz8NeQZJSnfJ9t5Vd6vuzBqFXtKd0u9QFuo4cam13VLdFEsX9dygvEoBA9HJPNLurtWrHf56U+iXzae3O0HvZSv3R8EgRgp3iujqWrgGndjY6dyz2r+XXSFsxZV7ryCvq1VfyNWTsPLDXC7gYh3AypFNi6HqxW/Mx1n+6sg3+K8vPkh+4yDNZJE8glXrICwk9KwhLmuzeveYPMsYSGsw2+TFo8+SLrbIhwaglkKMZbvUCygn/GrFdQC8E9TL9r2J95afBc6r7+l0aLOyTXOtKFs2F5SzpJvar1wTFPpF5IrqZPjLGsjX6P860wfz2tmKA1urWtSWYchiecpr2ub5jw/+Fd944YeEW0Zo9kPWORXmXi5ipxf9JVv2SvXO4n+wNW2wOD3L0aNP80qzSX14kByHIkeLAl4a85UNrjuv21eflWsYzc6K3h7KCb6de9EI2rpR6BeRq6v3U0T7ftlQDIuABzxEmrWMP/n2F/n+uaNw8zDNwUBuPW05FX5eM3NIHBLK74vjUzz+5DFeabXwrVtopQZFASGgVc7W7rIP/62cANy0qpOPJRATatFVQ3UNUOgXkavHeA2nAUSubdEcKCgomE+b/Ltvf4kHpp9g4WCD9pCRhbwca75IiYlcAveylCQ6jZAwNzXLsWMvsZi18eEBSMpVkMtywqqe30z7ntdVteiBGbRyaAW25zWG5tsM1PuJRaQoCpIkWe8Huikp9IuIiFyW3pHLajJu3ZjNF/i33/5S2ZbzUJ2FgbJ+P2CarXuJVg4O95ZUBYwaELJI8JxnnzrGmekZ0pEtZdDvnXyqUebLYN0/17T1egd1MPqszp6iwZbJyFtuuJ1f+aWPkoSkPC0j60KhX0RE5DKUHWPKxoZu5Uj/RDHDXz7ydf7b+BNw0zDzjQxwtuQJ0Zxm8OqMgLwa7/mCpXnmXtXwJ9WX5zkPHX2Kmdl5ktFhpjvzTMs51UuBX5t9bbxqu4kRixVdvV5tG3ZDv7MtBrbPRX56+yH+6W/+Q4bq/bjOcq0rhX4REZFL4uWKrh6wGCi8oKhHpnyOrx39Dt98+cfEGwbJhwNFUZagRKIWgFojt2Vj9N2vTlcdMyONRi2PtGcXeO7ZFzgxOcXA1mEWu+WDvrxDm6yZdbt4GVlWkCY1IKXhNfBI2wJunaOqild/FJAUgbonbGmnvPPQG/nch36bW7cehCJQFIW6I60jhX4REZFLUfXiB8CNaDmT+Sx/9sOv8L3Tj5DdNEA2aLTzJngZ9heCd9ctkgvzFW30ey/vdIWsReizQDY7x+OPPsVkuw0jW5is2VKDHls5uq8Nv2bdoywosoJ6C2pnF9lVyyhC5GxwclvlWapaKFmrIJnPuWF0D7/87g+ya8sok7MTDDdGSUO9/BGaxL4uFPpFRETWyCjbcRoJVhgeIjNhnn/3t1/iOycfZuin9rI4UJCFSFEsBZtoXo2dKnxeCqe7wGs5cdehrzB8foEnnnqOk60mtqUP0qRaMXbFjeUSWdlUKjrkxt7B7bzv0Fs5d3aKhb6EE/PjjM9PkCdFt4yHzrfyzUFOYG4+51T/PF/4ztf4i+bXmH5ujD+47zO87+73UeRqo7ReFPpFRETWoHelUrOAh4JmLecL3/wLfjz1NCNvO8BcX0GGE2PUaOYV0An8wSGt2nP6NIcclgAAIABJREFU3AKPPXGMk4uL+LYtS23jeze3Nv1lsZ5RfloZO4a28T/97v9AFts8OvY0X/jJf+HQVqc9AN1OPZQHs2ZGSIwYDCehj5RaG1588hjPnnyadz/3FO+7533dEp8QtG7C1abQLyIisgbdwcw0QAjMxHm+8IM/52/PPUz70ABFrUVh4DFX4L8CYlWbb16W9DQw2ottjh07zvziImGgQQyUs3m7E0TVkvO1Mi/Lb2wwJbYzkr7AyzPjfPWJBznTHylGAq20VV3bu5s8BeoFEAK5Jcy2Fnn0mZc4e+wl3rx/F6FWwzDSNNX7Y50o9IuIyKa1erFNZ/3RpVHMzv870LKcuXyBPz/8Nb5z8gjFDVtoDQUSd5LCKFDufC2MTl2/ESiDShqddrPJU088w8tjU6TDQxTBlp7AcIHJAHJJDLBQvuI9KyjMOTV2jj/90V/yfDyLH9hCnrTL9rOUZ7xKjrkTzAgYedbm2ZdPcXbsFdg7zPTpSAx6ctabQr+IiGxKveU6q4nBylIer7JkgMKcBWvz5SNf46+f/2/4oS3EkZRgkYEMKGA+Ufa8XFadTrHqUCvBqLmTRufo489wcmwcRreRJ2GpS09nlq82+mvm1bYnAaunZHmb/+UL/zvfXXyK9KYtzD7TJIkJaVxRmlMdf3k7p16v05yZZWZ2jtBfIw46k/WcaOpftd4U+kVW6pzD9xX9iUVkw+gN/OcPQBp5gHZSYG408oDHiCcwwQx//sDX+fYrh+GmIeJwjZwcc6ew8kzA0q7Duz+oe7ZAPfqrTWM4hvd02eltrW84tQhDJBQz87x4/AQnz03CthFIbKn43KnqgLhI6O8k0s51Ov9z/v5dnT5ZWlEXGF+Y4kfPHWXy7UOcDbNAGyyFcIEVtmqResyoj43TcoORYUhT2mRX7/HLBSn0i3R0zil36LNZZENbPfDTfe9Hq8ocMCwNjOVT/Jvv/hk/mXyGeOMA+WCgqAK/4bRDJOLETrrsDfibPUj28BU9jLrjLD2X1UgYxEgXM44+/CTnFhfpHxxkMazoDw/VUdZadVb3CmWw1X5+Get243Eg0LYcRvroP7QT+uchZJSHZ0nnBj2q+v4FI8y0yKaa5QGCJ5STL/QmWG8K/SIisildMII4pDEwmIXuhMMxpvmT732Rw3PPYm8YomhAjuPu1XWc6FXVv13szuVCzKysC3foj06tmfPw4Ud5cWoKRochDZe5XZet6VvSyrCr6pxl6RyWFSGSh0huva/rnlqq1UK/WTV+pjfCtUb9kkRERHqFMqgEBycyxRz/6Sff4EdTT+IHBujfN0xmvS05lwLkyihpZlqB9GKqEyJG2Y6zFqEvgs81efTI4zw3No7v3Ib31fA0lKU98rrqVECVlVNONL/kReW0HsW1SSP9IiIiy8RySCxNOLs4wX/4yX/mB2NHyW8coOh35icmukvrdkb6Vxs3Vti/uN5x4OBlS86aA1nBU88f5+WZacLoEDGxpTosX1kIJFffq7+uV39HyHpT6BcREVlWAhLJk8hUMcuXjvwXHjz3GNmBBj6c0MiNvsJZpGfi7jo+6o3A3EjcqBFIsoJHH3mSF8bG8cE+QqNW9euvrrxsIq683jorInc3+xoWQYtAq/OPnTdIp/RN1pVCv4iIbFpli0IvQ0m1/GuROPOhzb/93pc4MvMcyY1bsC2Q5W22ZClJDLQTJ69q+a3neCF0p0LaJU4w3VysSpHlartGGgNWOEd+/CjHzp4h3T5C3l9bPWjK666b1XuXP+g9NXORep9oXvbktwhWVBOm47Ln0N11JmwdKPSLiMim5N0/l9o/ZuaMhzn+9de/wGPN55kdzGktzJO1IjEWZDFgHmgGyC/Q/MUutQB6kzKMJBi0Ig1PePz4CV6anGbLjlHSoQZTRU5Z9L+i148OAF53nbAfzbrhf8U1ev5eHQ145yuWR3VJBtYEr1GPGXikKAqKosDMunNiFP6vHoV+ERHZvKzTMrIMN4kFvv2TH/B//tUXGN/extN2dZ3u+D1Y6Ik8PavCwlLwkYuzzh8GbcfOzRCHhxm96QATDSDmVXjUtlwPkaUO1t2Xc7eWbUU7WqoF0jqr8xoQqnkx/X30tQp25aFskZuE8uo6C7YuFPpFRER66vNnZ2e4/advZfyWBs/X292rdEY/m70F5iszqQL/mg15YMhTtnqds0+8yNjULJONBKe11EtfrrqyBL9cbyJ62aWqXCm5t85qxeq6Vl1mVrZhskjiNXYu1tk+nXNwcB/vfsc91YkbU+hfJwr9IiIiOEmSQpqSJIHcnFNpznwtX/W63a+VK+y6epOv1Ww0ZovImXaOeRvIiUUb0gJqKRToIGpdlOe+vFpoLsNYTAxSA0sg83IV5JVPjVE1gjfIAztbNQ5MJRzy7fz9T3yaO99wB3med4O/XH0K/SIiIr0JxowiwHhSwMrQ3ylv8GUXLL8fBdU1Kjsl1Qfr2EBKPluUEz+7U0e1HdeLV912YnSSNKFWr0HSBs/BAxTJ+RPVDTBji6XEvE59tsUduw7xufd9kne96a7yjEFqZO2svLqC/1Wn0C8iIpuX9y4jZMsG8csQs0oZQjfUr/wul6Rn/meptwGqQv96cYwYc8wTQubUp5uMnp5mJp2l3VqEyRbkFyi9ynMKa+DPnCGbq7PlzUM8d/w4x59+kXffdTf79uwlSRKV96wThX4REdnEbOnPZWHelmfQlTwsv97yu5M1c8y9rApZmfldwf9q67wF6rUac+0m2+pbuPemNzPRbLI7Zjzy1DH23/4mbGh46TbVV2JGLXfqOQwMH2RL0cdMaPLXT/+Ao9/8MXk74+/+2ifVr38dKfSLiMgmVSUcX/7dqv8u0KuQbuP4TqlPL+WZS9DT8aWjN/gbCv6vswtVohUx0pfU2BO28i/+wf/KJAt85Ym/5jvbb2BmZ42pvqWJvNVqFXgIEKHugT4PDFInn2vzX7/xQw4drDPTmulO4lWf/vWh0C8iIpvYKsFjWdhXMHn9+Iqv1f5d2//11F10a8VlwQJpkuBZTqso+P5DD/C9R35IetMWGsEZiPmyW0QzYl6O4ZtBK2aMT5zjiSOPM98fWRxqUATvBn5ZHwr9IiIi3luqU430a9heNroLLDDXameEhtEOztcf/Db//vt/xcKelNiO5GcLimUtO5dqsooiI63XaM7N8+LLJ2k69G8bZn6utbLJp6wDhX4RERHoST8aXZbNZWXwT6jhGDPe4n//0v/DqdE2r8wbsyd7uit5ZFktlgNFUZZsnR4ntUBt7y4WDBI1tbomKPSLiIiISMmNhIBjTMdFxvta1N66n+ZAtYZCLMrA70XV3apata4zub0dYXGBuJjRDODBaGqdtWuCQr+IiIiIdFk1zSIjZ75ekI8EsoFQDtnnBoUDyVLo75TH5QX090GSED0rC/yrwK9iufWn0C8iIiIiQFnclhhEB/eClkUWPIPYBiLk1ZfH5beyah5MUoN6DZIMRf1ri0K/iIiIiFTKoG44gYLgToxV0Leqa08C3SH86tqYQZHByim71VkDlfSvP4V+EREREekRCUBwSNxIsKWaH6hG9Xt1kn1nkm/P5W4k7hr0vwZoaoWIiIiILKkCvrmReE9YtIsM2ZvT7ezTUR0LDPjy4wT16l8fCv0iIiIisoL35Pu1FucsnQ2omVVVQKFcgZflq/Fqoa6rT6FfREREZBOzFV/dC71cqi5g1T+uMfwb9KcJtSRAnjNfFGCGmRFjLOcIyFWnmn4RERG5Rviqf5XXiV84xzuhXJu6e51qAS6zpRs54L7UmrOg+7wtFgUxL6g1GqTWZOvICO5OkiTYWg8e5IpS6BcREZF1UnWG6ZR5ePWHO6sXIxg6GrhyDM7fnF4G/miGYwQgsVjV7LP0XNmKO3CHkJa9PmNBI4PhhYQ4lvGpd3yQj3zw72AYSZKotGedKPSLiIjIOnFyr3q+W9kfvoClUhJfZURYuf+KsVW2owPRjKIK/QlOnVht81CN7LM0yu+dzj0GocFAHijyyMAi3Jhs4b63v4ff+oWPMxy2EIuImXXr++XqUugXERGRdVN0g2PZ/r3oHTlWd/d1EauDL7OEep7i04F6I6GdpjRSqCeGm2M4HstJuokbjRjYVdQZbzfYHge5/+6P8Wvv+jtsS4ZJPSX3nvofueoU+l+jzgx0ERERuQznfYZqJaf15lY+LXVqNOYCEw+dJa+3IcnIkxwPGe6xrMAKATACgXYMLGaB9okp9vftY/zsGP/p61+Fhcgv3Ps+bth3oKreUm5aDwr9PTptpF7LbfRCFhERuTze/VOfpevBDbzqt5+SMJwM8u//+F9xpjXBmM3yFw98nSebJ8m2JtV83rKrT0F5dqCzLld4Gwy2ahxun8BfeYojX3kA94Lf/81Pq55/HSn0VzptpEIa8GLtL0Yzo5216Wv0gXtZC6cXs4iIiFynyrKdgrql7BncwejAIH/52N9goWD/gd0s9DvRIzE6SRpwgxjKA4bMoLBAf6yTTbV59MUThH0DtGIbYFmvfrm6FPorjmPBmJ6foVm0cfO1jTNUZyFtYZqtg8P0pQ3NMRIREZHrTqcZj5mXI/cJzBQL/OCZB/jr5x9kdn9KPpiSeayCe6AIhlk5HyNYJBBwEmxukScefYrpJGd05xDFarOG5apS6K8ECyxai68e/RZPzb3MOWuyGJyad1ak8+WLVnh5oBDNGCwShqeNj7z9A/zszW8lFAr9IiIicp3x3uAfqSUJDz72IH/6o79gfp/R8jrZTCB61U7VOt8MLOIhI3XDFp1jL7zCKzNT9O/YyulTk3inHEjWjUJ/l9MOOY/OPsc3i2M8W1ugFQrSWM5Oh/J0V/dAteok5iHQV9R4W7POW1s/RaQ8yhURERG5HnmMtGOLuVaT/+tP/xVHaqcJ8048YXisQ6yX1+uEfge3HE/bpDn4WIsFSyh2bGWagiQ1Tc6+Bij093Ai7RCZsZy5LQFSJ+v0n6VqHdY7hG9AMBZaAZ9NCfVkXR63iIiIyBVhAU+MvtoAT555kUlf4MZ33cHzxTka/QmLWULbExZ7b+OAFVgtZ2+eUiyepbnYhL4UjzmhnhLX6deRJQr9F5IXYEW5shw9X8tCv0EwyAvyvKCIxfo8VhEREZErwMywJCEzh74a7b6E+aRgarAB/QnEgHs4f+TeUrxwXinqkBreVy9PARiQJhrpvwYo9F9IEiB4tVxd5LxR/o5gEAJJMEJQWY+IiIhcn8ysWjHXycnJ8ozMoN1fwxs1sAySzgq8PTfsVEWkCb7okBrknctZfWVlueoU+rvKabrG6stSi4iIiGxk7g6xnJtYC5BGCNHLzN4ZtXdf+nsvo1ysq7friRtEp+6ubHUNUOg/j1XRf/ll6scjIiIiG51RBv06UC8gjd4d3F82v/G8hZSr7ORlKXQ9OkV0igK2ugZUrwUK/T3MDXMjdFvzdF7Ar3bDciU6p7pZdVm30Y9e6CIiInKd6GT62FvZvKxnuZ9/A+u5IZF+j3jhzLrTiHQ7Icr6Uejv5UbwQNIN/N3zU0t/X3YSYOn0VqRnuq/RnaWuKjYRERG5Xjhln5LY8+Urr3DeKH9P7b47UGBEzBxiuXCXrD+F/kuxWtVP9RWtZ5RfRERE5DrWqVpY9R+WjfSvaGtuDpYzbznRIm6BQiOg1wSF/rV6lRfsUlPPzpGA4r+IiIhsQCsjjvVeGMGcuhsUCUNtYzSmbB0awZWN1pVCv4iIiIgss/bB+RWTGB3wwJYisGMhZXAePvzWe/nw+z+ER8fdMdPQ/3pQ6O+oTkl55wX7Gi3rbvXa705ERETkdVcO2jtGp83mynmOF7wVeChDT1Gj3oK96RAf+Ol38Olf+hTb0iE8RgWjdaTQX3Ec3GjkCdvzOgdaxnRRUBbslIU7xWonpoKxK6sxlNWoFQkJS2e5AssntIuIiIhcyzoj8eZlV8N6DAxkKSQpJHGprU957Z5bGlggKYx6UWM4afChd72fv/u2X2ZXYztFnikLrTOF/h5JDOxaHOLQK31sq9dpJbGahBLLuG9LU9at+i8lYahI2dpsMJptoRYTQgHg5XtCk3tFRETkOlGuygtJqFGnRjw9z+gLc+wP87QbMHnmFHmrCa0WDA1A7Ek5HilaTuvEDAv9u3j6mWf4v1/4E4ZiHx/++V/k5oM3lwuAYSrxWQcK/ZQvcAwG0ga/+5FP8dtpIEugCI4TqSI/1m3MCZ3YH7DywLcV2dYYxvKqXZW6+YiIiMh1xKpmJO5lxtk7vJvf/+gneWbuBAeyKb539BHe/JY3MLx/lMJz2llG9HJA1GNBIDIYGvTHlKGsQZElPHrqRb77pb+hRo2//+k3gUOe5QCq77/KFPrpPZXlDNYaWAjlP1RHr4511+ladrvOnyGQNKBdFBSWQOLLWl1pcS4RERG51nmnBzmGZbA92crnfvXTvLxwmq8+8i3qw30s7q+xuNVIk6Qatfcq+EdqaSBbaNOICbXY4KWXx/je1HPsfstBYr2s9y/yQmF/nSj0V/JY4AGSJGAOSfSeVXk7L8wVL1Bz3CIEaOcZZoGiU8y/dBVMRf0iIiJyzXPcjCKDWlqO/E/NTvOtH36Tx88+ydANwxRpRtbMSRPvuRVEC0QC7gGPxvHTZ3j42edoDSacnouQLoWjTuBX8L+6FPorngSKUNbhp1W3/fLlaUvL7K5UXSkWBcGq4p/qOKHTvUdERETk+uA4jtWAYLTTyL/603/D3xz/ITP7a7RPQubg0ZbdBgMPRpECRSTMNTl7bor5Rh1GBmFihqjRz3Wn0F8JXpb54E71De8uJx2qBG/0HtdWVWxEW+rq02nT2fl7KK8qIiIich2IZeVCYjw3fZL/cOQbTN7S4OV0AiyA1zkvPsbqqyigmcPJc9QiJCPbKViANNdI6DVAob9iDmnnyLVq0uPVPzixGvtf6t7TUQb+6jRVNQWmcxW9vkVEROR6YkDeamGhzlScYW5bSuOn90IYh34DBiDWl98oljX9FBks5DAzQ38rp5VCQQZWtkCX9aXQX+kuQFFZ6tHTe/n5L9jgtuzS8n70whYREZHrkEOjXsNDoB4SakmgnQSqwmXIWxDzVW4YIXWoOSQBQgrUoMioe7iEFX7l9aLQ32uVrO4X+oeeK9jKC0RERESuV1W2SSjDuhssdS13sLjKjSKE2G1m4h66zVAGVpsXKVddePWrbF6+4ruIiIjIZvCaY3pP88PAFbg/ec0U+l+FAr+IiIjI5VPgvzYo9IuIiIjIqnwtkb1bGqF4fy1TTb+IiIiILOl2MQw4ATxhWZGOr6yDsJ7SCAPzcgqAyiWuKQr9IiIiIrLEE8q1iZJyld1u8IeeGb0VW/H3cpGiAqeO08iNLRnUQoqraHpdKfSLiIiICFCuOUTVnMe9DP3l6H0V6I3q77186d9C+VWYs90D/dNNDvWPctedb8OjlwuhyrpQ6BcRERGRSk8vcivwzsi+OQS7SIeTql2PAzGwK9bZMx04GHbzDz7xe9x161vLrp4hEONqLT/l9abQLyIiIiJLLAIJCQWNIhILA6tG/N1XL9Z3oAiQA1lCY8a5aXiUz3/4U/z8Le8Cd8wU+NeTQr+IiIiILLGyXMfmW4wuwsBsQlbvp5kYqUUSPz+4F8CJrOC2UGehqLOnPsDvfuxT3HPrz5GEBuUBg+FelvjYeSVC8npT6BcREZFNzXq/b/aS86p2P28ucnBkN42xjNPffIxzYY65ehvSNmbZ+aP9IeAGT7WAM02Gtuzna9//Jj/+1gPUFwO/8Wuf5OabblF5zzpS6BcREZGNz6rJqJ3Jpr3p3h1zeheR3ZSMQDDDgLTWz3CW8v/+8b9kpt5ksrbInz/4dR7LXmJsoN1zGzAzogVaaWAwD4y2UvqylDPRePHUaX7yle8ysms3f3DoZgX+daTQLyIiIteXCyXzCy4OZUvfkrysWfeEhtVoe6SWBMydcF77+c3WZNLLbRgMLyJpSDiwez8nmmf5/qOHGZ+fYmjPCHEgP++WBUYrGIOW0tc0+orA9NQ8h8eOseOWXRQhEkIAR8F/nSj0i4iIyHXELjIcf5HQ70CIYG3AabgznBkeEwbrfdCu6th7Yr57eXJgUwV/d4hO1mpSG6gxnc3z9cf/lh+NP0m+v4+snmEWzrtZMCMxI8Zyzu/01DRHHn2cdpJjgwnRYnX3m2prXlMU+kVERGQDWaWHvHkV+Kv2k0VgYDFheKzNL7zlPfSRArG8Xs8E07K6fXMV/DhgRSRJjCwUfPW73+AbT38Xu2Ubk+1F2q0W3Ub+3dsYbkbECEmd2fkWLzz7AhPZIo0d2zg7t0js2YyayLs+FPpFRERkg4tgGWWkTdnSrrNrzHnfwZ/lH37kd2nEGlgn3l9otdmNz6s/3SCkgXPNKf75n/xLTu6MLIxF8r4I5HBeeU41G6KVE2oNfHqeZHCQZPcOFmuBIlyk8kquGoV+ERER2cCqtDnYj03O0Mj6uWWyzrt23cl//7E/ZP/wDtIiVEPcm730pJzNbB6JoeDMzDhh9xZu/rlDPD3QYi7NKJtzrthOXi7DayTsLwITTx9nbnquvJ47FJt9u14bFPpFRETk+nexoWQ3mFrgYBhiaBLeuesOPv+RT3PDjv0EA9qRpZIVBVTH8cTJajmztZyskTNZyyEpoLNC7/IblPmewAm87I5knQvL62ugf/0p9IuIiMj1rZtBV6nnd8ADw8UA6Vibu3e/hc9/+H5u33szhpO5kxAJneQqYIYbFCGymBQ007zqerTKKD9U3ZCgu70729IinZkR2rLrT6FfRERENogqWnY6xDhggeE84cbTznv2/Cx/8NHf4Q2jh7CirF13ChwndpoCLZtwepUf/jWh80sbhhOtoG1FGeBftfzJezaaU54VCOhg6tqg0C8iIiLXt85Sum49ZSVQi4GBHAZemeMXDryHf/LRz7Jv5148RgIB94hVN+vc/Lz73Wx5tfqdDSvXLqiCP/ZqvfWrLklGFfy95yBBxT3XAoV+ERER2SCqYJoUpEXC3iKlfqbFL972Hv7hhz7L/qG9uDmeOx4cp2od6YZb7wj1JuaddYkjwSEQsc4o/4XKqJaN7ld/D502qQkelm6qPv3rR6FfRERENg4HK4xaKzByJuPufW/ln3zoM+wcGAWDfDHHzIgxLrXkN3rOEki3BSdUi5X1zne40GplTtnZx6qw37k8EDyUxULu6tG/jhT6RURE5PoXy5HoJBrb2yl7xuGe7Xfy93/pd7hpaDeWl0EzhNAdbXZ1lbmoS8vmVei3qj6olgIJfUXKaBboq9VxnCRN8Oga8V8HCv0iIiKybkL1PXqnOGdplPniVtSLB4MChjJj8JU2P7v/bXz+I5/m9n23kORlKQ9F+dPMrMymthmL9i+m2pYOwQ2r/j900v9FN1dvxx6o504tg92LOdtDP2+86Q0UWaFR/nWk0C8iIiLrJqXMki2MaIFu8LQLlZHAUvrsTNo18MBQ2xg40+Q9N/4M//Rjf8gtowdJYsQtwy0pg3+3pOdCCXaTh1IH607ENZxAoHpeOmVQq62J0N2e5b8PFQnbWwmjCwm/9yuf4GfffNdV/TXkfAr9IiIisg7KYGlWRkpiUc4HDXWIvTM/V9zMkqXVc60oJ5E2c0bCEPtPFfziwZ/jH//6H7JrcBQvnIjjBNwM69TsW6dzvC//ERdb4Gsz8XIRrhgSYqgT6IMQyu0dYdWJvDEAEfIEQoNaM3KgfzufeN+H+MQ7fpU+6ngWCRZU2rNOFPpFRERk3SyN7Zcjy1g19m9xRcDs6b3fs+KrzTfpswEGXmnyCzfcwz/91c+xb6Rsy1kUBQUGJEv3oVx/UWX3UwcPpLHGSDHAcLOfuRBoJjmcmYB2vuJGoRrpNygMxufx2cjb3/HT3HXbWxibOMvuoV301/qJxau1/pTXi0K/iIiIrBOnLCDpNMnvredfpfzGHMirhaIieKDOCHvO5Ny796f5w1/5NPu27wVzWq0WSZKohvySVKU73oAMtrWHGTkTGXipTd4e55XmNO3W4io3MzDDLEBah9oWkmHnx4/8mMcf+G88+/3H+KN//D/zax++jyIvqNVqV/9XE4V+ERERWW+XEMxDLMtPCmMg7+ONcw3esf9WPv/Lv82BbXuJRSRrtzGzbhmJgv/aWGc9rcRgMbIz2cZnPvRJzjVm+MnJoySzGXe8550w0jj/thgWI6Fw6p4wGGvUFp2njz5NsneEiblpkiTRvOl1pNAvIiIi1wcvJ/fWcuhbTNg/Zbxz5x384Yfv5449NxGKMlEmaUqMRdWlp+o3r+D/qjoLG5MDaaCvqPNbH/0NHjrxKBPNMUYP7mCsBuNFs7x+zyY1dxKcOkZfNNqtJs8/9xJHTp/gzTftgTSUVVs9B2Plfeh5uVoU+kVERGRdeW/ZftUA5vwrVX+0nUY7sH2s4L03vYV/9Eu/x827b6hafzpelItuhRBWuRO5mO4KxdVAfpEVvHD2Zf7TD77KZP8iPjRALYGtsVYGeO8cUJUlWlYUDNZS8vYiT7/4Ao+ePkm2o8GJM4vkIXZbgMr6UOgXERGR9VH15je4SIVPbxsfYzjvY9dExi/e8g7+u1/+HAe27CKNTpuIRSeJqh+5bNWUihgjlhhzyQJ//K//N745/hitA/3EV0LZ+jQm4HHFUxbxZoukUSdOTjObNWnuHIG+gulGxLXa8bpT6BcREZF1k3GhlV+rhZ7cq9xv9FHjwNmcj+z6Wf7Rhz/HaP8ItVgutJVGB/fuQlKKmJfH8XIEPxjT2RwPvvIEs3dtZ2IYSHtPw/Q8ae7V6mo1aDvMtAkEbKAfz1vUopomXQsU+kVERGTdFOeV9nhPcXn5FaIRskBtfJF37nwLn//opzkwtKds3ekG0UndiO7d9aPkcpXBPhJp0mauPxIPjsBAXj0vkaXnpuc2nefzSqzMAAAgAElEQVRuOoOxGrFFt43noI7ArgkK/SIiInJt8XLUvjPSvyv203e6xQdvfif/+Jd+h4OjN+A48f9n783jq6jOx//3mblb9uRmXwgJAcIOIoKArK6IiqKAQnHX1q3tx9ZP1bafaq3Wuvxaa1FUtFqpgH5xqYIKKrUq4FZBtiRAIIFAFgJZSO46c35/zL2ThEVRWcN5+8Js987MnfPMc57znGfxh9AdDrvTrkoK/WHISK+E6F00MDE0E4dTWBV9RKS0qtDoYPhHO/iaEhEbg9B1TBnqWIFVccxRRr9CoVAoFIrjiIgBKQFDIyEgSKwJMCKjHz87/xq6J3UB00rYBZAy8lUZ/IeF6AJKRr43kYQMA8LhiNFvvWr/ACoJRhh0F0JXSdTHI8roVyja074XzAH6wih+IJIDzxWK44iDlU5RKI4WEQVhQJxfI3lngDO7DuXWC6+lZ3IXtDBoWsTIV4b+kaND8+LoQuxgyjvye4cTaUoMlUx9XKKMfoViX0TH7w0BxjG7mE6I3Oer4jjjZB2gSFciIaKl4BVHA0nHAHwZDR8REDIR1X7OLx7F7RfcQGFiFrqQoBkgHdaQaaJDSI8at8NExOAXEjRJu1KbkXgdKffxDUS9ZPvE86hF2XGFMvoVnZyIEhJENinNb39LNIEsosN0rAdFqa7vgrS8cNHJPLIdrB3KlKxu9OFnv9t+kJtsO/kleuRlUkST9jofUeNeYDUVssOTkZjRGpIHywjtnLfk6CKJxIaLNtnTAFPiDjtJrQlwdtHp3DXpVnJiU9ENMKQPhGbJZ/tDtVuoqSTew0PUfNcBV3RxZmdJi7Y4/gO+K7qIlqBZvb6if963OZfi6KGMfkUnJ5IIhgmEQAsjhXEQm0e0KSkhQRMQ1tAR6NHW5IpDwtQkIlJmT4vMAQ6HjkMTCGkqg+lo096A/eaC6JZnTkhcEjQpMTUD04wuljuPNWVVgJSEtUgn0bD1kEsEUsjIOlWAVLHJRwwhIRKPjzQhxgnCxBHS6bZLMiHzDH587jWkx6aACSYCNA9CgtkusseOGmy/YXC0P0unoy2vwimFdcNlJHm3w1ZY5KZHJ0gR9fib1twrDHBoBFp9HSKDVML1sUEZ/YpOSFv9NwFo0oxM5lE1FvVEtJ/MZdtbo9vHQoAGASEIaCampqaRb0dEjCktMkFbc7kGmEjCItKgRUQCpg5S8llxuIka/O28cFFkx5chTNAEASGQiLZt/U6W4yKwHJWalGiyTTsgLFk1o3EN2iHsDiq+H1ErMCpXYQ2n30Fiq2R4Tj9uOOtKemR0xTRNTBnZfZH7VI2JHkqFZB02bJUsJcJK67XKqgoiyRREV83t3hT5pRb5vY7l8QlJEg0HOY4EkmLj1SAdY5TRr+hkiHbfCdvbbP2soZtOPIYDp2ES6hCpH41PjFio0jJ8rHLEwnJyHL0PcYIjkFJgCmHPC1pkwjY6hIvsGxOqOHKIff7t8yf7+6iR6yAgdKTUbbNfdsKYCU2Cbsi23ScreDkSxyxxS0FAhSEcQayFqFvqiLCO5neS1Cw5t9cQbjnnSgpTLYM/HDY6eoaj0SXH7LpPLkwgqGHNjdG+CAci+mtNA4cG0kG830G3vRqn5w9g9GkjMfYdS8VRRRn9ik5Gu0QiuwqPCUJDQ8fTqpHrd6O3Gvj09ka/taUfFGAIEwcGEkEQnfiQk3QzBofpwIzWjlYckOhGiX2HJGjC8pqa0kSXOsLQIKyqbhxVbK/cQQz/9oswUwdDJ8Vw4pIaOm3evs62SovKq/VD2yd0mpBsOCn2O9kl1TR5JBDCcsy4NJ10w01jsIm9tbu5aMhwbr/gBjJiUxBhyYGKwLTfIFQcWaIbXg5DgiH51rQ4XUBAgvSQHDbJafZwTt4Abjj3cvJScpBhqYz+Y4jSZopOiIz8X8MUEiFAmgY6GqlGHLmNHpLMEKF9t+2FiBj9Epc0It4NB66wG6/fRZwZE6lYppTWt2OFTNjbxLqGy3QS0wTFaNS1OtR2/FFFIGTUZ9/xxstIOIsRWZxJBPFhJ1k+ibvVwBEGKcOA81hd/BFDEl17dgwOj5U6gc21hHeG0R1KSo8UppC0ShOfdKFXNXHJKWP42cU3UBCbCSETUwOlJY4+UR+BFKBJgccEEQZC7V+xjwLXBOiRrQDhhladpD0wsnsvbjh7JkXxOZimUCkyxxhl9Cs6LVJIjMh2vS40nLrOjLMu5aLguRi6tGLLbSxPf0iTmJqJywwjgaDuQDNcuEJOUp2xOHSdsPL0HxRJZJElrCQuISWgIaRGl8R0Lu45itHBJkxHxGGk1k5HB0k7g39fT3/0WbASWYUUaKaGZjhIlB6SjSQ0HJEFQechathE9/ukEOimQIQNJo07h1MG9yMYktE6RoojgHSA9Gg4TBOPoZMZn41DOBFB06ruIkUkFUUpiqOP9bRrUhBnaORqbrzokQifiBOhXYSmGTbZG5asdUDXgIGj1UmfjCJuvfgauqXmI0JWEQcrvFNxrFBGv6LTItvZN6YGBA080klCbPq3G5uaZQRJNHCAcIAZlpiq4ci3Yhn8kfsnrCo+pjTxxiVx/pCzEShXz4mAJBKq5TesON5OaHe15SJGA/kBE9y46entBtJJp/zgxxGGsCq9SCNMKGyiRRaXmsuBabSFYCrD/ygiJFKzHGduzUUvbyF16/bi0Q10U6AhrBz3fd7m0KBvMIDDEUuRmc4N4y6lt7cLtFo75DhUHtexRoQCIWXFKDohkQY7kWoxlleiY1WffUtwWn+Wlmcp4s2P1poXka1MVV/4EBBtnmNh7xNr9t9U6dNjxcFn27ZQK2vb3ho20VZqu1P5+A9ARCg1tIh3OYzQQUgdoeIRjhimiPZDaEsEMg0TzQRNaJjt84PaI0AoRXLkiCRmSSEJ6yH8pp+AEbJCW6NzqRT7aRQZqX0hELikhlu4cAkXDnSiu+lmpAGe4vDicB2aD18Z/YrOiYjWbW5f2s1SNN/PiIluGyi+FXsy3rcWZPTeq2D+4419GxvtOzwHWiR3OqJhJBJAWp1eD5j0rDhctK/8GHWmSNO0w9HkwSJBlNF/ZGmnw03NRAiJMIVt8GvyUELeTNptpVlHizxepnqkDjuHavSr8B5F56WDwU/b952s3vhxhxQHsBCj914Z/IrjlA5yqQz+Y4VtJ8pvCOlRBv9RoC2mP/psSBmdVg/l/luDKDt25DrcF6n4jiijX6FQKBQKOlbmsvJ3lHF5RBH777lqWiScKuLlP5B9L5Xn5hjyXQx30cHOVyN27FHBigqFQqFQKI4vlFP4+KBDjw/FiY7y9CtOPpS7QaFQKI57hBAHCfExVY/Eo8bhDclUqXHHFmX0KzovB4oJVRXDjg5SHPBGy3ZpFYrjg30nYXGAdqcqhFpxZJDtsnkP9ooDxfcogTzyHFhLRyv0aN9xCKRQCbzHA8roV3ROVJWYY89BXDry4H9SHCeczEb+8ViS9/vWqP++n+Wo1cT/lqTQztUO7gTiWxR01PD/PodUI3psUUa/QqFQKBQKheJbiW4Efh/HjTL4jz3K6FcoFAqFQqFQHBLKeD9xUdV7FAqFQqFQKBSKTo4y+hUKhUKhUCgUik6OMvoVCoVCoVAoFIpOjjL6FQqFQqFQKBSKTo4y+hUKhUKhUCgUik7OSWP0CyEOW/3lI1nHWUp5XNaJVigU387Bnt0fWi9d6YSTj0Opla9ph3cKP3gH3O9HdD5T85rih6Lk5/DQqYz+qMI6kOI63Mrxu7KvwNrXeBD9qgT8wOw7xgca68PeWEY1kjqxEQeXmyPZhOiHHLv9tR21RkmK4wp73AUddVC7nw+XbOx3HBGZg77h8O3nKE3T7H+K45N9dcq++u+wO0UPg4zud31KFf5gOkWd/kAgQE1NDf6gH2lKTGnidDjxpnhJTklGIDBNE9M0Oyil7yuMhmGwZ88ewuEw6enpOByHdhullAjN6hLb0tpCOBzG4/agO3Q0sb+ylFKqCT9CVJHU7aqjvr7e/p3QBImJiaSnpeN0OJFSojt0wqFwh/d/3/vYvLeZ+vp6MjMyiYmJ+U7v1R06fp8fh8Nh7zSp8Ty6CE2gaRqNjY3s3LkTwzAAq9On2+UmJzubmNhYBOKweCOFEGi6RjgcpqqqisS4BJKSk61zRo59MBkQQiCRGGEDf8APQGxsLLqmI6VE0zTlDDiJME2TpqYm6urqCIaDmGETp9OJJ8ZDeno68XHxIA7u0DJN85B3ioSw5sio3CYlJ5GSnGId+wBvjeoyKaXdNTcYCtKytwVN04iJi8GhOTqcV+nAY4OUkpaWFmpqazBMg1AghObQ8Lg9pKWlERcbZ4//odoy30Q4HEbTNap3VuN2uUlNTf1O19r+e13XMU0TKSWmaeJ0OTHCxg++xpOZE97oF0JQW1PLrCdmUb2zGo/HQzgcxjRNsrKyOP/88xk+fDi6Qz9syiYYCrJ48WJaWlqYMWMGSUlJh3SdQghafa28/977rFq1inA4THJyMiNHjmTwqYNxu9yEQqHDco2dDU3TaPW1snDhQj54/wMSExMxTQNTSuJi4xg9ejTnnnsuycnJGGFjvwXe90FKydqv1/DyK6/w45/8mF69eh20K0mHySwyEZeVlfHhvz9k0qRJpKen2wpNGW5HD2lKpJCsXLGSJ554guTkZHRdJxgMYkqTQQMGcvHkS+jZsyeYP2xs2htCu3fvZvYTTzJ+/Jmcc+453zhRRSdcTdPYunUr777zLrW1tQghKCoqYvz48WRkZii5OcmQUvLVV18xd+5cgsEgmqYhhMDpctK7V28uvuRiuhV2+0HzWlSmDMMAYTlVZs9+khEjRjJx4kTgwIuK6Dk1XcMwDDZu3MiSJUuorq5G0zQKCgs499xzycnJUUbaMUYIQWlpKU8++SSGac2NAsse6dGjBxdeeCF9+vbB7XF/61gdyqLN4/Gwa/cunnv2Obr36M5ll16Gy+XCNM1Dvl7rGygpKeGjjz5i2LBh9OnTR8nSYaBTGP2BYIBtlds47bTTGDp0KKFQiNbWFpYt+zePPfYYcXFxDD19KA7psD193/dcUkoEgtraWhobGw96vH0fDqEJmpubefqpp1m8eDHDhw8nOzub0tJSVqxYwVVXXcVFky46rLkHnQnNYXk5a2tq8Xq9TJ02FU1ohEIh1m9Yz8uvvExLSws/mvkjPG4PcHiM670tLZSXl+Pz+yxv8CH0IgwFQyxf/glPP/MMpSWljBgxgvSMdNubrDj61NfXs3HjRu699157kV5dXc3ixYvZUFLCgw8+SGZm5g96/oSwdhUkkmAwSGXlNpqamhCa+Nbj6g6dLVu2cM/v7sHn8zFixAh8Ph8LFixgzZo1/Po3vyYuNk7Jz0mElJKGhgb27t3L5MmTycrKIhQKUVVVxTvvvEN1TTX/e8f/kpHx3RaE7eemfXcCAoEAW7ZspU+fPvt5Xdu/vv3vS0tK+etf/8ru3bsZMWIEfr+fxYsWU7G1gptuvon0tHQlt8eYpuYmGhsbufDCC8nPz0fTNGpqanj//fd58sknufvXd1NQUHBYdmJC4RChUIitFVuJj4/HMIyDhuAeTC40h0ZjQyNz5sxhyZIlxMXG0a9fP7VTdBg4IY3+6MBHJ1khBLqu079/f0aPHY2vxYfb46b/gAHcfdfdvPbaaww9fSiaQ7PCa4BgMIhDc9jHCwaDOJ3ODsrQ3k4XlsdQCGF74qPeD92ho+s6oVAIp9sJgBGyVtO6rrddsylZumQpr776Kr/85S8565yzcLlcNDU28fRTT/O3v/2NIUOGfKsCP1kFXsiIZ0nTyMvL4/ThpxPricUwDEaMGIGu6yxdupSJF0wkIz0DTdPQnTqmYRIOhXG6nQiE7SmILtZ0XW8L65DYY+hr9eGJ8djyJRBoDg1/qx+n04nu0EFaW+iartnhRD6fj4ULF/Lyyy+TlJzUduyIDCmODZqm4Xa7GTlyJNnZ2SAgbITp3r07199wPUuWLOHKq660wuyij5gJfr8fl9tFMGB5WqOhWkITmIaJ5tAwwob1rAtAWuOs6zoOR8fwBt0ReY1JB2dBVL7+++V/aW5u5v777ye/az4I6PVOL/7618f48osvGTt27A9yWihOHNrPQwkJCZx++ukUdCvACBn4fD4yMzN54oknWL9+PRlZGZZDwZS2fovOX+Fw2NaFAEgseY2GQAoQWPNaTFwMQoiI3LYl4QrNkk84sA5rbGwkPj6em265iaLCIqSQfPThR8yaNYsvPv+C88477+jcNMVBEVhyNGjQIAadMgihCYL+IF0LuvLQQw/x5Rdfkt81v8OY65oOmvVeIvJgGIZtf0Xnxmj+R8AfwOV2YQatnQSH7uhwPE1qbSHOHHw+DAaDOKWTRW8t4tNPPyUhIaHDeUGFPv8QTkijvwMC2/saXQjExsYSCoXIy82jX79+lJWVAZaBVrm1ktdee40VK1YQFxdHUVER1153LTk5OSBg08ZNLHprEZdPm8aX//0vb7zxBqZpMmzYMGbOnInbvU8IjgR/wI/b46ZkfQnvvvsuQ08bSv8B/TvEgO+qq2PxokWMHTuWy6ZeRtAfRAhBRnoGV155JUuWvMvChQu56aabjurtO5GJTlDxCfH069ePN15/gz2795Cbl0vjnkbefvtt3n//fXw+H9nZ2Vw6eTJDTjsNh8uBr8nHgvkLGDlyJLqu8+yzz1JTW0NxcTHTr5hOly5daG1p7Xg+BC6Xi+bmZl599VVSUlIYPWqUHbMNlnEZGxvLTTfdRFJSkhrP44zoZIUABw5OOeUUvCletm7dCkA4FGblypW89tpr1NTUkJGRwZgxYxg7diwxMTFoDo2l7y5l27ZtnHvuubz66qssX76cjIwMJk6cyLhx49AdOoZhdNjOFkIQCARY9sEyNmzYwHXXXUdcXByAHa9/wQUXMHr0aDKzM5GGNTmOHjOa559/nuXLlzNu/DhQNv9JS3R+czgc9Ondm+TkZGpqagAIB8N89dVXvPTSS9TX1+N0Ohk7diwXXXQRcfFxBP1BPvroI0zT5IwzzuC52c+xcuVKvKleplw2heEjh2OGTXtBG0VKSSgUYsXyFZSUlHD22WdTUFDQdk0ITj/9dPr374/T6cTlchEOhyksKiQ2JobGxkZloB1nBPwB26HZo3sPuuR14csvv+Siiy/CMAzKysp4+eWXqaioQErJhAkTOPvss0nLSMM0TdatW8euXbsYMWIEzz33HMuXLyclJYVJkyYxatSoDs5Op9Np5QlEFgaffPIJX331FRPOn0BRUZEdLmsvLoXAE+uhZH0Js2fPZvr06fz3q/92uP72YbJKrr47nSbVvoN3XAOHy0FtXS2bN28mPSMdM2xSvbOa+++/n08++YR+/frRq1cvVq5cyc9++jM2rFuPlJKdO3by3HPP8tDDD/PKK69QWFhIfHw8Tz31FPfffz+GNGwBFkKABjGxMaz+ajW///3v2bhpI2npacTGxna4vvItW6iuqeHcc88FE3uVbJomXbt2Zdjpp7N06VJCodARrypyomGP7QEcA5pDIxgMsnXrVrxeL/Hx8QT9QZ54YhYvvPACGRkZDBo0iN27d3PrbbfxzjvvEA6GadjTwNtvv83s2bO59957iYuPo7CgkPeWvscvfnE7O3fuxOVytY2zsBKUGpoaePjhh3n1tVfxer0kJCZa1xFRoh6Ph0mTJnHBhRcQExOD2+0+indK8V3ZXL6ZhoYGMjIzCAaDvPvuuzzyyMMEAgEGnTIIl8vFk08+yaxZs2hsbARgxYoVPPHELGbNmkV5eTkDBw2koaGBX/7ylyx+ezGw/4QUCARYvGgxs2b9rW0ijCClxOfz4XK7yMjMAGnJWjgUZkfVDnw+n7W1rXaKFIApTco2baSurpa0tDSklLz33nvcc889mNLklFNOITYulsf++hizZ88mbIRxupysXLmSWbNmcfvtt7N9+3YGnzqY+vp67rjjDt5f8h6apmFKc7+46ddff51HHnkEXdfJzMzc/4KEtYsVDAZpbGykxdfCprJNIASFhYVH6a4oDkY0EiKqj1wuF8FQEJfLReW2ShoaGujTpw+YsGrVKv73f/+XrVu3MHDQQHoW92TOnDn85je/YVftLjRNY9m/l/HXv/6Vhx9+mNLSUgYPHowQgvvvv58lS5bsf37NcngsWrSI++67D5/fR2JCoi1n7Uu6akKjZmcNjz76KCNHjuTCSRdaOw6oXLjDxYnt6d/HLt640TK4w+EwwWCQZR8sY8+ePVx73bXWQsDh4MILL6R///4UFBYgNMFll13KnXfexb/efJPCom5ouoau6zQ2NnLPvfeQl5uHaZo89dRTPPvcs1x//fWkeFPaQowQrFu3jkceeYTs7Gxu++ltFBYWWlWEIp4+KSWNjY2Y0iQlJcVO2jNN04p30wV5uXm8+867tLS02DHHyvDfHyGsfIrVq1bjcrrQdI01X69h6ZKlnHnmmaSkpKDpGqecMphx48cz+JTBdhWd++67jwULFnDa0NMiFZMEq1at4sEHH7Q8XYbJfz78D7/73f/x6aefcvHki+1zYlox4H/+//7Mxk0bueOOOzhj5BmY0grviVaI0nW9bdsTNYbHG19//TVVO6pAWnH+CxcuZPDgwUw8fyLSlHTt2pVbb7uN4cOHExtrhY8tXryYuS/OZe3atYxNH4uu6+xtaSEnN4errrqKhMQE6nfV84vbf8FL/3yJMaPH2GFjmmblnSxevJh58+YxYcL5zLxqJh5PW96JlNIKG8LysoaDYYQQ7GnYw8JXF5KWlsawYcMOORFOcWLToaSsJmhtbWXt2rVU11QjEOzcuZNFixbRvXt3+vfvjxEyyOuSxy233MLwEcNJTk4mFAyxdOlSHnroIc4YdQbDhw8nJiaGTZs2cskllzDjRzPQNI3Kykru+d09LH3vPc6NhOFEq/74/X6++OILnnvuOS679DKmTJlCTGyM7XyJ6rZwKIzT6SQUDNke4g0bNnDm+PH06tWrQ4K70ofHBqFZ47lhwwY7ZLFhTwOLFi0iMTGR4SOGozk0MjIyuPHHNzJu3DiSkpKQpuTcc87lt7/9LStXrmTixInEeGKoqKhgzOgx/OpXv8LtdlNXV8cf//hHFixYwIQJE+zzRkPM3n33XZ7/+/NccMEFzJw50zr2Pka8aZgEg0FenPsizc3NPPjggzTtbcLvtyqZ2aFCSoZ+ECe20R8hqlCWLl3Kxo0bqayspLW1laKiIm648QYGDx6METZITU1l+IjhrFu7ji+++IJwOERWdjY9evSgurraEi4Juu7gsssuI79rvlXeStcYMmQIf//736mvryfZm2zH937xxRc8/tfHycvL46c/+ym5ubkH9EgbhoHH48HtdtsefrBiyjWh4XBaQxH19LdPnFIr3I6Ulpby4j9eJBgMsHNnNV6vl3PPO9dSSDFWXOroMaNZu2Yt/3rzX7TsbSElJYUBAwawbt06amtrSU1NxZQmI0eOZMhpQ6wxk9CzZ0+Sk5MpKSkB2sJBduzYwbx581i9ejUPPvggg08dbFWGiVSHiS5AbcUUSfpVY3d88dJLL+FwONi+fTsej4dBgwYxddpUMjMz0TSNvv36Ep8Qz0f/+Yhdu3aRkJhAMBDENE2r5Kdp4HQ6yUjP4MzxZxIfH480JGnpaQwYMIAlS5bQ0tpiG22GYfDWv97iySef5OJLLubyKy4nLibOCkk8iGiEw2ECwQDz5s1j3dp1XH/D9SoR/CQianRrulX3fvee3bz66quEw2Hq6upwOBwMPnUwl06ejDfVS8AfoHfv3sTFxrH8k+U0NTURnxBPSkoKycnJbN26leHDhyOlJCcnlylTptje0/wu+fTt25d169bZegsBra2tvPzKy8yePZubb7qZqVOndjD4oW03K1pWMRQK0dTURGtrKxJJ8969+P1+EhISAOUAOZYIIdizZw9vvvkmiYmJti4bcuoQLr30UvLz80FCly5d0B06n332Gbvrd+NyuSgoLCA9PZ3t27fb4WVJSUlMnzEdp9NJOBwmLT2Nfv36sXLlyg7n9fv9LF2ylFl/m8V5553HVVdf1cHh0f76hCb4fOXnfPXfr/jZz35GemY6jU1WsZRoWfNoLqXSg9+fTmH0R5XPhAkTOGPUGXzx+Re89NJLjBs/jrPPORukFXtYvqmcOc/OYdu2bfYkHwgEWL9+PQMHDrSOheWdy83NRRDZFtMEusNKzAuFQ2jC2g1Ys2YN//3vf9m2fRv5+fl4U7w4Hc4O9ZGjuFwu/D4/zc3NCE0gjY5C29raSmxs7GGpk9vZ6dOnD5dfcTkO3cFvf/tbCgoKuOyyy6wynoaJYRr844V/8OGHH5Kenk5MTAx+v5/KbZW299VSXk6Ki4txOp2W8X6Qkpq7du3ihRdeYOfOnWiaRnp6ul1Tvf3ro4s5O9nI7Gj0K0V1bJFSctWVVxETF8P8efOpratl+ozpFPcstsJpwmGW/2c5c+fOxeVy4fV6EcLyrG7bts1Koo0Mocdj1Ur/pmJOUkoWLVrEjh1WiE5CfEKk1Oz++qHD+5D8c+4/eW/pe1x+xeWMGTMGI2xYSXLK239SIKWVlCsQpKWmMX3GdFLTUpn7j7lUVGzl8mmX06NnDwQCt8fNp59+ygvPv4Cu66SkpODz+WhoaKCpqcmutR8MBiksLCQuPo6AP4DT6exwTlu2JCxatIhwOExzUzNpaWkkJCZgGuZ+ntb2+jQ5OZkbbriBQDDAV199xYv/eJEPPviAyZMn43K5jubtUxwAr9fL9BnT6VrQlQXzFvD5559z3oTz6D+gP6ZhLdq++u9XPP/35zFMg6ysLAA+/vhjNm3axIgRI+xjpXhTSE9PJxQK4XK77BKg+7Js2TKWLVvG1q1bSUiw9F/AH7ALErTvPVJZUckbr7/B2LFjbUdcVCb9fuhJvqUAACAASURBVL/Vf0l3doigUHx3OoWFGfWq5eTk0K9/P3Lzcu1610OHDrWz0t986002lGzgzjvvpHef3vYW5qMPP4rf77eFSNd19MiKUtMjXyOrTCNsILGSmzZs2MCMGTO46aab+L//+y1vvvUmM6bPOOAWVFZWFrpDp7y8nMGDB3f4m9/nZ/269QwYMICkxCTlEfkGTNMkNTWVfv37kZCQwHXXXsucZ5/l888+Z9y4cUgp+Xr11yxYsMAug6rrOoZp8O9l/+bZOc+iCQ2nw2l7DfaNYe1QajXiIenaNZ/f/e53PPTQQ/zlsb/w8EMPH7QM2cE41EY5iiNH7z69ycrOwuPxcN999/HuO+/SvXt3nE4n1TXVLFgwn7S0NG66+Sa8qV6klKxbu44/PfgnPB6PHa4jhMCUpl2x50AYhsGGDRv4n//5H+rq6vjXv/7FoEGD6Nu3b4emM/vy4j9eZN78eVx33XVMPH8iLqfLbpykODkQQqBFUu48Hg9FRUV0K+yGx+XhgQfu5z//+Q8ZGRmkpKZghkyefOJJUlNTueN/7yA+wSqTuHvXbn75y19aRpKwHE+aruH3+e3w0ui5oK3jqWEYNDQ28Itf/IJlHyzjscceY8iQIeTk5livPVCzrsiuZlJKEq17Wxk2dBifffopH3/8MRMmTlBG/zFGSonT6aRHjx707tWbjLQM7rjjDhYvWkzv3r1JTEjE7XbzyiuvEAqH+M1vf0NqWipSSuqqa6mvr+8Qe9++LLYRNqzwRK2d4R/5Ultby6233sqOHTuYP38+p556KgMGDLAqmYEtS4FAgPfee48PP/yQuro61qxZQzAUxO/zUVZWRmtrCz6fj5tvvtn+TMpO+n50qkTeqBGXkpLCJZMvYefOnbz99tsEAgGkKamoqCC/Sz69inuREJdAUkISiYmJ1NbW2qX4HLqjo9EXWcGa0lKQcfFxaJpmV0e4/sbrmXjhRC67bAp/f+45Vn+92laAdrlGoHv37gzoP4A333zTarSiW8aDKU0+/exTVq9ezaRJk3B6nPt/OIVNtPIKQCgQ4pzzzmXgoIG8NO8ltldtR3fqbNiwAZfLxegxo0lMTMTldJGYmMj2bdvx+XwYpkHYsBq4BYPBDsc3DGO/coo5OTnceOOPOee8c/jlL3/JkiVLWLhwod3oJMp+MYrS7BjuI6Xy1B5lhGaFSdhl4iJj0b9ffy6dfCkLFixg3dp1IKCpqYmamloGDRpEXm4eSQlJxMfG43Q48fv9lrfJtHaSwuEQ4ZCVbBstJ2eNb8fktBkzZjBz5kymTJuC0+lk/vz57N69ez/9EC2HN/uJ2Tz99NNcfdXVXDnzSpKSk9CduuWVVWvFk4L2808oFLITHEOhED169GDmzCt59dVXWbt2rR3jv3HjRs4YdYa1s+mOISUlhVAoRE1NjV06sX2ZYqEJ28CP7jxJpF2hbPoV05k4cSKPP/44Ho+Hx//2+H66EmBvy16eeeYZ5jwzB5/fB4Db7cY0Tfz+gFXx6gc2SVT8cASWHkQCGmRmZ3L11VezcuUK/r1sGeFwmO3btrN69WqGDRtGYbdCkpKScDvdpHi9VFdXA216LTrWDocDp9NyoGnCGmefz2efd/LkyUyZOoU777qT1NRUZs2axZ49e0Bivx6seb13796cc845ZGZmEhcXR0JCAmnp6ThdTkKhMDExMR2Orfh+dIqnUUpJOBy2vRDSlPTp3ZsrrriC1197nc8//RyJpFevXtTW1rB23Vpq6mooLy9nztNzKC0ttRPvwuFwB6NPRv+LhGpE43tDoRBer9da8UqYMWMGWdnZzHtpHrU1tfsZgB6Ph6lTp7J7927uufceSktLqamtYeWKlcx5Zg7Dhg1j3PhxmGFlFH4bRthAmtYiLyEhgWlTp9Gwp4HXX3udvc17yc3NJRgM8vHHH7Ozeid19XW88fobvPXWWzginZnD4fABd2Q8Hg9C03C5Lc+UlJK4uDjiEuII+AKcd955TLlsihVvvW6d3el53zAeKSWhYMjq/GoamNL81rAOxeHHNEzbE7XveJ933nkMHTqUe++9l7raOuLj40lOTmLVqlVs2ryJ7Tu2s2bNGl588UWqdlThdrutUAYETqcLj8djJYlHFgOhUAh/xMEQJT8/35pk0zO4+qqr+Prrr1n2wQcEAgF7h1Jilat74403mDVrFsOHD2fgwAGsXbuWtWvW8uXnX1JRUWHn/ShODqLe+GAw2EG/9O3bl/79+/PPf/6TqqoqsrKyyMrKYuWKFVRWVlK3q47VX63msccew+/30+prtWPvkZE8MdOqqx4tydn+udB1nYSEBMtRISS3/fQ2Pvv0MxYsWEAo2LFjfGxsLIlJibzxxuu88fobVGypoKKygtdee43PP/+MU4ecSmxMrNrdPMYYhmGH1UhDIqTgtKGnMX78mbz66mts3LiR9PR0CgsL+eyzz1jz9RqqqqrYXL6ZRx99lOrq6g6Oimhp1mhHZonl0PL5fLaTFSz5cDqd6JrOXXfdRWVlJQsWLKClpcXe6Yweb9SoUTzwxwf400N/4k8P/4lHH32Um2+5mfwu+UydOpVrrr2G+Pj4Y3wnT3xO7FkkknzpdDrJzMq0EkQkkcQPB2eddRarVq3itddfY8CAAUyYMIFNmzYx+8nZdvZ4VlYWkyZNshVfXFyclYzb7vgAsXGxZGdn43A40HWdtLQ0oM1TkpGRwY9m/IgFCxawfv16UlNTOzbnkpKBAwfy85//nDnPzuH39/4et9tNS0sLXfK78JMf/4S4uLj94sAVFlHlEB8fb42BZi3SMK2QjYsmXcSyD5Yxbtw4Th9+OpMmTWLRW4tY/slyNF3D5XQxbdo0VqxYgdvlRtd1vF4vKSkp+50nOyubhHhr0ouNjSUzMxOXw2UtDJFce+21PPDAA6xYvoJuhd32U0TRRUBCYgJ5eXl4PDHoQgddhfYcbTTNCsvzeDx07doVaBsDr9fL1VdfzW9++xtef/11pl0+jWmXX868l+bx0J8ewuVy4XA6yMrMYvjpw+26+l6vty2vw5TExsaiazoZGRlWIlykPF5OTo6Vo2OCw+nktGFDGfX1KD78z384dcgQu5yhQ3cQNsJs3rwZb6rlVXv4kUesBjcOB4FggPHjxnPTzarnw8mElNLWP3Y4BJCdnc3ll1/OE088wZeff8HECy/gmmuuYf78+dz3+/uIj48nEAgwavQoDMMgOSmZYMBqPhkTEwPCei5iYq1cp8zMTKvevwRds/RiNPk2HAwzduxY1q1dx5qv1zB61OgOdfo1oTF+/Hh2797Nv/71Lz744ANM06S1tZULLriA8yacZy82FMcGKSUxMTFkZ2fjdFox8RJJYmIiF1xwARUVFXyy/BN69urJtdddy7NznuWhPz1EYmIiwWCQvn37Mn78eDsB1+12403xEgwGcHlchENhNKnh9Xrp1q2b7ZHPysoiPT3d7lI+cOBAZsyYwWeffUZFRYVVJjSCYRiW41YThIJBdEcc0pDomk5qaioxMTFIUxI2w8px9gMRoUDohH0co5VV9u7dy6ZNm8jOzrY72kY7pVZWVFJVVcXAgQPxxHio2l5FSUkJDY0NpHpTOeWUU/D5fDQ1NVFUVERrayslJSX06NGD1NRU+1wNDQ2UlJTQq1cvEhITqNq2nWAoRJcuXXA6nRiGQTAYZPPmzSQlJZGTk9PB6I8ipaS8vJyNGzfS2tqK1+uld+/eZGRkdCjzeLAE0JNV4DXNqse/ZcsWXC6X3Uo8uivT2NRI+eZy8vLyyM7Oprm5mXXr1lFdXY3L5aK4uJiMjAzKysooLi5G160woIyMDKsxWwTDMFi3bh1JSUkUFBZQv6ueqqoqKwEuLg5d1wkbYco3lxMKhSgoKLArBrVP6AUrXGTNmjUMGjTIWtApg/+oE/Xu19bWsnXrVvr3709sbJvnUUrJ6tWr0XWd4uJiAMrKyqisrMTn85HfNZ/uRd3ZuXMnmZmZpKWnUb65nMbGRvr162c/49EKTzt27qBf334AbNmyheTkZLKzs22vVk1NDVVVVXTp0sWueS40a/FQXl5OdXV1hyS3qI7zpnrp3au36sh7klFTU0NdXR3du3e3jS4hBMFQkE0bN6HrOkVFRZjSZMP6DWzduhUpJXl5efTv35+ysjLSM9LJyMigfHM5TU1NDD7VqmYX1VNVVVXs2rWLQYMG4ff72bRpE2lpaaSnp1v5bQ6d2hrr+enWrZs9L0Z1nqZrtOxtYcOGDWzbtg2wqsD06NGDpOQkQsFQh4TNfecwpRePPA0NDVRVVVFQUEB8fLw9doFAgK1bt+L3++nXrx9CCMrLyykrK7OaWmZl039AfyorK4mJiaGgoIDKykqam5vp27dvW7ithLq6OioqKhg0aJBt53g8Hrrkd8HhcGCEDRobG9m8eTOF3Qrxpng76GHTNO3dzGgJbL/fz5YtW0hISCAnJ8eWo5PVDvomHK5D8+Gf0EY/HNnkyH2rFBwtlNG/Pwcb5/YK4Egog287vlJAJx6Hswzu4Xg2D/V6VPleBbQVrvgu+UEHqrrzjRWk2hnouq7bi83274kaYO0N+gNhGMYBnSL7nkvROWgvW9GeRPvO31GZ2dfOOZhMRkNj1Vx7cE4ao78zoox+hUKhUByMo7kAPJjBfigJuvsmq+97jPa/V5w8KAfG4edQjf5OkcirUCgUCsXJwtE0mJRxpjjcKJk6diijX6FQKBQKhUKh6OQoo1+hUCgUCoVCoejkKKNfccKjEnwUP4RoopmSIYVC0Vlon0B7qKiwm87PCVmnv0Nikdau0xzYde41R9t6xgwfuN294vhH0zSE3tZ0TQirk2S0K68RMjokiinDTRFFSqvpVbTGuRk2bb1gGqbVbTtSLlMllimOF6ILUFsmBXZH6Sh2yU2pDDXF/kSr3bTvYI8ATDrMn9FeRIZhNbxEqHm0s3NCGv1RJWeaJuvXrueNN96wy4K1LwUVbVs+ZdoUNDRi4mIwQqrO9YmC7tD54vMvWLhwIS6XC4kkxhNjd03WHTopySlMnTqVzMxMTNP8TmXsFJ0X0zQJh8MsW7aMFStWWMZ/pKa+aZqW0S8Eo0aNYuzYsTjdTsyQkh3FsUUIge7UeWnuS5SUlGCaptUkzuHA7/cTClk174cPH86YMWOIjY091pesOA4Jh60mVmEzzHNznqOiogKXy2U1K9Q1q1O5YRAbF8vFl1xMXm4ee5v2kp6RfqwvXXGEOSGNfoBAIIAnxkNrSwuVlZWEw2FM0+ST5Z/QJa8LRUVFhEIhPB4PAV+ApKQk2yt8pFex39VreLBrUh4cy/Dfvn07mq4RCoYoLS0lOTnZ6lKp6+Tl5dk1qw9m8B/t+vrfNv7R61XelCOIACkkTU1NbNu2DafTSWNjI6tWr6K4ZzFebwqmaXWJ1B06/lY/TqfzgIc6nLLybcdSOw6K6PiXlpYSGxdLTXUNGzduZMhpQxAI3G43e/bsOWDzxwNxOGTqm+Q26mSzm3UdQilPxZElHArhcDhobmpmy5YtVFZW4nA42LZtGzW1NQw97TSE0EhMTMTf6ic2Jpb4uHh7Dv2h8vJNMvdNsnSgefpg8/eBXq/4dk74Ov3RTpdCCJqamjjzzDOZOXMmP/3pT22BcTqdHYRQIhFYYSLS7Pjxo6/r0JBJE23hQ+2FLboV1u5YUkp0XT9gnf32DVXaK0hTmmiirbNd9HUHemhOViEPhUM0NDTwxwf+SHFxMddeey1CCGsHoP19itzD9ve8g9JoN+ZCE5iG1bkZsL2/dggRdGwfL/b5OUJ0TKOTXbTtuGmYHWQHsOUj6rFTHBnay0R0V+jr1V9z66238sAfH2DUqFG2XDgcDsKhMHDg56v9M7uvzNjnMzs+40ITdvhFVJakKTvISlQ2bPkUbZ0orYNZP0e/V2FIJwftDWghBIsXL+ZPf/oTzzzzDN27d7dC0qSlX5xOpx0CZBqW3ETnn+j8IoTAlJZus0MkYT9d2f780U67URnuEC4SfQ2Rua6dXHcIKZHWXBvVfwdzdCh5PvxomkY4HLY73YKlBx955BE2btzIE088QVxcHKFQyOq6HPkXbcK275zWHtteibzO1oXtZKlDw7Z2c2n7sOwO4bqRv0NbeFtUxux5OfIeUL2LDsSh1uk/YT39UTTNiuc3ZZuXV2gCl9tFOBTuoIRMw2TL1i1s2riJYCBIijeFPr37kJycbIcDbdq8ieysbHRdZ/XXq2lubiY9PZ3evXoTFxdne1fqd9dTUlLCnj17cDqcFPcqpkuXLh2uq6GxgXXr1lG/qx6Xy0VBQQGFhYU4nU40TaOp2fJCpqen09LSwubNm4nxxDBw0EBiY2ORxoFXuScz0fEUmkDXIpObkAhpKY8tW6zx9ft9JCen0KdPH7xeb+TNsHHjRmI8McTExFBSWsLu+t14U7306RORA1OiO3Tq6+tZv349DXsa8MR46NatG127dkUTbdujjU2NlJaUUlNTg67rFBQUUFRURExMjLW1Gg6zavUquuZ3xTRNSkpL8Lg9DBkyZL+ummqMDw/tF3vRf06nM/L8G1bsasQYioYEgqUzfD4fGzduZOeOnQBkZGTQr18/HLoDiWTPnj1UbqukZ4+e1NbVUlZWhmmadOnShZ49etoL0HA4TNWOKioqKmhtaSU2LpYBAwZYcmhGDCFg+/btlJWV0drSSlJSEj2Le5KVlWXnKO2q30XDngZy83IpLS1l546dFBUV0a1bN2tRgZKZzkhUbqMGu8PhQEqJw+Gw5zUppR2uEQqFWLVqFTt37LTkMb8LfXr3sY3/pqYmampqyOuSx46qHZSVlaHpGvn5+RQVFaEJDafLiWmaVGytYOPGjbS0tJDiTWHw4MEkxCcQDoft66ioqGDTpk00NTXhTfXSo3sPW24Fgt17dlNbW0tWZhaVlZXsrI7IbWE3JBJNfHMHX8UPJ2q8a5qGw+FACGE5P3SdcDiE2+22c53az0U7duygbGMZra2tuF1uevXuRZf8LgT9QaSU7Ni5g3AoTG5eLmu+XsPO6p0kJibSo0cPcnNy7eP5fD7KysrYsXMHQggyMjI49dRTbTvLoTkIBAKsX7+e2l21aEIjPT2d4p7FxCfEW9djmJSXl6MJjYTEBEpLS9nbvJdBgwaRkZFhL06V1/+7ccIb/d9GNOzD4XKwZMkSFsxfgGmaxMXFUVdXR35+PrfcegtFRUXU765nzjNzOO2006zJv3onoWCIXfW7GHXGKG6++WZiY2Opqqpizpw5bNxYRmpqGo2NjZjSZOaPZjJ23FiEEJSXl/P000+zefNm0tPTCQQChEJBJkw4n5lXzgSguqaa2U/OprCwkJKSElpaWkhPT6OgoICE+ATbw6I4OIZhWN5X0+S9995j3rx5uN1unE4ne/bspqCggBtuuJEuXboghWTui3MRQhAXF2eHhW3fvp3Bpw7mpptuIjs7m+qd1Tz22F8oK9tIRkYGLS0taLrG9Cumc9ZZZ4G0DLbnn3+e9evXk5iYiGma7N27l7POOouLL76YFG8KLS0t/OY3v+GsM8+itraW8vJyioqK6NmzJ16vVy3ojgDf5X6ahuWxMgyDvc17mTt3Lh999JE9nvX19YwbN46rr76ahMQE1q1fx5NPPMHFF1/CihUrME2Turo6AoEA11xzDZMunkQwGOTLL7/khRdesGJmI/qiW7du3HDjDXQv6o4QgneXvMvLC14mEAgQHx9vGVBeL1dfczXDTh+GGTb58osv+fe//01WVhbLly/H6XQyatQoCgoKcGidXnUrDkJ0J1EiaWlp4emnn+Kjjz7G6/V20EMzZszA4/FQWVnJ/Pnzyc/Pp7S0lGAoiM/no2VvC9OmTeOcc87B7XHzxRdf8MwzzxAMBImLi6N+dz2ZGZnceuutdCvqhmmafPjhh/zzn//E7/eTkJCAz+cjISGB6dOnM3TYUHRdp2RDCfPmzaO4uJiVK1fS3NzMmWeeyS233NK266AWrEecQ6lIZpqm7UTbWLaRxx9/nOrqarKzs2loaMDpdDLzypmMHDmSgC/A24vfpqysjKKiItatX4dAUFdXR15eHj/96U9tx+crr7zCBx98gNPpxDAMGpsaOevMs7j2umtxOp3U19czf/58li9fjsvpwuVy0drayqBBg/jRzB+Rk5NDIBjg1YWvUl9fj8fjoaSkBCklv/71r8nOzrYdOGoO/W6cFDOH7tApKy3jz3/+MyNGjOCKy68gITGBqqoq7vndPTz+18e55957kFJSW1vLM888w7Rp07ju+usQQrDorUW88v9eYejQoZwx6gw+/vhj1q9fx49/8hP69u1LMBDkhRdeYNOmTYwaPYo9e/bw8MMPs2fPHu68805yu+QS8AV45513eGbOMyQmJnLRpIsIB8NUbqtk3bp1zJw5k9GjR2OaJklJSXYijhLob0cTGl99/RWzn5rNiBEjmH7FdHSnTsWWCubMmcOzzz7LXXffhcvtoq6ujlWrV3HtNdcyZeoU3B43yz9ezpOzn6RXcS+mXT6Nt99+m+UrVvC7//sdvXr3oqGhgTf/9SaVlZUYhkGrv5U5c+ZQVlbGddddR68+vRAIln+ynH/84x+4XC4uv+JypJTs3LGTd995lwsvupCZM2cSExNjG5VR1BgfG6L3XRMaby16izfffJNrr7uW04edjpSSFStW8PTTT+P1epnxoxk0NzWzbt16AoEgt9xyC3369WF3/W4e/+vjPPvss5x9ztm0trby8ssv4/G4ufHHPyY1LZXtldtZuHAh27dvtw2hRx5+hBEjRnDlVVcSGxdL/a56nn7qae77/X088sgj9OzVk0AgwGeffUZGRgY///nPSU1Nxe1221vnSm5OTqIhpUIIFixYwNy5/+T2229n9OjRSCH59wf/ZvZTs4mNjWXGj2YQCodYs+ZrSktLue222+jZqydNjU08//fnefPNNzn11FOJiYnh+b8/jxE2+NWvfkVCYgLl5eX8/bm/s71qOz169mD1qtU89dRT9OvXj+kzpuPxeNi9ezdzX5zLX/7yF/7whz/Qs1dPgsEgn376KY1NjUydOpWePXvidrvbfQBQNv/xgZQSn8+HYRr88Y9/JBgMcvfdd5OZnUlTQxNPP23ppCeefILCwkICgQBLli7hQs+F3HX3XTh0B6Wlpcz62yxeeeUVbr3tVvbs3sPf//4cF198CZdedikA//nwP3z++ec0NzWTlJzE66+9zpv/epPrrruO4SOHYxomX6/+mn/84x8EAgHuuOMOe+dh2b+XceEFF3L77beTlJREdnY2gUDge5UkVZwkRr/QBHOemYM3xcuv7/41Lo8LgNy8XB588EFuu+02vvrvV/Tp24dwOER+fj7XXHONNcHqGpMmTeKdd95m5cqVjBw1koaGBtxuD4XdCsnJzQEJv/2/34KwDIg33niDzZs389RTT9GjuIddbvKGG26gurqahx5+iLHjxtoxu+PPHM/UaVOJi42zt+WgLVRBxa8dHCEEra2tvP3222RmZHLDDTeQmpYKQG5uLnsa9vDoI49Svqmc4j7FBENBunfvznkTziO/az6mYXLBhRfw0UcfsXbtWiYHJ9PY2Iiu6Zx66qkke5PJzc2luGcxQhdIQ1K6oZSVK1dy1113MW7cOILBIG63mwsnXUhNTTWLFy/m9BGnk5KUgsPhoKh7ETfeeKMVsrVPrsfBEpUUR55oaEQgGODpp5/mkosvYcrUKfZY5Bfks2vXLpYuXcqE8yfgcDpwupxMnjyZM88+E9Mwyc3NZcqUy/jVr35FWWkZGVkZ1NfvomfPYgoKCoiNiSUnJ8fe2g74A8x9cS65ubn8/ve/JxwOEwqFyMrM4t7f38vUKVN58cUXue/+++wKRNdffz3DRw63K48pmTmJEW1x1hUVFcydO5ef/OTHTP/RdFseZl41ky1btvD8888z6eJJhMNh/H4/kydfysgRI3F5XORk5XDJ5Ev4w31/YNu2beTn57NrVx09exbTo2cPnC4neV3yOH3Y6TidTva27GXp0qVkZ2dz409uJDMjk2AgSG5eLjf++EbuuvMuFi78f9x5912EQiGcTicTz5/IxAsmomttVbNUeeWjgx22uM/XfdE0jdj4WBbMW8CaNWuYP3++ZbNgzZ9/uP8PjB0zlqVLlnLzLTfjdDrp3r07t9x8C3m5eQCkelP57NPPKCkpIRAI0NzcTGtrK4XdCsnvmg8SZsycwdSpUzFMg9LSUpYtW8aVV17JpZddisPhIBS07C6hCR595FEuv/xysnOzMU2TwoJCrrjiCnr37r1f5IOyjb47ncPoP0iCJVhJTf5WP6tXr8btdvPAAw/Y8ZGmadLQ2ECrr5Vd9bswTZNQKMygQb2IjY8lFAghNKtagsvltpSZw8mwYcN4//33ufvOuxk3bhy9+/S2cgO8yRhhg9WrVlNcXExBYQGhQMiOY3S6nYw/czyvv/46lRWVVmIKkp49exITE9PB4I+iYh+/GV3X2bt3L7W1tdTU1PCXP//FjofVNI3a2lpaW1vZsXMHxX2KcegOvJle0lLTCPgCVo5G+0QjJKPHjGbRore49tprOeussxg0aBAFhQWkZ6TjdDlZvnw5WVlZ9B/Q3y4FaRgGMe4Yhgw5jU8+WU5dTR2pKamEQiFOOeUU4hPiOySLqljEo8fBDAwhBJ4YD6VlpdTW1LBmzRruu/c+gsGgvctWVVVFY2MDFRUVhMNhXE4X/fv3R2AllVnJlC47nj8lJYWzzjqb+fPnU1tby5jRYyjqXkRRjyIS4hLYvn071dXVXHbZZTQ3N5OYmGglYyJJS0tj1KhRrPx0Ja17W5FSkpOTQ5f8Lh0SfjsUGVCyc9IRTX4s31JOU3MTX3z5JbV/qMPn8wHgcrkoKSmhpraG+l31CCFIS0unT58+ON1Oq1iEto8c6YIpOwEcNQAAIABJREFUU6byt789zq233MqYMWMYOHAgOXk5JHuS2bVrF2vXrmXUqFEkJyQTDoWtIhSGldPSt29fKiu3gQS3243b4yYjMwOH7rDPYV+74piyr6EsENTU1hAIBHj22Wft5PDoIs3lcrF9+3Z8rT6CwSApySm4nK6Ox2g3rnl5eYwePYanZj/F2jVrGTBgAAMHDSQ9PZ2YmBhqamoQQjD41MFWLknYMuRN02TIqUPwer18/PHHTJk2xc5RycnN2a9AiuL70TmMfg5c6sn6g1X5pb6+nt69e5OUlEQwGLQTXGJiY7j++uspLi7G4XDgcOhtVTeix9bassmFJhgwYAD3/v5e3nnnHVatWsWiRYtIT09n6tSpDB8xHJ/Ph8PpsKtz6JqOETbABG+K1/JO+1qtxGBNt+Mb20/qSrgPTvuMfyEEYcPyliYlJREbF2slXkbuX2G3Qnr37k1+fr79eofDgcAy+EzTJGSErHseGfRBgwbx+ON/49133+XLL7/kgw8++P/bu/PYuq77wOPfu7x9I/m4i4tIcZNEa7FMyZajKHI6kdIpEDdLPXURO10GrZva08wkgdNBm0kKFG2BaVMnQVokKJoAxYzTaWo0dRE7rWRZi+VaojaKFMVFFMVVfJTIR/Ktd5k/rt4VKcu2bGuxn34fQLBkvYV697x7fuec3/kdgqEgj//q43xizyeYn593X6uwGbTwfn6/363Oo+s6hmG4ObjLz5BY8W8Rt40bbNgKirpyA6FhGCiagmmYeDxep/0EgwQCAfdxGzZsIBKJUF5eztjYGIqiEI1GnSpMVzfCeX1e/H5n83bAH+Azn/0MtbW17N+/n5de+hmz/+cy7e1tfP6JJwgGg2iaRjweJxAMYFpOXqppmHi8HsLhMKmlFIbhDBD9fh9er5dcNvemEo3Sdorb8io+N+oPUkvOwLCmusbdx+TxeMjn8zz88MM8/PDDbh3/QjnafC7vVrMrsCwLM2/y6C8/SjQW5fChw/zsZz/jxz/+MS0tLfzmb/4mXp/XrZZmWiY+3ZkEy6QzKIpCJBJhZGQE23Im1HxeHz6fD9M0nQPxbFZW/pH+7a6xWXnvMA2T1FKK+vp6d18I4O6V+5XHfoXVq1dj2za5XA6v1/umw+LgWkUnv9/Ps88+y7+8+C8cO3qMkydP8nd/93d8/OMf57889hjZbJarM2xuGfXCvoLC5vREIgGAqqlu4ROQksa3QlEF/bquO7Ply9uEDQF/gNbWVuLlcZ763afczSWappHPOcv7kXCEqekpDNN0O1z3JZaV1LNtm2w2S1NTE08//TTJZJLR0VF+8o8/4fvf/z6NjY2sblrN60deJ5POuJVcVFUFFU6cPIFt21RUVJDOpN1ZYmnIb09TNWfrWuFa2KDqKpZlEQgECIfDVFdX8/TTTxMOO7PqpmmCArmsk35jY7tVASzbcm46hunmx4JzfTPpDPV1dfze07/H3JU5Ri6M8Pd///d897vfpWtrF+vXr6e7u5upqSni8bhbTUPRFCanJjFNk9KyUmBZ+THLdtuVBGt3xorSuzjBCOAOCgs5oZUVFUSjUR586EEeffRR9+8L+a62bROOhjl54iSWZbqzY4ZhoHt09/Hud9my2blzJzs/tpPLs7OcPHWKH3z/+zz/f5/nt/7rbxEIBDhx4gQf/ehH0TUdy7bw+Xxkshl6e3tpaW0hGAqiKKAoKrbllB2WTf33nsI9S9M0d+bVNEx0j059fT0Bf4Curi72fHIP+VwewJ10yOfzhMIhzo+cJ5/Pu2fZuGWmcQL+bDaLZVmkUil27NjBzp07mZ2dpa+vj+f+6jm++93v8uzXnqWsrIzx8XEM08C0TFRVxefzMZ+c58LoBeLxuBsoLi/v+Var8OL2K9zHCpNTlmVhW9cmoArXKhqLks/n+bVfe5zqmhos03JLsiaTSfdQzMKv5Qr9Z+Fem887k2if//zn+dxnP8fk5CR79+7lb/7mr2loaKAsXkY2m2Nqaoq29jbyuTxer7NyMD4xTiaToaOjAwCP7nHKg8rJ07dM0RQKX567VujcC43E4/Xw2c9+lu5jx3h1/6vYto3H60HTNF5++WX+6lt/xeXLl1FVFe0Gm0PcBm07DfqFF17gr7/31ySTSSoqK9jywBa2bdvGfHKehcUFtj+0ndnZBD/64Y/I5/NOHqamcrbvLP/0k5/wiU98gtqaWreuvwSB78y27bf84sdiMTZt2sTRo29w+PBhLMtC82iYlsm//uu/8u1vf5vFxUU3H/b66hGFwYRt2+RzeZ5//nm+/Z3vkMlkKK8o54GuB+jq6mJ2dpbFhUUe6HoATdP46U9/6hySo2voXp3RkVH+8f/9I42NjdTV1V076ARnhUg2Ht157qzispnGFdfAhoqqSrq6unjhn/6JkZER51ppKplshh/84Ae8+OKLTkepqSvqXxdYtnO6paqqJGYSfO973+Pf/v3fUFWV2rpV/MIv/AJr1rSQSCTw+/08+OCD/PNP/5nX/+OI85qaimEavPSzlzh67CiPfurRqzOzytXVR91tO8t/ieK2PCXGspzUz3wu7wZvbW1tbNhwHz/84Q8ZGRnB4/Xg8XpYWFjgueee40c/+pHTF9or9w8VXtdZOXL6n0wmw5/+6Z/y4r+8iK7rrKpbxc6dO2lsbOTixYuUlpTS1dVFd3c3b/zHG8DVPTFGnlf2vcK5/nPs3LnTKY1rOaVxTdMkl8u5aY3i7rMsC03T3FQwVVXRPBrbt2/n8uXLPP/8j1lcXETTnbr9J46f4Mv/48uc7T+Loipu+c/rLW9Xvb29/Nmf/Rl9vb2EwiFa21vZtWsXyYUFLl68SPOaZmpqanjhhReYmpzC4/Og6RqXZy/zDz/+BwIBZyALuCvl4tYpnpl+1Zl5S6VTboMu3Bwty+IX//MvcvLkSf7kT/6Evfv20tDQwOiFUV7++cs8+cSTRKNRErMJ8obhPt9lQzqTdkp/6jqrVq3ib//2b+nr62PT5k3kcjn+/d/+nS33b6G5qZloLMoTTzzJt771l5w8eZL169eTTCY5ePAgVVVVPPvss/gDfncEbl+ddRZvTdOcID6TybgzVariBPAe3cMnP/lJBgbO8c1vfIMDrx6gdlUt54fPc6z7GJ/+5U/j9zufdyabcWf9lwdueSMPWWdwtqpuFd/5zrc53XOah7c/TCqVYu/evWzfvp2qGuck4CeeeILnnnuO/v5+Nm3chNfr5eWXX8bv9/P4449TFi/j0vQlZ3bNlOt7Ny0/MCaXy7ozUYWlYp/Px2//9m/zh3/0h3z1q19l+/btBINBDh86zNTUFF//+tedACeXJ5PNrnhNcDqmbC7r7OsIBdB0jW/95bc4eOAgzc3NDA8P093dza//+q9TUlLCY489xvnz5/mDr/1PHnnkEWpraxkcHOTw4UN87nOfY8+ePdiWTSaTcdo7tvszLyeBf/Fa3r4y2czVw/yurmYbJortTCL8t2d+n6ef+T1+/7/9Pjt37sTv93P06FEmJib4xje+AeAGcLCyzeSNvLviHQwGqa6u4i/+4n/z+uuvO/3j6CjHjh3jd7/4uwTDQXbv3s2ZM2f44z/+Y/bu20t5vJzEbILDhw6zZ88eduzccXUAkcU0nVUFX8Dn5myLu2PlRIGTqeDz+TAN0z1IcOOmjXzxi19045p169YxPz/Pvn37qKuro2VNi5MqfTVtdUV6mG3h9/kIhULksjlqa2sZHx/nK1/5Krt27cLn83H4tcM0rW5ix44dVFVW8YUvfIE///M/50tf+hLbH96OgsLJUyed5335K5SVlZHL59B0jWAoeMPUWPHeaH/0h3/0v+72D/G+XZ3JUFWVXDbH+vXrneUh5VrFAF3X2bp1K5FIhGPHjtHd3Y2maTzzzDM89thjzk3x6kx+Z2cnbW1tbh1vwzBYXFikvb2dtevWOofxtLXR19fHK/teYebSDI888ghPPfUUFVUVKChs2rSJLfdvoaenhwMHDpBIJPilX/olvvzlLxOviLupJbZt09LSQl2dsxP+nWbx7rWO3r1hXc0hNPIGa9asoaGhwS1rChAMBenaupVgMMTRo0d59dVXCQT8PPnkF/j0Z5ygX1EU5ufmaWxspL293d18qaCwtLjE6tWrWbt2LWvXrWVr1zbO9p3lwIEDzMzMsGfPHn7nd34HXdPRVI2OdR1s3LCRkZERXnnlFYaHh9n5sZ186b9/iZaWFmzTCdRyuRzbtm2jsaFxxZ6Nd6qqIG6tQp6ooqjs2LGDeHncXQEw8gaVlZXs2LGD2cQs+/bto7+/n7a2Nr72ta+xectmt4PUNZ3Ozk5KS6+lb9m2jW3ZdHZ2sqpuFZ3rOwkGgnR3d7N//36CwSC/8Ru/wac+9Sl3o+Pu3bspLS3lwIEDHDlyBJ/PxzPPPMMTX3gCXdPJ5/PueSLr1q4jFoutOEys8N6ieKmqswqUzWSv9l/biMQizv4wnBM4Kyor+MR/2s309DSvvvoqfX19dHR08Adf+wM2btxIPp93avIvLbFhwwbi8bjzuopKLpcjnze4//77KSsrY9OmTcTj5Rw9epTjx4+jKApPPfUUn/ncZzByBsFQkI985COUlpZyvPu427affPJJfvXxX8Xv8zupR7qO1+vjga4HKCkpcU+ZF3dHIY0HIJVKU1tby+bNm8nlcng8HncguWXLFu677z6OHz/OkSNHmJub49Of/jRf//rXCQQCbnxUWlpKZ2fnijKsi0tL+Hw+Nm7cSFVNFdu2buPKlSu88sor9Pf3s75zPd/85jdpa2/DyBlU11SzY8cOJicmOXTwECdPnKSpqYmvfuWrbH94O7pHxzItctkc5eXltLa24vV63/JUZ8GbTol/K0o+m//wD53eoe7ve02hKQwkCr+/lZbnkBf+fKP3uP7/3asNXkG5YaO+PhC66de7Gnhf//zbNaOgqqp745Ua/Xfe8u9X4TN/Nx3IjdrF7UrNK7SV619f7gX3lhv1Cc6JqsabKjndjMJ9p5AqdifaMnDDger17y3urOUbxDVdc1ON3+7x8M5VmG5XO3q7De3CoXtvLnGnaNJ7bpfb2cikAd88G/uWbmR8qxvI7bqxLK9RLe689xtk3MlNtNJOBNy4HSwPut5tcPV2A0hxb1kx2fgOAf/1zxEfbsUR9L/Dve+9jjxv50za9V8g+UK9sxt9Ru/3Gr1lqVdR9G5127lV3mk2Tdy73k96g6SNihu5lQH/nbgnSh/9/hRH0C/uWR+2G8CH7ecVHxzS4QkhhHg/pBaSEEIIIYQQRU6C/vfgrerUCiEEyP1ACCHEB48E/e/B9ceJSz5kcSlc00IpRiGEEEKIDzsJ+t+DwizewsICly5dunrAlgSHxWJ5eTILOVhG3Lx3c3pkJpNhcnLSOS1aCCGEuM2KMuh/vwH4Wz2/MLNfKN83OjrKmTNn5KjoIlKY5TdNk8XFRRYWFtwj5W/FwG754VyyQlR8ZmZmWFxcfMe2oqoqly9f5uDBg4yMjNyZH04IIcQ9TSLVd6EQpBmmAUAqlSKZTLoH98Db138Xt9fbHRhS+O/bXYfC31mWha7rnD59mhPHT7iDOjlFV1zv+vr/x48f58KFC+/YRlRNJRKJUFdX557uWyDtSxQrOWBJiLuraEp2Xp9br3t0jLzh/h7AyBsr8rULs/OWZaFqKgrKikN4NE3DtEzyuTyapuHxecAGK+vUSi48X9M0dF13b2i2bWOaV49K13X31FfbttE0DVVXsc1rj5NO/u3pHueYcEVR3nRIkm3b6F4d23Q6Ek3TQIFcNuf8+eppg9crHHGfz+cxDROPx4NpOkfIq7oT4BuGQTqdxu/3o2ka+Xzeve6K6vwsuWwOVVXx+rxYprVin4eiOKcI27ZNLptD0zQpu3iXFD735dfPtm1QwMyboDjf1cJBNYWVHY/HQy6Xc9qFpmIaJpZlYRgGHo/HfX1N17BMi9RSilwut+I7rWkairrsFGAUsCEUCvHQww+h4rRFrjaL5fcPuHZCr+bRMHLGnfnAhLhF5H5XfOSafngVTdCvaZqberOwsEBfXx+J2QSqohIKhXjggQcIR8JuJ59MJunr62NmZgbTNCkrK6O9vZ3qmmoUWyGfzzM2NsbAuXMkFxbQNI3SslK23L+FYDCIZVl4vV5UVSWTyRAMBkmn0wwODjI+Pk42m8Xr9dLe3k5jY6MbMJw4cYJYLIbH4+HMmTMAbNmyhbKysrv8CX5wzc/Nc+rUKdasWUNVVdWKG8709DTj4+O0d7QTi8VIJpOcOnWKRCKBoihEIhHa2tooLy9H153mbpomMzMz9Pb2Mj8/j6ZplJeXs2bNGiqrKhkbHWNgYIBEIoFlWezbt4/Kykra29vRdZ1cLsfo6ChDQ0MsLi7i8XhYvXo1TU1N7gBhYmKCixcvsm7dOs6dO8fExASNjY10dHTg9Xrdn19unndGOp3m+PHj1NXVYds2AwMDLC4uUllZyf33349hGPT29jI9PY2qqjQ1NdHR0YFpmqiqSjKZZHh4mPHxcRRFwev10tTURH19PR6Ph6HBIcbHxpi9PItpOalhzc3N1NTUcPbsWXK5HGVlZQwPDbG4tERXVxfRaJSe4z00NjYSiUTo6+sjHA7T1t4GOAOVqekpRs6P0NLSQnl5+V3+FIUQQnyYFU3QX+ics9ksBw4cIJPJUF9fD8DExAT79+9n1yO78Af8TE5OcvToUQzDoKGhwX3MkSNH6Orqor6hnrHzYxw7doxYLEZjYyOpVIoLFy6QnE+ya9cu/H4/mUwGVVXxBXzYlk1vby+Dg4OsWlVLZVUlVy5f4eCBA1yeneW+jRvAhoGBAXfGPxAIEAqFZKb/HQSDQSYmJkin05SUlKwImnt6erBtG6/Xy9yVOQ4ePMj8/DxNTU34fD5mZmY4dOgQmzdtoqW1FcMwGB4e5vTp03i9XmpqakCByfEJZmYusXXbNizbYmlpiXw+Ty6XY2FhgVAohIVFJpOhp6eH8+fPU1ZWxurVq1lYWODUqVNMT0+zdetWotEoyeQ8PT097r6AkpISd2Aq7ixFUcjlcgwODjI1NUU4HCYcDuPz+RgaGiKVSqHrOvl8nurqapLJJEePHkVVVTo6Okin03R3d3P58mVqamoIBALMzMxw7NgxUqkUa9euZWlpiStzc9i2TTabZXFxkXQ6jaqpTE1NMTk56bYBv98PQDab5ezZs0SiEeLlcQCOHDmC3++nrq6OZDLJ8e7jBAIBSkpK5D4hhBDifSmaoB+czn1pcZFLly6xbds2Ojs73VndK1euoKoqqaUUZ86cwe/389BDDxGLxbBtm8uXL9PX10cmk8E0TeLxOJs2bWLVqlUEg0Fs26axoYF9r7zC6Ogora2tTioJYJlOykltbS1V1VXUVNeg6RrY0N3dzfDwMI1Nq933Wlpa4sEHH6S1tVVKft4ETddoa2tjYGCA+fl5KisrAZifn+fSpUt0be1C0zR6enpYWlrikY8/Qk1tDbZls7S4xOHDh+nt66Nx9WqWlpY4d+4cZWVlbNmyhUgkgqIozKyeob+/n6XFJZqamqiprmHv3r3k83l27dqFrut4vV7OnT9Hb28vW7Zsoa2tDa/Pi5E3mJyc5NChQ/T09LDtwW14PB4UIJfL8bGPfYxoNIppmm7gL9f8zlFUBUVV0HWdbDbLRz7yEaqqqjBNE5/PxxtvvMG6devYvn07gUCAbDbLq6++yvDwMO3t7Xg8Hta0rGFjeCPRSBRVU8mkMxw/fpzx8XGamp1VgZaWFl588UUaGhrYvHkziqKg6RqqqmIYBtXV1axbvw6vx4tlOQPLQkqRqqq0d7STSCR4/fXXCQQCjIyMYJom69atc9MEhRBCiPeqqIJ+AH8gQDAYZGxsjFAoRDwep7S0lOrqavL5PIm5BAsLC2zatIlwOOzk2CqKGwSqqoplWpSUlmCaJqOjo6RSKVRVpbS0FE3T3BJ7bu6tDaquUlFZwfT0NGfOnCGfzxMMBvH7/VhXl/ujkSiWZVFaWkpLS4vM/N4k27JpaGhgYGCA6elpKioq0DSN/v5+vF4vtbW1pFIppqeniUajpNNphoeGUXBy6r1eLxcuXODKlSuk02nS6TQbNmwgHA5jGAa6rhOPx9myZcvKvReqiqqqeDwedN3ZIzIwMEA8Hqe1tRVd17FMC1VVaVzdyPjYGFPT0ywsLKCoKh6vh7UdaykrK3Ov8/JyoBL43xmFz9k0Terq6qisqgQFPF4P8XgcVVVpaGggHA5jmiZ+v59IJMLFixfdVaTqqmqmpqYYGhxCURT8fj8ej4dsNks2myUcDgO4G76Xb+4HJ3+/ta0Vv9/vtMvrzvowDZNQKMS2bdv4+c9/zmuvvYZlWXR0dFBWVvamvSxCCCHEu1U0QX+hzGIoFOKhhx7i7NmzHDlyBE3TiMfjdHR0UF1dTTaTxePxrFguL3SohbQRTdMYHxvntddeQ9d1SktLsSyLsbExstkssLIiTGEG9+SJkwwNDRGNRvH7/czOzrKwsIBhOAMDy3ICxGg06uSXS7x/U2zbJhAIUF5ezvT0NK1tTprOuXPn6OhoJxKNMD05jWEYLCws0HO6B8MwsCzL3aAbi8XI5XKk02l0XSccDjubM68GabZtOyk8loVlWTccjOXzeWZnZ1mzZg0+v89d4XF+SIiVlHBxbIxMJoN9dTBZeE3xwRAIBFBVZ38NNm4AHwqFVjxO13X3npJKpTh9+jTj4+OUlJQQDodJJpMkEgkneLd56++yfW2A59GdQgCmZbpBf2Gz9/J2et9997F//36ampqoq6uTcsBCCCFuiaIK+gvVXZqam6itrWV+fp5EIsGpU6d46aWX2PPJPfj8PjRNwzCMlc9VFRScTj6dTrNv3z5isRgf3flRZxbPdjYDvvTSS86T7GvP9fl8zM/PMzAwQHt7O+s716MqKrpXZ2ToPIdfe81NMSg8B5y0g0K1EJn1fWu2beMP+Kmvr+f06dMsLCyQmEmQzWZpa2tHsZ2ZU03TnM9//XoMw3jTwCwYCnK276xbd78Q7Bf2gxSC/euvhRu0eTwEg0G3is8KKu7gT9d1UBRsG7K5rPsQucZ3x/IBnKZpbgUeRVFQFQXTMMjlciueU1jlsW2b2dlZJiYm2LBhAy2tLWiqhmEZnDl9hsHBwbdfrbOvzea/1QnetmVjGAaappHL5bh48SJer5f5+XkWFhYIBAK39PMQQghxbyqaKaRCh5rL5RgaHCKXz1FeUc7a9WvZvXs3+XyeifEJAoEAuVyOyclJt+MvlG0cHR0lmUwCzqxuVVUVAX/AmRXEyc9OJBIr3rcwGzg5OYlhGFRUVhDwB9xKMVfm5tyZXl3TJfB7DxTFGRzF43F8Ph+DA4MMDQ2xerWzT8I0TQKBAF6fl+npaSycOvs+nw+Px0Mmk7macqMQj8edqihTU2QyGcBZ4SlUa5qdnXWvV6F9FAYHHp+H+vp6RkdHmZ1JuKUYNU0jl3Uq+kQiEUKhEPlcHtu2CUrA9oFRyIlfPnOuqCrW1dKcy2WzWTe1p7A6VF5ejkf3OANEwyKVSmGapruCVxhIFlYJdI+OzbW0rkI7ulGql2VZmKZJT08PFy9eZGtXF+FwmN7eXjLZjNw3hBBCvG9FMdO/vAZ3IpHg0KFDtLe309zcjO7RmZycxOv14g/4icVirF69msHBQTRNo76hHsuymJqcor+/n+bmZtavX09lZSXT09NMT08TiUaYuzLHuXPnrgUHy/pgy7Korq7G5/Mxcn6EgD+ApmvMXJphYGDA2dCnaW7NdunA371Cik88HufcuXNks1l2797trJaYNqFwiLa2No4dPcYbr79Ba2srqqYyPzfP6dOniUQiVFRWEI1Fqa2tpb+/3w3kVE1lemqa/v5+1q1b5+bgBwIBxsbGuHjxIrFYjNJ4KR3tHUxNTfEfb7zB+s71hEIhMpkMw0PDLCws8NBDDxEMBZ2zBUzTSe0Sd831hwEtP2Bt+bkPuVxuxeN8Pp9bjz8cCbtlWp0nw8T4BCMjIyv25RTy/CcmJigrKyMajRKJRoBrA8jlK0rOcy00TUPTnZTCnp7TdHZ20trWRqykhNdee43eM71s3rz5TfsEhBBCiHejKIJ+tyO0oaamhs7OTkZHR7l06ZK7ZN7a2sqa5jVomkZbexu2bTMyMsLY2Jg7W1dTU0NTUxOqqrJ582aOHz9Od3c3Ho+OZdnU19dj2zY+nw9wZogL1V+isSgdHR0MDQ1x8OBBPB4P2tWSf2NjY05KUd4gFAq5AwfpwN8dr9dLY2Mj09PTBAIBp9ymfS2Qa25uxjRMBgcHSSRmsG3cPOnOzk63UsratWsBp3zq8PCwk96jqTQ2NrJq1So3IGxubiaZTHLixAlqamrYfP9morEo27Zt4/Tp0xw7euzawUmaxubNm6mpqcE2bTy6h7KyMnx+3938yO55iuIchFU4r+N6hU3chQpdBX6/j0gkgo1NeXk5zc3NXLx4kcnJSTcdrKmpiVQqhdfrdQcP7e3tnDlzhu7ubtatW0dJaQmhUMg91Xk5Z7N/CF3XSafSjIyMUFNTy3333YeqqlRWVbJmzRomJydJJpOUlZVJBR8hhBDvmZLP5j/0kefy2fNCTe65uTnS6bQbpJeUlBAIBNyOPZfLMT8/7z7G73dWAQqPsW2bZDJ5dSOu4W4kTSaTeL1egsEgi4uLGIZBLBZDVZ3TXefm5lhaWkJRFMLhMLFYjPn5eSLRCB7dQyKRwOv1EovFbup01uv//l5fJTAMg2QyicfjIRqNurO1hROWTcNkbn6OxcVFTNPE6/VSWlpKMBhc8Xlns9kV1z8UChGLxfB6vddey3QOcUulUvj9fnfzt6IoLC4ukkwmyeWcE3ljsRjhcNg9dTedTrOwsEBZWZlb2rVg+TWUgd/tpSgKNk51nEQigcfjVOwp3DPXPD1IAAACXklEQVSy2Sxzc3OUlpa61x5gaXGRVDpNRUXFiscVKnlFIhECgQCpVOraxnyc9jk3N0culyMajRKNRrly5QqWZRGLxVaUbC28ZiQSQdd15ufn8fv9hMNhtw2m02mSySTRaJRAILBiU/i9fi8QQgjh0L03N4dfFEH/3XYzKTvL83ff7Wvf6HWE42YGTh8kN9okLO6s5emAt/vzv9XvcaNUJSGEEPe2mw36iyK95267mc5XgrvbQz5X8W4tr+p0p95LCCGEuNuKpnqPEEIIIYQQ4sZkpv8DTpbwi4vM/Ir3Q+4HQggh3iuZ6RdCCCGEEKLISdAvhBBCCCFEkZOgXwghhBBCiCInQb8QQgghhBBFToJ+IYQQQgghipwE/UIIIYQQQhQ5CfqFEEIIIYQochL0CyGEEEIIUeQk6BdCCCGEEKLISdAvhBBCCCFEkZOgXwghhBBCiCInQb8QQgghhBBFToJ+IYQQQgghipwE/UIIIYQQQhQ5CfqFEEIIIYQochL0CyGEEEIIUeQk6BdCCCGEEKLISdAvhBBCCCFEkZOgXwghhBBCiCInQb8QQgghhBBFToJ+IYQQQgghipwE/UIIIYQQQhQ5CfqFEEIIIYQochL0CyGEEEIIUeQk6BdCCCGEEKLISdAvhBBCCCFEkZOgXwghhBBCiCInQb8QQgghhBBFToJ+IYQQQgghipwE/UIIIYQQQhQ5CfqFEEIIIYQochL0CyGEEEIIUeQk6BdCCCGEEKLISdAvhBBCCCFEkZOgXwghhBBCiCInQb8QQgghhBBFToJ+IYQQQgghitz/B9hUxpCKJjwLAAAAAElFTkSuQmCC)"
   ]
  },
  {
   "cell_type": "code",
   "execution_count": null,
   "metadata": {
    "id": "1XsMXfJLYNXH"
   },
   "outputs": [],
   "source": [
    "import numpy as np\n",
    "\n",
    "# Crear un tensor unidimensional (vector)\n",
    "tensor_unidimensional = np.array([1, 2, 3])\n",
    "\n",
    "# Crear un tensor bidimensional (matriz)\n",
    "tensor_bidimensional = np.array([[1, 2], [3, 4]])\n",
    "\n",
    "# Crear un tensor tridimensional\n",
    "tensor_tridimensional = np.array(\n",
    "    [\n",
    "        [\n",
    "            [1, 2], [3, 4]\n",
    "            ],\n",
    "     [\n",
    "         [5, 6], [7, 8]\n",
    "         ]\n",
    "        ])\n",
    "\n",
    "print(\"Tensor unidimensional:\")\n",
    "print(tensor_unidimensional)\n",
    "print(\"Tensor bidimensional:\")\n",
    "print(tensor_bidimensional)\n",
    "print(\"Tensor tridimensional:\")\n",
    "print(tensor_tridimensional)\n"
   ]
  },
  {
   "cell_type": "code",
   "execution_count": null,
   "metadata": {
    "id": "8EV0i6aoYTI4"
   },
   "outputs": [],
   "source": [
    "# Suma de tensores\n",
    "tensor1 = np.array([[1, 2], [3, 4]])\n",
    "tensor2 = np.array([[5, 6], [7, 8]])\n",
    "suma = np.add(tensor1, tensor2)\n",
    "\n",
    "# Producto de tensores\n",
    "producto = np.multiply(tensor1, tensor2)\n",
    "\n",
    "print(\"Suma de tensores:\")\n",
    "print(suma)\n",
    "print(\"Producto de tensores:\")\n",
    "print(producto)\n"
   ]
  },
  {
   "cell_type": "code",
   "execution_count": null,
   "metadata": {
    "id": "LeKyi4shYV_p"
   },
   "outputs": [],
   "source": [
    "# Redimensionar un tensor\n",
    "tensor = np.array([[1, 2, 3], [4, 5, 6]])\n",
    "tensor_redimensionado = np.reshape(tensor, (3, 2))\n",
    "\n",
    "print(\"Tensor original:\")\n",
    "print(tensor)\n",
    "print(\"Tensor redimensionado:\")\n",
    "print(tensor_redimensionado)\n"
   ]
  },
  {
   "cell_type": "code",
   "execution_count": null,
   "metadata": {
    "id": "InCMsBleYZfQ"
   },
   "outputs": [],
   "source": [
    "# Producto punto entre dos tensores\n",
    "tensor1 = np.array([[1, 2], [3, 4]])\n",
    "tensor2 = np.array([[5, 6], [7, 8]])\n",
    "producto_punto = np.tensordot(tensor1, tensor2, axes=1)\n",
    "\n",
    "print(\"Producto punto entre los tensores:\")\n",
    "print(producto_punto)\n"
   ]
  },
  {
   "cell_type": "code",
   "execution_count": null,
   "metadata": {
    "id": "ClGOgiM5YeJZ"
   },
   "outputs": [],
   "source": [
    "# Transponer un tensor\n",
    "tensor = np.array([[1, 2, 3], [4, 5, 6]])\n",
    "tensor_transpuesto = np.transpose(tensor)\n",
    "\n",
    "print(\"Tensor original:\")\n",
    "print(tensor)\n",
    "print(\"Tensor transpuesto:\")\n",
    "print(tensor_transpuesto)\n"
   ]
  },
  {
   "cell_type": "code",
   "execution_count": null,
   "metadata": {
    "id": "2ZYnopYA8mc8"
   },
   "outputs": [],
   "source": [
    "\n",
    "# Crear un tensor tridimensional en NumPy\n",
    "# En este caso, un tensor de 2x3x4\n",
    "A = np.array([\n",
    "    [[1, 2, 3, 4],\n",
    "     [5, 6, 7, 8],\n",
    "     [9, 10, 11, 12]],\n",
    "\n",
    "    [[13, 14, 15, 16],\n",
    "     [17, 18, 19, 20],\n",
    "     [21, 22, 23, 24]]\n",
    "])\n",
    "print(\"Tensor A:\\n\", A)\n",
    "print(\"Dimensiones: \", A.shape)\n",
    "# Acceder a elementos individuales del tensor A\n",
    "# Por ejemplo, el elemento en las coordenadas (1, 2, 3)\n",
    "elemento = A[1, 2, 3]\n",
    "print(\"Elemento en coordenadas (1, 2, 3):\", elemento)"
   ]
  },
  {
   "cell_type": "markdown",
   "metadata": {
    "id": "PjVpUNkV9Ns_"
   },
   "source": [
    "En esta línea de código, `A[1, 2, 3]`, estamos accediendo a un elemento específico del tensor tridimensional `A`.\n",
    "\n",
    "- El primer índice, `1`, indica que estamos seleccionando el elemento de la primera \"capa\" del tensor (en NumPy, la indexación comienza en 0, por lo que el primer elemento tiene índice 0, el segundo 1, y así sucesivamente).\n",
    "- El segundo índice, `2`, indica que estamos seleccionando la tercera fila dentro de esa \"capa\".\n",
    "- El tercer índice, `3`, indica que estamos seleccionando el cuarto elemento dentro de esa fila.\n",
    "\n",
    "Por lo tanto, esta línea de código selecciona y asigna el valor del elemento en la primera capa, tercera fila y cuarto elemento del tensor `A`.\n"
   ]
  },
  {
   "cell_type": "markdown",
   "metadata": {
    "id": "qq1fEQ8W_Veo"
   },
   "source": [
    "## Ejemplo\n",
    "\n",
    "En aprendizaje automático, los tensores se utilizan para representar datos multidimensionales, como imágenes, secuencias de texto o series temporales. Por ejemplo, en el procesamiento de imágenes, una imagen a color se representa comúnmente como un tensor tridimensional, donde las dimensiones corresponden a la altura, el ancho y los canales de color (rojo, verde, azul).\n",
    "\n",
    "Los tensores son la estructura de datos fundamental en bibliotecas de aprendizaje automático como TensorFlow y PyTorch. Estas bibliotecas proporcionan operaciones optimizadas para trabajar con tensores, lo que permite realizar cálculos eficientes en grandes conjuntos de datos.\n",
    "\n",
    "Por ejemplo, en un modelo de redes neuronales convolucionales (CNN) para la clasificación de imágenes, las imágenes de entrada se representan como tensores y se pasan a través de múltiples capas convolucionales y de agrupación. Cada capa realiza operaciones matemáticas en los tensores de entrada para extraer características relevantes y realizar la clasificación final.\n"
   ]
  },
  {
   "cell_type": "code",
   "execution_count": null,
   "metadata": {
    "id": "9g6cmHGv8pc0"
   },
   "outputs": [],
   "source": [
    "import numpy as np\n",
    "\n",
    "# Crear un tensor para representar una imagen a color de 3x3 píxeles\n",
    "# La imagen se representa como un tensor tridimensional (altura x ancho x canales)\n",
    "imagen = np.array([\n",
    "    [[255, 0, 0], [0, 255, 0], [0, 0, 255]],\n",
    "    [[255, 255, 0], [255, 0, 255], [0, 255, 255]],\n",
    "    [[128, 128, 128], [0, 0, 0], [255, 255, 255]]\n",
    "])\n",
    "\n",
    "# Mostrar la imagen\n",
    "print(\"Tensor que representa la imagen:\")\n",
    "print(imagen)\n",
    "\n",
    "# Dimensiones del tensor\n",
    "print(\"\\nDimensiones del tensor:\", imagen.shape)\n",
    "\n",
    "# Número de canales de color\n",
    "print(\"Número de canales de color:\", imagen.shape[2])\n",
    "\n",
    "# Valor del píxel en la primera fila y primera columna para el canal rojo\n",
    "print(\"Valor del píxel en la primera fila y primera columna para el canal rojo:\", imagen[0, 0, 0])\n"
   ]
  },
  {
   "cell_type": "markdown",
   "metadata": {
    "id": "ot-bjijN_61E"
   },
   "source": [
    "## Ejemplo 2:\n",
    "\n",
    "En este ejemplo, utilizaremos la biblioteca OpenCV para cargar una imagen real desde el sistema de archivos. OpenCV es una biblioteca popular para el procesamiento de imágenes en Python. Luego, utilizaremos NumPy para convertir la imagen en un tensor tridimensional, donde las dimensiones representan la altura, el ancho y los canales de color de la imagen.\n",
    "\n",
    "La imagen se puede visualizar y manipular como un tensor, lo que nos permite realizar diversas operaciones de procesamiento de imágenes, como cambio de tamaño, recorte, filtrado, entre otras.\n"
   ]
  },
  {
   "cell_type": "code",
   "execution_count": null,
   "metadata": {
    "id": "tVpED96V_6Xu"
   },
   "outputs": [],
   "source": [
    "import cv2\n",
    "import numpy as np\n",
    "import matplotlib.pyplot as plt\n",
    "\n",
    "# Cargar la imagen desde el sistema de archivos usando OpenCV\n",
    "imagen_cv2 = cv2.imread(\"dog.jpg\")\n",
    "\n",
    "# Convertir la imagen a RGB (OpenCV carga imágenes en el formato BGR)\n",
    "imagen_rgb = cv2.cvtColor(imagen_cv2, cv2.COLOR_BGR2RGB)\n",
    "\n",
    "# Convertir la imagen a un tensor NumPy\n",
    "imagen_tensor = np.array(imagen_rgb)\n",
    "\n",
    "# Visualizar la imagen\n",
    "plt.imshow(imagen_tensor)\n",
    "plt.axis('off')\n",
    "plt.title('Imagen cargada y convertida a tensor')\n",
    "plt.show()\n",
    "\n",
    "# Mostrar las dimensiones del tensor\n",
    "print(\"Dimensiones del tensor de la imagen:\", imagen_tensor.shape)\n"
   ]
  },
  {
   "cell_type": "code",
   "execution_count": null,
   "metadata": {
    "id": "sFWB_7EVBEfe"
   },
   "outputs": [],
   "source": [
    "# Separar cada canal de color\n",
    "canal_rojo = imagen_tensor[:,:,0]\n",
    "canal_verde = imagen_tensor[:,:,1]\n",
    "canal_azul = imagen_tensor[:,:,2]\n",
    "\n",
    "\n",
    "# Mostrar cada canal de color por separado\n",
    "plt.figure(figsize=(15, 5))\n",
    "\n",
    "print(\"Dimensiones del canal rojo:\", canal_rojo.shape)\n",
    "plt.subplot(1, 3, 1)\n",
    "plt.imshow(canal_rojo)\n",
    "plt.axis('off')\n",
    "plt.title('Canal Rojo')\n",
    "\n",
    "print(\"Dimensiones del canal verde:\", canal_verde.shape)\n",
    "plt.subplot(1, 3, 2)\n",
    "plt.imshow(canal_verde)\n",
    "plt.axis('off')\n",
    "plt.title('Canal Verde')\n",
    "\n",
    "print(\"Dimensiones del canal azul:\", canal_azul.shape)\n",
    "plt.subplot(1, 3, 3)\n",
    "plt.imshow(canal_azul)\n",
    "plt.axis('off')\n",
    "plt.title('Canal Azul')\n",
    "\n",
    "plt.show()"
   ]
  },
  {
   "cell_type": "code",
   "execution_count": null,
   "metadata": {
    "id": "ax1aaD3ZE8Sa"
   },
   "outputs": [],
   "source": [
    "# Separar cada canal de color\n",
    "canal_rojo = np.zeros_like(imagen_tensor)\n",
    "canal_rojo[:,:,0] = imagen_tensor[:,:,0]\n",
    "\n",
    "canal_verde = np.zeros_like(imagen_tensor)\n",
    "canal_verde[:,:,1] = imagen_tensor[:,:,1]\n",
    "\n",
    "canal_azul = np.zeros_like(imagen_tensor)\n",
    "canal_azul[:,:,2] = imagen_tensor[:,:,2]\n",
    "\n",
    "\n",
    "# Mostrar cada canal de color por separado\n",
    "plt.figure(figsize=(15, 5))\n",
    "\n",
    "print(\"Dimensiones del canal rojo:\", canal_rojo.shape)\n",
    "plt.subplot(1, 3, 1)\n",
    "plt.imshow(canal_rojo)\n",
    "plt.axis('off')\n",
    "plt.title('Canal Rojo')\n",
    "\n",
    "print(\"Dimensiones del canal verde:\", canal_verde.shape)\n",
    "plt.subplot(1, 3, 2)\n",
    "plt.imshow(canal_verde)\n",
    "plt.axis('off')\n",
    "plt.title('Canal Verde')\n",
    "\n",
    "print(\"Dimensiones del canal azul:\", canal_azul.shape)\n",
    "plt.subplot(1, 3, 3)\n",
    "plt.imshow(canal_azul)\n",
    "plt.axis('off')\n",
    "plt.title('Canal Azul')\n",
    "\n",
    "plt.show()"
   ]
  },
  {
   "cell_type": "code",
   "execution_count": null,
   "metadata": {
    "id": "pFgqciIXBdCE"
   },
   "outputs": [],
   "source": [
    "# Convertir la imagen a RGB (OpenCV carga imágenes en el formato BGR)\n",
    "imagen_rgb = cv2.cvtColor(imagen_cv2, cv2.COLOR_BGR2RGB)\n",
    "\n",
    "# Convertir la imagen a un tensor NumPy\n",
    "imagen_tensor = np.array(imagen_rgb)\n",
    "\n",
    "# Inicializar imagen con solo el canal rojo\n",
    "imagen_con_canal = np.zeros_like(imagen_tensor)\n",
    "\n",
    "# Mostrar la imagen inicial solo con el canal rojo\n",
    "plt.figure(figsize=(5, 5))\n",
    "plt.imshow(imagen_con_canal)\n",
    "plt.axis('off')\n",
    "plt.title('Canal Rojo')\n",
    "plt.show()\n",
    "\n",
    "# Agregar un canal a la vez y mostrar la imagen resultante\n",
    "for i in range(3):  # Iterar sobre los canales RGB\n",
    "    imagen_con_canal[:,:,i] = imagen_tensor[:,:,i]  # Agregar el canal i\n",
    "\n",
    "    # Mostrar la imagen con el canal agregado\n",
    "    plt.figure(figsize=(5, 5))\n",
    "    plt.imshow(imagen_con_canal)\n",
    "    plt.axis('off')\n",
    "    plt.title('Canal {}'.format(['Rojo', 'Verde', 'Azul'][i]))\n",
    "    plt.show()\n"
   ]
  },
  {
   "cell_type": "markdown",
   "metadata": {
    "id": "VFinMu_xZHzZ"
   },
   "source": [
    "# Ejemplo de aplicación para una regresión lineal.\n",
    "La ecuación para obtener los parámetros de una regresión lineal utilizando matrices se puede expresar de la siguiente manera:\n",
    "\n",
    "Dado un conjunto de datos $ \\mathbf{X} $ de entrada y un vector $ \\mathbf{Y} $ de valores objetivo, donde $ \\mathbf{X} $ es una matriz de tamaño $ m \\times (n+1) $ (cada fila es una instancia de datos, y la primera columna de $ \\mathbf{X} $ está compuesta de unos para el término de sesgo) y $ y $ es un vector de tamaño $ m \\times 1 $, la regresión lineal busca encontrar un vector de parámetros $ \\theta $ tal que el producto matricial de $ \\mathbf{X} $ \\mathbf{Y} $ \\theta $ se aproxime a $ \\mathbf{Y} $.\n",
    "\n",
    "La ecuación de la regresión lineal utilizando matrices es:\n",
    "\n",
    "$$ \\mathbf{Y} = \\mathbf{X} \\theta$$\n",
    "\n",
    "Donde:\n",
    "- $ \\mathbf{X} $ es la matriz de características (input).\n",
    "- $ \\theta $ es el vector de parámetros que queremos encontrar.\n",
    "- $ \\mathbf{Y} $ es el vector de valores objetivo (output).\n",
    "\n",
    "Para encontrar $ \\theta $, podemos utilizar la ecuación normal:\n",
    "\n",
    "$$ \\theta = (\\mathbf{X}^T \\mathbf{X})^{-1} \\mathbf{X}^T \\mathbf{Y}$$\n",
    "\n",
    "Donde:\n",
    "- $ \\mathbf{X}^T $ es la matriz transpuesta de $ \\mathbf{X} $.\n",
    "- $ (\\mathbf{X}^T \\mathbf{X})^{-1} $ es la inversa de la matriz $ \\mathbf{X}^T \\mathbf{X} $.\n",
    "\n",
    "Esta ecuación nos da el valor óptimo de $ \\theta $ que minimiza la función de costo para la regresión lineal. Una vez que hemos calculado $ \\theta $, podemos utilizarlo para predecir nuevos valores de salida $ \\mathbf{Y} $ para datos de entrada $ \\mathbf{X} $.\n"
   ]
  },
  {
   "cell_type": "markdown",
   "metadata": {
    "id": "yrl3Q0q6HQo_"
   },
   "source": [
    "$y= \\beta_0 + x \\cdot \\beta_1$\n",
    "\n",
    "$\\hat{y} = \\hat{\\beta_0} + x \\cdot \\hat{\\beta_1} + err $\n",
    "\n",
    "$err =  \\beta_0 + x \\cdot \\beta_1 - \\hat{\\beta_0} + x \\cdot \\hat{\\beta_1}$"
   ]
  },
  {
   "cell_type": "markdown",
   "metadata": {
    "id": "cQx5r9ToH-La"
   },
   "source": []
  },
  {
   "cell_type": "markdown",
   "metadata": {
    "id": "iCx5XJh50xA3"
   },
   "source": [
    "### Ejemplo de predicción de precios de carros."
   ]
  },
  {
   "cell_type": "code",
   "execution_count": null,
   "metadata": {
    "id": "F8-WTDqEZHCn"
   },
   "outputs": [],
   "source": [
    "import pandas as pd\n",
    "from matplotlib import pyplot as plt\n",
    "import seaborn as sns"
   ]
  },
  {
   "cell_type": "code",
   "execution_count": null,
   "metadata": {
    "id": "kxPnqonobG_b"
   },
   "outputs": [],
   "source": [
    "df = pd.read_csv('card_price.csv')\n",
    "df.head()"
   ]
  },
  {
   "cell_type": "code",
   "execution_count": null,
   "metadata": {
    "id": "_-UvrBYwbRu7"
   },
   "outputs": [],
   "source": [
    "df.info()"
   ]
  },
  {
   "cell_type": "code",
   "execution_count": null,
   "metadata": {
    "id": "27W-NmzIB_IC"
   },
   "outputs": [],
   "source": [
    "df.columns"
   ]
  },
  {
   "cell_type": "code",
   "execution_count": null,
   "metadata": {
    "id": "z6a2nVHhCH0K"
   },
   "outputs": [],
   "source": [
    "df.city_mpg"
   ]
  },
  {
   "cell_type": "code",
   "execution_count": null,
   "metadata": {
    "id": "sbfv0Dv4bXub"
   },
   "outputs": [],
   "source": [
    "# Reformateamos las columnas para trabajar más fácil.\n",
    "# Pone en minúsculas todos los nombres de las columnas y reemplaza los espacios con guiones bajos.\n",
    "df.columns = df.columns.str.lower().str.replace(' ', '_')\n",
    "\n",
    "# Seleccionamos solo las columnas con strings.\n",
    "string_columns = list(df.dtypes[df.dtypes == 'object'].index)\n",
    "\n",
    "# Aplica lowercase y reemplaza espacios con guiones bajos para los valores en todas las columnas de cadena del DataFrame\n",
    "for col in string_columns:\n",
    "  df[col] = df[col].str.lower().str.replace(' ', '_')"
   ]
  },
  {
   "cell_type": "code",
   "execution_count": null,
   "metadata": {
    "id": "cTApzbE2b7us"
   },
   "outputs": [],
   "source": [
    "df.head()"
   ]
  },
  {
   "cell_type": "markdown",
   "metadata": {
    "id": "dIusl0d0cM4U"
   },
   "source": [
    "Como podemos ver, este conjunto de datos contiene múltiples columnas:\n",
    "- make: marca de un coche (BMW, Toyota, y así sucesivamente)\n",
    "- model: modelo de un coche\n",
    "- year: año en que se fabricó el coche\n",
    "- engine_fuel_type: tipo de combustible que necesita el motor (diésel, eléctrico, y así sucesivamente)\n",
    "- engine_hp: caballos de fuerza del motor\n",
    "- engine_cylinders: número de cilindros en el motor\n",
    "- transmission_type: tipo de transmisión (automática o manual)\n",
    "- driven_wheels: delanteras, traseras, todas\n",
    "- number_of_doors: número de puertas que tiene un coche\n",
    "- market_category: lujo, crossover, y así sucesivamente\n",
    "- vehicle_size: compacto, mediano o grande\n",
    "- vehicle_style: sedán o convertible\n",
    "- highway_mpg: millas por galón (mpg) en la carretera\n",
    "- city_mpg: millas por galón en la ciudad\n",
    "- popularity: número de veces que se mencionó el coche en un flujo de Twitter\n",
    "- msrp: precio minorista sugerido por el fabricante\n"
   ]
  },
  {
   "cell_type": "code",
   "execution_count": null,
   "metadata": {
    "id": "k1OEOq5ZcWsE"
   },
   "outputs": [],
   "source": [
    "# Target value (lo que se desea predecir.)\n",
    "# Analisamos como se distribuyen los datos utilizando un histograma.\n",
    "sns.histplot(df.msrp, bins=40, alpha=1)\n",
    "plt.title(\"Distribución de precios de carros.\")\n",
    "plt.ylabel(\"Frecuencia\")\n",
    "plt.xlabel(\"Precios\")\n",
    "plt.grid()\n",
    "plt.show()"
   ]
  },
  {
   "cell_type": "markdown",
   "metadata": {
    "id": "6Anbf32Vc6JM"
   },
   "source": [
    "Como se puede mostrar, los datos se distribuyen hacia la cola del lado izquierdo.\n",
    "Podemos verlo más de cerca acercándonos un poco y observando valores por debajo de $100,000.\n"
   ]
  },
  {
   "cell_type": "markdown",
   "metadata": {
    "id": "XeRx4znQwB3I"
   },
   "source": [
    "Nota de explicación de código:\n",
    "- `sns.histplot(df.msrp, bins=40, alpha=1)`: Seaborn se utiliza para crear un histograma de los precios de los carros en el DataFrame `df`. `bins=40` especifica que el histograma se dividirá en 40 contenedores. `alpha=1` establece la transparencia del histograma en 1 (sin transparencia).\n",
    "- `plt.title(\"Distribución de precios de carros.\")`: Establece el título del gráfico como \"Distribución de precios de carros.\" para describir el contenido del histograma.\n",
    "- `plt.ylabel(\"Frecuencia\")`: Etiqueta el eje y del gráfico con \"Frecuencia\" para indicar que muestra la frecuencia de los valores en el eje y.\n",
    "- `plt.xlabel(\"Precios\")`: Etiqueta el eje x del gráfico con \"Precios\" para indicar que muestra los precios en el eje x.\n",
    "- `plt.show()`: Muestra el histograma generado.\n"
   ]
  },
  {
   "cell_type": "code",
   "execution_count": null,
   "metadata": {
    "id": "m3fgk1ilC3Q2"
   },
   "outputs": [],
   "source": [
    "df.msrp[df.msrp < 100000]"
   ]
  },
  {
   "cell_type": "code",
   "execution_count": null,
   "metadata": {
    "id": "HMPvh9-tdLkU"
   },
   "outputs": [],
   "source": [
    "sns.histplot(df.msrp[df.msrp < 100000], bins=40, alpha=1)\n",
    "plt.title(\"Distribución de precios de carros.\")\n",
    "plt.ylabel(\"Frecuencia\")\n",
    "plt.xlabel(\"Precios\")\n",
    "plt.grid()\n",
    "plt.show()"
   ]
  },
  {
   "cell_type": "markdown",
   "metadata": {
    "id": "kbRh-ikBdk0t"
   },
   "source": [
    "La cola larga nos dificulta bastante ver la distribución, pero tiene un efecto aún más fuerte en un modelo: dicha distribución puede confundir enormemente al modelo, por lo que no aprenderá lo suficientemente bien. Una forma de resolver este problema es la transformación logarítmica. Si aplicamos la función log a los precios, se elimina el efecto no deseado:\n",
    "$$y_{new} = log(y + 1)$$\n",
    "Nota: si no le agregamos el uno puede causar un error el logaritmo de cero es menos infinito."
   ]
  },
  {
   "cell_type": "code",
   "execution_count": null,
   "metadata": {
    "id": "nYtmFcz7cf-U"
   },
   "outputs": [],
   "source": [
    "# Se aplica la transformación a todos los datos.\n",
    "log_price = np.log1p(df.msrp) # Es lo mismo que np.log(df.msrp + 1)\n",
    "# Mostramos los resultados e histograma.\n",
    "sns.histplot(log_price)\n",
    "plt.grid()\n",
    "plt.show()"
   ]
  },
  {
   "cell_type": "code",
   "execution_count": null,
   "metadata": {
    "id": "0Fn2hy5UhXGA"
   },
   "outputs": [],
   "source": [
    "# Revisamos si no hay valores nulos en la vase de datos\n",
    "df.isnull().sum()"
   ]
  },
  {
   "cell_type": "markdown",
   "metadata": {
    "id": "7GQpxSbPhtCn"
   },
   "source": [
    "Esta línea de código se utiliza típicamente en el contexto de análisis de datos con pandas en Python. Aquí está la explicación:\n",
    "\n",
    "1. `df`: Este es el nombre de un DataFrame de pandas, que es una estructura de datos tabular bidimensional compuesta por filas y columnas. Un DataFrame es similar a una hoja de cálculo o una tabla de base de datos.\n",
    "\n",
    "2. `.isnull()`: Este método de DataFrame se utiliza para verificar si cada elemento del DataFrame es nulo o no. Retorna un DataFrame del mismo tamaño que el original, pero con valores booleanos que indican si cada elemento es nulo (`True`) o no (`False`).\n",
    "\n",
    "3. `.sum()`: Este método se aplica al DataFrame de booleanos generado por `.isnull()` y calcula la suma de valores booleanos en cada columna. Dado que en Python `True` equivale a 1 y `False` equivale a 0 al sumarlos, el resultado es un Serie de pandas que muestra el número de valores nulos en cada columna del DataFrame original.\n",
    "\n",
    "En resumen, la línea de código `df.isnull().sum()` se utiliza para contar el número de valores nulos en cada columna de un DataFrame de pandas. Es una manera rápida y conveniente de obtener información sobre la presencia de datos faltantes en un conjunto de datos.\n"
   ]
  },
  {
   "cell_type": "markdown",
   "metadata": {
    "id": "FmaKew3Mi0en"
   },
   "source": [
    "Lo primero que vemos es que MSRP, nuestra variable objetivo, no tiene ningún valor faltante. Este resultado es bueno porque, de lo contrario, dichos registros no nos serán útiles: siempre necesitamos conocer el valor objetivo de una observación para usarlo para entrenar el modelo. Además, a algunas columnas les faltan valores, especialmente market_category, en la que tenemos casi 4000 filas con valores faltantes.\n",
    "\n",
    "Necesitaremos lidiar con los valores faltantes más adelante cuando entrenemos el modelo, por lo que debemos tener este problema en mente."
   ]
  },
  {
   "cell_type": "code",
   "execution_count": null,
   "metadata": {
    "id": "1C7q5h8Gh9Sx"
   },
   "outputs": [],
   "source": [
    "# Obtenemos los datos que se buscan predecir.\n",
    "Y = np.log1p(df.msrp.values)"
   ]
  },
  {
   "cell_type": "markdown",
   "metadata": {
    "id": "RDWYll91jS8B"
   },
   "source": [
    "Sin embargo, para poder usarlo necesitamos tener algunos datos: una matriz X y un vector con la variable objetivo y. Ya hemos preparado la y, pero todavía no tenemos la X: lo que tenemos ahora es un marco de datos, no una matriz. Entonces necesitamos extraer algunas características de nuestro conjunto de datos para crear esta matriz X. Comenzaremos con una forma muy ingenua de crear características: seleccione algunas características numéricas y forme la matriz X a partir de ellas."
   ]
  },
  {
   "cell_type": "code",
   "execution_count": null,
   "metadata": {
    "id": "XzzxPEGqIpf1"
   },
   "outputs": [],
   "source": [
    "df[base].head(3)"
   ]
  },
  {
   "cell_type": "markdown",
   "metadata": {
    "id": "tSG7NaezJS-H"
   },
   "source": [
    "$4 = 1 + 2 + 1$\n",
    "\n",
    "\n",
    "$4 = x_1 \\cdot 2 + x_2\\cdot 2  $\n",
    "\n",
    "$y = x_1\\cdot \\beta_0 + x_2\\cdot \\beta_1  $\n",
    "\n",
    "$y = \\beta_0 + x_1\\cdot \\beta_1 + x_2\\cdot \\beta_2 + x_3\\cdot \\beta_3 + x_4\\cdot \\beta_4 + x_5\\cdot \\beta_5 $"
   ]
  },
  {
   "cell_type": "markdown",
   "metadata": {
    "id": "CW96ERlzKtWq"
   },
   "source": [
    "$y = x_1 \\cdot 0.1 + x_2 \\cdot 0.5 + x_3 \\cdot 0.4$"
   ]
  },
  {
   "cell_type": "markdown",
   "metadata": {
    "id": "q9XnS6nyLLQo"
   },
   "source": [
    "$y =  \\beta_0 + x_1\\cdot \\beta_1  $"
   ]
  },
  {
   "cell_type": "code",
   "execution_count": null,
   "metadata": {
    "id": "vsPVlgVWieDk"
   },
   "outputs": [],
   "source": [
    "# Obtenemos los valores que se usarán para predecir.\n",
    "base = ['engine_hp', 'engine_cylinders', 'highway_mpg', 'city_mpg', 'popularity']\n",
    "X = df[base]"
   ]
  },
  {
   "cell_type": "markdown",
   "metadata": {
    "id": "fKituhIIC38-"
   },
   "source": [
    "\n",
    "- engine_hp: caballos de fuerza del motor\n",
    "- engine_cylinders: número de cilindros en el motor\n",
    "- highway_mpg: millas por galón (mpg) en la carretera\n",
    "- city_mpg: millas por galón en la ciudad\n",
    "- popularity: número de veces que se mencionó el coche en un flujo de Twitter\n",
    "- msrp: precio minorista sugerido por el fabricante"
   ]
  },
  {
   "cell_type": "markdown",
   "metadata": {
    "id": "2T-ODZwchlpJ"
   },
   "source": [
    "Como se analizó en la sección sobre análisis de datos exploratorios, al conjunto de datos le faltan valores. Necesitamos hacer algo porque el modelo de regresión lineal no puede tratar automáticamente los valores faltantes."
   ]
  },
  {
   "cell_type": "markdown",
   "metadata": {
    "id": "-DDOwT0JjpbI"
   },
   "source": [
    "Una opción es eliminar todas las filas que contengan al menos un valor faltante. Este enfoque, sin embargo, tiene algunas desventajas. Lo más importante es que perderemos la información que tenemos en las otras columnas. Aunque no sepamos el número de puertas de un automóvil, aún sabemos otras cosas sobre el automóvil, como la marca, el modelo, la antigüedad y otras cosas que no queremos desperdiciar. La otra opción es completar los valores faltantes con algún otro valor. De esta manera, no perdemos la información de otras columnas y aún podemos hacer predicciones, incluso si a la fila le faltan valores. El método más sencillo posible es rellenar los valores faltantes con ceros. Podemos usar el método fillna de Pandas"
   ]
  },
  {
   "cell_type": "code",
   "execution_count": null,
   "metadata": {
    "id": "RR84m6hSjriR"
   },
   "outputs": [],
   "source": [
    "X = X.fillna(0)"
   ]
  },
  {
   "cell_type": "markdown",
   "metadata": {
    "id": "BV6W3Qavj5Ih"
   },
   "source": [
    "**Aun tenemos datos en un formato de DataFrame.**"
   ]
  },
  {
   "cell_type": "code",
   "execution_count": null,
   "metadata": {
    "id": "hDSEymLnj1ZZ"
   },
   "outputs": [],
   "source": [
    "X.head()"
   ]
  },
  {
   "cell_type": "markdown",
   "metadata": {
    "id": "ENFpTM5wj86B"
   },
   "source": [
    "** Los pasamos a una matriz.**"
   ]
  },
  {
   "cell_type": "code",
   "execution_count": null,
   "metadata": {
    "id": "QI2NMpJ7kA2p"
   },
   "outputs": [],
   "source": [
    "X = X.values\n",
    "print(X)"
   ]
  },
  {
   "cell_type": "markdown",
   "metadata": {
    "id": "SododZFiEOr8"
   },
   "source": [
    "$y= \\beta_0 + \\beta_2 \\cdot x$\n",
    "\n",
    "**Matricial**\n",
    "\n",
    "$$ \\mathbf{Y} = \\mathbf{X} \\theta$$"
   ]
  },
  {
   "cell_type": "markdown",
   "metadata": {
    "id": "YyULCxztWp-7"
   },
   "source": [
    "**Tenemos que agregar una columna de ceros para hacer una regresión**\n",
    "Esto con el fin de que se puede calcular el punto de intersección de la recta con el eje $y$."
   ]
  },
  {
   "cell_type": "code",
   "execution_count": null,
   "metadata": {
    "id": "5AI5IekxFVTr"
   },
   "outputs": [],
   "source": [
    "X.shape"
   ]
  },
  {
   "cell_type": "code",
   "execution_count": null,
   "metadata": {
    "id": "4B2IgK4xkyfb"
   },
   "outputs": [],
   "source": [
    "# Agregamos una columna de unos a la matrix original.\n",
    "# Para obtener el parámetro que es el valor inicial de la pendiente de la regresión\n",
    "columna_unos = np.ones((X.shape[0], 1))\n",
    "print(columna_unos)\n"
   ]
  },
  {
   "cell_type": "markdown",
   "metadata": {
    "id": "sAAgn75GW9Ri"
   },
   "source": [
    "Checamos las dimensiones para ver que todo este bien."
   ]
  },
  {
   "cell_type": "code",
   "execution_count": null,
   "metadata": {
    "id": "7H3v2e1mlcyU"
   },
   "outputs": [],
   "source": [
    "X.shape, columna_unos.shape"
   ]
  },
  {
   "cell_type": "markdown",
   "metadata": {
    "id": "yiqKLVHeXBvf"
   },
   "source": [
    "Agregamos la columna de unos."
   ]
  },
  {
   "cell_type": "code",
   "execution_count": null,
   "metadata": {
    "id": "w4cYFxOTlYLJ"
   },
   "outputs": [],
   "source": [
    "X_constant = np.concatenate((columna_unos, X), axis=1)\n",
    "\n",
    "print(X_constant[:1,:])"
   ]
  },
  {
   "cell_type": "markdown",
   "metadata": {
    "id": "1WTiQeH7kN7B"
   },
   "source": [
    "Ahora utilizando $$ \\theta = (\\mathbf{X}^T \\mathbf{X})^{-1} \\mathbf{X}^T \\mathbf{Y}$$\n",
    "Podemos tener los parámetros de una regresión lineal."
   ]
  },
  {
   "cell_type": "code",
   "execution_count": null,
   "metadata": {
    "id": "HHeVIBIql13S"
   },
   "outputs": [],
   "source": [
    "thetas = np.linalg.inv(X_constant.T @ X_constant ) @ X_constant.T @ Y\n",
    "print(thetas)"
   ]
  },
  {
   "cell_type": "code",
   "execution_count": null,
   "metadata": {
    "id": "Zb_FcSHmnixq"
   },
   "outputs": [],
   "source": [
    "y_predicted = X_constant @ thetas"
   ]
  },
  {
   "cell_type": "code",
   "execution_count": null,
   "metadata": {
    "id": "kiNEAvKCn3-_"
   },
   "outputs": [],
   "source": [
    "sns.histplot(y_predicted, label='Valor predicho')\n",
    "sns.histplot(Y, label='Valor objetivo')\n",
    "plt.legend()\n",
    "plt.grid()\n",
    "plt.show()"
   ]
  },
  {
   "cell_type": "markdown",
   "metadata": {
    "id": "29jYfpk8oKdK"
   },
   "source": [
    "**Repitiendo el proceso con statsmodels.**"
   ]
  },
  {
   "cell_type": "code",
   "execution_count": null,
   "metadata": {
    "id": "s-hZzMcPm7jB"
   },
   "outputs": [],
   "source": [
    "import statsmodels.api as sm\n",
    "\n",
    "# Definir la matriz de variables independientes (X) agregando una constante\n",
    "X = sm.add_constant(X)\n",
    "\n",
    "\n",
    "# Crear un modelo de regresión lineal\n",
    "modelo = sm.OLS(Y, X)\n",
    "\n",
    "# Ajustar el modelo a los datos\n",
    "resultados = modelo.fit()\n",
    "\n",
    "# Imprimir un resumen del modelo\n",
    "print(resultados.summary())"
   ]
  },
  {
   "cell_type": "markdown",
   "metadata": {
    "id": "YVqDMb3QXSvf"
   },
   "source": [
    "Comparamos los valores que obtuvimos de la regresión con los valores obtenidos usando `statsmodels`."
   ]
  },
  {
   "cell_type": "code",
   "execution_count": null,
   "metadata": {
    "id": "_NxdzoSMnUvL"
   },
   "outputs": [],
   "source": [
    "thetas = np.linalg.inv(X_constant.T @ X_constant ) @ X_constant.T @ Y\n",
    "print(thetas)"
   ]
  },
  {
   "cell_type": "code",
   "execution_count": null,
   "metadata": {
    "id": "zNxtRfcYXlvT"
   },
   "outputs": [],
   "source": [
    "print(resultados.params)"
   ]
  },
  {
   "cell_type": "markdown",
   "metadata": {
    "id": "cVf9_kghYQkZ"
   },
   "source": [
    "Para hacere la comparación utilizaremos 4 decimales."
   ]
  },
  {
   "cell_type": "code",
   "execution_count": null,
   "metadata": {
    "id": "ZZoAUJUMXq_u"
   },
   "outputs": [],
   "source": [
    "resultados.params.round(4) == thetas.round(4)"
   ]
  },
  {
   "cell_type": "markdown",
   "metadata": {
    "id": "tmhW2V6wD0XZ"
   },
   "source": [
    "# Sábado:\n",
    "* Determinantes\n",
    "* Valores y vectores propios\n",
    "* Matriz de correlación\n",
    "* Matriz de covarianza\n",
    "* Análisis de componentes principales"
   ]
  },
  {
   "cell_type": "markdown",
   "metadata": {
    "id": "eE3f3v4-7GwE"
   },
   "source": [
    "**Determinantes en álgebra lineal**\n",
    "\n",
    "Los determinantes en álgebra lineal son una herramienta poderosa que nos permite entender las transformaciones lineales y resolver sistemas de ecuaciones lineales.\n",
    "\n",
    "**Una manera intuitiva del concepto de detrminantes es el siguiente:**\n",
    "* Imagina que estás en un plano, como una hoja de papel. Ahora, dibuja un paralelogramo en esa hoja, con sus lados bien definidos y sus vértices marcados. Este paralelogramo representa un área en ese plano.\n",
    "\n",
    "  Ahora, toma dos vectores que definan los lados del paralelogramo. Estos vectores podrían ser como flechas que muestran cómo llegar desde un punto del paralelogramo hasta otro. Cada vector tiene una longitud y una dirección específicas.\n",
    "\n",
    "  Aquí viene la parte interesante: el determinante de una matriz formada por estos dos vectores como filas (o columnas) es igual al área del paralelogramo que estos vectores definen.\n",
    "\n",
    "  ¿Cómo funciona esto? Piensa en estirar o comprimir el paralelogramo. Cuando cambias la longitud o la dirección de los vectores, el paralelogramo se transforma, pero el área que cubre sigue siendo la misma. El determinante de la matriz te da precisamente esta área, independientemente de cómo se vea el paralelogramo.\n",
    "\n",
    "  Entonces, calcular el determinante es como calcular el área de ese paralelogramo en el plano. Es una forma poderosa de comprender la geometría y las transformaciones en el espacio.\n",
    "* Nota: Un paralelogramo es un tipo de cuadrilátero (una figura de cuatro lados) en la geometría plana. Lo que lo distingue es que sus lados opuestos son paralelos y tienen la misma longitud. Además, los ángulos opuestos en un paralelogramo son congruentes, lo que significa que tienen la misma medida.\n",
    "  El área de un paralelogramo se puede encontrar multiplicando la longitud de uno de sus lados por la distancia perpendicular entre ese lado y su lado opuesto. Esta distancia perpendicular se llama altura del paralelogramo.\n",
    "\n",
    "  Por lo tanto, si $ b $ es la longitud de la base del paralelogramo y $ h $ es su altura, entonces el área $ A $ del paralelogramo se calcula como:\n",
    "\n",
    "  $$ A = b \\times h $$\n",
    "\n",
    "\n",
    "**¿Cómo se calcula el determinante de una matriz $2 \\times 2$?**\n",
    "\n",
    "Consideremos una matriz $\\mathbf{A}$ de tamaño $2 \\times 2$:\n",
    "\n",
    "$$ A = \\begin{bmatrix} a & b \\\\ c & d \\end{bmatrix}$$\n",
    "\n",
    "El determinante de $\\mathbf{A}$, denotado como $|\\mathbf{A}|$ o $\\text{det}(\\mathbf{A})$, se calcula de la siguiente manera:\n",
    "\n",
    "1. **Multiplicación en diagonal**: Multiplica los elementos en la diagonal principal (de arriba a la izquierda a abajo a la derecha) y réstalos.\n",
    "\n",
    "   $$ \\text{det}(\\mathbf{A}) = (a \\times d) - (b \\times c) $$\n",
    "\n",
    "   Esta es la forma básica de calcular el determinante de una matriz $2 \\times 2$.\n",
    "\n",
    "2. **Ejemplo**:\n",
    "   \n",
    "   Considera la matriz: $$A = \\begin{bmatrix} 2 & 3 \\\\ 1 & 4 \\end{bmatrix}$$\n",
    "\n",
    "   $$ \\text{det}(\\mathbf{A}) = (2 \\times 4) - (3 \\times 1) $$\n",
    "  $$ \\text{det}(\\mathbf{A}) = (8) - (3) = 5 $$\n",
    "\n",
    "   Por lo tanto, el determinante de $A$ es $5$.\n",
    "* Para matrices de mayor tamaño, se utilizan métodos como la expansión por cofactores.\n",
    "\n"
   ]
  },
  {
   "cell_type": "markdown",
   "metadata": {
    "id": "G_w5l0yv7TTQ"
   },
   "source": [
    "En esta sesión, para trabajar con determinantes se utilizarán las siguientes librerías:"
   ]
  },
  {
   "cell_type": "code",
   "execution_count": null,
   "metadata": {
    "id": "YqwybVXv7Sww"
   },
   "outputs": [],
   "source": [
    "import time\n",
    "\n",
    "import numpy as np\n",
    "import scipy as sp\n",
    "import matplotlib.pyplot as plt\n",
    "\n",
    "from numpy.linalg import det\n",
    "\n",
    "from IPython.display import clear_output\n",
    "\n"
   ]
  },
  {
   "cell_type": "markdown",
   "metadata": {
    "id": "7vDY8zTpDdtT"
   },
   "source": [
    "Nota: Podemos cambiar el estilo de los plots con las siguientes lineas"
   ]
  },
  {
   "cell_type": "code",
   "execution_count": null,
   "metadata": {
    "id": "MnWcqXx-DeQa"
   },
   "outputs": [],
   "source": [
    "plt.style.use('seaborn-v0_8-pastel') # Cambia el estilo de los graficos\n",
    "styles = plt.style.available # Estilos disponibles.\n",
    "for s in styles:\n",
    "  print(s)"
   ]
  },
  {
   "cell_type": "code",
   "execution_count": null,
   "metadata": {
    "id": "PbhJ_yIiAERz"
   },
   "outputs": [],
   "source": [
    "# Definir la matriz\n",
    "A = np.array([[2, 1], [3, 4]])\n",
    "\n",
    "print(A)\n",
    "# Calcular el determinante\n",
    "determinante = det(A)\n",
    "\n",
    "print(f\"El determinante de la matriz A es: {determinante:.2f}.\")\n"
   ]
  },
  {
   "cell_type": "code",
   "execution_count": null,
   "metadata": {
    "id": "HBVmt4i-AKji"
   },
   "outputs": [],
   "source": [
    "def plot_2ddet(matrix):\n",
    "  # Se calcula el determinante\n",
    "  dett = det(matrix)\n",
    "\n",
    "  # Se crea una figura y ejes.\n",
    "  fig, ax = plt.subplots(figsize=(6, 6))\n",
    "\n",
    "  # Plotear la matriz\n",
    "  ax.arrow(0, 0, matrix[0,0], matrix[0,1], head_width=0.1, head_length=0.1, color='b')\n",
    "  ax.arrow(0, 0, matrix[1,0], matrix[1,1], head_width=0.1, head_length=0.1, color='r')\n",
    "  ax.arrow(matrix[0,0], matrix[0,1], matrix[1,0], matrix[1,1], head_width=0.1, head_length=0.1, color='r')\n",
    "  ax.arrow(matrix[1,0], matrix[1,1], matrix[0,0], matrix[0,1], head_width=0.1, head_length=0.1, color='b')\n",
    "\n",
    "  # Añadir una nota del valor de la determinante.\n",
    "  ax.annotate(f'Determinante = {dett:.2f}', (matrix[0,0]/2, matrix[0,1]/2))\n",
    "\n",
    "  # Añadir etiquetas del x y y, añadiendo también un titulo de la gráfica.\n",
    "  ax.set_xlabel('x')\n",
    "  ax.set_ylabel('y')\n",
    "  ax.grid(True)\n",
    "  plt.title(\"Determinante de dos vectores\")\n",
    "  plt.show()\n"
   ]
  },
  {
   "cell_type": "code",
   "execution_count": null,
   "metadata": {
    "id": "tNG3_8jvAPTL"
   },
   "outputs": [],
   "source": [
    "A = np.array([[2, 0], [0, 3]])\n",
    "\n",
    "plot_2ddet(A)"
   ]
  },
  {
   "cell_type": "code",
   "execution_count": null,
   "metadata": {
    "id": "eJE_kA_PVj2W"
   },
   "outputs": [],
   "source": [
    "A = np.array([[2, 0], [0, -3]])\n",
    "\n",
    "plot_2ddet(A)"
   ]
  },
  {
   "cell_type": "code",
   "execution_count": null,
   "metadata": {
    "id": "gHzuuEY_AvFy"
   },
   "outputs": [],
   "source": [
    "A = np.array([[2, 1], [3, 4]])\n",
    "plot_2ddet(A)"
   ]
  },
  {
   "cell_type": "code",
   "execution_count": null,
   "metadata": {
    "id": "Z1Qpjzh-BbIb"
   },
   "outputs": [],
   "source": [
    "matrix = np.array([[2, 3], [1, 3]])\n",
    "plot_2ddet(matrix)"
   ]
  },
  {
   "cell_type": "code",
   "execution_count": null,
   "metadata": {
    "id": "1E1ivaYbBmIq"
   },
   "outputs": [],
   "source": [
    "matrix = np.array([[2, 3], [4, 6]])\n",
    "plot_2ddet(matrix)"
   ]
  },
  {
   "cell_type": "code",
   "execution_count": null,
   "metadata": {
    "id": "gqm9zzJWCG0y"
   },
   "outputs": [],
   "source": [
    "# Definir las matrices inicial y final\n",
    "A = np.array([[2, 0], [0, 3]])\n",
    "matrix = np.array([[2, 3], [4, 6]])\n",
    "\n",
    "# Iterar sobre una secuencia de matrices desde A hasta matrix\n",
    "for alpha in np.linspace(0, 1, 10):  # 10 pasos desde 0 hasta 1\n",
    "  intermediate_matrix = (1 - alpha) * A + alpha * matrix\n",
    "  plot_2ddet(intermediate_matrix)\n",
    "  time.sleep(2)\n",
    "  clear_output(wait=True)"
   ]
  },
  {
   "cell_type": "markdown",
   "metadata": {
    "id": "CGq9lkaz6n0K"
   },
   "source": [
    "**Actividad**, ver el siguietne vídeo:\n"
   ]
  },
  {
   "cell_type": "code",
   "execution_count": null,
   "metadata": {
    "id": "g2tL0bFm67lz"
   },
   "outputs": [],
   "source": [
    "from IPython.display import YouTubeVideo\n",
    "\n",
    "YouTubeVideo('yt3eoYvGel0')\n",
    "\n"
   ]
  },
  {
   "cell_type": "code",
   "execution_count": null,
   "metadata": {
    "id": "udXMhHCmD_-B"
   },
   "outputs": [],
   "source": [
    "fig = plt.figure(figsize=(8, 8))\n",
    "ax = fig.add_subplot(111, projection='3d')\n",
    "\n",
    "# Definir los vértices del paralelepípedo.\n",
    "vertices = [[2, 0, 0], [2, 3, 0], [0, 3, 0], [0, 0, 0],\n",
    "            [2, 3, 4], [2, 6, 4], [0, 6, 4], [0, 3, 4]]\n",
    "\n",
    "# Trazar los bordes del paralelepípedo.\n",
    "for i in range(4):\n",
    "    xs = [vertices[i][0], vertices[i+4][0]]\n",
    "    ys = [vertices[i][1], vertices[i+4][1]]\n",
    "    zs = [vertices[i][2], vertices[i+4][2]]\n",
    "    ax.plot(xs, ys, zs, color='red')\n",
    "\n",
    "for i in range(4):\n",
    "    xs = [vertices[i][0], vertices[(i+1)%4][0]]\n",
    "    ys = [vertices[i][1], vertices[(i+1)%4][1]]\n",
    "    zs = [vertices[i][2], vertices[(i+1)%4][2]]\n",
    "    ax.plot(xs, ys, zs, color='blue')\n",
    "\n",
    "for i in range(4,8):\n",
    "    xs = [vertices[i][0], vertices[(i+1)%4+4][0]]\n",
    "    ys = [vertices[i][1], vertices[(i+1)%4+4][1]]\n",
    "    zs = [vertices[i][2], vertices[(i+1)%4+4][2]]\n",
    "    ax.plot(xs, ys, zs, color='k')\n",
    "\n",
    "# Agregue anotaciones para las coordenadas en cada vértice.\n",
    "for vertex in vertices:\n",
    "    ax.text(vertex[0], vertex[1], vertex[2], f\"({vertex[0]}, {vertex[1]}, {vertex[2]})\")\n",
    "\n",
    "plt.show()"
   ]
  },
  {
   "cell_type": "markdown",
   "metadata": {
    "id": "fEo6nye_E-1L"
   },
   "source": [
    "**Expansión por cofactores**\n",
    "\n",
    "Dada una matriz $\\mathbf{A}$ de tamaño $n \\times n$, el determinante $\\text{det}(A)$ se puede expresar como:\n",
    "\n",
    "$$\n",
    "\\text{det}(\\mathbf{A}) = a_{11} C_{11} + a_{12} C_{12} + \\ldots + a_{1n} C_{1n}\n",
    "$$\n",
    "\n",
    "Donde $a_{ij}$ es el elemento en la fila $i$ y la columna $j$ de la matriz $A$, y $C_{ij}$ es el cofactor correspondiente al elemento $a_{ij}$.\n",
    "\n",
    "El cofactor $C_{ij}$ de un elemento $a_{ij}$ se calcula como el producto del elemento $a_{ij}$ por el determinante de la matriz resultante al eliminar la fila $i$ y la columna $j$ de la matriz original, multiplicado por $(-1)^{i+j}$ para alternar el signo según la posición del elemento en la matriz.\n",
    "\n",
    "Por ejemplo, para una matriz $3 \\times 3$, el cofactor $C_{ij}$ se calcula como:\n",
    "\n",
    "$$\n",
    "C_{ij} = (-1)^{i+j} \\cdot \\text{det}(A_{ij}) = (-1)^{i+j}M_{ij}\n",
    "$$\n",
    "\n",
    "Donde $A_{ij}$ es la matriz resultante de eliminar la fila $i$ y la columna $j$ de la matriz original $\\mathbf{A}$.\n",
    "\n",
    "Una vez que se calculan todos los cofactores, se suman para obtener el determinante de la matriz $\\mathbf{A}$.\n",
    "\n",
    "Este método puede ser laborioso para matrices grandes, pero es útil para comprender la estructura del determinante y su relación con los sub-determinantes de la matriz original.\n",
    "\n",
    "**Ejemplo**\n",
    "Dada la matriz:\n",
    "\n",
    "$$ \\mathbf{A} = \\begin{bmatrix} 1 & 5 & 0 \\\\ 2 & 4 & -1 \\\\ 0 & -2 & 0 \\end{bmatrix} $$\n",
    "\n",
    "Podemos expandir el determinante utilizando la primera fila:\n",
    "\n",
    "$$ \\text{det}(A) = 1 \\cdot C_{11} + 5 \\cdot C_{12} + 0 \\cdot C_{13} $$\n",
    "\n",
    "Donde $ C_{ij} $ es el cofactor correspondiente al elemento $ a_{ij}$.\n",
    "\n",
    "Calculamos el cofactor $ C_{11} $ para el elemento $ a_{11} = 1 $ eliminando la primera fila y la primera columna:\n",
    "\n",
    "$$A_{11} = \\begin{bmatrix} 4 & -1 \\\\ -2 & 0 \\end{bmatrix} $$\n",
    "\n",
    "$$ \\text{det}(A_{11}) = (4 \\cdot 0) - (-1 \\cdot -2) = -2 $$\n",
    "\n",
    "$$ C_{11} = (-1)^{1+1} \\cdot \\text{det}(A_{11}) = 1 \\cdot -2 = -2 $$\n",
    "\n",
    "Calculamos el cofactor $ C_{12} $ para el elemento $ a_{12} = 5 $ eliminando la primera fila y la segunda columna:\n",
    "\n",
    "$$ A_{12} = \\begin{bmatrix} 2 & -1 \\\\ 0 & 0 \\end{bmatrix} $$\n",
    "\n",
    "$$ \\text{det}(A_{12}) = (2 \\cdot 0) - (0 \\cdot -2) = 0 $$\n",
    "\n",
    "$$ C_{12} = (-1)^{1+2} \\cdot \\text{det}(A_{12}) = -1 \\cdot 0 = 0 $$\n",
    "\n",
    "Calculamos el cofactor $ C_{13} $ para el elemento $ a_{13} = 0 $ eliminando la primera fila y la tercera columna:\n",
    "\n",
    "$$ A_{13} = \\begin{bmatrix} 2 & 4 \\\\ 0 & -2 \\end{bmatrix} $$\n",
    "\n",
    "$$ \\text{det}(A_{12}) = (2 \\cdot -2) - (4 \\cdot 0) = -4 $$\n",
    "\n",
    "$$ C_{12} = (-1)^{1+2} \\cdot \\text{det}(A_{12}) = -1 \\cdot -4 = 4 $$\n",
    "\n",
    "\n",
    "\n",
    "Por lo tanto, el determinante de la matriz $ A $ es:\n",
    "\n",
    "$$ \\text{det}(\\mathbf{A}) = 1 \\cdot -2 + 5 \\cdot 0 + 0 \\cdot 4 = -2 $$\n",
    "\n",
    "Entonces, $ \\text{det}(\\mathbf{A}) = -2 $.\n",
    "\n"
   ]
  },
  {
   "cell_type": "code",
   "execution_count": null,
   "metadata": {
    "id": "bpollNY5K5Q4"
   },
   "outputs": [],
   "source": [
    "def cof_exp(matrix, c): # c es la columna que queremos expandir\n",
    "  detA = 0\n",
    "  for i in range(matrix.shape[0]): # matriz.forma[0] es el número total de filas\n",
    "    submatrix = np.delete(matrix, i, axis=0) # Eliminar fila i\n",
    "    submatrix = np.delete(submatrix, c, axis=1) # Eliminar columna c\n",
    "    detA += matrix[i, c]*(-1)**(i + c)*det(submatrix)\n",
    "  return detA"
   ]
  },
  {
   "cell_type": "code",
   "execution_count": null,
   "metadata": {
    "id": "FIEsOF6NLg1q"
   },
   "outputs": [],
   "source": [
    "A = np.array([[1, 4, 0], [2, 4, -1], [0, -2, 0]])\n",
    "print(f\"Matriz:\\n{A}\")\n",
    "print(f\"Determiante: {cof_exp(A, 1)}\")"
   ]
  },
  {
   "cell_type": "code",
   "execution_count": null,
   "metadata": {
    "id": "PQSQ5G21FotQ"
   },
   "outputs": [],
   "source": [
    "print(f\"Matriz:\\n{A}\")\n",
    "print(f\"Determiante: {det(A)}\")"
   ]
  },
  {
   "cell_type": "code",
   "execution_count": null,
   "metadata": {
    "id": "WBeKmiCsK57n"
   },
   "outputs": [],
   "source": [
    "A = np.array([\n",
    "    [49, 0, 61],\n",
    "     [73, 22, 96],\n",
    "      [2, 0, 32]])\n",
    "print(f\"Matriz:\\n{A}\")\n",
    "print(f\"Determiante: {cof_exp(A, 1):.2f}\")"
   ]
  },
  {
   "cell_type": "code",
   "execution_count": null,
   "metadata": {
    "id": "LdzLJlEaMLH3"
   },
   "outputs": [],
   "source": [
    "print(f\"Matriz:\\n{A}\")\n",
    "print(f\"Determiante: {det(A):.2f}\")"
   ]
  },
  {
   "cell_type": "markdown",
   "metadata": {
    "id": "ra1JYMJQMeEh"
   },
   "source": [
    "**Matriz triangular**\n",
    "\n",
    "Una matriz triangular es una matriz cuadrada donde todos los elementos por encima (o debajo) de la diagonal principal son cero. Dependiendo de dónde estén los ceros, una matriz triangular puede ser superior o inferior.\n",
    "\n",
    "1. **Matriz triangular superior**: En una matriz triangular superior, todos los elementos por debajo de la diagonal principal son cero. La diagonal principal y todos los elementos por encima de ella pueden ser cualquier valor, no necesariamente cero. Por ejemplo:\n",
    "\n",
    "$$\n",
    "\\begin{bmatrix}\n",
    "1 & 2 & 3 \\\\\n",
    "0 & 4 & 5 \\\\\n",
    "0 & 0 & 6 \\\\\n",
    "\\end{bmatrix}\n",
    "$$\n",
    "\n",
    "2. **Matriz triangular inferior**: En una matriz triangular inferior, todos los elementos por encima de la diagonal principal son cero. La diagonal principal y todos los elementos por debajo de ella pueden ser cualquier valor, no necesariamente cero. Por ejemplo:\n",
    "\n",
    "$$\n",
    "\\begin{bmatrix}\n",
    "1 & 0 & 0 \\\\\n",
    "4 & 5 & 0 \\\\\n",
    "7 & 8 & 9 \\\\\n",
    "\\end{bmatrix}\n",
    "$$\n",
    "\n",
    "Las matrices triangulares tienen propiedades útiles en álgebra lineal y son comunes en muchos problemas computacionales y matemáticos. Por ejemplo, son fáciles de resolver mediante métodos como la sustitución hacia adelante o hacia atrás y tienen determinantes simples de calcular. Además, pueden ser útiles en la optimización de algoritmos, ya que muchos cálculos se pueden simplificar si los elementos son cero.\n",
    "\n",
    "**Calculo de determinantes dada una matriz triangular**\n",
    "\n",
    "Dada una matriz triangular, ya sea superior o inferior, el determinante se calcula multiplicando los elementos en la diagonal principal. Esto se debe a que todos los elementos por encima o por debajo de la diagonal principal son cero, por lo que su contribución al determinante es nula.\n",
    "\n",
    "Para una matriz triangular superior, el determinante $ \\text{det}(\\mathbf{A}) $ se calcula como:\n",
    "\n",
    "$$ \\text{det}(\\mathbf{A}) = a_{11} \\cdot a_{22} \\cdot \\ldots \\cdot a_{nn} $$\n",
    "\n",
    "Donde $ a_{ii} $ son los elementos en la diagonal principal de la matriz.\n",
    "\n",
    "Para una matriz triangular inferior, el determinante $ \\text{det}(A) $ se calcula de la misma manera:\n",
    "\n",
    "$$ \\text{det}(A) = a_{11} \\cdot a_{22} \\cdot \\ldots \\cdot a_{nn} $$\n",
    "\n",
    "Donde $ a_{ii} $ son los elementos en la diagonal principal de la matriz.\n",
    "\n",
    "En resumen, en una matriz triangular, el determinante es simplemente el producto de los elementos en la diagonal principal.\n"
   ]
  },
  {
   "cell_type": "code",
   "execution_count": null,
   "metadata": {
    "id": "G9O9_VlONww9"
   },
   "outputs": [],
   "source": [
    "A = np.random.randint(0, 101, size=(5, 5))\n",
    "print(f\"Matriz A:\\n{A}\")\n",
    "# Calcula la matriz triangular\n",
    "A_triu = np.triu(A)\n",
    "print(f\"Matriz triangujar de A:\\n{A_triu}\")\n",
    "print(f\"Determinante de A: {det(A_triu):.2f}\")\n"
   ]
  },
  {
   "cell_type": "markdown",
   "metadata": {
    "id": "LONBEBG0PgKd"
   },
   "source": [
    "**Regla de cremer**\n",
    "\n",
    "La regla de Cramer es un método utilizado para resolver sistemas de ecuaciones lineales utilizando determinantes. Fue desarrollada por Gabriel Cramer en el siglo XVIII y proporciona una forma de encontrar las soluciones de un sistema de ecuaciones lineales mediante el cálculo de determinantes.\n",
    "\n",
    "La regla de Cramer establece que si tenemos un sistema de ecuaciones lineales de la forma $\\mathbf{A}x = b$, donde $\\mathbf{A}$ es una matriz de coeficientes, $x$ es un vector de incógnitas y $b$ es un vector de términos independientes, entonces la solución para cada incógnita $x_i$ se puede encontrar mediante la siguiente fórmula:\n",
    "\n",
    "$$ x_i = \\frac{\\text{det}(A_i)}{\\text{det}(\\mathbf{A})} $$\n",
    "\n",
    "Donde:\n",
    "- $ \\text{det}(\\mathbf{A})$ es el determinante de la matriz de coeficientes $\\mathbf{A}$.\n",
    "- $\\text{det}(A_i)$ es el determinante de la matriz que se obtiene al reemplazar la columna $i$-ésima de $\\mathbf{A}$ por el vector $b$.\n",
    "\n",
    "Es importante destacar que la regla de Cramer solo se aplica cuando la matriz de coeficientes $\\mathbf{A}$ es cuadrada (es decir, tiene el mismo número de filas y columnas) y su determinante no es cero (es decir, la matriz es invertible).\n",
    "\n",
    "La regla de Cramer puede ser útil para sistemas de ecuaciones lineales pequeños, ya que proporciona una forma explícita de encontrar las soluciones sin necesidad de realizar eliminación gaussiana u otros métodos. Sin embargo, para sistemas grandes, calcular determinantes puede ser computacionalmente costoso y otros métodos de resolución pueden ser más eficientes.\n"
   ]
  },
  {
   "cell_type": "markdown",
   "metadata": {
    "id": "DoTX8zTFRl9w"
   },
   "source": [
    "**Ejemplo**\n",
    "$$\\begin{align*}\n",
    "2x_{1} - x_{2} + 3_{3} &= -3 \\\\\n",
    "3x_{1} + 3x_{2} - x_{3} &= 10 \\\\\n",
    "-x_{1} - x_{2} + x_{3} &= -4\n",
    "\\end{align*}$$\n",
    "$$\\begin{equation*}\n",
    "\\begin{bmatrix}\n",
    "2 & -1 & 3 \\\\\n",
    "3 & 3 & -1 \\\\\n",
    "-1 & -1 & 1 \\\\\n",
    "\\end{bmatrix}\n",
    "\\begin{bmatrix}\n",
    "x_{1} \\\\\n",
    "x_{2} \\\\\n",
    "x_{3} \\\\\n",
    "\\end{bmatrix}\n",
    "=\n",
    "\\begin{bmatrix}\n",
    "-3 \\\\\n",
    "10 \\\\\n",
    "-4 \\\\\n",
    "\\end{bmatrix}\n",
    "\\end{equation*}\n",
    "$$"
   ]
  },
  {
   "cell_type": "code",
   "execution_count": null,
   "metadata": {
    "id": "HNexqKMeQdRs"
   },
   "outputs": [],
   "source": [
    "A = np.array([\n",
    "    [2, -1, 3],\n",
    "     [3, 3, -1],\n",
    "      [-1, -1, 1]])\n",
    "b = np.array([[-3, 10, -4]]).T"
   ]
  },
  {
   "cell_type": "code",
   "execution_count": null,
   "metadata": {
    "id": "alqi0o8sQfRU"
   },
   "outputs": [],
   "source": [
    "A_1b = np.copy(A)\n",
    "A_1b\n",
    "\n"
   ]
  },
  {
   "cell_type": "code",
   "execution_count": null,
   "metadata": {
    "id": "SnOQrz6HYQZB"
   },
   "outputs": [],
   "source": [
    "A_1b[:, 0] = b.T\n",
    "A_1b"
   ]
  },
  {
   "cell_type": "code",
   "execution_count": null,
   "metadata": {
    "id": "4Epc0SxlYWf9"
   },
   "outputs": [],
   "source": [
    "A_2b = np.copy(A)\n",
    "A_2b[:, 1] = b.T\n",
    "A_2b"
   ]
  },
  {
   "cell_type": "code",
   "execution_count": null,
   "metadata": {
    "id": "qSbZAdT5Ybu1"
   },
   "outputs": [],
   "source": [
    "A_3b = np.copy(A)\n",
    "A_3b"
   ]
  },
  {
   "cell_type": "code",
   "execution_count": null,
   "metadata": {
    "id": "kIX3o0rbYPhk"
   },
   "outputs": [],
   "source": [
    "A_3b[:, 2] = b.T\n",
    "A_3b"
   ]
  },
  {
   "cell_type": "code",
   "execution_count": null,
   "metadata": {
    "id": "vf8xau7LQyxc"
   },
   "outputs": [],
   "source": [
    "x1 = det(A_1b)/det(A)\n",
    "x2 = det(A_2b)/det(A)\n",
    "x3 = det(A_3b)/det(A)\n",
    "print(f\"x1 = {x1:.2f}, x2 = {x2:.2f}, x3 = {x3:.2f}\")"
   ]
  },
  {
   "cell_type": "markdown",
   "metadata": {
    "id": "8eDbxZHwTsuC"
   },
   "source": [
    "**Usando el Solve de numpy**"
   ]
  },
  {
   "cell_type": "code",
   "execution_count": null,
   "metadata": {
    "id": "tWH9hGbQQ9D8"
   },
   "outputs": [],
   "source": [
    "s = np.linalg.solve(A, b)\n",
    "print(f\"Solución de la matriz A:\\n{A}\")\n",
    "print(f\"y el vector b:\\n{b}\")\n",
    "print(f\"Solución:\\n{s}\")\n"
   ]
  },
  {
   "cell_type": "markdown",
   "metadata": {
    "id": "hUySPaNHRMFF"
   },
   "source": [
    "También se puede obtener mediante $X=\\mathbf{A}^{-1}b$\n",
    "\n",
    "$$\\begin{equation*}\n",
    "\\begin{bmatrix}\n",
    "2 & -1 & 3 \\\\\n",
    "3 & 3 & -1 \\\\\n",
    "-1 & -1 & 1 \\\\\n",
    "\\end{bmatrix}\n",
    "\\begin{bmatrix}\n",
    "x_{1} \\\\\n",
    "x_{2} \\\\\n",
    "x_{3} \\\\\n",
    "\\end{bmatrix}\n",
    "=\n",
    "\\begin{bmatrix}\n",
    "-3 \\\\\n",
    "10 \\\\\n",
    "-4 \\\\\n",
    "\\end{bmatrix}\n",
    "\\end{equation*}\n",
    "$$\n",
    "\n",
    "entonces:\n",
    "$$\\begin{equation*}\n",
    "\\begin{bmatrix}\n",
    "x_{1} \\\\\n",
    "x_{2} \\\\\n",
    "x_{3} \\\\\n",
    "\\end{bmatrix}\n",
    "=\n",
    "\\begin{bmatrix}\n",
    "2 & -1 & 3 \\\\\n",
    "3 & 3 & -1 \\\\\n",
    "-1 & -1 & 1 \\\\\n",
    "\\end{bmatrix}^{-1}\n",
    "\\begin{bmatrix}\n",
    "-3 \\\\\n",
    "10 \\\\\n",
    "-4 \\\\\n",
    "\\end{bmatrix}\n",
    "\\end{equation*}\n",
    "$$"
   ]
  },
  {
   "cell_type": "code",
   "execution_count": null,
   "metadata": {
    "id": "UVF2wDHNRSQ9"
   },
   "outputs": [],
   "source": [
    "s = np.linalg.inv(A)@b\n",
    "print(f\"Solución de la matriz A:\\n{A}\")\n",
    "print(f\"Solución:\\n{s}\")\n"
   ]
  },
  {
   "cell_type": "markdown",
   "metadata": {
    "id": "6BjwpMA0FzsX"
   },
   "source": [
    "### **Valores y vectores propios**\n",
    "\n",
    "* Intuición 1:\n",
    "\n",
    "  Imagina que tienes una tela elástica fija en sus bordes y que has colocado unos pesos en varios puntos de la tela. Estos pesos pueden deformar la tela de diferentes maneras, creando ondulaciones y curvaturas. Si ahora intentas encontrar las direcciones en las cuales estas deformaciones son tales que la tela se estira o se comprime en la misma dirección en la que fue cargada, estas direcciones específicas serían como los \"vectores propios\". Los valores que te dicen cuánto se estira o comprime la tela en esas direcciones serían los \"valores propios\".\n",
    "\n",
    "  <img src=\"https://audaces.com/wp-content/uploads/2021/09/tela-satin.jpeg\" alt=\"Texto alternativo\" width=\"300\" height=\"300\">\n",
    "\n",
    "* Intuición 2:\n",
    "\n",
    "  Muelle en equilibrio\n",
    "\n",
    "  Imagina un muelle colgado verticalmente del techo con un peso unido al extremo inferior. Cuando cuelgas un peso adicional en el extremo, el muelle se estira o comprime en una dirección específica. Los vectores propios serían las direcciones en las cuales el muelle se estira o comprime sin torcerse. Los valores propios te darían información sobre cuánto se estira o comprime el muelle en esas direcciones.\n",
    "  <img src=\"https://live.staticflickr.com/7483/15588591584_e0e7035995_b.jpg\" alt=\"Texto alternativo\" width=\"300\" height=\"300\">\n",
    "\n",
    "* Intuición 3:\n",
    "\n",
    "  En economía, los valores propios y vectores propios pueden surgir en el contexto de modelos de equilibrio general y análisis de sensibilidad. Aquí tienes un ejemplo:\n",
    "\n",
    "  Supongamos que tenemos un modelo de equilibrio general que describe la economía de un país. Este modelo incluye varias variables, como la producción de diferentes sectores, el consumo, la inversión, etc. Podemos representar este modelo como un sistema de ecuaciones lineales.\n",
    "\n",
    "  Al estudiar la estabilidad del equilibrio económico, podemos estar interesados en comprender cómo ciertos cambios en las variables afectan al equilibrio general. Esto se puede analizar utilizando los valores y vectores propios de la matriz jacobiana del sistema, que representa las derivadas parciales de todas las ecuaciones respecto a todas las variables.\n",
    "\n",
    "  Los vectores propios de esta matriz jacobiana representan las direcciones en las cuales las variables económicas cambian de manera proporcional, manteniendo el equilibrio general. Los valores propios asociados a estos vectores indican cuánto cambian estas variables en esas direcciones.\n",
    "\n",
    "  Por ejemplo, un vector propio con un valor propio positivo podría representar una dirección en la cual un aumento en la producción de un sector específico conduce a un aumento proporcional en otras variables económicas, manteniendo el equilibrio general. Mientras que un valor propio negativo podría indicar una dirección en la cual un aumento en la producción de un sector conduce a una disminución proporcional en otras variables, también manteniendo el equilibrio general.\n",
    "\n",
    "  En resumen, en economía, los valores propios y vectores propios pueden ayudar a comprender cómo ciertos cambios en las variables afectan al equilibrio general de un modelo económico, lo que puede ser útil para el análisis de sensibilidad y la evaluación de la estabilidad económica.\n"
   ]
  },
  {
   "cell_type": "markdown",
   "metadata": {
    "id": "FF3AnvyzJF3U"
   },
   "source": [
    "**Un vector propio** de una matriz cuadrada $ A $ es un vector no nulo $ \\mathbf{v} $ tal que cuando se multiplica por $\\mathbf{A}$, el resultado es simplemente un múltiplo escalar del vector original $\\mathbf{v}$. Matemáticamente, se expresa como:\n",
    "\n",
    "$$ \\mathbf{A} \\mathbf{v} = \\lambda \\mathbf{v} $$\n",
    "\n",
    "Donde:\n",
    "- $ \\mathbf{A} $ es la matriz.\n",
    "- $ \\mathbf{v} $ es el vector propio.\n",
    "- $ \\lambda $ es el valor propio asociado al vector propio $ \\mathbf{v} $.\n"
   ]
  },
  {
   "cell_type": "markdown",
   "metadata": {
    "id": "QzQRDWRUKFqu"
   },
   "source": [
    "**Un valor propio** de una matriz $\\mathbf{A}$ es un escalar $ \\lambda $ tal que existe al menos un vector no nulo $ \\mathbf{v} $ que satisface la ecuación:\n",
    "\n",
    "$$ \\mathbf{A} \\mathbf{v} = \\lambda \\mathbf{v} $$\n",
    "\n",
    "Donde:\n",
    "- $\\mathbf{A}$ es la matriz.\n",
    "- $ \\mathbf{v} $ es el vector propio correspondiente.\n",
    "- $ \\lambda $ es el valor propio.\n",
    "\n"
   ]
  },
  {
   "cell_type": "markdown",
   "metadata": {
    "id": "YfjJ66ypGnM2"
   },
   "source": [
    "\n",
    "Dado que el vector propio debe ser un vector no nulo, lo que significa:\n",
    "\n",
    "1. Las columnas o filas de $ (\\mathbf{A} - \\lambda \\mathbf{I}) $ son linealmente dependientes.\n",
    "2. $ (\\mathbf{A} - \\lambda \\mathbf{I}) $ no tiene rango completo, es decir, $ \\text{Rank}(A) < n $.\n",
    "3. $ (\\mathbf{A} - \\lambda \\mathbf{I}) $ no es invertible.\n",
    "4. $ \\det(A - \\lambda I) = 0 $, lo que se llama ecuación característica.\n",
    "\n",
    "\n",
    "\n",
    "En álgebra lineal, los valores propios y los vectores propios de una matriz son conceptos fundamentales que revelan propiedades importantes sobre la matriz. Un vector propio $ \\mathbf{v} $ de una matriz $\\mathbf{A}$ es un vector no nulo tal que, cuando la matriz $\\mathbf{A}$ actúa sobre $\\mathbf{v}$, el resultado es un múltiplo escalar de $\\mathbf{v}$, es decir, $ \\mathbf{A}\\mathbf{v} = \\lambda \\mathbf{v}$, donde $ \\lambda $ es un escalar conocido como valor propio correspondiente a $ \\mathbf{v} $.\n",
    "\n",
    "Para encontrar los valores propios de una matriz \\( A \\), se utiliza la ecuación $ (\\mathbf{A} - \\lambda \\mathbf{I})\\mathbf{v} = 0 $, donde $\\mathbf{I}$ es la matriz identidad de la misma dimensión que $\\mathbf{A}$. La condición para que exista una solución no trivial (es decir, $\\mathbf{ v} \\neq 0 $) a esta ecuación es que la matriz $ (\\mathbf{A} - \\lambda \\mathbf{I}) $ no sea invertible. Esto lleva a la ecuación característica $ \\det(\\mathbf{A}) - \\lambda \\mathbf{I}) = 0 $, una ecuación polinómica en $ \\lambda $ cuyas soluciones son los valores propios de $\\mathbf{A}$.\n",
    "\n",
    "Al establecer la ecuación característica para una matriz dada, se puede resolver este polinomio para encontrar los valores propios. Estos valores propios pueden luego ser utilizados para encontrar los vectores propios correspondientes al resolver $ (\\mathbf{A} - \\lambda \\mathbf{I})\\mathbf{v} = 0 $ para cada $ \\lambda $.\n"
   ]
  },
  {
   "cell_type": "markdown",
   "metadata": {
    "id": "iULmCKrj4NzI"
   },
   "source": [
    "### Intuición geométrica."
   ]
  },
  {
   "cell_type": "code",
   "execution_count": null,
   "metadata": {
    "id": "PTky3qxt4NDw"
   },
   "outputs": [],
   "source": [
    "import numpy as np\n",
    "import matplotlib.pyplot as plt\n",
    "\n",
    "\n",
    "x = np.linspace(-4, 4)\n",
    "y_u = np.sqrt(16 - x**2)\n",
    "y_d = -np.sqrt(16 - x**2)\n",
    "\n",
    "fig, ax = plt.subplots(figsize = (8, 8))\n",
    "ax.plot(x, y_u, color = 'b')\n",
    "ax.plot(x, y_d, color = 'b')\n",
    "\n",
    "ax.scatter(0, 0, s = 100, fc = 'k', ec = 'r')\n",
    "\n",
    "ax.arrow(0, 0, x[5], y_u[5], head_width = .18,\n",
    "         head_length= .27, length_includes_head = True,\n",
    "         width = .03, ec = 'r', fc = 'None')\n",
    "plt.grid()\n",
    "plt.show()"
   ]
  },
  {
   "cell_type": "markdown",
   "metadata": {
    "id": "K7E_M5Qm4YuZ"
   },
   "source": [
    "Creamos varias flechas sobre el circulo."
   ]
  },
  {
   "cell_type": "code",
   "execution_count": null,
   "metadata": {
    "id": "tCPBMfQC4c43"
   },
   "outputs": [],
   "source": [
    "x = np.linspace(-4, 4, 50)\n",
    "y_u = np.sqrt(16 - x**2)\n",
    "y_d = -np.sqrt(16 - x**2)\n",
    "\n",
    "fig, ax = plt.subplots(figsize = (8, 8))\n",
    "ax.plot(x, y_u, color = 'b')\n",
    "ax.plot(x, y_d, color = 'b')\n",
    "plt.grid()\n",
    "ax.scatter(0, 0, s = 100, fc = 'k', ec = 'r')\n",
    "\n",
    "for i in range(len(x)):\n",
    "  ax.arrow(0, 0, x[i], y_u[i], head_width = .08,\n",
    "             head_length= .27, length_includes_head = True,\n",
    "             width = .01, ec = 'r', fc = 'None')\n",
    "  ax.arrow(0, 0, x[i], y_d[i], head_width = .08,\n",
    "             head_length= .27, length_includes_head = True,\n",
    "             width = .008, ec = 'r', fc = 'None')"
   ]
  },
  {
   "cell_type": "markdown",
   "metadata": {
    "id": "saHr5vVO4pBo"
   },
   "source": [
    "**Le aplicamos una transformaicón lineal**"
   ]
  },
  {
   "cell_type": "code",
   "execution_count": null,
   "metadata": {
    "id": "1kx97Fy04YRP"
   },
   "outputs": [],
   "source": [
    "A = np.array([[3, -2], [1, 0]])\n",
    "\n",
    "Vu = np.hstack((x[:, np.newaxis], y_u[:, np.newaxis]))\n",
    "AV_u = (A@Vu.T)\n",
    "\n",
    "Vd = np.hstack((x[:, np.newaxis], y_d[:, np.newaxis]))\n",
    "AV_d = (A@Vd.T)"
   ]
  },
  {
   "cell_type": "markdown",
   "metadata": {
    "id": "jF_ut2uG412n"
   },
   "source": [
    "**Resultado de la transformación**"
   ]
  },
  {
   "cell_type": "code",
   "execution_count": null,
   "metadata": {
    "id": "OYO9pOiD44EZ"
   },
   "outputs": [],
   "source": [
    "fig, ax = plt.subplots(figsize = (8, 8))\n",
    "\n",
    "for i in range(len(x)):\n",
    "  ax.arrow(0, 0, AV_u[0, i], AV_u[1, i], head_width = .18,\n",
    "             head_length= .27, length_includes_head = True,\n",
    "             width = .03, ec = 'darkorange', fc = 'None')\n",
    "  ax.arrow(0, 0, AV_d[0, i], AV_d[1, i], head_width = .18,\n",
    "             head_length= .27, length_includes_head = True,\n",
    "             width = .03, ec = 'darkorange', fc = 'None')\n",
    "ax.axis([-15, 15, -5, 5])\n",
    "plt.grid()\n",
    "plt.show()"
   ]
  },
  {
   "cell_type": "markdown",
   "metadata": {
    "id": "tF0ub6mn5BCw"
   },
   "source": [
    "Los vectores propios siempre apuntan a la misma dirección a pesar de las transformacioens que se hagan.\n",
    "\n",
    "En estas dosfiguras, algunos vectores se translapan, esos son los vectores propios. Por lo cual, esos son los ejes de rotación en cualquier transformaición."
   ]
  },
  {
   "cell_type": "code",
   "execution_count": null,
   "metadata": {
    "id": "QOTI-p0A5CpB"
   },
   "outputs": [],
   "source": [
    "A = np.array([[3, -2], [1, 0]])\n",
    "\n",
    "Vu = np.hstack((x[:, np.newaxis], y_u[:, np.newaxis]))\n",
    "AV_u = (A@Vu.T)\n",
    "\n",
    "Vd = np.hstack((x[:, np.newaxis], y_d[:, np.newaxis]))\n",
    "AV_d = (A@Vd.T)\n",
    "\n",
    "k = 50\n",
    "x = np.linspace(-4, 4, k)\n",
    "y_u = np.sqrt(16 - x**2)\n",
    "y_d = -np.sqrt(16 - x**2)\n",
    "\n",
    "fig, ax = plt.subplots(figsize = (16, 8))\n",
    "\n",
    "ax.scatter(0, 0, s = 100, fc = 'k', ec = 'r')\n",
    "\n",
    "for i in range(len(x)):\n",
    "  ax.arrow(0, 0, x[i], y_u[i], head_width = .18,\n",
    "             head_length= .27, length_includes_head = True,\n",
    "             width = .03, ec = 'r', alpha = .5, fc = 'None')\n",
    "  ax.arrow(0, 0, x[i], y_d[i], head_width = .18,\n",
    "             head_length= .27, length_includes_head = True,\n",
    "             width = .03, ec = 'r', alpha = .5, fc = 'None')\n",
    "\n",
    "\n",
    "v = np.hstack((x[:, np.newaxis], y_u[:, np.newaxis]))\n",
    "Av_1 = (A@v.T)\n",
    "\n",
    "v = np.hstack((x[:, np.newaxis], y_d[:, np.newaxis]))\n",
    "Av_2 = (A@v.T)\n",
    "\n",
    "for i in range(len(x)):\n",
    "  ax.arrow(0, 0, Av_1[0, i], Av_1[1, i], head_width = .18,\n",
    "             head_length= .27, length_includes_head = True,\n",
    "             width = .03, ec = 'darkorange', fc = 'None')\n",
    "  ax.arrow(0, 0, Av_2[0, i], Av_2[1, i], head_width = .18,\n",
    "             head_length= .27, length_includes_head = True,\n",
    "             width = .03, ec = 'darkorange', fc = 'None')\n",
    "n = 7\n",
    "ax.axis([-2*n, 2*n, -n, n])\n",
    "plt.grid()\n",
    "plt.show()"
   ]
  },
  {
   "cell_type": "markdown",
   "metadata": {
    "id": "23zI2m72B8k2"
   },
   "source": [
    "1. `A = np.array([[3, -2], [1, 0]])`: Define una matriz `A` como un array NumPy.\n",
    "\n",
    "2. `Vu = np.hstack((x[:, np.newaxis], y_u[:, np.newaxis]))` y `AV_u = (A@Vu.T)`: Crea un array `Vu` concatenando las matrices `x` y `y_u` horizontalmente y luego multiplica la matriz `A` por la transpuesta de `Vu` para obtener `AV_u`.\n",
    "\n",
    "3. `Vd = np.hstack((x[:, np.newaxis], y_d[:, np.newaxis]))` y `AV_d = (A@Vd.T)`: Similar al paso anterior, crea un array `Vd` concatenando las matrices `x` y `y_d` horizontalmente y luego multiplica la matriz `A` por la transpuesta de `Vd` para obtener `AV_d`.\n",
    "\n",
    "4. Se define un conjunto de valores `x`, se calculan los correspondientes `y` superior e inferior y se establece el tamaño de la matriz.\n",
    "\n",
    "5. Se crea una figura y un conjunto de ejes con un tamaño específico utilizando Matplotlib.\n",
    "\n",
    "6. Se dibuja un punto negro en el origen de coordenadas.\n",
    "\n",
    "7. Se dibujan flechas rojas que van desde el origen hasta los puntos `(x, y_u)` y `(x, y_d)`.\n",
    "\n",
    "8. Se dibujan flechas de color darkorange correspondientes a los resultados de multiplicar `A` por `Vu` y `Vd`.\n",
    "\n",
    "9. Se establecen los límites del eje `x` y `y` de la gráfica.\n",
    "\n",
    "10. Se agrega una cuadrícula a la gráfica y se muestra el gráfico.\n"
   ]
  },
  {
   "cell_type": "code",
   "execution_count": null,
   "metadata": {
    "id": "zPt9_ZibpO3i"
   },
   "outputs": [],
   "source": [
    "from IPython.display import clear_output\n",
    "\n",
    "\n",
    "for i in range(1, 15):\n",
    "  # A = np.array(\n",
    "  #     [[np.cos(i), -np.sin(i)], [np.sin(i), np.cos(i)]]\n",
    "  #     )\n",
    "  # Varia la transformación para rotar la figura.\n",
    "  A = np.array(\n",
    "      [[np.cos(i*.2), -3*np.sin(-i*.2)], [np.sin(-i*.2), 1]]\n",
    "      )\n",
    "\n",
    "\n",
    "  v = np.hstack((x[:, np.newaxis], y_u[:, np.newaxis]))\n",
    "  Av_1 = (A@v.T)\n",
    "\n",
    "  v = np.hstack((x[:, np.newaxis], y_d[:, np.newaxis]))\n",
    "  Av_2 = (A@v.T)\n",
    "\n",
    "  k = 50\n",
    "  x = np.linspace(-4, 4, k)\n",
    "  y_u = np.sqrt(16 - x**2)\n",
    "  y_d = -np.sqrt(16 - x**2)\n",
    "\n",
    "  fig, ax = plt.subplots(figsize = (16, 8))\n",
    "\n",
    "  ax.scatter(0, 0, s = 100, fc = 'k', ec = 'r')\n",
    "\n",
    "  for i in range(len(x)):\n",
    "    ax.arrow(0, 0, x[i], y_u[i], head_width = .18,\n",
    "              head_length= .27, length_includes_head = True,\n",
    "              width = .03, ec = 'r', alpha = .5, fc = 'None')\n",
    "    ax.arrow(0, 0, x[i], y_d[i], head_width = .18,\n",
    "              head_length= .27, length_includes_head = True,\n",
    "              width = .03, ec = 'r', alpha = .5, fc = 'None')\n",
    "\n",
    "  # A = np.array([[3, -2], [1, 0]])\n",
    "\n",
    "\n",
    "\n",
    "  for i in range(len(x)):\n",
    "    ax.arrow(0, 0, Av_1[0, i], Av_1[1, i], head_width = .18,\n",
    "              head_length= .27, length_includes_head = True,\n",
    "              width = .03, ec = 'darkorange', fc = 'None')\n",
    "    ax.arrow(0, 0, Av_2[0, i], Av_2[1, i], head_width = .18,\n",
    "              head_length= .27, length_includes_head = True,\n",
    "              width = .03, ec = 'darkorange', fc = 'None')\n",
    "  n = 7\n",
    "  ax.axis([-2*n, 2*n, -n, n])\n",
    "  plt.grid()\n",
    "  plt.show()\n",
    "  # time.sleep(1)\n",
    "  clear_output(wait=True)"
   ]
  },
  {
   "cell_type": "markdown",
   "metadata": {
    "id": "s2GMuCOL6JKy"
   },
   "source": [
    "**Actividad**, ver el siguiente vídeo:\n",
    "\n"
   ]
  },
  {
   "cell_type": "code",
   "execution_count": null,
   "metadata": {
    "id": "qyYLcCWw6ZYL"
   },
   "outputs": [],
   "source": [
    "from IPython.display import HTML\n",
    "\n",
    "HTML('<iframe width=\"560\" height=\"315\" src=\"https://www.youtube.com/embed/Gx0PaWI9eYo\" frameborder=\"0\" allow=\"accelerometer; autoplay; clipboard-write; encrypted-media; gyroscope; picture-in-picture\" allowfullscreen></iframe>')\n"
   ]
  },
  {
   "cell_type": "markdown",
   "metadata": {
    "id": "Oe1QMjdJcXzX"
   },
   "source": [
    "Ejemplo SymPy\n",
    "\n",
    "**SymPy en Python**\n",
    "\n",
    "SymPy es una biblioteca en Python para realizar cálculos simbólicos. Permite la manipulación algebraica de expresiones matemáticas, como la expansión, simplificación, y factorización de polinomios, así como la resolución de ecuaciones algebraicas y diferenciales, cálculo integral y derivativo, álgebra matricial, y mucho más. Es una herramienta poderosa tanto para matemáticos, ingenieros, científicos, y cualquier persona que necesite realizar cálculos simbólicos de forma programática.\n",
    "\n",
    "**Características Principales de SymPy**\n",
    "\n",
    "1. **Cálculo Simbólico:**\n",
    "   - Manipulación algebraica (simplificación, expansión, factorización).\n",
    "   - Derivadas e integrales simbólicas.\n",
    "   - Series de Taylor y series de Laurent.\n",
    "\n",
    "2. **Solución de Ecuaciones:**\n",
    "   - Ecuaciones algebraicas.\n",
    "   - Ecuaciones diferenciales ordinarias y parciales.\n",
    "\n",
    "3. **Álgebra Matricial:**\n",
    "   - Operaciones matriciales (multiplicación, inversión, determinante).\n",
    "   - Valores y vectores propios.\n",
    "\n",
    "4. **Gráficas:**\n",
    "   - Generación de gráficos de funciones y datos simbólicos.\n",
    "\n",
    "5. **Física:**\n",
    "   - Mecánica clásica, mecánica cuántica, relatividad, etc.\n",
    "   - Paquetes específicos como `sympy.physics.mechanics` para la mecánica clásica.\n",
    "\n",
    "6. **Lógica:**\n",
    "   - Manipulación y simplificación de expresiones lógicas.\n",
    "\n",
    "## Ejemplos de Uso\n",
    "\n",
    "### Simplificación y Expansión\n",
    "\n",
    "```python\n",
    "import sympy as sp\n",
    "\n",
    "x, y = sp.symbols('x y')\n",
    "expr = (x + 2) * (x - 3)\n",
    "expanded_expr = sp.expand(expr)\n",
    "simplified_expr = sp.simplify(expr)\n",
    "\n",
    "print(\"Expresión expandida:\", expanded_expr)\n",
    "print(\"Expresión simplificada:\", simplified_expr)\n",
    "```\n"
   ]
  },
  {
   "cell_type": "code",
   "execution_count": null,
   "metadata": {
    "id": "f7MEQxNVcXLp"
   },
   "outputs": [],
   "source": [
    "import sympy as sp\n",
    "sp.init_printing()\n",
    "\n",
    "x, y = sp.symbols('x y')\n",
    "expr = (x + 2) * (x - 3)\n",
    "expanded_expr = sp.expand(expr)\n",
    "simplified_expr = sp.simplify(expr)\n",
    "\n",
    "print(\"Expresión expandida:\", expanded_expr)\n"
   ]
  },
  {
   "cell_type": "code",
   "execution_count": null,
   "metadata": {
    "id": "-Am0Gg9IcF_8"
   },
   "outputs": [],
   "source": [
    "expanded_expr"
   ]
  },
  {
   "cell_type": "code",
   "execution_count": null,
   "metadata": {
    "id": "yWLD8GBEcEzS"
   },
   "outputs": [],
   "source": [
    "print(\"Expresión simplificada:\", simplified_expr)"
   ]
  },
  {
   "cell_type": "code",
   "execution_count": null,
   "metadata": {
    "id": "65QsoRpOcKos"
   },
   "outputs": [],
   "source": [
    "simplified_expr"
   ]
  },
  {
   "cell_type": "markdown",
   "metadata": {
    "id": "_EbAsqMNdK97"
   },
   "source": [
    "**Derivación e integración**"
   ]
  },
  {
   "cell_type": "code",
   "execution_count": null,
   "metadata": {
    "id": "zgXLWgULdNPD"
   },
   "outputs": [],
   "source": [
    "f = sp.sin(x) * sp.exp(x)\n",
    "derivative = sp.diff(f, x)\n",
    "integral = sp.integrate(f, x)\n",
    "print(f\"Función: {f}\")\n",
    "print(\"Derivada:\", derivative)\n",
    "print(\"Integral:\", integral)\n"
   ]
  },
  {
   "cell_type": "code",
   "execution_count": null,
   "metadata": {
    "id": "9Y7RCYyicRaj"
   },
   "outputs": [],
   "source": [
    "f"
   ]
  },
  {
   "cell_type": "markdown",
   "metadata": {
    "id": "w676AQxLdalE"
   },
   "source": [
    "**Solución de ecuaciones**"
   ]
  },
  {
   "cell_type": "code",
   "execution_count": null,
   "metadata": {
    "id": "rZOhS8i9dZ9N"
   },
   "outputs": [],
   "source": [
    "eq = sp.Eq(x**2 + 2*x + 1, 0)\n",
    "eq\n"
   ]
  },
  {
   "cell_type": "code",
   "execution_count": null,
   "metadata": {
    "id": "Zuhn-51JcXVB"
   },
   "outputs": [],
   "source": [
    "solutions = sp.solve(eq, x)\n",
    "\n",
    "print(\"Soluciones:\", solutions)"
   ]
  },
  {
   "cell_type": "code",
   "execution_count": null,
   "metadata": {
    "id": "jvdxmSeLcZv7"
   },
   "outputs": [],
   "source": [
    "solutions"
   ]
  },
  {
   "cell_type": "markdown",
   "metadata": {
    "id": "4W5SS3U_dfT7"
   },
   "source": [
    "**Álgebra de matrices**\n"
   ]
  },
  {
   "cell_type": "code",
   "execution_count": null,
   "metadata": {
    "id": "ocmaeeszdirM"
   },
   "outputs": [],
   "source": [
    "A = sp.Matrix([[1, 2], [3, 4]])\n",
    "det_A = A.det()\n",
    "inv_A = A.inv()\n",
    "A\n",
    "\n"
   ]
  },
  {
   "cell_type": "code",
   "execution_count": null,
   "metadata": {
    "id": "3B-xPuwtchdP"
   },
   "outputs": [],
   "source": [
    "print(\"Determinante:\")\n",
    "det_A\n"
   ]
  },
  {
   "cell_type": "code",
   "execution_count": null,
   "metadata": {
    "id": "1ndBJp0UcmCZ"
   },
   "outputs": [],
   "source": [
    "print(\"Inversa:\")\n",
    "inv_A"
   ]
  },
  {
   "cell_type": "markdown",
   "metadata": {
    "id": "-IMk0NCkdrrc"
   },
   "source": [
    "#### Regresando a los valores propios y vectores propios:"
   ]
  },
  {
   "cell_type": "code",
   "execution_count": null,
   "metadata": {
    "id": "TxaUiunpdqZ2"
   },
   "outputs": [],
   "source": [
    "lamda = sp.symbols('lamda')\n",
    "lamda"
   ]
  },
  {
   "cell_type": "code",
   "execution_count": null,
   "metadata": {
    "id": "xHblpHvyd3p9"
   },
   "outputs": [],
   "source": [
    "A = sp.Matrix([[1, 0, 0], [1, 0, 1], [2, -2, 3]])\n",
    "A"
   ]
  },
  {
   "cell_type": "markdown",
   "metadata": {
    "id": "-53GDFP1eFim"
   },
   "source": [
    "El método `charpoly` devuelve la ecuación característica.\n"
   ]
  },
  {
   "cell_type": "code",
   "execution_count": null,
   "metadata": {
    "id": "dX0543LUd8dW"
   },
   "outputs": [],
   "source": [
    "p = A.charpoly(lamda)\n",
    "p"
   ]
  },
  {
   "cell_type": "code",
   "execution_count": null,
   "metadata": {
    "id": "5kDBE7woeQSo"
   },
   "outputs": [],
   "source": [
    "sp.factor(p)"
   ]
  },
  {
   "cell_type": "markdown",
   "metadata": {
    "id": "f2iy91ArHHgI"
   },
   "source": [
    "Con el método `solve`, podemos obtener los valores propios.\n",
    "que es $\\lambda=1$, que tiene multiplicidad de 2."
   ]
  },
  {
   "cell_type": "code",
   "execution_count": null,
   "metadata": {
    "id": "bOCh3nMbetWQ"
   },
   "outputs": [],
   "source": [
    "sp.solve(p,lamda)"
   ]
  },
  {
   "cell_type": "markdown",
   "metadata": {
    "id": "RhQ-5ozpfPPx"
   },
   "source": [
    "También podemos usar otra método de SymPy:"
   ]
  },
  {
   "cell_type": "code",
   "execution_count": null,
   "metadata": {
    "id": "Y8kECux4fOv6"
   },
   "outputs": [],
   "source": [
    "sp.matrices.matrices.MatrixEigen.eigenvals(A)\n"
   ]
  },
  {
   "cell_type": "markdown",
   "metadata": {
    "id": "bTFgUM6ofxbB"
   },
   "source": [
    "Para encontrar el vector propio correspondiente a $\\lambda$ , sustituimos los valores propios nuevamente en $(\\mathbf{A} - \\lambda \\mathbf{I})\\mathbf{v}=0$ y solucionarlo. Construir matriz aumentada con 𝜆 = 1 y realizar rref."
   ]
  },
  {
   "cell_type": "code",
   "execution_count": null,
   "metadata": {
    "id": "wRfZeoQNfcSa"
   },
   "outputs": [],
   "source": [
    "A"
   ]
  },
  {
   "cell_type": "code",
   "execution_count": null,
   "metadata": {
    "id": "NOtSFRE1gOT0"
   },
   "outputs": [],
   "source": [
    "1*sp.eye(3)"
   ]
  },
  {
   "cell_type": "code",
   "execution_count": null,
   "metadata": {
    "id": "h6C5LGT4gWjc"
   },
   "outputs": [],
   "source": [
    "M = A - 1*sp.eye(3)\n",
    "M"
   ]
  },
  {
   "cell_type": "code",
   "execution_count": null,
   "metadata": {
    "id": "t4jlMC5QgePD"
   },
   "outputs": [],
   "source": [
    "sp.zeros(3,1)"
   ]
  },
  {
   "cell_type": "code",
   "execution_count": null,
   "metadata": {
    "id": "ds3hwSYVgJbl"
   },
   "outputs": [],
   "source": [
    "M2 = M.row_join(sp.zeros(3,1))\n",
    "M2.rref() # Calcula la matriz escalonada."
   ]
  },
  {
   "cell_type": "markdown",
   "metadata": {
    "id": "-VDr_0tBhK7X"
   },
   "source": [
    "\n",
    "\n",
    "\n",
    "\n",
    "El espacio nulo es el conjunto solución del sistema lineal.\n",
    "Sistema de ecuaciones:\n",
    "$$\\begin{equation}\n",
    "\\left( \\begin{array}{ccc|c}\n",
    "1 & -1 & 1 & 0 \\\\\n",
    "0 & 0 & 0 & 0 \\\\\n",
    "0 & 0 & 0 & 0\n",
    "\\end{array} \\right)\n",
    "\\end{equation}$$\n",
    "Solución:\n",
    "$$\\begin{align*}\n",
    "\\begin{bmatrix}\n",
    "x_1 \\\\\n",
    "x_2 \\\\\n",
    "x_3\n",
    "\\end{bmatrix}\n",
    "=\n",
    "\\begin{bmatrix}\n",
    "x_2 - x_3 \\\\\n",
    "x_2 \\\\\n",
    "x_3\n",
    "\\end{bmatrix}\n",
    "=\n",
    "x_2\n",
    "\\begin{bmatrix}\n",
    "1 \\\\\n",
    "1 \\\\\n",
    "0\n",
    "\\end{bmatrix}\n",
    "+\n",
    "x_3\n",
    "\\begin{bmatrix}\n",
    "-1 \\\\\n",
    "0 \\\\\n",
    "1\n",
    "\\end{bmatrix}\n",
    "\\end{align*}\n",
    "$$\n",
    "\n",
    "\n",
    "\n",
    "1. Observamos la primera fila, que nos dice $x_1 - x_2 + x_3 = 0$.\n",
    "\n",
    "2. Las filas dos y tres son idénticas y nos dicen simplemente $0 = 0$. Esto significa que no añaden ninguna nueva información al sistema.\n",
    "\n",
    "Dado que las ecuaciones no restringen $x_2$ y $x_3$, podemos expresar la solución en términos de parámetros $x_2$ y $x_3$:\n",
    "\n",
    "- Podemos tomar $x_2$ como un parámetro libre, ya que no está restringido.\n",
    "- Luego, podemos expresar $x_1$ en términos de $x_2$ y $x_3$ usando la primera ecuación.\n",
    "\n",
    "Entonces, la solución se puede expresar como:\n",
    "\n",
    "$$\n",
    "\\begin{bmatrix}\n",
    "x_1 \\\\\n",
    "x_2 \\\\\n",
    "x_3\n",
    "\\end{bmatrix}\n",
    "=\n",
    "\\begin{bmatrix}\n",
    "x_2 - x_3 \\\\\n",
    "x_2 \\\\\n",
    "x_3\n",
    "\\end{bmatrix}\n",
    "$$\n",
    "\n",
    "Y esto puede simplificarse aún más si extraemos $x_2$ y $x_3$ como factores comunes:\n",
    "\n",
    "$$\n",
    "\\begin{bmatrix}\n",
    "x_1 \\\\\n",
    "x_2 \\\\\n",
    "x_3\n",
    "\\end{bmatrix}\n",
    "=\n",
    "x_2\n",
    "\\begin{bmatrix}\n",
    "1 \\\\\n",
    "1 \\\\\n",
    "0\n",
    "\\end{bmatrix}\n",
    "+\n",
    "x_3\n",
    "\\begin{bmatrix}\n",
    "-1 \\\\\n",
    "0 \\\\\n",
    "1\n",
    "\\end{bmatrix}\n",
    "$$\n"
   ]
  },
  {
   "cell_type": "markdown",
   "metadata": {
    "id": "yz-jaGmCmu3J"
   },
   "source": [
    "Ahora para $\\lambda = 2$"
   ]
  },
  {
   "cell_type": "code",
   "execution_count": null,
   "metadata": {
    "id": "qEutdVajmrdk"
   },
   "outputs": [],
   "source": [
    "(A - 2*sp.eye(3)).row_join(sp.zeros(3,1)).rref()"
   ]
  },
  {
   "cell_type": "markdown",
   "metadata": {
    "id": "klAqhOSziUQ1"
   },
   "source": [
    "Sistema de ecuaciones:\n",
    "$$\\begin{equation}\n",
    "\\left( \\begin{array}{ccc|c}\n",
    "1 & 0 & 0 & 0 \\\\\n",
    "0 & 1 & -\\frac{1}{2} & 0 \\\\\n",
    "0 & 0 & 0 & 0\n",
    "\\end{array} \\right)\n",
    "\\end{equation}$$\n",
    "Solución expresada en terminos de $x_3$\n",
    "$$\\begin{align*}\n",
    "\\begin{bmatrix}\n",
    "x_1 \\\\\n",
    "x_2 \\\\\n",
    "x_3\n",
    "\\end{bmatrix}\n",
    "= \\begin{bmatrix}\n",
    "0 \\\\\n",
    "\\frac{1}{2}x_3 \\\\\n",
    "x_3\n",
    "\\end{bmatrix}\n",
    "=\n",
    "x_3\n",
    "\\begin{bmatrix}\n",
    "0 \\\\\n",
    "\\frac{1}{2} \\\\\n",
    "1\n",
    "\\end{bmatrix}\n",
    "\\end{align*}$$\n",
    "\n",
    "\n",
    "\n",
    "1. Observamos la primera fila, que nos dice $x_1 = 0$. Esto significa que $x_1$ es igual a cero en cualquier solución del sistema.\n",
    "\n",
    "2. Miramos la segunda fila, que nos dice $x_2 - \\frac{1}{2}x_3 = 0$, o equivalentemente, $x_2 = \\frac{1}{2}x_3$. Esto nos dice que $x_2$ está definido en términos de $x_3$.\n",
    "\n",
    "3. La tercera fila no añade ninguna nueva restricción o información. Simplemente nos dice que $0 = 0$, lo que es una identidad verdadera y no restringe los valores de $x_1$, $x_2$, y $x_3$.\n",
    "\n",
    "Dado que $x_1$ es cero y $x_2$ está definido en términos de $x_3$, podemos escribir la solución en términos de $x_3$:\n",
    "\n",
    "$$\n",
    "\\begin{bmatrix}\n",
    "x_1 \\\\\n",
    "x_2 \\\\\n",
    "x_3\n",
    "\\end{bmatrix}\n",
    "= \\begin{bmatrix}\n",
    "0 \\\\\n",
    "\\frac{1}{2}x_3 \\\\\n",
    "x_3\n",
    "\\end{bmatrix}\n",
    "$$\n",
    "\n",
    "Y esto puede simplificarse aún más si extraemos $x_3$ como un factor común:\n",
    "\n",
    "$$\n",
    "\\begin{bmatrix}\n",
    "x_1 \\\\\n",
    "x_2 \\\\\n",
    "x_3\n",
    "\\end{bmatrix}\n",
    "= x_3 \\begin{bmatrix}\n",
    "0 \\\\\n",
    "\\frac{1}{2} \\\\\n",
    "1\n",
    "\\end{bmatrix}\n",
    "$$\n",
    "\n",
    "Entonces, llegamos a la solución expresada en términos de $x_3$, donde $x_3$ es cualquier número real. Esto significa que $x_1$ siempre será cero, $x_2$ será la mitad de $x_3$, y $x_3$ puede tomar cualquier valor real.\n"
   ]
  },
  {
   "cell_type": "markdown",
   "metadata": {
    "id": "nZHf_9h-jz9U"
   },
   "source": [
    "Al final se puede hacer todos estos calculos con el siguiente código:"
   ]
  },
  {
   "cell_type": "code",
   "execution_count": null,
   "metadata": {
    "id": "1VZNGQtanKOw"
   },
   "outputs": [],
   "source": [
    "from IPython.display import display\n"
   ]
  },
  {
   "cell_type": "code",
   "execution_count": null,
   "metadata": {
    "id": "lftxLY1onBUm"
   },
   "outputs": [],
   "source": [
    "eig = sp.matrices.matrices.MatrixEigen.eigenvects(A)\n",
    "eig"
   ]
  },
  {
   "cell_type": "markdown",
   "metadata": {
    "id": "isNjvpBgngOK"
   },
   "source": [
    "Todo esto solo fue para ver el proceso completo, pero ahora usaremos numpy para obtener los valores, y vectore propios.\n"
   ]
  },
  {
   "cell_type": "code",
   "execution_count": null,
   "metadata": {
    "id": "yM4GlySsnqXz"
   },
   "outputs": [],
   "source": [
    "A = np.array(A)\n",
    "print(A)\n"
   ]
  },
  {
   "cell_type": "markdown",
   "metadata": {
    "id": "45Vfwm_Pn3D1"
   },
   "source": [
    "* `np.linalg.eigvals`: Retorna los valores propios.\n",
    "\n",
    "\n"
   ]
  },
  {
   "cell_type": "code",
   "execution_count": null,
   "metadata": {
    "id": "_xxKSXMPnwkK"
   },
   "outputs": [],
   "source": [
    "np.linalg.eigvals(A)\n"
   ]
  },
  {
   "cell_type": "markdown",
   "metadata": {
    "id": "FIEkZDBOoCDe"
   },
   "source": [
    "* `np.linalg.eig`: Retorna los valores propios y vectores propios"
   ]
  },
  {
   "cell_type": "code",
   "execution_count": null,
   "metadata": {
    "id": "PNGw9JUEn1Iq"
   },
   "outputs": [],
   "source": [
    "eigenvalues, eigenvectors = np.linalg.eig(A)\n",
    "print(\"Valores propios:\\n\", eigenvalues)\n",
    "print(\"Vectores propios:\\n\", eigenvectors)"
   ]
  },
  {
   "cell_type": "code",
   "execution_count": null,
   "metadata": {
    "id": "4CCSClzpobRT"
   },
   "outputs": [],
   "source": [
    "A = np.array([[1., 0., 0.],\n",
    "              [1., 0., 1.],\n",
    "              [2., -2., 3.]])\n",
    "\n",
    "\n",
    "\n",
    "# Crear una figura\n",
    "fig = plt.figure(figsize=(10, 7))\n",
    "ax = fig.add_subplot(111, projection='3d')\n",
    "\n",
    "# Origen del vector\n",
    "origin = [0, 0, 0]\n",
    "\n",
    "# Graficar los vectores\n",
    "ax.scatter(*A, color='r')\n",
    "# ax.scatter(*origin, *y, color='g')\n",
    "# ax.scatter(*origin, *z, color='b')\n",
    "\n",
    "ax.quiver(*origin, *A, color='b')\n",
    "\n",
    "# Vectores propios\n",
    "ax.quiver(*origin, *eigenvectors, color='g')\n",
    "\n",
    "\n",
    "# Etiquetar los ejes\n",
    "ax.set_xlabel('X', labelpad=20)\n",
    "ax.set_ylabel('Y', labelpad=20)\n",
    "ax.set_zlabel('Z', labelpad=20)\n",
    "\n",
    "# Establecer los límites de los ejes centrados en el origen\n",
    "ax.set_xlim([-2, 2])\n",
    "ax.set_ylim([-2, 2])\n",
    "ax.set_zlim([-1, 2])\n",
    "\n",
    "# Establecer los límites de los ejes centrados en el origen\n",
    "ax.set_xlim([-2, 2])\n",
    "ax.set_ylim([-2, 2])\n",
    "ax.set_zlim([-1, 2])\n",
    "\n",
    "# Cambiar el punto de vista para que Z sea la altura\n",
    "ax.view_init(elev=15, azim=50)\n",
    "\n",
    "# Ajustar el espaciado de la figura para aumentar los márgenes\n",
    "plt.subplots_adjust(left=0.2, right=0.8, top=0.9, bottom=0.1)\n",
    "\n",
    "\n",
    "# Mostrar la leyenda\n",
    "ax.legend()\n",
    "\n",
    "# Mostrar la gráfica\n",
    "plt.show()\n"
   ]
  },
  {
   "cell_type": "code",
   "execution_count": null,
   "metadata": {
    "id": "yb9adm9L0m1e"
   },
   "outputs": [],
   "source": [
    "def plot_vec2d(vec2d, origin=[0, 0], **options):\n",
    "\n",
    "  return plt.arrow(\n",
    "      origin[0],\n",
    "      origin[0],\n",
    "      vec2d[0],\n",
    "      vec2d[1],\n",
    "      head_width=0.1,\n",
    "      head_length=0.1,\n",
    "      length_includes_head=True,\n",
    "      **options\n",
    "  )"
   ]
  },
  {
   "cell_type": "code",
   "execution_count": null,
   "metadata": {
    "id": "A9d8Lw0dzwFc"
   },
   "outputs": [],
   "source": [
    "A = np.array([[1,6],[5,2]])\n",
    "\n",
    "eigenvalues, eigenvectors = np.linalg.eig(A)\n",
    "print(\"Valores propios:\\n\", eigenvalues)\n",
    "print(\"Vectores propios:\\n\", eigenvectors)\n",
    "\n",
    "\n",
    "# Vectores.\n",
    "plot_vec2d(A[0], color='b')\n",
    "plot_vec2d(A[1], color='b')\n",
    "# Vactores propios.\n",
    "plot_vec2d(eigenvectors[1], color='r')\n",
    "plot_vec2d(eigenvectors[1], color='r')\n",
    "plt.title(\"Vectores y vectores propios\")\n",
    "plt.grid(True)\n",
    "plt.show()"
   ]
  },
  {
   "cell_type": "markdown",
   "metadata": {
    "id": "M4pfsKIy23nz"
   },
   "source": [
    "* Matriz de correlación\n",
    "* Matriz de covarianza\n",
    "* Análisis de componentes principales"
   ]
  },
  {
   "cell_type": "markdown",
   "metadata": {
    "id": "ALUbqoKH2p_V"
   },
   "source": [
    "#Matriz de correlación\n",
    "\n",
    "**Introducción**\n",
    "\n",
    "La correlación es básicamente una medida de cómo dos cosas cambian juntas. Si hay una correlación positiva, significa que cuando una cosa aumenta, la otra también tiende a aumentar. Por ejemplo, si estudias más, es probable que obtengas una calificación más alta. Si hay una correlación negativa, significa que cuando una cosa aumenta, la otra tiende a disminuir. Por ejemplo, si pasas menos tiempo en las redes sociales, es probable que tengas más tiempo para estudiar y, por lo tanto, obtengas una calificación más alta.\n",
    "\n",
    "Pero, ¡cuidado! Correlación no significa necesariamente causalidad. Esto significa que solo porque dos cosas estén correlacionadas, no significa que una causa la otra. Por ejemplo, solo porque las personas que llevan paraguas tienden a llevar impermeables no significa que llevar un paraguas cause que lleves un impermeable. Podría ser simplemente porque está lloviendo.\n",
    "\n",
    "La matriz de correlación es como una tabla que muestra todas las relaciones entre diferentes cosas que estás estudiando. Cada celda en la tabla te dice cuánto se relaciona una cosa con otra, y si esa relación es positiva o negativa.\n",
    "****\n",
    "****\n",
    "\n",
    "**Correlación**\n",
    "* Correlación de Pearson:\n",
    "  La correlación de Pearson se calcula utilizando la siguiente fórmula:\n",
    "  $$\n",
    "  \\rho_{X,Y} = \\frac{{\\sum_{i=1}^{n} (X_i - \\bar{X})(Y_i - \\bar{Y})}}{{\\sqrt{\\sum_{i=1}^{n} (X_i - \\bar{X})^2} \\sqrt{\\sum_{i=1}^{n} (Y_i - \\bar{Y})^2}}}\n",
    "  $$\n",
    "  Donde:\n",
    "  - $ \\rho_{X,Y} $ es el coeficiente de correlación de Pearson entre las variables $X$ e $Y$.\n",
    "  - $X_i$ y $Y_i$ son los valores de las observaciones para las variables $X$ e $Y$ respectivamente.\n",
    "  - $ \\bar{X} $ y $ \\bar{Y} $ son las medias de las variables $X$ e $Y$ respectivamente.\n",
    "\n",
    "  Interpretación:\n",
    "    - $\\rho_{X,Y}=1$: Correlación positiva perfecta.\n",
    "    - $ 0\\lt \\rho_{X,Y} \\lt 1 $: Existe una correlación positiva.\n",
    "    - $\\rho_{X,Y}=0$ No existe correlación.\n",
    "    - $ -1\\lt \\rho_{X,Y} \\lt 0 $: Existe correlación negativa.\n",
    "    - $\\rho_{X,Y}=-1$: Correlación negativa perfecta.\n",
    "\n",
    "* Correlación de Spearman:\n",
    "  La correlación de Spearman se calcula utilizando los rangos de las variables y la fórmula es la misma que la de Pearson, pero utilizando los rangos de los datos en lugar de los valores originales.\n",
    "  \n",
    "  La correlación de Spearman se calcula utilizando la siguiente fórmula:\n",
    "  $$\n",
    "  \\text{Corr}(X, Y) = 1 - \\frac{6 \\sum d_i^2}{n(n^2 - 1)}\n",
    "  $$\n",
    "  Donde:\n",
    "  - $ \\text{Corr}(X, Y) $ es el coeficiente de correlación de Spearman entre las variables $X$ e $Y$.\n",
    "  - $d_i$ es la diferencia entre los rangos de los pares de observaciones $i$ de las variables $X$ e $Y$.\n",
    "  - $n$ es el número total de observaciones.\n",
    "  Interpretación:\n",
    "  - $\\text{Corr}(X, Y)=1$: Correlación positiva perfecta.\n",
    "  - $ 0\\lt \\text{Corr}(X, Y) \\lt 1 $: Existe una correlación positiva.\n",
    "  - $\\text{Corr}(X, Y)=0$ No existe correlación.\n",
    "  - $ -1\\lt \\text{Corr}(X, Y) \\lt 0 $: Existe correlación negativa.\n",
    "  - $\\text{Corr}(X, Y)=-1$: Correlación negativa perfecta.\n",
    "\n",
    "**¿Cuándo utilizar Pearson o Spearman?**\n",
    "\n",
    "1. **Correlación de Pearson:**\n",
    "   - **Cuando las variables tienen una relación lineal:** El coeficiente de correlación de Pearson es apropiado cuando estás interesado en medir la fuerza y la dirección de una relación lineal entre dos variables continuas. Por ejemplo, si estás estudiando la relación entre la altura y el peso de las personas, es probable que estas variables tengan una relación lineal.\n",
    "   - **Cuando las variables tienen distribuciones aproximadamente normales:** El coeficiente de Pearson es más sensible cuando las variables tienen distribuciones aproximadamente normales. Si tus datos tienen valores atípicos, el coeficiente de Pearson puede ser sensible a ellos y puede no reflejar con precisión la verdadera relación entre las variables.\n",
    "\n",
    "2. **Correlación de Spearman:**\n",
    "   - **Cuando las variables no tienen una relación lineal:** El coeficiente de correlación de Spearman es útil cuando las variables tienen una relación monótona pero no necesariamente lineal. Por ejemplo, si estás estudiando la relación entre el tiempo de estudio y el rendimiento académico, es posible que no haya una relación lineal clara, pero aún así puedas observar una relación de clasificación entre las observaciones.\n",
    "   - **Cuando las variables tienen valores atípicos o no están distribuidas normalmente:** La correlación de Spearman es menos sensible a los valores atípicos y a las desviaciones de la normalidad en los datos. Si tienes datos que no siguen una distribución normal o si hay valores atípicos presentes, la correlación de Spearman puede proporcionar una medida más robusta de la relación entre las variables.\n",
    "\n",
    "En resumen, si estás interesado en medir la relación lineal entre dos variables continuas y tus datos cumplen con los supuestos de normalidad y ausencia de valores atípicos, puedes usar el coeficiente de correlación de Pearson. Si tus datos no cumplen con estos supuestos o si estás interesado en medir una relación monotónica más general, la correlación de Spearman puede ser más apropiada.\n",
    "\n",
    "\n",
    "  \n",
    "\n",
    "****\n",
    "****\n",
    "**Matriz de correlación**\n",
    "\n",
    "La matriz de correlación es una herramienta fundamental en el análisis estadístico y la ciencia de datos que se utiliza para explorar las relaciones lineales entre variables. Esta matriz es una tabla de doble entrada que muestra las correlaciones entre pares de variables en un conjunto de datos.\n",
    "\n",
    "Cada fila y columna de la matriz representa una variable, y los elementos de la matriz son los coeficientes de correlación entre esas variables. El coeficiente de correlación más comúnmente utilizado es el coeficiente de correlación de Pearson, que mide la fuerza y la dirección de la relación lineal entre dos variables continuas. Los valores del coeficiente de correlación de Pearson oscilan entre -1 y 1, donde:\n",
    "\n",
    "- Un valor de 1 indica una correlación positiva perfecta, lo que significa que las variables están perfectamente correlacionadas de manera positiva: cuando una aumenta, la otra también lo hace en proporción constante.\n",
    "- Un valor de -1 indica una correlación negativa perfecta, lo que significa que las variables están perfectamente correlacionadas de manera negativa: cuando una aumenta, la otra disminuye en proporción constante.\n",
    "- Un valor de 0 indica ausencia de correlación lineal entre las variables.\n",
    "\n",
    "La matriz de correlación es importante en la ciencia de datos por varias razones:\n",
    "\n",
    "1. **Exploración de datos:** Permite comprender la relación entre diferentes variables de un conjunto de datos. Esto es esencial para identificar patrones y tendencias en los datos.\n",
    "\n",
    "2. **Selección de características:** Ayuda en la selección de características relevantes para modelos predictivos. Variables altamente correlacionadas pueden proporcionar información redundante, por lo que puede ser útil eliminar algunas de ellas para simplificar los modelos.\n",
    "\n",
    "3. **Diagnóstico de multicolinealidad:** Permite detectar multicolinealidad, que es el fenómeno en el que dos o más variables independientes en un modelo predictivo están altamente correlacionadas. La multicolinealidad puede afectar negativamente la precisión y la interpretación del modelo.\n",
    "\n",
    "4. **Validación de supuestos:** En análisis estadísticos y modelos de regresión, la matriz de correlación se utiliza para validar supuestos sobre la independencia de las variables y la linealidad de la relación entre las variables independientes y dependientes.\n",
    "\n",
    "En resumen, la matriz de correlación es una herramienta poderosa que proporciona información valiosa sobre la relación entre variables en un conjunto de datos, lo que facilita la toma de decisiones informadas en una amplia gama de aplicaciones en ciencia de datos y análisis estadístico.\n",
    "\n",
    "**Ejemplo de matriz de correlación**\n",
    "\n",
    "$$\n",
    "\\text{Corr} =\n",
    "\\begin{bmatrix}\n",
    "1.00 & 0.82 & -0.65 \\\\\n",
    "0.82 & 1.00 & -0.47 \\\\\n",
    "-0.65 & -0.47 & 1.00 \\\\\n",
    "\\end{bmatrix}\n",
    "$$\n"
   ]
  },
  {
   "cell_type": "markdown",
   "metadata": {
    "id": "Wi_mdSWOfKsC"
   },
   "source": [
    "**Ejemplo de como hacerlo con python:**\n"
   ]
  },
  {
   "cell_type": "code",
   "execution_count": null,
   "metadata": {
    "id": "JQb0D0rjfOpJ"
   },
   "outputs": [],
   "source": [
    "import numpy as np\n",
    "\n",
    "matrix = np.random.randint(100, size=(30, 10)) # Una manera de generar una matriz de valores aleatorios.\n",
    "matrix"
   ]
  },
  {
   "cell_type": "code",
   "execution_count": null,
   "metadata": {
    "id": "mvhpCYWLgci-"
   },
   "outputs": [],
   "source": [
    "print(f\"Dimensiones de la matriz: {matrix.shape}\")"
   ]
  },
  {
   "cell_type": "markdown",
   "metadata": {
    "id": "ejUayCTXgmnv"
   },
   "source": [
    "Numpy, utilizar la correlacińo de Pearson.\n",
    "Cuanto obtenemos la matriz de correlación con numpy, este tomara las filas como las variables y no como las muestras."
   ]
  },
  {
   "cell_type": "code",
   "execution_count": null,
   "metadata": {
    "id": "ReMjOfL6glH_"
   },
   "outputs": [],
   "source": [
    "m_corr = np.corrcoef(matrix)\n",
    "m_corr"
   ]
  },
  {
   "cell_type": "code",
   "execution_count": null,
   "metadata": {
    "id": "Uja4gRiejJ-e"
   },
   "outputs": [],
   "source": [
    " print(f\"Dimensiones de la matriz de correlacion {m_corr.shape}.\")\n"
   ]
  },
  {
   "cell_type": "markdown",
   "metadata": {
    "id": "SMJwWGDMhlSD"
   },
   "source": [
    "Por esta razón se obtiene una matriz de correlación de $30\\times30$.\n",
    "Para tomar las columnas como variables, se utilizara el siguiente parametro."
   ]
  },
  {
   "cell_type": "code",
   "execution_count": null,
   "metadata": {
    "id": "LZMIR-a7g6_D"
   },
   "outputs": [],
   "source": [
    "m_corr = np.corrcoef(matrix, rowvar=False)\n",
    "print(m_corr)"
   ]
  },
  {
   "cell_type": "code",
   "execution_count": null,
   "metadata": {
    "id": "PJPlCh2jjPze"
   },
   "outputs": [],
   "source": [
    "print(f\"Dimensiones de la matriz de correlacion {m_corr.shape}.\")"
   ]
  },
  {
   "cell_type": "markdown",
   "metadata": {
    "id": "cjNXGZlfbaiy"
   },
   "source": [
    "**Ejemplo:**\n",
    "\n",
    "En este ejercicio se usa un conjunto de datos obtenidos del libro *Statistical Rethinking* de Richard McElreath. El conjunto de datos contiene  datos recogidos de Nancy Howell, los cuales fueron obtenidos a finales de la decada de los 60's en el pueblo Kung San del desierto de Kalahari.\n",
    "\n",
    "En este ejercicio se intenta saber la existencia de correlación lineal entre el peso y la altura de personas."
   ]
  },
  {
   "cell_type": "code",
   "execution_count": null,
   "metadata": {
    "id": "-mrjF3bk2pUf"
   },
   "outputs": [],
   "source": [
    "import pandas as pd\n",
    "import numpy as np\n",
    "from IPython.display import display\n",
    "\n",
    "\n",
    "url = ('https://raw.githubusercontent.com/JoaquinAmatRodrigo/Estadistica-machine-learning-python/master/data/Howell1.csv')\n",
    "data = pd.read_csv(url)\n",
    "\n",
    "display(data.head())\n",
    "print(\"hola mundo\")"
   ]
  },
  {
   "cell_type": "code",
   "execution_count": null,
   "metadata": {
    "id": "eNiKoqaehQ1N"
   },
   "outputs": [],
   "source": [
    "data.age > 18"
   ]
  },
  {
   "cell_type": "code",
   "execution_count": null,
   "metadata": {
    "id": "crazQKmicJii"
   },
   "outputs": [],
   "source": [
    "from IPython.display import display\n",
    "\n",
    "# Se utilizan únicamente información de individuos mayores de 18 años.\n",
    "data = data[data.age > 18]\n",
    "\n",
    "display(data.head())\n",
    "data.info()"
   ]
  },
  {
   "cell_type": "markdown",
   "metadata": {
    "id": "raW5vbOxcmL9"
   },
   "source": [
    "**Análisis gráfico**\n",
    "\n",
    "El análisis gráfico nos permite darnos una idea del comportamiento de los datos, y podría darnos una orientación de como se comportan los datos. En este caso queremos saber si existe algún tipo de correlación lineal.\n",
    "\n",
    "Para nuestro fin, iniciaremos con un diagrama de dispersión."
   ]
  },
  {
   "cell_type": "code",
   "execution_count": null,
   "metadata": {
    "id": "DgbdNqWyc-NO"
   },
   "outputs": [],
   "source": [
    "import matplotlib.pyplot as plt\n",
    "\n",
    "\n",
    "fig, ax = plt.subplots(1, 1, figsize=(6,4))\n",
    "ax.scatter(x=data.height, y=data.weight, alpha= 0.8)\n",
    "ax.set_xlabel('Altura')\n",
    "ax.set_ylabel('Peso')\n",
    "plt.title(\"Diagrama de dispersión\")\n",
    "plt.grid(True)\n",
    "plt.show()"
   ]
  },
  {
   "cell_type": "markdown",
   "metadata": {
    "id": "Ndd6mjITdecc"
   },
   "source": [
    "**Nota explicativa de código:**\n",
    "\n",
    "Este código crea un gráfico de dispersión utilizando la biblioteca Matplotlib en Python. Aquí está la explicación línea por línea:\n",
    "\n",
    "1. `fig, ax = plt.subplots(1, 1, figsize=(6,4))`: Esta línea crea una figura (`fig`) y un conjunto de ejes (`ax`) en Matplotlib. El parámetro `1, 1` indica que queremos una sola fila y una sola columna de subgráficos. El parámetro `figsize=(6,4)` establece el tamaño de la figura en pulgadas.\n",
    "\n",
    "2. `ax.scatter(x=datos.height, y=datos.weight, alpha= 0.8)`: Esta línea traza los puntos en el gráfico de dispersión. `datos.height` y `datos.weight` son las variables que se utilizarán en los ejes x e y respectivamente. La opción `alpha=0.8` establece la transparencia de los puntos en el gráfico.\n",
    "\n",
    "3. `ax.set_xlabel('Altura')`: Esta línea establece la etiqueta del eje x como \"Altura\".\n",
    "\n",
    "4. `ax.set_ylabel('Peso')`: Esta línea establece la etiqueta del eje y como \"Peso\".\n",
    "\n",
    "En resumen, este código crea un gráfico de dispersión que muestra la relación entre la altura (en el eje x) y el peso (en el eje y) utilizando datos de alguna fuente (`datos`). Las etiquetas de los ejes x e y se establecen como \"Altura\" y \"Peso\" respectivamente.\n"
   ]
  },
  {
   "cell_type": "markdown",
   "metadata": {
    "id": "egIrQ6Rwc_DG"
   },
   "source": [
    "Para elegir el coeficiente de correlación, es necesario revisar el tipo de variable con la que se trabaja, así como la distribución de los datos.\n",
    "\n",
    "En el presente caso de altura y peso, las dos variables son de tipo cuantitativas, y puede hacerse un ranking (ordenar las variables de acuerdo a su magnitud), por lo cual, uno podría pensar aplicar correlaciónde Pearson o Spearman. Por tal razón, se comensará a utilizar un análisis de la distribucióni de probabilidad, homocedasticidad y presencia de datos atípicos (*outliers*)."
   ]
  },
  {
   "cell_type": "markdown",
   "metadata": {
    "id": "wUid-eIRegPQ"
   },
   "source": [
    "**Normalidad**"
   ]
  },
  {
   "cell_type": "code",
   "execution_count": null,
   "metadata": {
    "id": "E0tXdagtefzp"
   },
   "outputs": [],
   "source": [
    "fig, axs = plt.subplots(nrows=1, ncols=2, figsize=(10, 4))\n",
    "\n",
    "axs[0].hist(x=data.height, bins=20, color=\"#3182bd\", alpha=0.5)\n",
    "axs[0].plot(data.height, np.full_like(data.height, -0.01), '|k', markeredgewidth=1)\n",
    "axs[0].set_title('Distribución altura (height)')\n",
    "axs[0].set_xlabel('height')\n",
    "axs[0].set_ylabel('counts')\n",
    "axs[0].grid(True)\n",
    "\n",
    "axs[1].hist(x=data.weight, bins=20, color=\"#3182bd\", alpha=0.5)\n",
    "axs[1].plot(data.weight, np.full_like(data.weight, -0.01), '|k', markeredgewidth=1)\n",
    "axs[1].set_title('Distribución peso (weight)')\n",
    "axs[1].set_xlabel('weight')\n",
    "axs[1].set_ylabel('counts')\n",
    "axs[1].grid(True)\n",
    "\n",
    "\n",
    "plt.tight_layout()\n",
    "plt.show()"
   ]
  },
  {
   "cell_type": "markdown",
   "metadata": {
    "id": "qqHeu0hse7az"
   },
   "source": [
    "Al ver esta gráfica, podría intuirce que los datos se distribuyen de manera normal.\n",
    "\n",
    "Ahora utilizaremos un **gráfico Q-Q**.\n",
    "\n",
    "  * **Un gráfico Q-Q (Quantile-Quantile)** es una herramienta visual utilizada en estadística para comparar la distribución de probabilidad de un conjunto de datos con una distribución de probabilidad teórica, como la distribución normal. El objetivo principal de un gráfico Q-Q es evaluar si los datos observados se ajustan a una distribución teórica.\n",
    "\n",
    "  El gráfico Q-Q representa los cuantiles de los datos observados en el eje horizontal y los cuantiles esperados de la distribución teórica en el eje vertical. Si los datos se ajustan perfectamente a la distribución teórica, los puntos en el gráfico Q-Q seguirán aproximadamente una línea recta. Cualquier desviación de esta línea indica una discrepancia entre los datos observados y la distribución teórica.\n",
    "\n",
    "  En resumen, un gráfico Q-Q es una herramienta útil para visualizar la bondad de ajuste de los datos a una distribución de probabilidad teórica, lo que permite evaluar la normalidad u otras características de los datos.\n"
   ]
  },
  {
   "cell_type": "code",
   "execution_count": null,
   "metadata": {
    "id": "-nc8QRTkfAZj"
   },
   "outputs": [],
   "source": [
    "import statsmodels.api as sm\n",
    "\n",
    "fig, axs = plt.subplots(nrows=1, ncols=2, figsize=(10, 4))\n",
    "\n",
    "sm.qqplot(\n",
    "    data.weight,\n",
    "    fit   = True,\n",
    "    line  = 'q',\n",
    "    alpha = 0.4,\n",
    "    lw    = 2,\n",
    "    ax    = axs[0]\n",
    ")\n",
    "axs[0].set_title('Gráfico Q-Q de peso', fontsize = 10, fontweight = \"bold\")\n",
    "axs[0].tick_params(labelsize = 7)\n",
    "axs[0].set_ylabel('Cuantiles de muestra')\n",
    "axs[0].set_xlabel('Cuantiles teóricos')\n",
    "axs[0].grid(True)\n",
    "\n",
    "sm.qqplot(\n",
    "    data.height,\n",
    "    fit   = True,\n",
    "    line  = 'q',\n",
    "    alpha = 0.4,\n",
    "    lw    = 2,\n",
    "    ax    = axs[1]\n",
    ")\n",
    "axs[1].set_title('Gráfico Q-Q de altura', fontsize = 10, fontweight = \"bold\")\n",
    "axs[1].tick_params(labelsize = 7)\n",
    "axs[1].grid(True)\n",
    "axs[1].set_ylabel('Cuantiles de muestra')\n",
    "axs[1].set_xlabel('Cuantiles teóricos')\n",
    "\n",
    "plt.show()"
   ]
  },
  {
   "cell_type": "markdown",
   "metadata": {
    "id": "RoOhNJjeqElH"
   },
   "source": [
    "En la gráfica Q-Q se ven desviaciones que podrían sugerir que los datos no se distribuyen de manera normal."
   ]
  },
  {
   "cell_type": "markdown",
   "metadata": {
    "id": "TxGyr4yHjsW7"
   },
   "source": [
    "Teste de pruebas de hipótesis para saber si los datos se distribuyen de manera normal.\n",
    "\n",
    "**Shapiro-Wilk Test:**\n",
    "* Hipótesis nula (H0): Los datos se distribuyen normalmente.\n",
    "* Hipótesis alternativa (H1): Los datos no se distribuyen normalmente.\n",
    "* Estadística de prueba:\n",
    "  $$W = \\frac{(\\sum_{i=1}^{n} a_i x_{(i)})^2}{\\sum_{i=1}^{n} (x_i - \\bar{x})^2}$$\n",
    "\n",
    "En el test de Shapiro-Wilk, la hipótesis nula (H0) es que la muestra de datos proviene de una distribución normal. El p-value asociado con este test representa la probabilidad de observar los datos muestrales si la hipótesis nula fuera verdadera.\n",
    "\n",
    "* Nota:\n",
    "  Por lo general, se utiliza un nivel de significancia predeterminado (como 0.05) para tomar decisiones sobre si rechazar o no la hipótesis nula. Si el p-value es menor que el nivel de significancia (0.05 en este caso), entonces se rechaza la hipótesis nula y se concluye que los datos no siguen una distribución normal.\n",
    "\n",
    "  Por lo tanto, en resumen:\n",
    "\n",
    "  - Si p-value < 0.05: Se rechaza la hipótesis nula y se concluye que los datos no siguen una distribución normal.\n",
    "  - Si p-value >= 0.05: No se rechaza la hipótesis nula y se considera que los datos pueden seguir una distribución normal.\n"
   ]
  },
  {
   "cell_type": "code",
   "execution_count": null,
   "metadata": {
    "id": "KtRY8FyIe6-r"
   },
   "outputs": [],
   "source": [
    "from scipy import stats\n",
    "\n",
    "shapiro_test = stats.shapiro(data.height)\n",
    "print(f\"p-value de Shapiro test de la altura: {shapiro_test.pvalue:.4f}\")\n"
   ]
  },
  {
   "cell_type": "code",
   "execution_count": null,
   "metadata": {
    "id": "zq26Y0bRifyl"
   },
   "outputs": [],
   "source": [
    "shapiro_test = stats.shapiro(data.weight)\n",
    "print(f\"p-value de Shapiro test del peso: {shapiro_test.pvalue:.4f}\")"
   ]
  },
  {
   "cell_type": "markdown",
   "metadata": {
    "id": "cn0ro7eaqO0d"
   },
   "source": [
    "Al aplicar el test de Shapiro-Wilk, se rechaza la hipotesis nula a un nivel de significanca del 5% de que los datos se distribuyen normalmente, por lo cual hay fuerte evidencia de que los datos no se distribuyen de manera normal.\n",
    "\n",
    "Por esta razón no se puede aplicar la correlación de pearson y se decide tomar la correlación de Spearman."
   ]
  },
  {
   "cell_type": "markdown",
   "metadata": {
    "id": "LSU68XW5z_zn"
   },
   "source": [
    "**Ientificación de datos atípicos (*outliers*)**:\n",
    "Para ello utilzaremos el diagrama de caja y bigote."
   ]
  },
  {
   "cell_type": "code",
   "execution_count": null,
   "metadata": {
    "id": "VRf8UxqO0LAg"
   },
   "outputs": [],
   "source": [
    "import seaborn as sns\n",
    "\n",
    "sns.boxplot(data[['height']])\n",
    "plt.title(\"Diagrama de caja y bigote de la altura.\")\n",
    "plt.grid(True)\n",
    "plt.ylabel(\"Altura\")\n",
    "plt.show()"
   ]
  },
  {
   "cell_type": "code",
   "execution_count": null,
   "metadata": {
    "id": "vKSQknMy1MF1"
   },
   "outputs": [],
   "source": [
    "sns.boxplot(data[['weight']])\n",
    "plt.title(\"Diagrama de caja y bigote del peso.\")\n",
    "plt.grid(True)\n",
    "plt.ylabel(\"Peso\")\n",
    "plt.show()"
   ]
  },
  {
   "cell_type": "code",
   "execution_count": null,
   "metadata": {
    "id": "WP4t8dZx13TG"
   },
   "outputs": [],
   "source": [
    "data.describe()"
   ]
  },
  {
   "cell_type": "code",
   "execution_count": null,
   "metadata": {
    "id": "ws-k7x0zjpLi"
   },
   "outputs": [],
   "source": [
    "\n",
    "fig, ax = plt.subplots(1, 1, figsize=(6,4))\n",
    "ax.scatter(x=data.height, y=data.weight, alpha= 0.8)\n",
    "ax.set_xlabel('Altura')\n",
    "ax.set_ylabel('Peso')\n",
    "plt.title(\"Diagrama de dispersión\")\n",
    "plt.grid(True)\n",
    "plt.show()"
   ]
  },
  {
   "cell_type": "markdown",
   "metadata": {
    "id": "-RLPk9t2jyYg"
   },
   "source": [
    "$[-1, 1]$"
   ]
  },
  {
   "cell_type": "code",
   "execution_count": null,
   "metadata": {
    "id": "04NuJ2yPq8w_"
   },
   "outputs": [],
   "source": [
    "data.head()"
   ]
  },
  {
   "cell_type": "markdown",
   "metadata": {
    "id": "7YvzqrvsrCJf"
   },
   "source": [
    "En este caso aprovecharemos la matriz de correlación que ofrece pandas para aplicar a los DataFrames."
   ]
  },
  {
   "cell_type": "code",
   "execution_count": null,
   "metadata": {
    "id": "fAMdCoq8i8Po"
   },
   "outputs": [],
   "source": [
    "?data"
   ]
  },
  {
   "cell_type": "code",
   "execution_count": null,
   "metadata": {
    "id": "sh6gJvqB2AhF"
   },
   "outputs": [],
   "source": [
    "data.corr(method='spearman')"
   ]
  },
  {
   "cell_type": "code",
   "execution_count": null,
   "metadata": {
    "id": "d6I9lw-klFth"
   },
   "outputs": [],
   "source": [
    "data.corr(method='pearson')"
   ]
  },
  {
   "cell_type": "code",
   "execution_count": null,
   "metadata": {
    "id": "kc0gwOjel1Yc"
   },
   "outputs": [],
   "source": [
    "data.corr()"
   ]
  },
  {
   "cell_type": "markdown",
   "metadata": {
    "id": "QvAeACqqrZMb"
   },
   "source": [
    "En esta gráfica se muestra que existe una correlación positiva de $0.75$ entre altura y peso."
   ]
  },
  {
   "cell_type": "markdown",
   "metadata": {
    "id": "HVKi6U8yrjjr"
   },
   "source": [
    "****\n",
    "Otra manera de abordar la correlación en este caso, es aplicar un logaritmo a los datos de altura y peso, porque al observar el Gráfico Q-Q, se puede observar que los datos se acercan a los cuartieles teoricos además de que en histograma, los datos paresen seguir una distribución normal. Si se opta por esta opción, se debe de aclarar el método realizado en el estudio.\n",
    "\n",
    "Entonces:"
   ]
  },
  {
   "cell_type": "markdown",
   "metadata": {
    "id": "Znv_0QFRmCxc"
   },
   "source": [
    "$log$"
   ]
  },
  {
   "cell_type": "code",
   "execution_count": null,
   "metadata": {
    "id": "IaBFyWNZrhf9"
   },
   "outputs": [],
   "source": [
    "fig, ax = plt.subplots(nrows=1, ncols=1, figsize=(6, 4))\n",
    "\n",
    "sm.qqplot(\n",
    "    np.log(data.height+1), # Aquí se usa los datos transformados.\n",
    "    fit   = True,\n",
    "    line  = 'q',\n",
    "    alpha = 0.4,\n",
    "    lw    = 2,\n",
    "    ax    = ax\n",
    ")\n",
    "ax.set_title('Gráfico Q-Q del logaritmo de la altura', fontsize = 13)\n",
    "ax.grid()\n",
    "ax.set_ylabel('Cuantiles de muestra')\n",
    "ax.set_xlabel('Cuantiles teóricos')\n",
    "ax.tick_params(labelsize = 7)\n",
    "\n",
    "\n",
    "shapiro_test = stats.shapiro(np.log(data.height+1))\n",
    "print(f\"Valor p de Shapiro test de la log-altura: {shapiro_test.pvalue:.4f}\")\n"
   ]
  },
  {
   "cell_type": "markdown",
   "metadata": {
    "id": "yqeBt_gY2wTn"
   },
   "source": [
    "Creamos el diagrama de caja y bigote con los datos transformados."
   ]
  },
  {
   "cell_type": "markdown",
   "metadata": {
    "id": "jvU9Ff00uJQm"
   },
   "source": [
    "Ahora la altura se distribuye de una manera normal."
   ]
  },
  {
   "cell_type": "code",
   "execution_count": null,
   "metadata": {
    "id": "fyuyXDv6txah"
   },
   "outputs": [],
   "source": [
    "fig, ax = plt.subplots(nrows=1, ncols=1, figsize=(6, 4))\n",
    "\n",
    "sm.qqplot(\n",
    "    np.log(data.weight+1), # Aquí introducimos los datos transformados.\n",
    "    fit   = True,\n",
    "    line  = 'q',\n",
    "    alpha = 0.4,\n",
    "    lw    = 2,\n",
    "    ax    = ax\n",
    ")\n",
    "ax.set_title('Gráfico Q-Q del logaritmo del peso', fontsize = 13)\n",
    "ax.grid()\n",
    "ax.set_ylabel('Cuantiles de muestra')\n",
    "ax.set_xlabel('Cuantiles teóricos')\n",
    "ax.tick_params(labelsize = 7)\n",
    "\n",
    "\n",
    "shapiro_test = stats.shapiro(np.log(data.weight+1))\n",
    "print(f\"Valor p de Shapiro test del log-peso: {shapiro_test.pvalue:.4f}\")\n"
   ]
  },
  {
   "cell_type": "markdown",
   "metadata": {
    "id": "p979dISQuNlO"
   },
   "source": [
    "En este caso el peso no se logra distribuir de manera normal.\n",
    "\n",
    "Aún así tenemos los gráficos para observar su comportamiento.\n",
    "\n",
    "Usamos el diagrama de caja y bigote para saber si hay datos atipicos.\n"
   ]
  },
  {
   "cell_type": "code",
   "execution_count": null,
   "metadata": {
    "id": "1rylJvqsk48E"
   },
   "outputs": [],
   "source": [
    "sns.boxplot(np.log(data.height+1))\n",
    "plt.title(\"Diagrama de caja y bigote de la log-altura.\")\n",
    "plt.grid(True)\n",
    "plt.ylabel(\"Altura\")\n",
    "plt.show()"
   ]
  },
  {
   "cell_type": "code",
   "execution_count": null,
   "metadata": {
    "id": "N3M0QlPd3cII"
   },
   "outputs": [],
   "source": [
    "sns.boxplot(np.log(data.weight+1))\n",
    "plt.title(\"Diagrama de caja y bigote de la log-peso.\")\n",
    "plt.grid(True)\n",
    "plt.ylabel(\"Peso\")\n",
    "plt.show()\n"
   ]
  },
  {
   "cell_type": "markdown",
   "metadata": {
    "id": "US_8RyUv32pj"
   },
   "source": [
    "En este caso no se logro probar la hipótesis de normalidad, pero los requerimientos se han cumplido."
   ]
  },
  {
   "cell_type": "code",
   "execution_count": null,
   "metadata": {
    "id": "7FMFxCiCui55"
   },
   "outputs": [],
   "source": [
    "data.corr(method='pearson')"
   ]
  },
  {
   "cell_type": "code",
   "execution_count": null,
   "metadata": {
    "id": "IA1gHC6xutgg"
   },
   "outputs": [],
   "source": [
    "corr_spearman = data['weight'].corr(data['height'], method='spearman')\n",
    "corr_pearson = data['weight'].corr(data['height'], method='pearson')\n",
    "\n",
    "print(f'Correlación Spearman: {corr_spearman:.4f}')\n",
    "print(f'Correlación Pearson: {corr_pearson:.4f}')"
   ]
  },
  {
   "cell_type": "markdown",
   "metadata": {
    "id": "iQ6HUzNCwUeZ"
   },
   "source": [
    "Para este proceso también se puede utilizar `Scpy.stats`, que además de retornar la correlacińo, también retorna un valor p para probar la no correlación."
   ]
  },
  {
   "cell_type": "code",
   "execution_count": null,
   "metadata": {
    "id": "xlHxX073v2Bw"
   },
   "outputs": [],
   "source": [
    "r, p = stats.pearsonr(data['weight'], data['height'])\n",
    "print(f\"Correlación Pearson: r={r:.4f}, p-value={p}\")\n",
    "\n",
    "r, p = stats.spearmanr(data['weight'], data['height'])\n",
    "print(f\"Correlación Spearman: r={r:.4f}, p-value={p}\")"
   ]
  },
  {
   "cell_type": "markdown",
   "metadata": {
    "id": "CaIFfZX7y-zi"
   },
   "source": [
    "**Pingouin**\n",
    "Es otra herramienta de estadísticas que nos da mayor información sobre la correlación, como las prueba de no correlación, añadiendo un intervalo de confianza.\n",
    "* liga de la página: https://pingouin-stats.org/build/html/index.html"
   ]
  },
  {
   "cell_type": "code",
   "execution_count": null,
   "metadata": {
    "id": "2zRjhtdtyWVt"
   },
   "outputs": [],
   "source": [
    "! pip install pingouin"
   ]
  },
  {
   "cell_type": "code",
   "execution_count": null,
   "metadata": {
    "id": "zJNsnOsDxf2n"
   },
   "outputs": [],
   "source": [
    "import pingouin as pg\n",
    "\n",
    "pg.corr(data['weight'], data['height'])\n"
   ]
  },
  {
   "cell_type": "code",
   "execution_count": null,
   "metadata": {
    "id": "xiUO3JqLyn2t"
   },
   "outputs": [],
   "source": [
    "display(pg.corr(data['weight'], data['height'], method='spearman'))\n",
    "display(pg.corr(data['weight'], data['height'], method='pearson'))"
   ]
  },
  {
   "cell_type": "markdown",
   "metadata": {
    "id": "DIk2EqW3leNu"
   },
   "source": [
    "También puedes obtener un gráfico Q-Q.\n"
   ]
  },
  {
   "cell_type": "code",
   "execution_count": null,
   "metadata": {
    "id": "O0dVTuBaldmP"
   },
   "outputs": [],
   "source": [
    "sns.set_style('darkgrid')\n",
    "pg.qqplot(data[['weight']], dist='norm')\n",
    "plt.title(\"Diagrama de caja y bigote del peso\")\n",
    "plt.grid(True)\n",
    "plt.show()"
   ]
  },
  {
   "cell_type": "markdown",
   "metadata": {
    "id": "UWmXsvGNtYq4"
   },
   "source": [
    "**Matriz de correlación con dataset de precios de casas**\n",
    "\n",
    "El conjunto de datos de precios de vivienda proporciona una colección integral de listados de propiedades, que abarcan varios atributos como el número de dormitorios, baños, tamaño del área de estar, tamaño del lote y detalles de ubicación. Este conjunto de datos es invaluable para una amplia gama de análisis de datos y aplicaciones de aprendizaje automático. Por ejemplo, puede utilizarse en modelado predictivo para pronosticar precios de propiedades basados en características como ubicación, comodidades y condición. Además, puede ayudar a identificar tendencias y patrones en el mercado inmobiliario, asistiendo a inversores, agentes inmobiliarios y responsables de políticas en la toma de decisiones informadas. Además, el conjunto de datos puede servir como base para el desarrollo de sistemas de recomendación para compradores de vivienda, guiándolos hacia propiedades que se alineen con sus preferencias y requisitos. En general, el conjunto de datos de precios de vivienda ofrece una gran cantidad de información y oportunidades para aprovechar enfoques basados en datos para comprender y navegar efectivamente en el mercado de la vivienda.\n",
    "\n",
    "Ahora describiré cada columna del conjunto de datos proporcionado:\n",
    "\n",
    "1. **id**: Identificador único para cada entrada en el conjunto de datos.\n",
    "2. **date**: Fecha en la que se registró la transacción de la propiedad.\n",
    "3. **price**: Precio de la propiedad en dólares.\n",
    "4. **bedrooms**: Número de dormitorios en la propiedad.\n",
    "5. **bathrooms**: Número de baños en la propiedad.\n",
    "6. **sqft_living**: Área en pies cuadrados de la zona habitable de la propiedad.\n",
    "7. **sqft_lot**: Área en pies cuadrados del lote de la propiedad.\n",
    "8. **floors**: Número de pisos en la propiedad.\n",
    "9. **waterfront**: Indicador binario (0 o 1) que indica si la propiedad tiene vista al mar.\n",
    "10. **view**: Índice de calificación de la vista de la propiedad.\n",
    "11. **condition**: Índice de calificación de la condición de la propiedad.\n",
    "12. **grade**: Índice de calificación general de la calidad de la construcción y el diseño de la propiedad.\n",
    "13. **sqft_above**: Área en pies cuadrados sobre el nivel del suelo.\n",
    "14. **sqft_basement**: Área en pies cuadrados del sótano de la propiedad.\n",
    "15. **yr_built**: Año de construcción de la propiedad.\n",
    "16. **yr_renovated**: Año de renovación de la propiedad.\n",
    "17. **zipcode**: Código postal de la ubicación de la propiedad.\n",
    "18. **lat**: Latitud de la ubicación de la propiedad.\n",
    "19. **long**: Longitud de la ubicación de la propiedad.\n",
    "20. **sqft_living15**: Área en pies cuadrados de la zona habitable promedio de las 15 propiedades más cercanas.\n",
    "21. **sqft_lot15**: Área en pies cuadrados del lote promedio de las 15 propiedades más cercanas.\n"
   ]
  },
  {
   "cell_type": "code",
   "execution_count": null,
   "metadata": {
    "id": "xIzeOa4g6b-V"
   },
   "outputs": [],
   "source": [
    "import pandas as pd\n",
    "\n",
    "df = pd.read_csv('Housing.csv')\n",
    "df.head()"
   ]
  },
  {
   "cell_type": "code",
   "execution_count": null,
   "metadata": {
    "id": "r7oiJqJR9Xwr"
   },
   "outputs": [],
   "source": [
    "df.info()"
   ]
  },
  {
   "cell_type": "markdown",
   "metadata": {
    "id": "cSRp_EKDskpC"
   },
   "source": [
    "\n",
    "Ahora describiré cada columna del conjunto de datos proporcionado:\n",
    "\n",
    "1. **id**: Identificador único para cada entrada en el conjunto de datos.\n",
    "2. **date**: Fecha en la que se registró la transacción de la propiedad.\n",
    "3. **price**: Precio de la propiedad en dólares.\n",
    "4. **bedrooms**: Número de dormitorios en la propiedad.\n",
    "5. **bathrooms**: Número de baños en la propiedad.\n",
    "6. **sqft_living**: Área en pies cuadrados de la zona habitable de la propiedad.\n",
    "7. **sqft_lot**: Área en pies cuadrados del lote de la propiedad.\n",
    "8. **floors**: Número de pisos en la propiedad.\n",
    "9. **waterfront**: Indicador binario (0 o 1) que indica si la propiedad tiene vista al mar.\n",
    "10. **view**: Índice de calificación de la vista de la propiedad.\n",
    "11. **condition**: Índice de calificación de la condición de la propiedad.\n",
    "12. **grade**: Índice de calificación general de la calidad de la construcción y el diseño de la propiedad.\n",
    "13. **sqft_above**: Área en pies cuadrados sobre el nivel del suelo.\n",
    "14. **sqft_basement**: Área en pies cuadrados del sótano de la propiedad.\n",
    "15. **yr_built**: Año de construcción de la propiedad.\n",
    "16. **yr_renovated**: Año de renovación de la propiedad.\n",
    "17. **zipcode**: Código postal de la ubicación de la propiedad.\n",
    "18. **lat**: Latitud de la ubicación de la propiedad.\n",
    "19. **long**: Longitud de la ubicación de la propiedad.\n",
    "20. **sqft_living15**: Área en pies cuadrados de la zona habitable promedio de las 15 propiedades más cercanas.\n",
    "21. **sqft_lot15**: Área en pies cuadrados del lote promedio de las 15 propiedades más cercanas.\n"
   ]
  },
  {
   "cell_type": "code",
   "execution_count": null,
   "metadata": {
    "id": "RFVau2Gp7g9P"
   },
   "outputs": [],
   "source": [
    "columns = [\n",
    "    'price',\n",
    "    'sqft_living',\n",
    "    'yr_built',\n",
    "    'floors',\n",
    "    'bedrooms',\n",
    "    'bathrooms',\n",
    "    'sqft_lot',\n",
    "    'grade',\n",
    "    'condition',\n",
    "    'view',\n",
    "    'yr_renovated',\n",
    "\n",
    "    ]\n"
   ]
  },
  {
   "cell_type": "code",
   "execution_count": null,
   "metadata": {
    "id": "_9Q7yRYa6wTE"
   },
   "outputs": [],
   "source": [
    "data = df[columns]\n",
    "data.head()"
   ]
  },
  {
   "cell_type": "code",
   "execution_count": null,
   "metadata": {
    "id": "dBQOZo8v-2a1"
   },
   "outputs": [],
   "source": [
    "corr = data.corr('pearson')\n",
    "corr"
   ]
  },
  {
   "cell_type": "code",
   "execution_count": null,
   "metadata": {
    "id": "MKwR_qeo_D5E"
   },
   "outputs": [],
   "source": [
    "import seaborn as sns\n",
    "\n",
    "\n",
    "fig, ax = plt.subplots(nrows=1, ncols=1, figsize=(5, 5))\n",
    "\n",
    "sns.heatmap(\n",
    "    corr,\n",
    "    annot     = True,\n",
    "    cbar      = True,\n",
    "    annot_kws = {\"size\": 6},\n",
    "    vmin      = -1,\n",
    "    vmax      = 1,\n",
    "    center    = 0,\n",
    "    cmap      = sns.color_palette(\"mako\", as_cmap=True),\n",
    "    square    = True,\n",
    "    ax        = ax\n",
    ")\n",
    "\n",
    "ax.set_xticklabels(\n",
    "    ax.get_xticklabels(),\n",
    "    rotation = 45,\n",
    "    horizontalalignment = 'right',\n",
    ")\n",
    "\n",
    "ax.tick_params(labelsize = 10)"
   ]
  },
  {
   "cell_type": "markdown",
   "metadata": {
    "id": "Rdt-RRrb__AN"
   },
   "source": [
    "1. `fig, ax = plt.subplots(nrows=1, ncols=1, figsize=(5, 5))`: Crea una nueva figura y un solo conjunto de ejes (ax) con una matriz de 1x1 y un tamaño de figura de 5x5 pulgadas.\n",
    "\n",
    "2. `sns.heatmap(...)`: Llama a la función `heatmap` de Seaborn para crear un mapa de calor.\n",
    "   - `corr`: Es el DataFrame o matriz de correlación que se va a visualizar.\n",
    "   - `annot=True`: Muestra los valores de las celdas en el mapa de calor.\n",
    "   - `cbar=True`: Muestra una barra de color que indica la correspondencia entre los colores y los valores en el mapa de calor.\n",
    "   - `annot_kws={\"size\": 6}`: Establece el tamaño de fuente de los valores de las celdas en el mapa de calor.\n",
    "   - `vmin=-1`: Valor mínimo del rango de valores de correlación.\n",
    "   - `vmax=1`: Valor máximo del rango de valores de correlación.\n",
    "   - `center=0`: Punto central del rango de valores de correlación. Los valores se distribuyen simétricamente en torno a este punto.\n",
    "   - `sns.color_palette(\"mako\", as_cmap=True)`: Mapa de colores que se utilizará para representar los valores. Se utiliza una paleta de colores `mako`.\n",
    "   - `square=True`: Hace que las celdas del mapa de calor tengan forma cuadrada.\n",
    "   - `ax=ax`: Indica que se utilizará el conjunto de ejes `ax` creado anteriormente para trazar el mapa de calor.\n",
    "\n",
    "3. `ax.set_xticklabels(...)`: Establece las etiquetas del eje x (columnas) del mapa de calor.\n",
    "   - `ax.get_xticklabels()`: Obtiene las etiquetas del eje x.\n",
    "   - `rotation=45`: Rota las etiquetas del eje x en 45 grados para que sean legibles.\n",
    "   - `horizontalalignment='right'`: Alinea las etiquetas del eje x horizontalmente a la derecha para una mejor presentación.\n",
    "\n",
    "4. `ax.tick_params(labelsize=10)`: Establece el tamaño de las etiquetas de los ticks (marcas) en los ejes a 10.\n"
   ]
  },
  {
   "cell_type": "markdown",
   "metadata": {
    "id": "V6f9w9BJthz4"
   },
   "source": [
    "- cor >= 0.5\n",
    "- cor <= -0.5"
   ]
  },
  {
   "cell_type": "code",
   "execution_count": null,
   "metadata": {
    "id": "R-owu_titcJk"
   },
   "outputs": [],
   "source": [
    "min_threshold = -0.5\n",
    "max_threshold = 0.5\n",
    "correlation = corr[(corr >= max_threshold) | (corr <= min_threshold)]\n",
    "correlation"
   ]
  },
  {
   "cell_type": "code",
   "execution_count": null,
   "metadata": {
    "id": "P5GZJNuVAow9"
   },
   "outputs": [],
   "source": [
    "correlation_threshold = 0.5\n",
    "high_correlation = corr[corr >= correlation_threshold]\n",
    "high_correlation"
   ]
  },
  {
   "cell_type": "code",
   "execution_count": null,
   "metadata": {
    "id": "eeqXDIjQtayC"
   },
   "outputs": [],
   "source": []
  },
  {
   "cell_type": "code",
   "execution_count": null,
   "metadata": {
    "id": "et68BVN-i0Jm"
   },
   "outputs": [],
   "source": [
    "fig, ax = plt.subplots(nrows=1, ncols=1, figsize=(5, 5))\n",
    "\n",
    "sns.heatmap(\n",
    "    correlation,\n",
    "    annot     = True,\n",
    "    cbar      = True,\n",
    "    annot_kws = {\"size\": 6},\n",
    "    vmin      = -1,\n",
    "    vmax      = 1,\n",
    "    center    = 0,\n",
    "    cmap      = sns.color_palette(\"mako\", as_cmap=True),\n",
    "    square    = True,\n",
    "    ax        = ax\n",
    ")\n",
    "\n",
    "ax.set_xticklabels(\n",
    "    ax.get_xticklabels(),\n",
    "    rotation = 45,\n",
    "    horizontalalignment = 'right',\n",
    ")\n",
    "\n",
    "ax.tick_params(labelsize = 10)"
   ]
  },
  {
   "cell_type": "code",
   "execution_count": null,
   "metadata": {
    "id": "koJdeoLljMmY"
   },
   "outputs": [],
   "source": [
    "triu = np.triu(high_correlation.values) # Creo una mascara con una matriz triangular\n",
    "# tril[tril==0] = np.nan"
   ]
  },
  {
   "cell_type": "code",
   "execution_count": null,
   "metadata": {
    "id": "atxzH3WyjgZ8"
   },
   "outputs": [],
   "source": [
    "fig, ax = plt.subplots(nrows=1, ncols=1, figsize=(5, 5))\n",
    "\n",
    "sns.heatmap(\n",
    "    correlation,\n",
    "    annot     = True,\n",
    "    cbar      = True,\n",
    "    annot_kws = {\"size\": 6},\n",
    "    vmin      = -1,\n",
    "    vmax      = 1,\n",
    "    center    = 0,\n",
    "    cmap      = sns.color_palette(\"mako\", as_cmap=True),\n",
    "    square    = True,\n",
    "    ax        = ax,\n",
    "    mask      = triu, # añado la matriz\n",
    ")\n",
    "\n",
    "ax.set_xticklabels(\n",
    "    ax.get_xticklabels(),\n",
    "    rotation = 45,\n",
    "    horizontalalignment = 'right',\n",
    ")\n",
    "\n",
    "ax.tick_params(labelsize = 10)"
   ]
  },
  {
   "cell_type": "code",
   "execution_count": null,
   "metadata": {
    "id": "Ikk8y7L2knzn"
   },
   "outputs": [],
   "source": [
    "corr = data.corr('pearson')\n",
    "\n",
    "triu = np.triu(corr.values)"
   ]
  },
  {
   "cell_type": "code",
   "execution_count": null,
   "metadata": {
    "id": "9VNfolMIk2dJ"
   },
   "outputs": [],
   "source": [
    "triu.shape"
   ]
  },
  {
   "cell_type": "code",
   "execution_count": null,
   "metadata": {
    "id": "Tbtm_c86k0Rf"
   },
   "outputs": [],
   "source": [
    "corr.shape"
   ]
  },
  {
   "cell_type": "code",
   "execution_count": null,
   "metadata": {
    "id": "7xvEekn3kpYm"
   },
   "outputs": [],
   "source": [
    "fig, ax = plt.subplots(nrows=1, ncols=1, figsize=(5, 5))\n",
    "\n",
    "sns.heatmap(\n",
    "    corr,\n",
    "    annot     = True,\n",
    "    cbar      = True,\n",
    "    annot_kws = {\"size\": 6},\n",
    "    vmin      = -1,\n",
    "    vmax      = 1,\n",
    "    center    = 0,\n",
    "    cmap      = sns.color_palette(\"mako\", as_cmap=True),\n",
    "    square    = True,\n",
    "    ax        = ax,\n",
    "    mask      = triu, # añado la matriz\n",
    ")\n",
    "\n",
    "ax.set_xticklabels(\n",
    "    ax.get_xticklabels(),\n",
    "    rotation = 45,\n",
    "    horizontalalignment = 'right',\n",
    ")\n",
    "\n",
    "ax.tick_params(labelsize = 10)"
   ]
  },
  {
   "cell_type": "code",
   "execution_count": null,
   "metadata": {
    "id": "kG3uIwjpBGnp"
   },
   "outputs": [],
   "source": [
    "corr = correlation.stack()\n",
    "print(corr)\n",
    "print(type(corr))"
   ]
  },
  {
   "cell_type": "code",
   "execution_count": null,
   "metadata": {
    "id": "uCmYhLpZXwEd"
   },
   "outputs": [],
   "source": [
    "for i in corr.index:\n",
    "  if i[0].strip() != i[1].strip():\n",
    "    #print('-'*40)\n",
    "    print(f\"corr({i[0]:<13}, {i[1]:<12}) = {corr[i]:.2f}\")\n"
   ]
  },
  {
   "cell_type": "code",
   "execution_count": null,
   "metadata": {
    "id": "LGTXBl2Gxz_o"
   },
   "outputs": [],
   "source": [
    "for i in corr.index:\n",
    "  if i[0].strip() != i[1].strip():\n",
    "    print('-'*40)\n",
    "    print(f\"({i[0]:<13}, {i[1]:<12}): {corr[i]:.2f}\")"
   ]
  },
  {
   "cell_type": "markdown",
   "metadata": {
    "id": "NYpvufUAqDVf"
   },
   "source": [
    "****\n",
    "**Actividad**\n",
    "\n",
    "Describe en tus propias palabras que es la correlación.\n",
    "****"
   ]
  },
  {
   "cell_type": "markdown",
   "metadata": {
    "id": "hY3iZjKszIP7"
   },
   "source": [
    "#### Matriz de Covarianza\n",
    "\n",
    "**Ejemplo didáctico 1**\n",
    "\n",
    "Imagina que estás supervisando dos plantas de producción, A y B, que fabrican el mismo producto. Quieres entender cómo varía la producción de cada planta y si hay alguna relación entre sus niveles de producción.\n",
    "![Planta](https://realestatemarket.com.mx/images/2022/07-julio/0507/cual-es-el-lugar-ideal-para-ubicar-tu-planta-de-produccion-g.jpg)\n",
    "\n",
    "- Para entender la varianza: Cada día, registras la cantidad de productos fabricados por cada planta. Si la planta A produce consistentemente alrededor de 100 unidades por día, pero algunos días produce 80 unidades y otros días 120 unidades, eso contribuirá a una mayor varianza en su producción diaria. Lo mismo se aplica a la planta B. La varianza te ayuda a entender cuán dispersos están los niveles de producción en comparación con su producción promedio.\n",
    "\n",
    "- Para entender la covarianza: Ahora, quieres saber si la producción de ambas plantas está relacionada entre sí. Si un día la planta A produce más de lo habitual, ¿la planta B también produce más o menos? La covarianza te dirá si, en promedio, cuando la producción de una planta se desvía de su norma, ¿tiende a hacer lo mismo la otra planta? Una covarianza positiva alta indicaría que cuando una planta produce más de lo usual, también lo hace la otra planta, y viceversa. Una covarianza negativa sugeriría que cuando una planta produce más, la otra produce menos, y viceversa.\n",
    "\n",
    "Entonces, en este ejemplo, la varianza te ayuda a entender cuán dispersa está la producción de cada planta en comparación con su producción promedio, mientras que la covarianza te dice si la producción de ambas plantas está relacionada entre sí y en qué medida.\n",
    "\n",
    "**Ejemplo didáctico 2**\n",
    "\n",
    "La varianza en las acciones en bolsa:\n",
    "\n",
    "![Planta](https://encrypted-tbn0.gstatic.com/images?q=tbn:ANd9GcSGC3S6KofB8QCyqw0cxjV8w4BhZ368ZHdBdMo2gM31MQ&s)\n",
    "\n",
    "****\n",
    "\n",
    "**Varianza**\n",
    "\n",
    "La varianza es una medida estadística que describe cuánto varían los valores de un conjunto de datos en relación con su media. En otras palabras, la varianza nos indica qué tan dispersos están los datos alrededor de su promedio. Una varianza alta indica que los datos están muy dispersos, mientras que una varianza baja indica que los datos están más agrupados alrededor de la media.\n",
    "\n",
    "La fórmula para calcular la varianza de un conjunto de datos es la siguiente:\n",
    "\n",
    "$$\\text{Var}=\\text{Varianza} = \\sigma^{2} = \\frac{1}{n} \\sum_{i=1}^{n} (x_i - \\mu)^2$$\n",
    "\n",
    "Donde:\n",
    "- $n$ es el número total de observaciones en el conjunto de datos.\n",
    "- $x_i$ son los valores individuales en el conjunto de datos.\n",
    "- $\\mu$ es el valor promedio de todos los valores en el conjunto de datos.\n",
    "\n",
    "Para calcular la varianza, seguimos estos pasos:\n",
    "\n",
    "1. Calculamos el promedio de los datos $(\\mu)$.\n",
    "2. Restamos cada valor individual $(x_i)$ del promedio $(\\mu)$.\n",
    "3. Elevamos al cuadrado cada diferencia obtenida en el paso anterior.\n",
    "4. Sumamos todas estas diferencias al cuadrado.\n",
    "5. Dividimos la suma resultante por el número total de observaciones $(n)$.\n",
    "\n",
    "Este proceso nos da una medida cuantitativa de la dispersión de los datos con respecto a su promedio. Cuanto mayor sea el valor de la varianza, mayor será la dispersión de los datos.\n",
    "\n",
    "****\n",
    "\n",
    "**Varianza muestral**\n",
    "\n",
    "La varianza muestral es una estimación de la varianza de una población basada en una muestra de esa población. Se diferencia de la varianza poblacional en la forma en que se calcula el promedio. Mientras que en la varianza poblacional se usa el promedio de toda la población $(\\mu)$, en la varianza muestral se utiliza el promedio de la muestra $(\\bar{x})$.\n",
    "\n",
    "La fórmula para calcular la varianza muestral es:\n",
    "\n",
    "$$s^2 = \\frac{1}{n-1} \\sum_{i=1}^{n} (x_i - \\bar{x})^2$$\n",
    "\n",
    "Donde:\n",
    "- $n$ es el número total de observaciones en la muestra.\n",
    "- $x_i$ son los valores individuales en la muestra.\n",
    "- $\\bar{x}$ es el valor promedio de todos los valores en la muestra.\n",
    "\n",
    "Al igual que en el caso de la varianza poblacional, seguimos estos pasos para calcular la varianza muestral:\n",
    "\n",
    "1. Calculamos el promedio de la muestra $(\\bar{x})$.\n",
    "2. Restamos cada valor individual $(x_i)$ del promedio $(\\bar{x})$.\n",
    "3. Elevamos al cuadrado cada diferencia obtenida en el paso anterior.\n",
    "4. Sumamos todas estas diferencias al cuadrado.\n",
    "5. Dividimos la suma resultante por el número total de observaciones menos uno $(n-1)$. Esta corrección se realiza para compensar la subestimación que se produce al estimar la varianza de la población a partir de una muestra.\n",
    "\n",
    "La varianza muestral se utiliza comúnmente en estadística inferencial para estimar la variabilidad en una población a partir de una muestra.\n",
    "\n",
    "****\n",
    "\n",
    "**Covarianza**\n",
    "\n",
    "La covarianza poblacional entre dos variables se denota como $ \\sigma_{XY} $. Es una medida estadística que describe la relación lineal entre dos variables en toda una población. Al igual que la covarianza muestral, la covarianza poblacional indica si las dos variables tienden a aumentar o disminuir juntas (covarianza positiva), o si una variable tiende a aumentar cuando la otra disminuye (covarianza negativa). Una covarianza cercana a cero indica una relación débil o nula entre las variables.\n",
    "\n",
    "La fórmula para calcular la covarianza poblacional entre dos variables $X$ e $Y$ en una población es:\n",
    "\n",
    "$$\\text{Cov}=\\sigma_{XY} = \\frac{1}{N} \\sum_{i=1}^{N} (X_i - \\mu_X)(Y_i - \\mu_Y)$$\n",
    "\n",
    "\n",
    "Donde:\n",
    "- $ N $ es el tamaño total de la población.\n",
    "- $ X_i $ y $ Y_i $ son los valores individuales de las variables $X$ e $Y$, respectivamente.\n",
    "- $ \\mu_X $ y $ \\mu_Y $ son las medias de las variables $X$ e $Y$ en la población, respectivamente.\n",
    "\n",
    "Pasas para calcular la covarianza poblacional:\n",
    "\n",
    "1. Calcular las medias de las dos variables. Sea $ \\mu_X $ la media de la variable $X$ y $ \\mu_Y $ la media de la variable $Y$.\n",
    "2. Restar cada valor individual de la variable $X$ $(X_i)$ por su media $( \\mu_X )$ y cada valor individual de la variable $Y$ $(Y_i)$ por su media $( \\mu_Y )$.\n",
    "3. Multiplicar los resultados obtenidos en el paso anterior para cada par de valores (uno de $X$ y otro de $Y$).\n",
    "4. Sumar todos los resultados obtenidos en el paso anterior.\n",
    "5. Dividir la suma resultante por el tamaño total de la población ($N$), donde $N$ es el número total de pares de observaciones $(X, Y)$.\n",
    "\n",
    "\n",
    "\n",
    "La covarianza poblacional es una medida fundamental en estadística para comprender la relación entre dos variables en una población. Sin embargo, al igual que con la covarianza muestral, es importante interpretarla junto con otras medidas y considerar su contexto para comprender completamente la relación entre las variables en estudio.\n",
    "\n",
    "****\n",
    "\n",
    "**Covarianza muestral**\n",
    "\n",
    "El símbolo utilizado para representar la covarianza entre dos variables es $ \\text{cov}(X, Y) $. La covarianza es una medida estadística que indica la relación lineal entre dos variables. Si la covarianza es positiva, significa que las dos variables tienden a aumentar o disminuir juntas. Si es negativa, significa que una variable tiende a aumentar cuando la otra disminuye. Una covarianza cercana a cero indica que no hay una relación lineal clara entre las variables.\n",
    "\n",
    "La fórmula para calcular la covarianza entre dos variables $X$ e $Y$ en una muestra de datos es:\n",
    "\n",
    "$$S_{xy}=\\text{Cov}(X, Y) = \\frac{1}{n-1} \\sum_{i=1}^{n} (X_i - \\bar{X})(Y_i - \\bar{Y})$$\n",
    "\n",
    "Donde:\n",
    "- $ n $ es el número total de observaciones en la muestra.\n",
    "- $ X_i $ y $ Y_i $ son los valores individuales de las variables $X$ e $Y$, respectivamente.\n",
    "- $ \\bar{X} $ y $ \\bar{Y} $ son los promedios de las variables $X$ e $Y$, respectivamente.\n",
    "\n",
    "\n",
    "Pasos para calcular la covarianza poblacional:\n",
    "\n",
    "1. Calcular las medias de las dos variables. Sea $ \\bar{x} $ la media de la variable $X$ y $ \\bar{y} $ la media de la variable $Y$.\n",
    "2. Restar cada valor individual de la variable $X$ $(x_i)$ por su media $( \\bar{x} )$ y cada valor individual de la variable $Y$ $(y_i)$ por su media $( \\bar{y} )$.\n",
    "3. Multiplicar los resultados obtenidos en el paso anterior para cada par de valores (uno de $X$ y otro de $Y$).\n",
    "4. Sumar todos los resultados obtenidos en el paso anterior.\n",
    "5. Dividir la suma resultante por el tamaño de la muestra menos uno $(n-1)$, donde $n$ es el tamaño de la muestra.\n",
    "\n",
    "\n",
    "La covarianza es una medida importante en estadística y análisis de datos, ya que ayuda a comprender cómo se relacionan dos variables entre sí. Sin embargo, la covarianza tiene limitaciones, como su sensibilidad a la escala de las variables, por lo que a menudo se utiliza en combinación con otras medidas, como la correlación, para obtener una comprensión más completa de la relación entre las variables.\n",
    "****\n",
    "\n",
    "\n"
   ]
  },
  {
   "cell_type": "markdown",
   "metadata": {
    "id": "LfT6IuG3ExwJ"
   },
   "source": [
    "**Matriz de covarianza**\n",
    "\n",
    "Una matriz de covarianza es una matriz simétrica que muestra las covarianzas entre pares de variables en un conjunto de datos multivariados. Si tienes $n$ variables en tu conjunto de datos, la matriz de covarianza será una matriz $n \\times n$.\n",
    "\n",
    "En una matriz de covarianza, cada elemento $i, j$ representa la covarianza entre la variable $i$ y la variable $j$. Si la variable $i$ es la misma que la variable $j$, entonces el elemento de la matriz será la varianza de esa variable. La covarianza entre dos variables distintas $i$ y $j$ se encuentra en el elemento de la matriz correspondiente a la fila $i$ y la columna $j$, y también en el elemento de la matriz correspondiente a la fila $j$ y la columna $i$, debido a que la matriz de covarianza es simétrica.\n",
    "\n",
    "Por ejemplo, si tienes tres variables $X$, $Y$ y $Z$, la matriz de covarianza se vería así:\n",
    "\n",
    "$$\\begin{bmatrix}\n",
    "\\text{Var}(X) & \\text{Cov}(X, Y) & \\text{Cov}(X, Z) \\\\\n",
    "\\text{Cov}(Y, X) & \\text{Var}(Y) & \\text{Cov}(Y, Z) \\\\\n",
    "\\text{Cov}(Z, X) & \\text{Cov}(Z, Y) & \\text{Var}(Z)\n",
    "\\end{bmatrix}$$\n",
    "\n",
    "Donde:\n",
    "- $\\text{Var}(X)$, $\\text{Var}(Y)$ y $\\text{Var}(Z)$ son las varianzas de las variables $X$, $Y$ y $Z$ respectivamente.\n",
    "- $\\text{Cov}(X, Y)$, $\\text{Cov}(X, Z)$ y $\\text{Cov}(Y, Z)$ son las covarianzas entre las variables $X$ y $Y$, entre $X$ y $Z$ y entre $Y$ y $Z$ respectivamente.\n",
    "\n",
    "Esta matriz proporciona una visión completa de cómo se relacionan entre sí todas las variables en el conjunto de datos, lo que es útil para comprender la estructura de la información y para realizar análisis multivariados.\n",
    "****"
   ]
  },
  {
   "cell_type": "markdown",
   "metadata": {
    "id": "Oyk_6vAOELSg"
   },
   "source": [
    "\n",
    "**Cálculo de la covarianza en forma matricial**\n",
    "\n",
    "La fórmula matricial para calcular la matriz de covarianza es la siguiente:\n",
    "\n",
    "$$\\mathbf{\\Sigma} = \\frac{1}{n-1} \\cdot (\\mathbf{X} - \\bar{\\mathbf{X}})^T \\cdot (\\mathbf{X} - \\bar{\\mathbf{X}})$$\n",
    "\n",
    "Donde:\n",
    "- $\\mathbf{\\Sigma}$ es la matriz de covarianza.\n",
    "- $n$ es el número de observaciones.\n",
    "- $\\mathbf{X}$ es una matriz donde cada fila representa una observación y cada columna representa una variable.\n",
    "- $\\bar{\\mathbf{X}}$ es un vector columna que contiene las medias de cada variable.\n",
    "- $(\\mathbf{X} - \\bar{\\mathbf{X}})^T$ denota la matriz transpuesta de la diferencia entre cada observación y su respectiva media.\n",
    "- $^T$ denota la transposición de una matriz.\n",
    "\n",
    "Esta fórmula calcula la covarianza de las variables en el conjunto de datos representado por la matriz $X$. La matriz resultante $\\Sigma$ será una matriz cuadrada de tamaño $p \\times p$, donde $p$ es el número de variables en el conjunto de datos.\n",
    "\n",
    "Es importante notar que este cálculo asume que las observaciones están organizadas en filas y las variables en columnas de la matriz $X$.\n",
    "****"
   ]
  },
  {
   "cell_type": "markdown",
   "metadata": {
    "id": "lgje6uPs-F8R"
   },
   "source": [
    "**Actividad**\n",
    "\n",
    "Describe en tus propias palabras que es la matriz de covarianza."
   ]
  },
  {
   "cell_type": "markdown",
   "metadata": {
    "id": "45RjJkh1IELP"
   },
   "source": [
    "**Ejemplo con python**"
   ]
  },
  {
   "cell_type": "code",
   "execution_count": null,
   "metadata": {
    "id": "1TTo_e8OIOBB"
   },
   "outputs": [],
   "source": [
    "import numpy as np\n",
    "np.random.seed(0)\n",
    "data = np.random.randint(100, size=(8, 4))\n",
    "data"
   ]
  },
  {
   "cell_type": "markdown",
   "metadata": {
    "id": "MYXp5MIJXzT5"
   },
   "source": [
    "Siguiendo esta ecuación, obtendremos la matriz de covarianza con python.\n",
    "$$\\mathbf{\\Sigma} = \\frac{1}{n-1} \\cdot (\\mathbf{X} - \\bar{\\mathbf{X}})^T \\cdot (\\mathbf{X} - \\bar{\\mathbf{X}})$$\n"
   ]
  },
  {
   "cell_type": "code",
   "execution_count": null,
   "metadata": {
    "id": "nPO8pbXVXyGw"
   },
   "outputs": [],
   "source": [
    "mean = data.mean(axis=0) # Calculamos las medias sobre las columnas, porque consideramso que esas son las variables.\n",
    "mean.shape"
   ]
  },
  {
   "cell_type": "code",
   "execution_count": null,
   "metadata": {
    "id": "qMFQDvAOYNDa"
   },
   "outputs": [],
   "source": [
    "np.set_printoptions(precision=2, suppress=True)\n",
    "\n",
    "X_0 = data - mean\n",
    "\n",
    "print(f\"Datos originales:\\n{data}\")\n",
    "print(f\"Medias:\\n{mean}\")\n",
    "\n",
    "# Imprimir X_0 de manera más legible\n",
    "print(f\"Resultado:\\n{X_0}\")\n"
   ]
  },
  {
   "cell_type": "code",
   "execution_count": null,
   "metadata": {
    "id": "9iIvc4vPZ6p6"
   },
   "outputs": [],
   "source": [
    "print(f\"Dimensiones de la matriz: {data.shape[0]} x {data.shape[1]}.\")\n",
    "n = data.shape[0]"
   ]
  },
  {
   "cell_type": "markdown",
   "metadata": {
    "id": "H7tBCFT34jdH"
   },
   "source": [
    "$$\\mathbf{\\Sigma} = \\frac{1}{n-1} \\cdot (\\mathbf{X} - \\bar{\\mathbf{X}})^T \\cdot (\\mathbf{X} - \\bar{\\mathbf{X}})$$"
   ]
  },
  {
   "cell_type": "code",
   "execution_count": null,
   "metadata": {
    "id": "H796_YvOayQP"
   },
   "outputs": [],
   "source": [
    "Sigma = 1/(n-1)*(X_0.T @ X_0)"
   ]
  },
  {
   "cell_type": "code",
   "execution_count": null,
   "metadata": {
    "id": "HEB8sZKwa8Ty"
   },
   "outputs": [],
   "source": [
    "print(f\"Matriz de covarianza:\\n{Sigma}\")"
   ]
  },
  {
   "cell_type": "code",
   "execution_count": null,
   "metadata": {
    "id": "df-Gm63uTcIV"
   },
   "outputs": [],
   "source": [
    "print(f\"Dimensiones de la matriz: {Sigma.shape}\")"
   ]
  },
  {
   "cell_type": "markdown",
   "metadata": {
    "id": "UCtGnj2ET2yg"
   },
   "source": [
    "**Matriz de covarianza con numpy**\n",
    "\n",
    "* Utilizando: `numpy.cov`.\n"
   ]
  },
  {
   "cell_type": "code",
   "execution_count": null,
   "metadata": {
    "id": "U8YC3aQfUCYv"
   },
   "outputs": [],
   "source": [
    "cov = np.cov(m=data, rowvar=False) # rowvar esta en falso para no usar las filas como variables.\n",
    "print(cov)"
   ]
  },
  {
   "cell_type": "markdown",
   "metadata": {
    "id": "ims4D2CVcD9z"
   },
   "source": [
    "Comparamos los dos métodos con los que se obtuvo la matriz de covarianza."
   ]
  },
  {
   "cell_type": "code",
   "execution_count": null,
   "metadata": {
    "id": "0vue4g5zb3kj"
   },
   "outputs": [],
   "source": [
    "print(\"comparación de las matrices\")\n",
    "print(\"Sigma == cov\")\n",
    "print(Sigma == cov)"
   ]
  },
  {
   "cell_type": "markdown",
   "metadata": {
    "id": "u0bI2tVXcZUs"
   },
   "source": [
    "Comprobamos que sea simetrica."
   ]
  },
  {
   "cell_type": "code",
   "execution_count": null,
   "metadata": {
    "id": "3HccPV0ccc5u"
   },
   "outputs": [],
   "source": [
    "print(\"Comprobamos que sea simetrica.\")\n",
    "print(\"Sigma.T == Sigma\")\n",
    "print(Sigma.T == Sigma)"
   ]
  },
  {
   "cell_type": "markdown",
   "metadata": {
    "id": "F-Y3sm8XIA5n"
   },
   "source": [
    "**Ejemplo con python (datos reales)**\n",
    "\n",
    "**Dataset:**\n",
    "\n",
    "\n",
    "El conjunto de datos de precios de vivienda proporciona una colección integral de listados de propiedades, que abarcan varios atributos como el número de dormitorios, baños, tamaño del área de estar, tamaño del lote y detalles de ubicación. Este conjunto de datos es invaluable para una amplia gama de análisis de datos y aplicaciones de aprendizaje automático. Por ejemplo, puede utilizarse en modelado predictivo para pronosticar precios de propiedades basados en características como ubicación, comodidades y condición. Además, puede ayudar a identificar tendencias y patrones en el mercado inmobiliario, asistiendo a inversores, agentes inmobiliarios y responsables de políticas en la toma de decisiones informadas. Además, el conjunto de datos puede servir como base para el desarrollo de sistemas de recomendación para compradores de vivienda, guiándolos hacia propiedades que se alineen con sus preferencias y requisitos. En general, el conjunto de datos de precios de vivienda ofrece una gran cantidad de información y oportunidades para aprovechar enfoques basados en datos para comprender y navegar efectivamente en el mercado de la vivienda.\n",
    "\n",
    "Ahora describiré cada columna del conjunto de datos proporcionado:\n",
    "\n",
    "1. **id**: Identificador único para cada entrada en el conjunto de datos.\n",
    "2. **date**: Fecha en la que se registró la transacción de la propiedad.\n",
    "3. **price**: Precio de la propiedad en dólares.\n",
    "4. **bedrooms**: Número de dormitorios en la propiedad.\n",
    "5. **bathrooms**: Número de baños en la propiedad.\n",
    "6. **sqft_living**: Área en pies cuadrados de la zona habitable de la propiedad.\n",
    "7. **sqft_lot**: Área en pies cuadrados del lote de la propiedad.\n",
    "8. **floors**: Número de pisos en la propiedad.\n",
    "9. **waterfront**: Indicador binario (0 o 1) que indica si la propiedad tiene vista al mar.\n",
    "10. **view**: Índice de calificación de la vista de la propiedad.\n",
    "11. **condition**: Índice de calificación de la condición de la propiedad.\n",
    "12. **grade**: Índice de calificación general de la calidad de la construcción y el diseño de la propiedad.\n",
    "13. **sqft_above**: Área en pies cuadrados sobre el nivel del suelo.\n",
    "14. **sqft_basement**: Área en pies cuadrados del sótano de la propiedad.\n",
    "15. **yr_built**: Año de construcción de la propiedad.\n",
    "16. **yr_renovated**: Año de renovación de la propiedad.\n",
    "17. **zipcode**: Código postal de la ubicación de la propiedad.\n",
    "18. **lat**: Latitud de la ubicación de la propiedad.\n",
    "19. **long**: Longitud de la ubicación de la propiedad.\n",
    "20. **sqft_living15**: Área en pies cuadrados de la zona habitable promedio de las 15 propiedades más cercanas.\n",
    "21. **sqft_lot15**: Área en pies cuadrados del lote promedio de las 15 propiedades más cercanas.\n"
   ]
  },
  {
   "cell_type": "code",
   "execution_count": null,
   "metadata": {
    "id": "jQe4SUKQzHs8"
   },
   "outputs": [],
   "source": [
    "import pandas as pd\n",
    "\n",
    "df = pd.read_csv('Housing.csv')\n",
    "\n",
    "df.head()"
   ]
  },
  {
   "cell_type": "markdown",
   "metadata": {
    "id": "XJ4MfsHGdC_3"
   },
   "source": [
    "Variables que utilizaremos.\n",
    "\n",
    "\n",
    "- **price**: Precio de la propiedad en dólares.\n",
    "- **bedrooms**: Número de dormitorios en la propiedad.\n",
    "- **bathrooms**: Número de baños en la propiedad.\n",
    "- **sqft_living**: Área en pies cuadrados de la zona habitable de la propiedad.\n",
    "- **sqft_lot**: Área en pies cuadrados del lote de la propiedad.\n",
    "- **floors**: Número de pisos en la propiedad.\n",
    "- **view**: Índice de calificación de la vista de la propiedad.\n",
    "- **condition**: Índice de calificación de la condición de la propiedad.\n",
    "- **grade**: Índice de calificación general de la calidad de la construcción y el diseño de la propiedad.\n",
    "- **sqft_above**: Área en pies cuadrados sobre el nivel del suelo.\n",
    "- **sqft_basement**: Área en pies cuadrados del sótano de la propiedad.\n",
    "- **yr_built**: Año de construcción de la propiedad.\n",
    "- **yr_renovated**: Año de renovación de la propiedad.\n",
    "- **sqft_living15**: Área en pies cuadrados de la zona habitable promedio de las 15 propiedades más cercanas.\n",
    "- **sqft_lot15**: Área en pies cuadrados del lote promedio de las 15 propiedades más cercanas.\n"
   ]
  },
  {
   "cell_type": "code",
   "execution_count": null,
   "metadata": {
    "id": "sdZQ98EtdBsQ"
   },
   "outputs": [],
   "source": [
    "columns = [\n",
    "    'price',\n",
    "    'bedrooms',\n",
    "    'bathrooms',\n",
    "    'sqft_living',\n",
    "    'sqft_lot',\n",
    "    'floors',\n",
    "    'view',\n",
    "    'condition',\n",
    "    'grade',\n",
    "    'yr_built',\n",
    "    'yr_renovated',\n",
    "    'sqft_above',\n",
    "    'sqft_basement',\n",
    "    'sqft_living15',\n",
    "    'sqft_lot15'\n",
    "    ]"
   ]
  },
  {
   "cell_type": "markdown",
   "metadata": {
    "id": "hChosYgRhQaB"
   },
   "source": [
    "Como tenemos variables en diferentes medidas y escalas, aplicamos el logaritmo para poder compara las variables entre si."
   ]
  },
  {
   "cell_type": "code",
   "execution_count": null,
   "metadata": {
    "id": "5tu7IpaLeJAT"
   },
   "outputs": [],
   "source": [
    "data = np.log(df[columns]+1)\n",
    "data.head()"
   ]
  },
  {
   "cell_type": "markdown",
   "metadata": {
    "id": "daxD1EokeWBj"
   },
   "source": [
    "Revisamos los datos"
   ]
  },
  {
   "cell_type": "code",
   "execution_count": null,
   "metadata": {
    "id": "yqf22r0VeXfp"
   },
   "outputs": [],
   "source": [
    "data.info()"
   ]
  },
  {
   "cell_type": "code",
   "execution_count": null,
   "metadata": {
    "id": "_OI6FCL3eVk1"
   },
   "outputs": [],
   "source": [
    "cov_data = data.cov()"
   ]
  },
  {
   "cell_type": "code",
   "execution_count": null,
   "metadata": {
    "id": "1Xo5ZA6refxW"
   },
   "outputs": [],
   "source": [
    "cov_data"
   ]
  },
  {
   "cell_type": "markdown",
   "metadata": {
    "id": "fctQ0WRDerkU"
   },
   "source": [
    "Creamos un mapa de gradientes o mapa de calor."
   ]
  },
  {
   "cell_type": "code",
   "execution_count": null,
   "metadata": {
    "id": "SunsJZLoe44p"
   },
   "outputs": [],
   "source": [
    "triu = np.triu(cov_data.values) # Cramos mascara.\n"
   ]
  },
  {
   "cell_type": "code",
   "execution_count": null,
   "metadata": {
    "id": "QmXkTB3CeyDI"
   },
   "outputs": [],
   "source": [
    "import seaborn as sns\n",
    "\n",
    "fig, ax = plt.subplots(nrows=1, ncols=1, figsize=(10, 10))\n",
    "\n",
    "sns.heatmap(\n",
    "    cov_data,\n",
    "    annot     = True,\n",
    "    cbar      = True,\n",
    "    annot_kws = {\"size\": 6},\n",
    "    # vmin      = -1,\n",
    "    # vmax      = 1,\n",
    "    center    = 0,\n",
    "    cmap      = sns.color_palette(\"mako\", as_cmap=True),\n",
    "    square    = True,\n",
    "    ax        = ax,\n",
    "    mask      = triu, # añado la matriz\n",
    ")\n",
    "\n",
    "ax.set_xticklabels(\n",
    "    ax.get_xticklabels(),\n",
    "    rotation = 45,\n",
    "    horizontalalignment = 'right',\n",
    ")\n",
    "\n",
    "ax.tick_params(labelsize = 10)"
   ]
  },
  {
   "cell_type": "markdown",
   "metadata": {
    "id": "SUGYepXaiWBO"
   },
   "source": [
    "Variables que utilizaremos.\n",
    "\n",
    "\n",
    "- **price**: Precio de la propiedad en dólares.\n",
    "- **bedrooms**: Número de dormitorios en la propiedad.\n",
    "- **bathrooms**: Número de baños en la propiedad.\n",
    "- **sqft_living**: Área en pies cuadrados de la zona habitable de la propiedad.\n",
    "- **sqft_lot**: Área en pies cuadrados del lote de la propiedad.\n",
    "- **floors**: Número de pisos en la propiedad.\n",
    "- **view**: Índice de calificación de la vista de la propiedad.\n",
    "- **condition**: Índice de calificación de la condición de la propiedad.\n",
    "- **grade**: Índice de calificación general de la calidad de la construcción y el diseño de la propiedad.\n",
    "- **sqft_above**: Área en pies cuadrados sobre el nivel del suelo.\n",
    "- **sqft_basement**: Área en pies cuadrados del sótano de la propiedad.\n",
    "- **yr_built**: Año de construcción de la propiedad.\n",
    "- **yr_renovated**: Año de renovación de la propiedad.\n",
    "- **sqft_living15**: Área en pies cuadrados de la zona habitable promedio de las 15 propiedades más cercanas.\n",
    "- **sqft_lot15**: Área en pies cuadrados del lote promedio de las 15 propiedades más cercanas."
   ]
  },
  {
   "cell_type": "markdown",
   "metadata": {
    "id": "FDTRNXcFiybZ"
   },
   "source": [
    "#### Análisis de Componentes Principales.\n",
    "\n",
    "\n",
    "\n",
    "**Ejemplo didáctico 1**\n",
    "\n",
    "Imagina que estás en un museo de arte moderno, rodeado de pinturas abstractas. Cada pintura está compuesta por una variedad de formas, colores y texturas, creando una mezcla compleja que puede ser difícil de entender en su totalidad. Sin embargo, quieres encontrar una manera de simplificar estas obras para captar su esencia y comprender las relaciones entre ellas.\n",
    "\n",
    "El PCA en este contexto actuaría como un \"curador virtual\", ayudándote a identificar los elementos más importantes de cada obra de arte y cómo se relacionan entre sí. En lugar de centrarte en cada detalle individual, el PCA te mostraría las tendencias principales que subyacen en todas las pinturas, permitiéndote apreciar su diversidad y similitudes de una manera más clara y concisa.\n",
    "![Platillo de comida](https://www.cocinatis.com/archivos/202207/dieta-equilibrada-plato-completo-y-sano_large_16x9.jpg)\n",
    "\n",
    "**Ejemplo didáctico 2**\n",
    "\n",
    "magina que estás en un día soleado en un parque, y ves un árbol alto con ramas extendidas. Cuando el sol brilla desde una dirección específica, el árbol proyecta una sombra en el suelo. Esta sombra es una proyección bidimensional del árbol tridimensional, capturando su forma y estructura básica en una representación más simple.\n",
    "\n",
    "El PCA en este caso sería como encontrar la \"proyección principal\" de la sombra del árbol. Mientras que la sombra puede parecer compleja debido a las intersecciones de las ramas y la densidad de las hojas, el PCA te ayudaría a identificar las direcciones principales en las que se extiende la sombra y cómo estas se relacionan con la forma del árbol en sí. De esta manera, podrías entender mejor la estructura del árbol observando su sombra desde diferentes ángulos, lo que te proporcionaría información útil incluso cuando no puedes ver el árbol directamente.\n",
    "\n",
    "![Sombra de árbol](https://upload.wikimedia.org/wikipedia/commons/0/03/Eiche_bei_Graditz.jpg)\n",
    "\n",
    "\n",
    "****\n",
    "\n",
    "**El Análisis de Componentes Principales** (PCA por sus siglas en inglés) es una técnica poderosa en el campo de la estadística y el aprendizaje automático que se utiliza para simplificar conjuntos de datos complejos manteniendo la mayor cantidad posible de información importante. Para entenderlo mejor, imagina que tienes un conjunto de datos tridimensional que representa puntos en el espacio. Cada punto tiene coordenadas en tres dimensiones (digamos, x, y, z), lo que puede hacer que visualizar y analizar estos datos sea bastante complicado.\n",
    "\n",
    "Ahora, imagina que estos puntos representan diferentes tipos de frutas, y las coordenadas x, y, z corresponden a características como tamaño, peso y color. Quieres entender qué características son las más significativas para distinguir entre diferentes tipos de frutas.\n",
    "\n",
    "El PCA te permite reducir la complejidad de este conjunto de datos tridimensional al encontrar un nuevo conjunto de ejes, llamados componentes principales, que explican la mayor parte de la variabilidad en los datos. En lugar de mirar las coordenadas originales x, y, z, ahora puedes mirar estas nuevas direcciones que son una combinación lineal de las originales. Estos componentes principales están ordenados de manera que el primero explica la mayor cantidad de variabilidad en los datos, el segundo componente principal explica la segunda mayor cantidad, y así sucesivamente.\n",
    "\n",
    "Entonces, utilizando el ejemplo de las frutas, podrías descubrir que el primer componente principal está fuertemente relacionado con el tamaño de la fruta, el segundo componente principal está relacionado con el color, y el tercero podría estar relacionado con el peso. Esto te permite comprender qué características son las más importantes para distinguir entre diferentes tipos de frutas, incluso cuando el conjunto de datos original es complejo y multidimensional.\n",
    "\n",
    "****"
   ]
  },
  {
   "cell_type": "markdown",
   "metadata": {
    "id": "PSxHAjVjq4kR"
   },
   "source": [
    "**Análisis de componentes principales**\n",
    "\n",
    "La idea es tomar $p$ varialbes ($X_1, X_2, \\dots,X_p$), algunas de ellas podría estar correlacionadas entre sí. Una vez tomadas las variables, se busca una combinación lineal de estas para producir índices ($Z_1, Z_2, \\cdot, Z_p$), las cuales no están correlacioadas. En estas $Z_1$, tiene la mayor parte de varianza que reprenta las $p$ variables de $\\mathbf{X}$, seguido de $Z_2$, hasta $Z_p$, donde:\n",
    "$$Z_1 = v_{11} \\cdot X_1 + v_{21}\\cdot X_2 + \\dots + v_{p1}\\cdot X_{p}$$\n",
    "\n",
    "Para determinar $Z_1$ se usa el método de mínimos cuadrados, tratando de desminuir la desviación al cuadrado.\n",
    "\n",
    "$$\\sum_{j=1}^{p} \\sum_{i=n}^{n} (\\widehat{x}_{ij}-x_{ij})\n",
    "$$\n",
    "Donde:\n",
    "- $\\widehat{x}_{ij} = a_{j1}\\cdot Z_{i1}$\n",
    "- $Z_i1 = \\sum v_{j1} \\cdot x_{ij}$\n",
    "- $x_{ij}$ $i=1, \\dots , n$; $j=1, \\dots , p$\n",
    "\n",
    "Para solucionar este problema se calculan los vectores y valores propios.\n",
    "****\n",
    "**Algoritmo**\n",
    "\n",
    "\n",
    "1. **Estandarización de datos**: El primer paso en el PCA es estandarizar los datos para que tengan media cero y desviación estándar uno. Esto se hace para asegurar que todas las variables contribuyan de manera similar al análisis y para evitar que las variables con escalas más grandes dominen el proceso.\n",
    "\n",
    "2. **Cálculo de la matriz de covarianza**: Luego, se calcula la matriz de covarianza de los datos estandarizados.\n",
    "\n",
    "   $$\\mathbf{\\Sigma} = \\frac{1}{n-1} \\cdot (\\mathbf{X} - \\bar{\\mathbf{X}})^T \\cdot (\\mathbf{X} - \\bar{\\mathbf{X}})$$\n",
    "\n",
    "\n",
    "3. **Cálculo de los vectores propios y valores propios**: A continuación, se calculan los vectores propios y valores propios de la matriz de covarianza ($\\mathbf{\\Sigma}$). Los vectores propios son las direcciones de máxima varianza en los datos, y los valores propios representan la cantidad de varianza explicada por cada vector propio.\n",
    "\n",
    "   Si representamos la matriz de covarianza como $\\mathbf{\\Sigma}$, los vectores propios $\\mathbf{v}_i$ y los valores propios $\\lambda_i$ satisfacen la ecuación:\n",
    "   $$ \\mathbf{\\Sigma} \\mathbf{v}_i = \\lambda_i \\mathbf{v}_i $$\n",
    "\n",
    "4. **Selección de componentes principales**: Los vectores propios se ordenan según sus valores propios asociados en orden descendente. Los vectores propios con los valores propios más grandes explican la mayor cantidad de variabilidad en los datos y se seleccionan como los componentes principales.\n",
    "\n",
    "5. **Transformación de datos (reducciónde dimencionalidad)**: Finalmente, los datos se transforman al nuevo espacio de componentes principales. Si $\\mathbf{X}$ es la matriz de datos original y $\\mathbf{V}$ es la matriz cuyas columnas son los vectores propios seleccionados, la transformación se realiza multiplicando $\\mathbf{X}$ por $ \\mathbf{V}$:\n",
    "   $$ \\text{Datos transformados} = \\mathbf{X} \\cdot \\mathbf{V} $$\n",
    "\n",
    "6. **Interpretación de los componentes principales**: Cada componente principal encontrado en el PCA puede ser interpretado como una combinación lineal de las variables originales. Si $v_i$ es el $i$-ésimo valor propio (componente principal) y $\\mathbf{X}$ es la matriz de datos original estandarizada, entonces el $i$-ésimo componente principal se puede expresar como:\n",
    "   $$ \\text{Componente Principal}_i = X \\cdot v_i $$\n",
    "   Esta ecuación muestra que cada componente principal es una combinación lineal de las variables originales ponderadas por los elementos del valor propio correspondiente correspondiente. En otras palabras, el componente principal representa una nueva \"variable\" que maximiza la varianza en una dirección particular del espacio de características originales.\n"
   ]
  },
  {
   "cell_type": "markdown",
   "metadata": {
    "id": "fzrdk0nusEFK"
   },
   "source": [
    "****\n",
    "Nota:\n",
    "\n",
    "Los vectores propios en el contexto del PCA representan direcciones en el espacio de las variables originales que maximizan la varianza de los datos. Estos vectores propios se pueden interpretar de varias maneras, una de las cuales es como las direcciones a lo largo de las cuales se proyectan los datos para obtener los componentes principales.\n",
    "\n",
    "Para entender por qué los vectores propios pueden interpretarse como direcciones de proyección, consideremos la definición matemática de los vectores propios y la interpretación geométrica de la proyección de datos:\n",
    "\n",
    "1. **Definición de vectores propios**: Un vector propio $ \\mathbf{v} $ de una matriz $ \\mathbf{A}$ es un vector no nulo tal que cuando $\\mathbf{A}$ se aplica a $\\mathbf{v} $, el resultado es simplemente un múltiplo escalar de $ \\mathbf{v} $, es decir:\n",
    "$$ A \\mathbf{v} = \\lambda \\mathbf{v} $$\n",
    "Donde $ \\lambda $ es el valor propio asociado al vector propio $ \\mathbf{v} $.\n",
    "\n",
    "2. **Interpretación geométrica de la proyección de datos**: La proyección de datos es el proceso de representar puntos en un espacio de alta dimensión en un espacio de dimensiones más bajas. Por ejemplo, en el PCA, proyectamos los datos originales en el espacio definido por los componentes principales (vectores propios) para reducir la dimensionalidad.\n",
    "\n",
    "Dado que los vectores propios del PCA representan direcciones de máxima varianza en los datos, podemos interpretarlos como las direcciones a lo largo de las cuales los datos se proyectan para obtener los componentes principales. Esto significa que si proyectamos los datos originales sobre los vectores propios, obtenemos las coordenadas de los datos en el nuevo espacio definido por estos vectores propios, lo que resulta en los componentes principales. Por lo tanto, los vectores propios pueden interpretarse como las direcciones de proyección que transforman los datos originales en los componentes principales."
   ]
  },
  {
   "cell_type": "markdown",
   "metadata": {
    "id": "xo5SuLEkteyu"
   },
   "source": [
    "Hago ejemplos con Iris data set y con el de casas y si hay tiempo con el de carros."
   ]
  },
  {
   "cell_type": "markdown",
   "metadata": {
    "id": "nMPOrqB2N3YJ"
   },
   "source": [
    "**Dataset Iris Plant**\n",
    "\n",
    "El conjunto de datos Iris, comúnmente conocido como conjunto de datos Iris plant, es un conjunto de datos clásico en el campo del aprendizaje automático y la estadística. Fue introducido por Ronald Fisher en su artículo de 1936 \"The use of multiple measurements in taxonomic problems\" como un ejemplo de análisis discriminante lineal. El conjunto de datos consta de 150 muestras de flores Iris, con 50 muestras de cada una de las tres especies de Iris (Iris setosa, Iris virginica e Iris versicolor).\n",
    "\n",
    "Cada muestra de la flor Iris se describe mediante cuatro características: el largo y ancho del sépalo (las hojas verdes que rodean el área de la flor) y el largo y ancho del pétalo (las partes coloreadas de la flor). Estas características se utilizan para clasificar las muestras en una de las tres especies de Iris.\n",
    "\n",
    "El conjunto de datos Iris es ampliamente utilizado como ejemplo de problemas de clasificación en aprendizaje automático y es un punto de partida común para estudiantes y practicantes. Debido a su tamaño pequeño y su estructura simple, es ideal para probar algoritmos y técnicas de aprendizaje automático.\n",
    "\n",
    "En Python, el conjunto de datos Iris se puede cargar fácilmente utilizando bibliotecas como scikit-learn. Una vez cargado en un DataFrame de pandas, se puede utilizar para realizar análisis exploratorio de datos, entrenar modelos de aprendizaje automático y evaluar su rendimiento. Es un recurso valioso tanto para principiantes como para expertos en el campo."
   ]
  },
  {
   "cell_type": "code",
   "execution_count": null,
   "metadata": {
    "id": "__Idi0X-hgYS"
   },
   "outputs": [],
   "source": [
    "import pandas as pd\n",
    "from sklearn.datasets import load_iris\n",
    "\n",
    "# Cargar el conjunto de datos Iris\n",
    "iris_data = load_iris()\n",
    "\n",
    "# Convertir los datos en un DataFrame de pandas\n",
    "columns = [c.replace(' ', '_') for c in iris_data.feature_names]\n",
    "df = pd.DataFrame(data=iris_data.data, columns=columns)\n",
    "\n",
    "# Agregar la columna de especies al DataFrame\n",
    "df['species'] = iris_data.target\n",
    "\n",
    "# Mapear los números de especies a los nombres reales\n",
    "df['species'] = df['species'].map({0: 'setosa', 1: 'versicolor', 2: 'virginica'})\n",
    "\n",
    "# Mostrar las primeras filas del DataFrame\n",
    "df.head()\n"
   ]
  },
  {
   "cell_type": "markdown",
   "metadata": {
    "id": "OMgz_5uKM4oa"
   },
   "source": [
    "La **prueba KMO (Kaiser-Meyer-Olkin)** es una medida de adecuación muestral que se utiliza en análisis factorial y análisis de componentes principales en estadística. Su propósito principal es evaluar la idoneidad de los datos para estos tipos de análisis, determinando si es factible llevar a cabo un análisis factorial con un conjunto de datos específico. Aquí hay un desglose más detallado de su utilidad y cómo se interpreta:\n",
    "\n",
    "### Propósito de la Prueba KMO\n",
    "1. **Evaluar la adecuación de los datos**: La prueba KMO mide la proporción de la varianza en sus variables que podrían ser causadas por factores subyacentes comunes. En otras palabras, evalúa si las variables son lo suficientemente correlacionadas para que el análisis factorial sea significativo.\n",
    "   \n",
    "2. **Determinar la factibilidad del análisis factorial**: Si la prueba KMO indica un valor alto, es probable que el análisis factorial sea apropiado. Un valor bajo sugiere que el análisis factorial puede no ser adecuado para los datos.\n",
    "\n",
    "### Interpretación de los Valores KMO\n",
    "\n",
    "- $0.80 ≤ KMO ≤ 1$: \"*Buena adecuación*\" (Guadarrama, 2020).\n",
    "- $KMO < 0.60$: \"*Indica que el muestreo no es adecuado y que se deben tomar medidas correctivas. Algunos autores ponen este valor en $0.5$ , así que use su propio juicio para valores entre $0.5$ y $0.6$*\"(Guadarrama, 2020).\n",
    "\n",
    "\n",
    "### Cómo se Calcula la Prueba KMO\n",
    "La medida KMO se basa en el índice de anti-imagen de correlación, que compara la magnitud de los coeficientes de correlación observados con los coeficientes de correlación parcial. La fórmula general es:\n",
    "\n",
    "$$ KMO = \\frac{\\sum \\sum r_{ij}^2}{\\sum \\sum r_{ij}^2 + \\sum \\sum a_{ij}^2} $$\n",
    "\n",
    "Donde:\n",
    "- $ r_{ij} $ son los coeficientes de correlación entre las variables.\n",
    "- $ a_{ij} $ son los coeficientes de correlación parcial entre las variables.\n",
    "\n",
    "### Uso Práctico\n",
    "En la práctica, la prueba KMO se utiliza antes de realizar un análisis factorial para asegurar que las variables tienen correlaciones suficientes. Si el valor KMO es bajo, puede ser necesario reconsiderar la inclusión de algunas variables o transformar los datos para mejorar la adecuación muestral.\n",
    "\n",
    "En resumen, la prueba KMO es una herramienta vital para determinar si los datos son apropiados para análisis factoriales, asegurando así la validez y fiabilidad de los resultados obtenidos.\n",
    "\n",
    "\n",
    "**Actividad**\n",
    "Hay otra prueba que también se puede hacer, la prueba de Barlett, investigar al respecto e investigar como aplicarla con python."
   ]
  },
  {
   "cell_type": "markdown",
   "metadata": {
    "id": "3SCM9tvNPYej"
   },
   "source": [
    "Para realizar el análisis instalar una libreria.\n",
    "\n"
   ]
  },
  {
   "cell_type": "code",
   "execution_count": null,
   "metadata": {
    "id": "6GNTq0btPt80"
   },
   "outputs": [],
   "source": [
    "! pip install factor-analyzer\n"
   ]
  },
  {
   "cell_type": "code",
   "execution_count": null,
   "metadata": {
    "id": "aDSkUmTX9QZM"
   },
   "outputs": [],
   "source": [
    "df.head()"
   ]
  },
  {
   "cell_type": "code",
   "execution_count": null,
   "metadata": {
    "id": "XZgCqBuhPMKE"
   },
   "outputs": [],
   "source": [
    "import numpy as np\n",
    "# from factor_analyzer import calculate_kmo\n",
    "from sklearn.preprocessing import StandardScaler\n",
    "from sklearn.preprocessing import MinMaxScaler\n",
    "\n",
    "\n",
    "# Estandarizar los datos\n",
    "scaler = StandardScaler()\n",
    "scaled_data = scaler.fit_transform(df.iloc[:,:-1])\n",
    "\n",
    "# # Calcular la medida KMO\n",
    "# kmo_all, kmo_model = calculate_kmo(scaled_data)\n",
    "\n",
    "# # Mostrar resultados\n",
    "# print(\"Medidas KMO individuales para cada variable:\")\n",
    "# print(kmo_all)\n",
    "\n",
    "# print(\"\\nMedida KMO del modelo:\")\n",
    "# print(kmo_model)"
   ]
  },
  {
   "cell_type": "code",
   "execution_count": null,
   "metadata": {
    "id": "Od0YCJCjSOBG"
   },
   "outputs": [],
   "source": [
    "np.max(scaled_data), np.min(scaled_data)"
   ]
  },
  {
   "cell_type": "markdown",
   "metadata": {
    "id": "kY3KuyRBUQs7"
   },
   "source": [
    "En este el KMO es bajo, no obstante en la mayoría de los artículos y ejemplos que hay en la literatura y la web utilizan el conjunto de datos dataset para enseñar PCA, si bien esto no es la mejor justificación, se utilizara Iris Dataset para aprender a aplicar PCA."
   ]
  },
  {
   "cell_type": "code",
   "execution_count": null,
   "metadata": {
    "id": "qmqy_88VVCgQ"
   },
   "outputs": [],
   "source": [
    "df_scaled = pd.DataFrame(data=scaled_data, columns=columns)\n",
    "# Agregar la columna de especies al DataFrame\n",
    "df_scaled['species'] = iris_data.target\n",
    "\n",
    "# Mapear los números de especies a los nombres reales\n",
    "df_scaled['species'] = df_scaled['species'].map({0: 'setosa', 1: 'versicolor', 2: 'virginica'})\n",
    "df_scaled.head()"
   ]
  },
  {
   "cell_type": "code",
   "execution_count": null,
   "metadata": {
    "id": "SWasd0GUUliO"
   },
   "outputs": [],
   "source": [
    "# Seleccionamos el número de componentes que queremos utilizar (por el momento.)\n",
    "n_componentes = 2\n",
    "# mean = np.mean(scaled_data, axis=0)\n",
    "cov = np.cov(m=scaled_data, rowvar=False) # rowvar esta en falso para no usar las filas como variables.\n",
    "\n",
    "eigenvalues, eigenvectors = np.linalg.eig(cov) # Obtener los vectores propios y valores propios"
   ]
  },
  {
   "cell_type": "code",
   "execution_count": null,
   "metadata": {
    "id": "nVMxFUxsXuBb"
   },
   "outputs": [],
   "source": [
    "mean = np.mean(scaled_data, axis=0)\n",
    "mean.shape"
   ]
  },
  {
   "cell_type": "code",
   "execution_count": null,
   "metadata": {
    "id": "ZZMv_AVMWhMK"
   },
   "outputs": [],
   "source": [
    "eigenvalues.shape, eigenvectors.shape"
   ]
  },
  {
   "cell_type": "code",
   "execution_count": null,
   "metadata": {
    "id": "RYhSwiknXMXU"
   },
   "outputs": [],
   "source": [
    "eigenvalues"
   ]
  },
  {
   "cell_type": "code",
   "execution_count": null,
   "metadata": {
    "id": "0NnQ22hqWm0D"
   },
   "outputs": [],
   "source": [
    "idx = np.argsort(eigenvalues)\n",
    "print(idx)\n",
    "idx = idx[::-1] # Invertimos la lista\n",
    "print(idx)"
   ]
  },
  {
   "cell_type": "code",
   "execution_count": null,
   "metadata": {
    "id": "pdXFJ0eGWeV7"
   },
   "outputs": [],
   "source": [
    "eigenvectors = eigenvectors"
   ]
  },
  {
   "cell_type": "code",
   "execution_count": null,
   "metadata": {
    "id": "ay8RZ5PNYKXd"
   },
   "outputs": [],
   "source": [
    "eigenvectors = eigenvectors[idx].T\n",
    "eigenvectors"
   ]
  },
  {
   "cell_type": "code",
   "execution_count": null,
   "metadata": {
    "id": "YSC4USrX-Fre"
   },
   "outputs": [],
   "source": [
    "eigenvalues / eigenvalues.sum()"
   ]
  },
  {
   "cell_type": "code",
   "execution_count": null,
   "metadata": {
    "id": "4LRNh1Z9YUq1"
   },
   "outputs": [],
   "source": [
    "# Seleccionamos el número de componentes\n",
    "componentes = eigenvectors[:n_componentes]"
   ]
  },
  {
   "cell_type": "code",
   "execution_count": null,
   "metadata": {
    "id": "VbUIjZVqs-K8"
   },
   "outputs": [],
   "source": [
    "scaled_data.shape"
   ]
  },
  {
   "cell_type": "code",
   "execution_count": null,
   "metadata": {
    "id": "_-in5meGZKne"
   },
   "outputs": [],
   "source": [
    "componentes.shape"
   ]
  },
  {
   "cell_type": "code",
   "execution_count": null,
   "metadata": {
    "id": "NsGzzTeSYbu1"
   },
   "outputs": [],
   "source": [
    "def transform(X):\n",
    "  return X @ componentes.T"
   ]
  },
  {
   "cell_type": "code",
   "execution_count": null,
   "metadata": {
    "id": "J2dgngbLYjmm"
   },
   "outputs": [],
   "source": [
    "pc = transform(scaled_data)"
   ]
  },
  {
   "cell_type": "code",
   "execution_count": null,
   "metadata": {
    "id": "8NAzasJWZTfr"
   },
   "outputs": [],
   "source": [
    "pc.shape"
   ]
  },
  {
   "cell_type": "markdown",
   "metadata": {
    "id": "hSlfVsWthwsz"
   },
   "source": [
    "Matriz transpuesta de eigenvectors (componentes).\n",
    "En este caso solu usaremos los dos primeros componentes.\n"
   ]
  },
  {
   "cell_type": "code",
   "execution_count": null,
   "metadata": {
    "id": "BbXj3OhuiEQS"
   },
   "outputs": [],
   "source": [
    "print(columns)"
   ]
  },
  {
   "cell_type": "markdown",
   "metadata": {
    "id": "GDTU8xAbiZCa"
   },
   "source": [
    "Creamos DataFrame con PCA"
   ]
  },
  {
   "cell_type": "code",
   "execution_count": null,
   "metadata": {
    "id": "OCcAj2BDizCs"
   },
   "outputs": [],
   "source": [
    "componentes.shape"
   ]
  },
  {
   "cell_type": "code",
   "execution_count": null,
   "metadata": {
    "id": "qynQnEpjiU2j"
   },
   "outputs": [],
   "source": [
    "df_pca = pd.DataFrame(data=componentes, index=['PC1', 'PC2'], columns=columns)"
   ]
  },
  {
   "cell_type": "code",
   "execution_count": null,
   "metadata": {
    "id": "8QIFE91Li8G9"
   },
   "outputs": [],
   "source": [
    "df_pca"
   ]
  },
  {
   "cell_type": "code",
   "execution_count": null,
   "metadata": {
    "id": "6PUyuG2Xi_Wc"
   },
   "outputs": [],
   "source": [
    "df_pca.T"
   ]
  },
  {
   "cell_type": "markdown",
   "metadata": {
    "id": "NFQ3obkjj18i"
   },
   "source": [
    "**Aquí hay algunas propiedades clave del PCA:**\n",
    "\n",
    "1. **Reducción de dimensionalidad**: Una de las propiedades más importantes del PCA es su capacidad para reducir la dimensionalidad de un conjunto de datos. PCA encuentra una nueva base de variables (llamadas componentes principales) que capturan la mayor cantidad posible de variabilidad en los datos originales.\n",
    "\n",
    "2. **Independencia**: Los componentes principales obtenidos mediante PCA son ortogonales entre sí, lo que significa que son independientes. Esto simplifica la interpretación de los resultados y hace que los componentes sean más fáciles de interpretar.\n",
    "\n",
    "3. **Preservación de la información**: A pesar de reducir la dimensionalidad, PCA intenta retener la mayor cantidad posible de información contenida en los datos originales. Los componentes principales están ordenados de manera que el primer componente captura la mayor cantidad de varianza, seguido del segundo componente, y así sucesivamente. Por lo tanto, al retener solo los primeros componentes principales, se puede conservar la mayor parte de la información relevante del conjunto de datos original.\n",
    "\n",
    "4. **Descomposición en autovalores y autovectores**: La implementación de PCA implica la descomposición de la matriz de covarianza de los datos en sus valores y vectores propios. Los vectores propios representan las direcciones de máxima variabilidad en los datos, y los valores propios indican la magnitud de la variabilidad capturada en cada dirección. Los autovectores correspondientes a los autovalores más grandes son los componentes principales.\n",
    "\n",
    "5. **Aplicaciones en la visualización y la compresión de datos**: PCA es ampliamente utilizado en la visualización de datos de alta dimensionalidad, ya que permite representar los datos en un espacio de menor dimensión que aún conserva la estructura subyacente de los datos. Además, PCA se utiliza en la compresión de datos, donde los datos se proyectan en un espacio de menor dimensión mientras se conserva la mayor cantidad posible de información.\n",
    "\n",
    "Estas propiedades hacen que PCA sea una herramienta poderosa en la exploración y el análisis de conjuntos de datos multidimensionales, así como en la reducción de la complejidad computacional y la visualización de datos en espacios de menor dimensión."
   ]
  },
  {
   "cell_type": "code",
   "execution_count": null,
   "metadata": {
    "id": "8p_JOuNFmbpq"
   },
   "outputs": [],
   "source": [
    "df_pca"
   ]
  },
  {
   "cell_type": "code",
   "execution_count": null,
   "metadata": {
    "id": "BTwwINRMlTNv"
   },
   "outputs": [],
   "source": [
    "df_pca.iloc[:,3]"
   ]
  },
  {
   "cell_type": "code",
   "execution_count": null,
   "metadata": {
    "id": "g3BkTOWAk053"
   },
   "outputs": [],
   "source": [
    "import matplotlib.pyplot as plt\n",
    "\n",
    "# Crear el gráfico de dispersión\n",
    "plt.figure(figsize=(8, 6))\n",
    "\n",
    "# Graficar los vectores de los componentes principales\n",
    "for i in range(df_pca.shape[1]):\n",
    "  plt.arrow(0, 0, df_pca.iloc[:, i][0], df_pca.iloc[:, i][1], color='blue', width=0.005, head_width=0.05, head_length=0.1)\n",
    "  plt.text(df_pca.iloc[:, i][0]*1.1, df_pca.iloc[:, i][1]*1.1, df_pca.columns[i], color='black', ha='center', va='center')\n",
    "\n",
    "\n",
    "# Establecer los límites de los ejes\n",
    "plt.xlim(-1, 1)\n",
    "plt.ylim(-1, 1)\n",
    "\n",
    "# Etiquetas de los ejes\n",
    "plt.xlabel('PC1')\n",
    "plt.ylabel('PC2')\n",
    "\n",
    "# Título del gráfico\n",
    "plt.title('Vectores de Componentes Principales')\n",
    "\n",
    "# Mostrar el gráfico\n",
    "plt.grid(True)\n",
    "plt.show()"
   ]
  },
  {
   "cell_type": "markdown",
   "metadata": {
    "id": "I9I3GpUtm3R6"
   },
   "source": [
    "Esas son las componentes que mayor relacióntienen."
   ]
  },
  {
   "cell_type": "markdown",
   "metadata": {
    "id": "pqchuuNAk11d"
   },
   "source": [
    "Selección de los componentes principales."
   ]
  },
  {
   "cell_type": "code",
   "execution_count": null,
   "metadata": {
    "id": "QWCRAT5VblpJ"
   },
   "outputs": [],
   "source": [
    "# Visualizar los datos en el espacio de los dos primeros componentes principales\n",
    "plt.figure(figsize=(8, 6))\n",
    "y = iris_data.target\n",
    "clas = {0: 'setosa', 1: 'versicolor', 2: 'virginica'}\n",
    "for label in np.unique(y):\n",
    "  plt.scatter(pc[y == label, 0], pc[y == label, 1], label=f'Clase {clas[label]}')\n",
    "plt.xlabel('Componente Principal 1')\n",
    "plt.ylabel('Componente Principal 2')\n",
    "plt.title('PCA en el conjunto de datos Iris plant')\n",
    "plt.legend()\n",
    "plt.grid(True)\n",
    "plt.show()"
   ]
  },
  {
   "cell_type": "code",
   "execution_count": null,
   "metadata": {
    "id": "uBgJfJDmaPty"
   },
   "outputs": [],
   "source": [
    "import matplotlib.pyplot as plt\n",
    "\n",
    "percent = eigenvalues / eigenvalues.sum()\n",
    "plt.title(\"Porcentaje de varianza que representa cada componente\")\n",
    "plt.plot(['PC1', 'PC2', 'PC3', 'PC4'], percent)\n",
    "plt.ylabel(\"%\")\n",
    "plt.xlabel(\"Componente\")\n",
    "plt.grid(True)\n",
    "plt.show()"
   ]
  },
  {
   "cell_type": "code",
   "execution_count": null,
   "metadata": {
    "id": "1kYX9wO4a6h8"
   },
   "outputs": [],
   "source": [
    "print(f\"Porcentaje del componente uno y dos: {percent[0: 2].sum()*100:.2f}%.\")"
   ]
  },
  {
   "cell_type": "markdown",
   "metadata": {
    "id": "fGrU76K3f9dp"
   },
   "source": [
    "Programar el PCA como si fuera un *Framework*.\n",
    "- Reutilizar el código ya escrito y hacerlo en una clase\n",
    "- Crear método fit.\n",
    "- Crear nétodo transform."
   ]
  },
  {
   "cell_type": "markdown",
   "metadata": {
    "id": "-O3kinccbZ1_"
   },
   "source": [
    "**¿Cómo se haría usando un framework?**\n",
    "En este caso, utilizaremos el framework de scikit - learn\n",
    "1. Para ello revisaremos la documentación.\n",
    "2. Buscar primero en internet.\n",
    "3. URL: https://scikit-learn.org/stable/modules/generated/sklearn.decomposition.PCA.html\n",
    "4. Revisar las instrucciones de la documentación.\n",
    "\n"
   ]
  },
  {
   "cell_type": "code",
   "execution_count": null,
   "metadata": {
    "id": "XTFn7YN8bcam"
   },
   "outputs": [],
   "source": [
    "import pandas as pd\n",
    "from sklearn.datasets import load_iris\n",
    "import matplotlib.pyplot as plt\n",
    "\n",
    "# Cargar el conjunto de datos Iris\n",
    "iris_data = load_iris()\n",
    "\n",
    "# Convertir los datos en un DataFrame de pandas\n",
    "columns = [c.replace(' ', '_') for c in iris_data.feature_names]\n",
    "df = pd.DataFrame(data=iris_data.data, columns=columns)\n",
    "\n",
    "# Agregar la columna de especies al DataFrame\n",
    "df['species'] = iris_data.target\n",
    "\n",
    "# Mapear los números de especies a los nombres reales\n",
    "df['species'] = df['species'].map({0: 'setosa', 1: 'versicolor', 2: 'virginica'})\n",
    "\n",
    "# Mostrar las primeras filas del DataFrame\n",
    "df.head()"
   ]
  },
  {
   "cell_type": "code",
   "execution_count": null,
   "metadata": {
    "id": "dt1H-mSQfttT"
   },
   "outputs": [],
   "source": [
    "data = df.iloc[:,:4]\n",
    "data.head()"
   ]
  },
  {
   "cell_type": "markdown",
   "metadata": {
    "id": "h8QQzHULgQOf"
   },
   "source": [
    "Mostrar como se importa."
   ]
  },
  {
   "cell_type": "code",
   "execution_count": null,
   "metadata": {
    "id": "dVD63-NWgOpJ"
   },
   "outputs": [],
   "source": [
    "from sklearn.decomposition import PCA"
   ]
  },
  {
   "cell_type": "markdown",
   "metadata": {
    "id": "AMowCnmmgXH-"
   },
   "source": [
    "Utilizar el Framework."
   ]
  },
  {
   "cell_type": "code",
   "execution_count": null,
   "metadata": {
    "id": "tDtAIGjFgWWK"
   },
   "outputs": [],
   "source": [
    "pca = PCA()\n",
    "pca.fit(data)\n",
    "print(\"Varianza explicada.\\n\", pca.explained_variance_ratio_)"
   ]
  },
  {
   "cell_type": "code",
   "execution_count": null,
   "metadata": {
    "id": "uccbsNZtoK4D"
   },
   "outputs": [],
   "source": [
    "print(\"Varianza explciada con nuestro método:\\n\", percent)"
   ]
  },
  {
   "cell_type": "markdown",
   "metadata": {
    "id": "MN1wUImnoZdF"
   },
   "source": [
    "Graficas la varianza explicada"
   ]
  },
  {
   "cell_type": "code",
   "execution_count": null,
   "metadata": {
    "id": "1UtHFKt3obY2"
   },
   "outputs": [],
   "source": [
    "plt.title(\"Porcentaje de varianza que representa cada componente\")\n",
    "plt.plot(['PC1', 'PC2', 'PC3', 'PC4'], pca.explained_variance_ratio_)\n",
    "plt.ylabel(\"%\")\n",
    "plt.xlabel(\"Componente\")\n",
    "plt.grid(True)\n",
    "plt.show()"
   ]
  },
  {
   "cell_type": "markdown",
   "metadata": {
    "id": "AqA2Ga6bowp6"
   },
   "source": [
    "Obtenemos la matriz de compoentes principales principales."
   ]
  },
  {
   "cell_type": "code",
   "execution_count": null,
   "metadata": {
    "id": "PQrPBXdZoqZZ"
   },
   "outputs": [],
   "source": [
    "pca.components_"
   ]
  },
  {
   "cell_type": "code",
   "execution_count": null,
   "metadata": {
    "id": "pZMtNKgFpVUY"
   },
   "outputs": [],
   "source": [
    "df_pca = pd.DataFrame(data=pca.components_, index=['PC1', 'PC2', 'PC3', 'PC4'], columns=columns)\n",
    "df_pca.head()"
   ]
  },
  {
   "cell_type": "code",
   "execution_count": null,
   "metadata": {
    "id": "c6PeNZjApejA"
   },
   "outputs": [],
   "source": [
    "df_pca.T"
   ]
  },
  {
   "cell_type": "markdown",
   "metadata": {
    "id": "g-d2dfvIpw7s"
   },
   "source": [
    "Diferentes variables tienen mayor explicación que otras por cada componente principal."
   ]
  },
  {
   "cell_type": "markdown",
   "metadata": {
    "id": "_1yjXN56p6I8"
   },
   "source": [
    "Repetimos el proceso, pero ahora con solo dos componentes."
   ]
  },
  {
   "cell_type": "code",
   "execution_count": null,
   "metadata": {
    "id": "sm9lyvGzp44j"
   },
   "outputs": [],
   "source": [
    "pca = PCA(n_components=2)\n",
    "pca.fit(data)\n",
    "print(\"Varianza explicada.\\n\", pca.explained_variance_ratio_)"
   ]
  },
  {
   "cell_type": "code",
   "execution_count": null,
   "metadata": {
    "id": "IBo5vbKSqrZK"
   },
   "outputs": [],
   "source": [
    "data_red = pca.transform(data)"
   ]
  },
  {
   "cell_type": "code",
   "execution_count": null,
   "metadata": {
    "id": "XovjZNgLqviY"
   },
   "outputs": [],
   "source": [
    "data_red[:10]"
   ]
  },
  {
   "cell_type": "code",
   "execution_count": null,
   "metadata": {
    "id": "-0noE0EFq0KZ"
   },
   "outputs": [],
   "source": [
    "df_pca = pd.DataFrame(data=data_red, columns=['PC1', 'PC2'])\n",
    "df_pca['species'] = iris_data.target\n",
    "df_pca['species'] = df_pca['species'].map({0: 'setosa', 1: 'versicolor', 2: 'virginica'})\n",
    "\n",
    "df_pca.head()"
   ]
  },
  {
   "cell_type": "code",
   "execution_count": null,
   "metadata": {
    "id": "Ic4d_vUDrpoY"
   },
   "outputs": [],
   "source": [
    "import pandas as pd\n",
    "import matplotlib.pyplot as plt\n",
    "\n",
    "\n",
    "\n",
    "# Graficar\n",
    "plt.figure(figsize=(8, 6))\n",
    "for species, color in zip(df_pca['species'].unique(), ['red', 'blue', 'green']):\n",
    "    plt.scatter(df_pca[df_pca['species'] == species]['PC1'],\n",
    "                df_pca[df_pca['species'] == species]['PC2'],\n",
    "                c=color, label=species)\n",
    "\n",
    "# Etiquetar los puntos\n",
    "for i, txt in enumerate(df_pca.species):\n",
    "    plt.annotate(txt, (df_pca['PC1'][i], df_pca['PC2'][i]), xytext=(5, -5), textcoords='offset points')\n",
    "\n",
    "# Etiquetas de los ejes\n",
    "plt.xlabel('PC1')\n",
    "plt.ylabel('PC2')\n",
    "\n",
    "# Título del gráfico\n",
    "plt.title('Reducción de Dimensionalidad con PCA (Especies)')\n",
    "\n",
    "# Mostrar leyenda\n",
    "plt.legend()\n",
    "\n",
    "# Mostrar el gráfico\n",
    "plt.grid(True)\n",
    "plt.show()\n"
   ]
  },
  {
   "cell_type": "markdown",
   "metadata": {
    "id": "0FWDanPEudZ4"
   },
   "source": [
    "Ahora utilizaremos otro framework de PCA.\n",
    "https://github.com/erdogant/pca"
   ]
  },
  {
   "cell_type": "markdown",
   "metadata": {
    "id": "U-EoYfupuone"
   },
   "source": [
    "Revisamos juntos la documentación."
   ]
  },
  {
   "cell_type": "code",
   "execution_count": null,
   "metadata": {
    "id": "gr3gjkfWuc9I"
   },
   "outputs": [],
   "source": [
    "! pip install pca"
   ]
  },
  {
   "cell_type": "code",
   "execution_count": null,
   "metadata": {
    "id": "VuiAWZWruPkm"
   },
   "outputs": [],
   "source": [
    "import numpy as np\n",
    "from sklearn.datasets import load_iris\n",
    "import pandas as pd\n",
    "\n",
    "from pca import pca\n",
    "\n",
    "# Cargar los datos.\n",
    "label = load_iris().feature_names\n",
    "y = load_iris().target\n",
    "X = pd.DataFrame(data=load_iris().data, columns=label, index=y)"
   ]
  },
  {
   "cell_type": "code",
   "execution_count": null,
   "metadata": {
    "id": "m_jYy601u523"
   },
   "outputs": [],
   "source": [
    "# Inicialice para reducir los datos hasta el número de componentes que explique el 95% de la varianza.\n",
    "model = pca(n_components=0.95)\n",
    "\n",
    "# Reducir los datos hacia 3 componentes principales.\n",
    "model = pca(n_components=3)\n",
    "\n",
    "# Fit transform\n",
    "results = model.fit_transform(X)"
   ]
  },
  {
   "cell_type": "code",
   "execution_count": null,
   "metadata": {
    "id": "IQzEYbHcu3T2"
   },
   "outputs": [],
   "source": [
    "# Varianza explicada acumulada\n",
    "print(model.results['explained_var'])\n",
    "# [0.92461872 0.97768521 0.99478782]\n",
    "\n",
    "# Varianza explicada por cada componente.\n",
    "print(model.results['variance_ratio'])\n",
    "[0.92461872, 0.05306648, 0.01710261]\n",
    "\n",
    "# Make plot\n",
    "fig, ax = model.plot()"
   ]
  },
  {
   "cell_type": "code",
   "execution_count": null,
   "metadata": {
    "id": "9rb4mcUPvTzE"
   },
   "outputs": [],
   "source": [
    "# 2D plot\n",
    "fig, ax = model.scatter()\n",
    "plt.show()\n",
    "\n"
   ]
  },
  {
   "cell_type": "code",
   "execution_count": null,
   "metadata": {
    "id": "XIhdgfshva36"
   },
   "outputs": [],
   "source": [
    "# 3d Plot\n",
    "fig, ax = model.scatter3d()\n",
    "plt.show()"
   ]
  },
  {
   "cell_type": "code",
   "execution_count": null,
   "metadata": {
    "id": "8dMy8liIvhtv"
   },
   "outputs": [],
   "source": [
    "# 2D plot\n",
    "fig, ax = model.biplot(n_feat=4, PC=[0,1])\n",
    "\n"
   ]
  },
  {
   "cell_type": "code",
   "execution_count": null,
   "metadata": {
    "id": "x9N6XNfyvjVQ"
   },
   "outputs": [],
   "source": [
    "# 3d Plot\n",
    "fig, ax = model.biplot3d(n_feat=2, PC=[0,1,2])"
   ]
  },
  {
   "cell_type": "code",
   "execution_count": null,
   "metadata": {
    "id": "KSWigHalv7ho"
   },
   "outputs": [],
   "source": [
    "markers = np.array(['.', 'o', 'v', '^', '<', '>', '8', 's', 'p', '*', 'h', 'H', 'D', 'd', 'P', 'X'])\n",
    "# Crear colores\n",
    "cmap = plt.cm.get_cmap('tab20c', len(markers))\n",
    "# Generar números enteros aleatorios\n",
    "random_integers = np.random.randint(0, len(markers), size=X.shape[0])\n",
    "# Dibujar marcadores\n",
    "marker = markers[random_integers]\n",
    "# Establecer colores\n",
    "color = cmap.colors[random_integers, 0:3]\n",
    "# Establecer tamaño\n",
    "size = np.random.randint(50, 1000, size=X.shape[0])\n",
    "# Establecer alpha\n",
    "alpha = np.random.rand(1, X.shape[0])[0][random_integers]"
   ]
  },
  {
   "cell_type": "code",
   "execution_count": null,
   "metadata": {
    "id": "5Zni0j2Ov2LW"
   },
   "outputs": [],
   "source": [
    "fig, ax = model.biplot(\n",
    "                        SPE=True,\n",
    "                        HT2=True,\n",
    "                        c=color,\n",
    "                        s=size,\n",
    "                        marker=marker,\n",
    "                        alpha=alpha,\n",
    "                        color_arrow='k',\n",
    "                        title='Demonstration of specifying colors, markers, alpha, and size per sample.',\n",
    "                        n_feat=5,\n",
    "                        fontsize=20,\n",
    "                        fontweight='normal',\n",
    "                        arrowdict={'fontsize': 18},\n",
    "                        density=True,\n",
    "                        density_on_top=False,\n",
    "                        )"
   ]
  },
  {
   "cell_type": "markdown",
   "metadata": {
    "id": "FQX6RRK0wk6M"
   },
   "source": [
    "Identificación de datos atípicos con PCA."
   ]
  },
  {
   "cell_type": "code",
   "execution_count": null,
   "metadata": {
    "id": "ieLTJ1RHwkVN"
   },
   "outputs": [],
   "source": [
    "import pandas as pd\n",
    "\n",
    "df = pd.read_csv('card_price.csv')\n",
    "df.head()"
   ]
  },
  {
   "cell_type": "code",
   "execution_count": null,
   "metadata": {
    "id": "XUQ3hYVxz2Ee"
   },
   "outputs": [],
   "source": [
    "# Obtenemos los valores que se usarán para predecir.\n",
    "\n",
    "# Reformateamos las columnas para trabajar más fácil.\n",
    "# Pone en minúsculas todos los nombres de las columnas y reemplaza los espacios con guiones bajos.\n",
    "df.columns = df.columns.str.lower().str.replace(' ', '_')\n",
    "\n",
    "# Seleccionamos solo las columnas con strings.\n",
    "string_columns = list(df.dtypes[df.dtypes == 'object'].index)\n",
    "\n",
    "# Aplica lowercase y reemplaza espacios con guiones bajos para los valores en todas las columnas de cadena del DataFrame\n",
    "for col in string_columns:\n",
    "  df[col] = df[col].str.lower().str.replace(' ', '_')\n",
    "\n",
    "\n",
    "# Añadimos el precio.\n",
    "base = ['engine_hp', 'engine_cylinders', 'highway_mpg', 'city_mpg', 'popularity', 'msrp']\n",
    "X = df[base]\n",
    "X = X.fillna(0)"
   ]
  },
  {
   "cell_type": "code",
   "execution_count": null,
   "metadata": {
    "id": "SPNOEIHR0BaN"
   },
   "outputs": [],
   "source": [
    "from sklearn.preprocessing import StandardScaler\n",
    "\n",
    "scaler = StandardScaler()\n",
    "\n",
    "scaler.fit(X)\n",
    "\n",
    "X_scaled = scaler.transform(X)\n"
   ]
  },
  {
   "cell_type": "code",
   "execution_count": null,
   "metadata": {
    "id": "qMOoWIYV0opJ"
   },
   "outputs": [],
   "source": [
    "X_scaled"
   ]
  },
  {
   "cell_type": "code",
   "execution_count": null,
   "metadata": {
    "id": "4Vyh5cQC0Qjl"
   },
   "outputs": [],
   "source": [
    "from sklearn.decomposition import PCA\n",
    "\n",
    "pca = PCA(n_components=1)\n"
   ]
  },
  {
   "cell_type": "code",
   "execution_count": null,
   "metadata": {
    "id": "YX_EAtwS0vJ3"
   },
   "outputs": [],
   "source": [
    "pca.fit(X_scaled)"
   ]
  },
  {
   "cell_type": "code",
   "execution_count": null,
   "metadata": {
    "id": "4mP0DZZL0c5m"
   },
   "outputs": [],
   "source": [
    "x_pca = pca.transform(X_scaled)"
   ]
  },
  {
   "cell_type": "code",
   "execution_count": null,
   "metadata": {
    "id": "HLhJBw8a1OG5"
   },
   "outputs": [],
   "source": [
    "import seaborn as sns\n",
    "import matplotlib.pyplot as plt\n",
    "\n",
    "\n",
    "sns.boxplot(x_pca)\n",
    "plt.grid(True)\n",
    "plt.show()"
   ]
  },
  {
   "cell_type": "code",
   "execution_count": null,
   "metadata": {
    "id": "fWiorrGE1mDN"
   },
   "outputs": [],
   "source": [
    "df_pca = pd.DataFrame( x_pca, columns=['PC1'])\n",
    "df_pca.head()\n"
   ]
  },
  {
   "cell_type": "code",
   "execution_count": null,
   "metadata": {
    "id": "Yg6fFkdU1y-1"
   },
   "outputs": [],
   "source": [
    "df_pca.describe()"
   ]
  },
  {
   "cell_type": "code",
   "execution_count": null,
   "metadata": {
    "id": "iqSmn88h2Cyr"
   },
   "outputs": [],
   "source": [
    "valor_minimo = -1.104616\n",
    "valor_maximo = 0.686826\n",
    "\n",
    "# Crear un filtro para seleccionar los valores dentro del intervalo\n",
    "filtro = (df_pca.PC1 >= valor_minimo) & (df_pca.PC1 <= valor_maximo)"
   ]
  },
  {
   "cell_type": "code",
   "execution_count": null,
   "metadata": {
    "id": "FY58Twu52aR3"
   },
   "outputs": [],
   "source": [
    "filtro"
   ]
  },
  {
   "cell_type": "code",
   "execution_count": null,
   "metadata": {
    "id": "CARBPBkI2FXl"
   },
   "outputs": [],
   "source": [
    "resultado = df_pca[filtro]\n",
    "resultado.head()"
   ]
  },
  {
   "cell_type": "code",
   "execution_count": null,
   "metadata": {
    "id": "ZL7Nz4d74AP2"
   },
   "outputs": [],
   "source": [
    "sns.boxplot(resultado)\n",
    "plt.grid(True)\n",
    "plt.show()"
   ]
  },
  {
   "cell_type": "code",
   "execution_count": null,
   "metadata": {
    "id": "tf1lHyZU2sdo"
   },
   "outputs": [],
   "source": [
    "df_filtrado = df[filtro]\n",
    "df_filtrado.head()"
   ]
  },
  {
   "cell_type": "code",
   "execution_count": null,
   "metadata": {
    "id": "8RBZZabi3lGo"
   },
   "outputs": [],
   "source": [
    "len(df_filtrado)"
   ]
  },
  {
   "cell_type": "markdown",
   "metadata": {
    "id": "3PBVma5A3Vxm"
   },
   "source": [
    "También podemos usar la desviación estandar para eliminar los datos atípicos."
   ]
  },
  {
   "cell_type": "markdown",
   "metadata": {
    "id": "DPT1OwZWFDUX"
   },
   "source": [
    "Fuente:\n",
    "* Guadarrama, J. R. (2020, 2 enero). Контакт. https://www.r-data-scientist.com/ru/blog/statistical-tests/kaiser-meyer-olkin-test/\n",
    "* Notebook on nbviewer. (s. f.-b). https://nbviewer.org/github/jealcalat/Analisis_multivariado/blob/main/1_variables_aleatorias_multivariadas/1.1_correlaciones_covarianzas.ipynb\n",
    "* Jealcalat. (s. f.). GitHub - jealcalat/Analisis_multivariado-deprecated-: Análisis multivariado (MCD ITESO). GitHub. https://github.com/jealcalat/Analisis_multivariado-deprecated-?tab=readme-ov-file#an%C3%A1lisis-estad%C3%ADstico-multivariable\n",
    "* Choosing color palettes — seaborn 0.13.2 documentation. (s. f.). https://seaborn.pydata.org/tutorial/color_palettes.html\n",
    "* Housing Price Dataset. (2024, 4 abril). Kaggle. https://www.kaggle.com/datasets/sukhmandeepsinghbrar/housing-price-dataset?resource=download\n",
    "* Installation — pingouin 0.5.4 documentation. (s. f.). https://pingouin-stats.org/build/html/index.html#\n",
    "* Scipy.Stats.pearsonr — SciPy v1.13.0 Manual. (s. f.). https://docs.scipy.org/doc/scipy/reference/generated/scipy.stats.pearsonr.html\n",
    "* Correlacion lineal con python. (s. f.). https://cienciadedatos.net/documentos/pystats05-correlacion-lineal-python\n",
    "* SymPy. (s. f.). https://www.sympy.org/en/index.html\n",
    "* 3D quiver plot — Matplotlib 3.9.0 documentation. (s. f.). https://matplotlib.org/stable/gallery/mplot3d/quiver3d.html\n",
    "* Briega, R. E. L. (2015, 14 junio). Algebra Lineal con Python. https://relopezbriega.github.io/blog/2015/06/14/algebra-lineal-con-python/\n",
    "* Regresión lineal con python. (s. f.). https://cienciadedatos.net/documentos/py10-regresion-lineal-python.html\n",
    "* VanderPlas, J. (s. f.). Python Data Science Handbook | Python Data Science Handbook. https://jakevdp.github.io/PythonDataScienceHandbook/\n",
    "* Palmarini, R., Erkoyuncu, J. A., Roy, R., & Torabmostaedi, H. (2018). A systematic review of augmented reality applications in maintenance. Robotics And Computer-integrated Manufacturing, 49, 215-228. https://doi.org/10.1016/j.rcim.2017.06.002\n",
    "* Weijie-Chen. (s. f.). GitHub - weijie-chen/Linear-Algebra-With-Python: Lecture Notes for Linear Algebra Featuring Python. This series of lecture notes will walk you through all the must-know concepts that set the foundation of data science or advanced quantitative skillsets. Suitable for statistician/econometrician, quantitative analysts, data scientists and etc. to quickly refresh the linear algebra with the assistance of Python computation and visualization. GitHub. https://github.com/weijie-chen/Linear-Algebra-With-Python\n",
    "* DiMathData. (2023, 20 febrero). ¿Cómo graficar vectores 2D con matplotlib? [Vídeo]. YouTube. https://www.youtube.com/watch?v=aHWKYV1IW0A\n",
    "* Francomanca. (s. f.). GitHub - francomanca93/fundamentos-algebra-lineal: Fundamentos de algebra lineal con Python. GitHub. https://github.com/francomanca93/fundamentos-algebra-lineal#Conceptos-b%C3%A1sicos-de-%C3%81lgebra-Lineal-y-configuraci%C3%B3n-del-entorno-de-trabajo\n",
    "* Heaton, J. (2017). Ian Goodfellow, Yoshua Bengio, and Aaron Courville: Deep learning. Genetic Programming And Evolvable Machines, 19(1-2), 305-307. https://doi.org/10.1007/s10710-017-9314-z\n",
    "* Alexeygrigorev. (s. f.). mlbookcamp-code/chapter-02-car-price/02-carprice.ipynb at master · alexeygrigorev/mlbookcamp-code. GitHub. https://github.com/alexeygrigorev/mlbookcamp-code/blob/master/chapter-02-car-price/02-carprice.ipynb\n",
    "* metacodeM. (2024, 28 abril). Linear Algebra Tutorial by PhD in AIㅣ2-hour Full Course [Vídeo]. YouTube. https://www.youtube.com/watch?v=3Bf9oh7nkus\n",
    "* Notebook on nbviewer. (s. f.). https://nbviewer.org/github/WeijieChen-MacroAnalyst/LinearAlgebraLectures/blob/master/Chapter%203%20-%20Determinant.ipynb\n",
    "* Correlacion lineal con python. (s. f.-c). https://cienciadedatos.net/documentos/pystats05-correlacion-lineal-python\n",
    "* ChatGPT. (s. f.). https://chatgpt.com/?oai-dm=1\n",
    "\n",
    "\n"
   ]
  }
 ],
 "metadata": {
  "colab": {
   "provenance": []
  },
  "kernelspec": {
   "display_name": "Python 3 (ipykernel)",
   "language": "python",
   "name": "python3"
  },
  "language_info": {
   "codemirror_mode": {
    "name": "ipython",
    "version": 3
   },
   "file_extension": ".py",
   "mimetype": "text/x-python",
   "name": "python",
   "nbconvert_exporter": "python",
   "pygments_lexer": "ipython3",
   "version": "3.10.12"
  }
 },
 "nbformat": 4,
 "nbformat_minor": 4
}
