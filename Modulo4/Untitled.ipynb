{
 "cells": [
  {
   "cell_type": "markdown",
   "id": "7278f837-ad19-42a1-a291-f2f0967d38a3",
   "metadata": {},
   "source": [
    "# Algebra Lineal"
   ]
  },
  {
   "cell_type": "markdown",
   "id": "f490334c-c938-4964-bd4d-118eb371e72b",
   "metadata": {},
   "source": [
    "Contenido\n",
    "\n",
    "    Teorema del límite central."
   ]
  },
  {
   "cell_type": "markdown",
   "id": "270e9dca-72cf-4c44-af13-e9e68ac76093",
   "metadata": {},
   "source": [
    "Teorema del limite central\n",
    "\n",
    "El teorema del límite central establece que, bajo ciertas condiciones, la distribución de la suma de un gran número de variables aleatorias independientes, cada una con una media finita y varianza finita, tiende a aproximarse a una distribución normal, independientemente de la forma de la distribución original de las variables.\n",
    "\n",
    "La ecuación matemática que describe el teorema del límite central es la siguiente:\n",
    "\n",
    "limn→∞(X1+X2+…+Xn−n⋅μn−−√⋅σ)=Z\n",
    "\n",
    "Donde:\n",
    "\n",
    "    X1, X2, …, Xn son variables aleatorias independientes e idénticamente distribuidas.\n",
    "    μ es la media de cada variable aleatoria.\n",
    "    σ es la desviación estándar de cada variable aleatoria.\n",
    "    n es el tamaño de la muestra.\n",
    "    Z es una variable aleatoria normal estándar (con media 0 y varianza 1).\n",
    "\n",
    "Media de las medias muestrales se apróxima a la media poblacional La media de las medias muestrales (también conocida como la media de la distribución muestral) se aproxima a la media poblacional. Esto significa que si tomamos muchas muestras de una población, calculamos la media de cada muestra y luego encontramos la media de esas medias muestrales, este valor se acercará a la media de la población original.\n",
    "\n",
    "Matemáticamente, esto se expresa como:\n",
    "limn→∞(X¯μ)=1\n",
    "\n",
    "Donde:\n",
    "\n",
    "    X¯ es la media de las medias muestrales.\n",
    "    μ es la media poblacional.\n",
    "\n",
    "Desviación estándar de las medias muestrales se aproxima a la desviación estándar poblacional dividida por la raíz cuadrada del tamaño muestra\n",
    "\n",
    "La desviación estándar de las medias muestrales se aproxima a la desviación estándar de la población dividida por la raíz cuadrada del tamaño muestral. Esto significa que a medida que aumenta el tamaño de la muestra, la dispersión de las medias muestrales en torno a la media de la población disminuye.\n",
    "\n",
    "Matemáticamente, esto se expresa como:\n",
    "limn→∞(σX¯σ/n−−√)=1\n",
    "\n",
    "Donde:\n",
    "\n",
    "    σX¯ es la desviación estándar de las medias muestrales.\n",
    "    σ es la desviación estándar de la población.\n",
    "    n es el tamaño de la muestra.\n"
   ]
  },
  {
   "cell_type": "code",
   "execution_count": null,
   "id": "d5d4edcc-777b-4753-8cb9-c2ed4e8c0d23",
   "metadata": {},
   "outputs": [],
   "source": []
  }
 ],
 "metadata": {
  "kernelspec": {
   "display_name": "Python (diplomado_2025)",
   "language": "python",
   "name": "diplomado_2025"
  },
  "language_info": {
   "codemirror_mode": {
    "name": "ipython",
    "version": 3
   },
   "file_extension": ".py",
   "mimetype": "text/x-python",
   "name": "python",
   "nbconvert_exporter": "python",
   "pygments_lexer": "ipython3",
   "version": "3.10.12"
  }
 },
 "nbformat": 4,
 "nbformat_minor": 5
}
