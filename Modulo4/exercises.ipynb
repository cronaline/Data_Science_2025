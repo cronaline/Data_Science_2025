{
 "cells": [
  {
   "cell_type": "markdown",
   "id": "7278f837-ad19-42a1-a291-f2f0967d38a3",
   "metadata": {},
   "source": [
    "# Algebra Lineal"
   ]
  },
  {
   "cell_type": "code",
   "execution_count": 5,
   "id": "6eee9da8-583e-437e-89c5-ca88ba4df459",
   "metadata": {},
   "outputs": [],
   "source": [
    "import numpy as np\n",
    "A = np.random.randint((10), size =(4,4))\n",
    "B = np.random.randint((10), size =(4,4))"
   ]
  },
  {
   "cell_type": "code",
   "execution_count": 6,
   "id": "3d826f6d-e4d7-4cea-a0c3-f938e10af6c0",
   "metadata": {},
   "outputs": [
    {
     "data": {
      "text/plain": [
       "array([[6, 8, 2, 9],\n",
       "       [1, 7, 9, 6],\n",
       "       [8, 0, 7, 0],\n",
       "       [5, 8, 9, 7]])"
      ]
     },
     "execution_count": 6,
     "metadata": {},
     "output_type": "execute_result"
    }
   ],
   "source": [
    "A"
   ]
  },
  {
   "cell_type": "code",
   "execution_count": 8,
   "id": "d5d4edcc-777b-4753-8cb9-c2ed4e8c0d23",
   "metadata": {},
   "outputs": [
    {
     "data": {
      "text/plain": [
       "array([[0, 6, 8, 7],\n",
       "       [4, 9, 6, 5],\n",
       "       [8, 5, 4, 8],\n",
       "       [7, 8, 5, 6]])"
      ]
     },
     "execution_count": 8,
     "metadata": {},
     "output_type": "execute_result"
    }
   ],
   "source": [
    "B"
   ]
  },
  {
   "cell_type": "code",
   "execution_count": 9,
   "id": "36e02a60-3bca-4da3-827c-0fbdb6565b9a",
   "metadata": {},
   "outputs": [
    {
     "data": {
      "text/plain": [
       "array([[111, 190, 149, 152],\n",
       "       [142, 162, 116, 150],\n",
       "       [ 56,  83,  92, 112],\n",
       "       [153, 203, 159, 189]])"
      ]
     },
     "execution_count": 9,
     "metadata": {},
     "output_type": "execute_result"
    }
   ],
   "source": [
    "##Multiplicacion element wise A*B\n",
    "## Multiplicacion regular de matrices\n",
    "A @ B "
   ]
  },
  {
   "cell_type": "code",
   "execution_count": 12,
   "id": "5735b8cc-34ea-404b-b558-b3e1c21e1ae9",
   "metadata": {},
   "outputs": [],
   "source": [
    "params = np.array([[3,4,5]])\n",
    "samples = np.random.randint((10), size =(10,3))"
   ]
  },
  {
   "cell_type": "code",
   "execution_count": 13,
   "id": "fb519188-1ff7-4c9c-9874-845307ff63a3",
   "metadata": {},
   "outputs": [
    {
     "data": {
      "text/plain": [
       "((1, 3), (10, 3))"
      ]
     },
     "execution_count": 13,
     "metadata": {},
     "output_type": "execute_result"
    }
   ],
   "source": [
    "params.shape, samples.shape"
   ]
  },
  {
   "cell_type": "code",
   "execution_count": 15,
   "id": "3c997d47-dad5-4b13-9e21-4c2e5cf72dfd",
   "metadata": {},
   "outputs": [
    {
     "data": {
      "text/plain": [
       "array([ 6, 36, 35])"
      ]
     },
     "execution_count": 15,
     "metadata": {},
     "output_type": "execute_result"
    }
   ],
   "source": [
    "sum(samples[0,:]* params)"
   ]
  },
  {
   "cell_type": "code",
   "execution_count": 16,
   "id": "05d98adb-a033-404c-9091-db6a97379d38",
   "metadata": {},
   "outputs": [
    {
     "data": {
      "text/plain": [
       "array([[77],\n",
       "       [31],\n",
       "       [83],\n",
       "       [39],\n",
       "       [64],\n",
       "       [50],\n",
       "       [67],\n",
       "       [41],\n",
       "       [52],\n",
       "       [55]])"
      ]
     },
     "execution_count": 16,
     "metadata": {},
     "output_type": "execute_result"
    }
   ],
   "source": [
    "samples @ params.T"
   ]
  },
  {
   "cell_type": "code",
   "execution_count": null,
   "id": "129cb1a7-254f-441e-993a-ce3835cccc17",
   "metadata": {},
   "outputs": [],
   "source": [
    "## Need card_prices.csv in whatsapp"
   ]
  }
 ],
 "metadata": {
  "kernelspec": {
   "display_name": "Python (diplomado_2025)",
   "language": "python",
   "name": "diplomado_2025"
  },
  "language_info": {
   "codemirror_mode": {
    "name": "ipython",
    "version": 3
   },
   "file_extension": ".py",
   "mimetype": "text/x-python",
   "name": "python",
   "nbconvert_exporter": "python",
   "pygments_lexer": "ipython3",
   "version": "3.10.12"
  }
 },
 "nbformat": 4,
 "nbformat_minor": 5
}
